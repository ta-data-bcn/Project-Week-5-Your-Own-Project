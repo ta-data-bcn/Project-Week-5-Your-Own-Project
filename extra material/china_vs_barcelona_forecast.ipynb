{
 "cells": [
  {
   "cell_type": "markdown",
   "metadata": {},
   "source": [
    "# Estimate how long would take for Barcelona city to reach the average of the top10 chinese densified cities"
   ]
  },
  {
   "cell_type": "code",
   "execution_count": 25,
   "metadata": {},
   "outputs": [],
   "source": [
    "import pandas as pd\n",
    "import numpy as np\n",
    "import matplotlib.pyplot as plt\n",
    "%matplotlib inline"
   ]
  },
  {
   "cell_type": "code",
   "execution_count": 8,
   "metadata": {},
   "outputs": [
    {
     "data": {
      "text/html": [
       "<div>\n",
       "<style scoped>\n",
       "    .dataframe tbody tr th:only-of-type {\n",
       "        vertical-align: middle;\n",
       "    }\n",
       "\n",
       "    .dataframe tbody tr th {\n",
       "        vertical-align: top;\n",
       "    }\n",
       "\n",
       "    .dataframe thead th {\n",
       "        text-align: right;\n",
       "    }\n",
       "</style>\n",
       "<table border=\"1\" class=\"dataframe\">\n",
       "  <thead>\n",
       "    <tr style=\"text-align: right;\">\n",
       "      <th></th>\n",
       "      <th>city_name</th>\n",
       "      <th>county_name</th>\n",
       "      <th>Code</th>\n",
       "      <th>Area_Km2</th>\n",
       "      <th>Population</th>\n",
       "      <th>Year</th>\n",
       "      <th>Density</th>\n",
       "    </tr>\n",
       "  </thead>\n",
       "  <tbody>\n",
       "    <tr>\n",
       "      <th>0</th>\n",
       "      <td>NaN</td>\n",
       "      <td>NaN</td>\n",
       "      <td>NaN</td>\n",
       "      <td>NaN</td>\n",
       "      <td>NaN</td>\n",
       "      <td>NaN</td>\n",
       "      <td>NaN</td>\n",
       "    </tr>\n",
       "    <tr>\n",
       "      <th>1</th>\n",
       "      <td>NaN</td>\n",
       "      <td>NaN</td>\n",
       "      <td>NaN</td>\n",
       "      <td>NaN</td>\n",
       "      <td>NaN</td>\n",
       "      <td>NaN</td>\n",
       "      <td>NaN</td>\n",
       "    </tr>\n",
       "    <tr>\n",
       "      <th>2</th>\n",
       "      <td>Abella de la Conca</td>\n",
       "      <td>Pallars Jussà</td>\n",
       "      <td>250019</td>\n",
       "      <td>78.27</td>\n",
       "      <td>181</td>\n",
       "      <td>2010.0</td>\n",
       "      <td>2.312508</td>\n",
       "    </tr>\n",
       "    <tr>\n",
       "      <th>3</th>\n",
       "      <td>Abrera</td>\n",
       "      <td>Baix Llobregat</td>\n",
       "      <td>80018</td>\n",
       "      <td>19.94</td>\n",
       "      <td>11469</td>\n",
       "      <td>2010.0</td>\n",
       "      <td>575.175527</td>\n",
       "    </tr>\n",
       "    <tr>\n",
       "      <th>4</th>\n",
       "      <td>Àger</td>\n",
       "      <td>Noguera</td>\n",
       "      <td>250024</td>\n",
       "      <td>160.57</td>\n",
       "      <td>584</td>\n",
       "      <td>2010.0</td>\n",
       "      <td>3.637043</td>\n",
       "    </tr>\n",
       "  </tbody>\n",
       "</table>\n",
       "</div>"
      ],
      "text/plain": [
       "            city_name     county_name    Code Area_Km2 Population    Year  \\\n",
       "0                 NaN             NaN     NaN      NaN        NaN     NaN   \n",
       "1                 NaN             NaN     NaN      NaN        NaN     NaN   \n",
       "2  Abella de la Conca   Pallars Jussà  250019    78.27        181  2010.0   \n",
       "3              Abrera  Baix Llobregat   80018    19.94      11469  2010.0   \n",
       "4                Àger         Noguera  250024   160.57        584  2010.0   \n",
       "\n",
       "     Density   \n",
       "0         NaN  \n",
       "1         NaN  \n",
       "2    2.312508  \n",
       "3  575.175527  \n",
       "4    3.637043  "
      ]
     },
     "execution_count": 8,
     "metadata": {},
     "output_type": "execute_result"
    }
   ],
   "source": [
    "pop_cat = pd.read_excel('../datasets/population_2010-2019.xlsx')\n",
    "pop_cat_copy = pop_cat.copy()\n",
    "pop_cat.head()"
   ]
  },
  {
   "cell_type": "code",
   "execution_count": 12,
   "metadata": {},
   "outputs": [
    {
     "data": {
      "text/plain": [
       "Index(['city_name', 'county_name', 'Code', 'Area_Km2', 'Population', 'Year',\n",
       "       'Density '],\n",
       "      dtype='object')"
      ]
     },
     "execution_count": 12,
     "metadata": {},
     "output_type": "execute_result"
    }
   ],
   "source": [
    "pop_cat.columns"
   ]
  },
  {
   "cell_type": "code",
   "execution_count": 18,
   "metadata": {},
   "outputs": [
    {
     "data": {
      "text/html": [
       "<div>\n",
       "<style scoped>\n",
       "    .dataframe tbody tr th:only-of-type {\n",
       "        vertical-align: middle;\n",
       "    }\n",
       "\n",
       "    .dataframe tbody tr th {\n",
       "        vertical-align: top;\n",
       "    }\n",
       "\n",
       "    .dataframe thead th {\n",
       "        text-align: right;\n",
       "    }\n",
       "</style>\n",
       "<table border=\"1\" class=\"dataframe\">\n",
       "  <thead>\n",
       "    <tr style=\"text-align: right;\">\n",
       "      <th></th>\n",
       "      <th>city_name</th>\n",
       "      <th>county_name</th>\n",
       "      <th>Code</th>\n",
       "      <th>Area_Km2</th>\n",
       "      <th>Population</th>\n",
       "      <th>Year</th>\n",
       "      <th>Density</th>\n",
       "    </tr>\n",
       "  </thead>\n",
       "  <tbody>\n",
       "    <tr>\n",
       "      <th>92</th>\n",
       "      <td>Barcelona</td>\n",
       "      <td>Barcelonès</td>\n",
       "      <td>80193</td>\n",
       "      <td>101.35</td>\n",
       "      <td>1619337</td>\n",
       "      <td>2010.0</td>\n",
       "      <td>15977.671436</td>\n",
       "    </tr>\n",
       "    <tr>\n",
       "      <th>1038</th>\n",
       "      <td>Barcelona</td>\n",
       "      <td>Barcelonès</td>\n",
       "      <td>80193</td>\n",
       "      <td>101.35</td>\n",
       "      <td>1615448</td>\n",
       "      <td>2011.0</td>\n",
       "      <td>15939.299457</td>\n",
       "    </tr>\n",
       "    <tr>\n",
       "      <th>1985</th>\n",
       "      <td>Barcelona</td>\n",
       "      <td>Barcelonès</td>\n",
       "      <td>80193</td>\n",
       "      <td>101.35</td>\n",
       "      <td>1620943</td>\n",
       "      <td>2012.0</td>\n",
       "      <td>15993.517514</td>\n",
       "    </tr>\n",
       "    <tr>\n",
       "      <th>2932</th>\n",
       "      <td>Barcelona</td>\n",
       "      <td>Barcelonès</td>\n",
       "      <td>080193</td>\n",
       "      <td>101.35</td>\n",
       "      <td>1611822</td>\n",
       "      <td>2013.0</td>\n",
       "      <td>15903.522447</td>\n",
       "    </tr>\n",
       "    <tr>\n",
       "      <th>3879</th>\n",
       "      <td>Barcelona</td>\n",
       "      <td>Barcelonès</td>\n",
       "      <td>080193</td>\n",
       "      <td>101.35</td>\n",
       "      <td>1602386</td>\n",
       "      <td>2014.0</td>\n",
       "      <td>15810.419339</td>\n",
       "    </tr>\n",
       "    <tr>\n",
       "      <th>4826</th>\n",
       "      <td>Barcelona</td>\n",
       "      <td>Barcelonès</td>\n",
       "      <td>080193</td>\n",
       "      <td>101.4</td>\n",
       "      <td>1604555</td>\n",
       "      <td>2015.0</td>\n",
       "      <td>15824.013807</td>\n",
       "    </tr>\n",
       "    <tr>\n",
       "      <th>5773</th>\n",
       "      <td>Barcelona</td>\n",
       "      <td>Barcelonès</td>\n",
       "      <td>080193</td>\n",
       "      <td>101.3</td>\n",
       "      <td>1608746</td>\n",
       "      <td>2016.0</td>\n",
       "      <td>15881.006910</td>\n",
       "    </tr>\n",
       "    <tr>\n",
       "      <th>6721</th>\n",
       "      <td>Barcelona</td>\n",
       "      <td>Barcelonès</td>\n",
       "      <td>080193</td>\n",
       "      <td>101.35</td>\n",
       "      <td>1620809</td>\n",
       "      <td>2017.0</td>\n",
       "      <td>15992.195363</td>\n",
       "    </tr>\n",
       "    <tr>\n",
       "      <th>7668</th>\n",
       "      <td>Barcelona</td>\n",
       "      <td>Barcelonès</td>\n",
       "      <td>080193</td>\n",
       "      <td>101.35</td>\n",
       "      <td>1620343</td>\n",
       "      <td>2018.0</td>\n",
       "      <td>15987.597435</td>\n",
       "    </tr>\n",
       "    <tr>\n",
       "      <th>8615</th>\n",
       "      <td>Barcelona</td>\n",
       "      <td>Barcelonès</td>\n",
       "      <td>080193</td>\n",
       "      <td>101.35</td>\n",
       "      <td>1636762</td>\n",
       "      <td>2019.0</td>\n",
       "      <td>16149.600395</td>\n",
       "    </tr>\n",
       "  </tbody>\n",
       "</table>\n",
       "</div>"
      ],
      "text/plain": [
       "      city_name county_name     Code Area_Km2 Population    Year      Density \n",
       "92    Barcelona  Barcelonès    80193   101.35    1619337  2010.0  15977.671436\n",
       "1038  Barcelona  Barcelonès    80193   101.35    1615448  2011.0  15939.299457\n",
       "1985  Barcelona  Barcelonès    80193   101.35    1620943  2012.0  15993.517514\n",
       "2932  Barcelona  Barcelonès  080193    101.35    1611822  2013.0  15903.522447\n",
       "3879  Barcelona  Barcelonès  080193    101.35    1602386  2014.0  15810.419339\n",
       "4826  Barcelona  Barcelonès  080193     101.4    1604555  2015.0  15824.013807\n",
       "5773  Barcelona  Barcelonès  080193     101.3    1608746  2016.0  15881.006910\n",
       "6721  Barcelona  Barcelonès  080193    101.35    1620809  2017.0  15992.195363\n",
       "7668  Barcelona  Barcelonès  080193    101.35    1620343  2018.0  15987.597435\n",
       "8615  Barcelona  Barcelonès  080193    101.35    1636762  2019.0  16149.600395"
      ]
     },
     "execution_count": 18,
     "metadata": {},
     "output_type": "execute_result"
    }
   ],
   "source": [
    "bcn_pop = pop_cat.loc[pop_cat['city_name'] == 'Barcelona']\n",
    "bcn_pop"
   ]
  },
  {
   "cell_type": "code",
   "execution_count": 36,
   "metadata": {},
   "outputs": [
    {
     "name": "stdout",
     "output_type": "stream",
     "text": [
      "[15978.0, 15939.0, 15994.0, 15904.0, 15810.0, 15824.0, 15881.0, 15992.0, 15988.0, 16150.0]\n",
      "[5, 6, 7, 8, 9, 10]\n"
     ]
    }
   ],
   "source": [
    "bcn_density_lst = list(bcn_pop['Density '].round(0))\n",
    "bcn_density_lst = bcn_density_lst\n",
    "print(bcn_density_lst)\n",
    "print(num_ten)"
   ]
  },
  {
   "cell_type": "code",
   "execution_count": 34,
   "metadata": {},
   "outputs": [
    {
     "data": {
      "text/plain": [
       "5590"
      ]
     },
     "execution_count": 34,
     "metadata": {},
     "output_type": "execute_result"
    }
   ],
   "source": [
    "china = [6000, 4500, 4600, 7500, 3000, 6000, 8500, 5200, 5300, 5300]\n",
    "china_avg = int(sum(china) / len(china))\n",
    "china_avg"
   ]
  }
 ],
 "metadata": {
  "kernelspec": {
   "display_name": "Python 3",
   "language": "python",
   "name": "python3"
  },
  "language_info": {
   "codemirror_mode": {
    "name": "ipython",
    "version": 3
   },
   "file_extension": ".py",
   "mimetype": "text/x-python",
   "name": "python",
   "nbconvert_exporter": "python",
   "pygments_lexer": "ipython3",
   "version": "3.8.3"
  }
 },
 "nbformat": 4,
 "nbformat_minor": 4
}
