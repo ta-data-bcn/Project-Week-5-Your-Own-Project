{
 "cells": [
  {
   "cell_type": "markdown",
   "metadata": {},
   "source": [
    "## Introduction\n",
    "The following paper is made with the purpose of using different statistics techniques to the understanding of Football. This is done by evaluating data from the last previous MLS Championships and more into detail over the performance of Atlanta United FC side, which became champions in the 2018 MLS season.\n",
    "\n",
    "Football is a non Zero-sum game. This means there can be more than just two results (Drawing a game is possible), also, the fact that you get 3 points for every victory doesn't make the goal scoring of a team a perfect indicator of how good this side is. The more goals you score, you are still going to get the same 3 points. \n",
    "\n",
    "While for the defensive analysis I want to know if it's correlated with winning. Do you really need a Defense at all or should you center your efforts in just scoring more than your rivals? \n"
   ]
  },
  {
   "cell_type": "markdown",
   "metadata": {},
   "source": [
    "### Objectives\n",
    "\n",
    "#### Finding good KPI's\n",
    "I wanted to find the best success predictor for a Football team in the league. At first, Football might seem like a simple game, but its ramdomness makes it a very interesting game to analize statistically. I belive finding a good KPI to measure success of teams is crucial to understanding the game.\n",
    "\n",
    "#### Goals win matches, but Defense get you Championships\n",
    "Testing this coaching mantra using statistical analysis and data visualization to understand better how the Atlanta FC high defensive pressure was successfull and what is the best way to interpret the saying. "
   ]
  },
  {
   "cell_type": "markdown",
   "metadata": {},
   "source": [
    "## Data Cleaning and wrangling"
   ]
  },
  {
   "cell_type": "code",
   "execution_count": 4,
   "metadata": {},
   "outputs": [],
   "source": [
    "#Importing the required libraries\n",
    "import pandas as pd\n",
    "import pandas as pd\n",
    "import numpy as np\n",
    "import matplotlib.pyplot as plt\n",
    "import seaborn as sns\n",
    "from scipy import stats"
   ]
  },
  {
   "cell_type": "code",
   "execution_count": null,
   "metadata": {},
   "outputs": [],
   "source": [
    "# Merging the data from the previous three seasons "
   ]
  }
 ],
 "metadata": {
  "kernelspec": {
   "display_name": "Python 3",
   "language": "python",
   "name": "python3"
  },
  "language_info": {
   "codemirror_mode": {
    "name": "ipython",
    "version": 3
   },
   "file_extension": ".py",
   "mimetype": "text/x-python",
   "name": "python",
   "nbconvert_exporter": "python",
   "pygments_lexer": "ipython3",
   "version": "3.7.7"
  }
 },
 "nbformat": 4,
 "nbformat_minor": 4
}
