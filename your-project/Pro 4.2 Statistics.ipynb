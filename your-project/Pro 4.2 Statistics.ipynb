{
 "cells": [
  {
   "cell_type": "markdown",
   "metadata": {},
   "source": [
    "# Statistical part"
   ]
  },
  {
   "cell_type": "markdown",
   "metadata": {},
   "source": [
    "## Goals and expectations :"
   ]
  },
  {
   "cell_type": "markdown",
   "metadata": {},
   "source": [
    "- Is there any difference in salaries between the cities? (ANOVA Test) -> Tukey for advanced conclusions\n",
    "- Is there any difference in salaries between the industries? (ANOVA Test) -> Tukey for advanced conclusions\n",
    "- Is rating higher in \"easy apply\" jobs? (Two samples Hypothesis testing)\n",
    "- What is the true value (Around) of the salary mean of data scientist and analysts (confidence intervals)"
   ]
  },
  {
   "cell_type": "markdown",
   "metadata": {},
   "source": [
    "## Environment"
   ]
  },
  {
   "cell_type": "code",
   "execution_count": 1,
   "metadata": {},
   "outputs": [],
   "source": [
    "import pandas as pd\n",
    "import numpy as np\n",
    "import matplotlib.pyplot as plt\n",
    "import seaborn as sns\n",
    "import scipy.stats as stats\n",
    "from scipy.stats import f_oneway"
   ]
  },
  {
   "cell_type": "code",
   "execution_count": 2,
   "metadata": {},
   "outputs": [
    {
     "data": {
      "text/html": [
       "<div>\n",
       "<style scoped>\n",
       "    .dataframe tbody tr th:only-of-type {\n",
       "        vertical-align: middle;\n",
       "    }\n",
       "\n",
       "    .dataframe tbody tr th {\n",
       "        vertical-align: top;\n",
       "    }\n",
       "\n",
       "    .dataframe thead th {\n",
       "        text-align: right;\n",
       "    }\n",
       "</style>\n",
       "<table border=\"1\" class=\"dataframe\">\n",
       "  <thead>\n",
       "    <tr style=\"text-align: right;\">\n",
       "      <th></th>\n",
       "      <th>Job Title</th>\n",
       "      <th>Salary Estimate</th>\n",
       "      <th>Job Description</th>\n",
       "      <th>Rating</th>\n",
       "      <th>Company Name</th>\n",
       "      <th>Location</th>\n",
       "      <th>Headquarters</th>\n",
       "      <th>Size</th>\n",
       "      <th>Type of ownership</th>\n",
       "      <th>Industry</th>\n",
       "      <th>Sector</th>\n",
       "      <th>Revenue</th>\n",
       "      <th>Easy Apply</th>\n",
       "      <th>Min Salary</th>\n",
       "      <th>Max Salary</th>\n",
       "    </tr>\n",
       "  </thead>\n",
       "  <tbody>\n",
       "    <tr>\n",
       "      <th>0</th>\n",
       "      <td>Junior Data Analyst</td>\n",
       "      <td>59-85 ()</td>\n",
       "      <td>Job Description\\nJob description\\nInterpret da...</td>\n",
       "      <td>5.0</td>\n",
       "      <td>['Staffigo Technical Services, LLC', '5.0']</td>\n",
       "      <td>New York, NY</td>\n",
       "      <td>Woodridge, IL</td>\n",
       "      <td>51 to 200 employees</td>\n",
       "      <td>Company - Private</td>\n",
       "      <td>IT Services</td>\n",
       "      <td>Information Technology</td>\n",
       "      <td>$50 to $100 million (USD)</td>\n",
       "      <td>False</td>\n",
       "      <td>59</td>\n",
       "      <td>85</td>\n",
       "    </tr>\n",
       "    <tr>\n",
       "      <th>1</th>\n",
       "      <td>Data Analyst with Rochade</td>\n",
       "      <td>59-85 ()</td>\n",
       "      <td>Hi, Trust Yoursquore Doing Good. Enclosed is t...</td>\n",
       "      <td>4.0</td>\n",
       "      <td>['Reliable Software Resources', '4.0']</td>\n",
       "      <td>New York, NY</td>\n",
       "      <td>Northville, MI</td>\n",
       "      <td>501 to 1000 employees</td>\n",
       "      <td>Company - Private</td>\n",
       "      <td>IT Services</td>\n",
       "      <td>Information Technology</td>\n",
       "      <td>$50 to $100 million (USD)</td>\n",
       "      <td>False</td>\n",
       "      <td>59</td>\n",
       "      <td>85</td>\n",
       "    </tr>\n",
       "    <tr>\n",
       "      <th>2</th>\n",
       "      <td>Advertising Data Analyst</td>\n",
       "      <td>59-85 ()</td>\n",
       "      <td>Advertising Data Analyst\\n\\nHearst Television ...</td>\n",
       "      <td>4.3</td>\n",
       "      <td>['Hearst Television, Inc', '4.3']</td>\n",
       "      <td>New York, NY</td>\n",
       "      <td>Cincinnati, OH</td>\n",
       "      <td>51 to 200 employees</td>\n",
       "      <td>Company - Private</td>\n",
       "      <td>TV Broadcast &amp; Cable Networks</td>\n",
       "      <td>Media</td>\n",
       "      <td>$5 to $10 million (USD)</td>\n",
       "      <td>False</td>\n",
       "      <td>59</td>\n",
       "      <td>85</td>\n",
       "    </tr>\n",
       "    <tr>\n",
       "      <th>3</th>\n",
       "      <td>Senior Data Analyst</td>\n",
       "      <td>59-85 ()</td>\n",
       "      <td>At Rockstar Games, we create the games we woul...</td>\n",
       "      <td>4.1</td>\n",
       "      <td>['Rockstar Games', '4.1']</td>\n",
       "      <td>New York, NY</td>\n",
       "      <td>New York, NY</td>\n",
       "      <td>1001 to 5000 employees</td>\n",
       "      <td>Subsidiary or Business Segment</td>\n",
       "      <td>Video Games</td>\n",
       "      <td>Media</td>\n",
       "      <td>$10 to $25 million (USD)</td>\n",
       "      <td>False</td>\n",
       "      <td>59</td>\n",
       "      <td>85</td>\n",
       "    </tr>\n",
       "    <tr>\n",
       "      <th>4</th>\n",
       "      <td>Data Analyst</td>\n",
       "      <td>59-85 ()</td>\n",
       "      <td>Job Description\\nPrimary Responsibilities: Exp...</td>\n",
       "      <td>4.2</td>\n",
       "      <td>['Precision technologies corp', '4.2']</td>\n",
       "      <td>New York, NY</td>\n",
       "      <td>New Brunswick, NJ</td>\n",
       "      <td>201 to 500 employees</td>\n",
       "      <td>Company - Private</td>\n",
       "      <td>IT Services</td>\n",
       "      <td>Information Technology</td>\n",
       "      <td>$10 to $25 million (USD)</td>\n",
       "      <td>False</td>\n",
       "      <td>59</td>\n",
       "      <td>85</td>\n",
       "    </tr>\n",
       "    <tr>\n",
       "      <th>...</th>\n",
       "      <td>...</td>\n",
       "      <td>...</td>\n",
       "      <td>...</td>\n",
       "      <td>...</td>\n",
       "      <td>...</td>\n",
       "      <td>...</td>\n",
       "      <td>...</td>\n",
       "      <td>...</td>\n",
       "      <td>...</td>\n",
       "      <td>...</td>\n",
       "      <td>...</td>\n",
       "      <td>...</td>\n",
       "      <td>...</td>\n",
       "      <td>...</td>\n",
       "      <td>...</td>\n",
       "    </tr>\n",
       "    <tr>\n",
       "      <th>126</th>\n",
       "      <td>Data Analyst Junior</td>\n",
       "      <td>57-100 ()</td>\n",
       "      <td>Job Description\\nJob description\\nInterpret da...</td>\n",
       "      <td>5.0</td>\n",
       "      <td>['Staffigo Technical Services, LLC', '5.0']</td>\n",
       "      <td>Denver, CO</td>\n",
       "      <td>Woodridge, IL</td>\n",
       "      <td>51 to 200 employees</td>\n",
       "      <td>Company - Private</td>\n",
       "      <td>IT Services</td>\n",
       "      <td>Information Technology</td>\n",
       "      <td>$50 to $100 million (USD)</td>\n",
       "      <td>False</td>\n",
       "      <td>57</td>\n",
       "      <td>100</td>\n",
       "    </tr>\n",
       "    <tr>\n",
       "      <th>127</th>\n",
       "      <td>Data Security Analyst</td>\n",
       "      <td>57-100 ()</td>\n",
       "      <td>Title: Data Security Analyst\\nLocation: Denver...</td>\n",
       "      <td>4.3</td>\n",
       "      <td>['22nd Century Staffing', '4.3']</td>\n",
       "      <td>Denver, CO</td>\n",
       "      <td>McLean, VA</td>\n",
       "      <td>51 to 200 employees</td>\n",
       "      <td>Company - Private</td>\n",
       "      <td>Staffing &amp; Outsourcing</td>\n",
       "      <td>Business Services</td>\n",
       "      <td>$5 to $10 million (USD)</td>\n",
       "      <td>True</td>\n",
       "      <td>57</td>\n",
       "      <td>100</td>\n",
       "    </tr>\n",
       "    <tr>\n",
       "      <th>128</th>\n",
       "      <td>Data Security Analyst</td>\n",
       "      <td>57-100 ()</td>\n",
       "      <td>Role: Data Security Analyst\\nLocation: Denver,...</td>\n",
       "      <td>4.1</td>\n",
       "      <td>['Mavensoft Technologies, LLC.', '4.1']</td>\n",
       "      <td>Denver, CO</td>\n",
       "      <td>Beaverton, OR</td>\n",
       "      <td>1 to 50 employees</td>\n",
       "      <td>Company - Private</td>\n",
       "      <td>IT Services</td>\n",
       "      <td>Information Technology</td>\n",
       "      <td>Less than $1 million (USD)</td>\n",
       "      <td>False</td>\n",
       "      <td>57</td>\n",
       "      <td>100</td>\n",
       "    </tr>\n",
       "    <tr>\n",
       "      <th>129</th>\n",
       "      <td>Data Analyst - Junior</td>\n",
       "      <td>57-100 ()</td>\n",
       "      <td>Job Description\\nJob description\\nInterpret da...</td>\n",
       "      <td>5.0</td>\n",
       "      <td>['Staffigo Technical Services, LLC', '5.0']</td>\n",
       "      <td>Denver, CO</td>\n",
       "      <td>Woodridge, IL</td>\n",
       "      <td>51 to 200 employees</td>\n",
       "      <td>Company - Private</td>\n",
       "      <td>IT Services</td>\n",
       "      <td>Information Technology</td>\n",
       "      <td>$50 to $100 million (USD)</td>\n",
       "      <td>False</td>\n",
       "      <td>57</td>\n",
       "      <td>100</td>\n",
       "    </tr>\n",
       "    <tr>\n",
       "      <th>130</th>\n",
       "      <td>Data Base Programmer/Analyst</td>\n",
       "      <td>57-100 ()</td>\n",
       "      <td>Client is contracting for an on-site, temporar...</td>\n",
       "      <td>4.3</td>\n",
       "      <td>['22nd Century Staffing', '4.3']</td>\n",
       "      <td>Denver, CO</td>\n",
       "      <td>McLean, VA</td>\n",
       "      <td>51 to 200 employees</td>\n",
       "      <td>Company - Private</td>\n",
       "      <td>Staffing &amp; Outsourcing</td>\n",
       "      <td>Business Services</td>\n",
       "      <td>$5 to $10 million (USD)</td>\n",
       "      <td>True</td>\n",
       "      <td>57</td>\n",
       "      <td>100</td>\n",
       "    </tr>\n",
       "  </tbody>\n",
       "</table>\n",
       "<p>131 rows × 15 columns</p>\n",
       "</div>"
      ],
      "text/plain": [
       "                        Job Title Salary Estimate  \\\n",
       "0             Junior Data Analyst        59-85 ()   \n",
       "1       Data Analyst with Rochade        59-85 ()   \n",
       "2        Advertising Data Analyst        59-85 ()   \n",
       "3             Senior Data Analyst        59-85 ()   \n",
       "4                    Data Analyst        59-85 ()   \n",
       "..                            ...             ...   \n",
       "126           Data Analyst Junior       57-100 ()   \n",
       "127         Data Security Analyst       57-100 ()   \n",
       "128         Data Security Analyst       57-100 ()   \n",
       "129         Data Analyst - Junior       57-100 ()   \n",
       "130  Data Base Programmer/Analyst       57-100 ()   \n",
       "\n",
       "                                       Job Description  Rating  \\\n",
       "0    Job Description\\nJob description\\nInterpret da...     5.0   \n",
       "1    Hi, Trust Yoursquore Doing Good. Enclosed is t...     4.0   \n",
       "2    Advertising Data Analyst\\n\\nHearst Television ...     4.3   \n",
       "3    At Rockstar Games, we create the games we woul...     4.1   \n",
       "4    Job Description\\nPrimary Responsibilities: Exp...     4.2   \n",
       "..                                                 ...     ...   \n",
       "126  Job Description\\nJob description\\nInterpret da...     5.0   \n",
       "127  Title: Data Security Analyst\\nLocation: Denver...     4.3   \n",
       "128  Role: Data Security Analyst\\nLocation: Denver,...     4.1   \n",
       "129  Job Description\\nJob description\\nInterpret da...     5.0   \n",
       "130  Client is contracting for an on-site, temporar...     4.3   \n",
       "\n",
       "                                    Company Name      Location  \\\n",
       "0    ['Staffigo Technical Services, LLC', '5.0']  New York, NY   \n",
       "1         ['Reliable Software Resources', '4.0']  New York, NY   \n",
       "2              ['Hearst Television, Inc', '4.3']  New York, NY   \n",
       "3                      ['Rockstar Games', '4.1']  New York, NY   \n",
       "4         ['Precision technologies corp', '4.2']  New York, NY   \n",
       "..                                           ...           ...   \n",
       "126  ['Staffigo Technical Services, LLC', '5.0']    Denver, CO   \n",
       "127             ['22nd Century Staffing', '4.3']    Denver, CO   \n",
       "128      ['Mavensoft Technologies, LLC.', '4.1']    Denver, CO   \n",
       "129  ['Staffigo Technical Services, LLC', '5.0']    Denver, CO   \n",
       "130             ['22nd Century Staffing', '4.3']    Denver, CO   \n",
       "\n",
       "          Headquarters                    Size  \\\n",
       "0        Woodridge, IL     51 to 200 employees   \n",
       "1       Northville, MI   501 to 1000 employees   \n",
       "2       Cincinnati, OH     51 to 200 employees   \n",
       "3         New York, NY  1001 to 5000 employees   \n",
       "4    New Brunswick, NJ    201 to 500 employees   \n",
       "..                 ...                     ...   \n",
       "126      Woodridge, IL     51 to 200 employees   \n",
       "127         McLean, VA     51 to 200 employees   \n",
       "128      Beaverton, OR       1 to 50 employees   \n",
       "129      Woodridge, IL     51 to 200 employees   \n",
       "130         McLean, VA     51 to 200 employees   \n",
       "\n",
       "                  Type of ownership                       Industry  \\\n",
       "0                 Company - Private                    IT Services   \n",
       "1                 Company - Private                    IT Services   \n",
       "2                 Company - Private  TV Broadcast & Cable Networks   \n",
       "3    Subsidiary or Business Segment                    Video Games   \n",
       "4                 Company - Private                    IT Services   \n",
       "..                              ...                            ...   \n",
       "126               Company - Private                    IT Services   \n",
       "127               Company - Private         Staffing & Outsourcing   \n",
       "128               Company - Private                    IT Services   \n",
       "129               Company - Private                    IT Services   \n",
       "130               Company - Private         Staffing & Outsourcing   \n",
       "\n",
       "                     Sector                     Revenue  Easy Apply  \\\n",
       "0    Information Technology   $50 to $100 million (USD)       False   \n",
       "1    Information Technology   $50 to $100 million (USD)       False   \n",
       "2                     Media     $5 to $10 million (USD)       False   \n",
       "3                     Media    $10 to $25 million (USD)       False   \n",
       "4    Information Technology    $10 to $25 million (USD)       False   \n",
       "..                      ...                         ...         ...   \n",
       "126  Information Technology   $50 to $100 million (USD)       False   \n",
       "127       Business Services     $5 to $10 million (USD)        True   \n",
       "128  Information Technology  Less than $1 million (USD)       False   \n",
       "129  Information Technology   $50 to $100 million (USD)       False   \n",
       "130       Business Services     $5 to $10 million (USD)        True   \n",
       "\n",
       "     Min Salary  Max Salary  \n",
       "0            59          85  \n",
       "1            59          85  \n",
       "2            59          85  \n",
       "3            59          85  \n",
       "4            59          85  \n",
       "..          ...         ...  \n",
       "126          57         100  \n",
       "127          57         100  \n",
       "128          57         100  \n",
       "129          57         100  \n",
       "130          57         100  \n",
       "\n",
       "[131 rows x 15 columns]"
      ]
     },
     "execution_count": 2,
     "metadata": {},
     "output_type": "execute_result"
    }
   ],
   "source": [
    "good_jobs = pd.read_csv('good-job.csv', index_col=0)\n",
    "good_jobs.reset_index(drop=True, inplace=True)\n",
    "good_jobs"
   ]
  },
  {
   "cell_type": "markdown",
   "metadata": {},
   "source": [
    "## Data exploration"
   ]
  },
  {
   "cell_type": "code",
   "execution_count": 3,
   "metadata": {},
   "outputs": [
    {
     "data": {
      "text/plain": [
       "San Francisco, CA    38\n",
       "New York, NY         33\n",
       "San Diego, CA        24\n",
       "Los Angeles, CA      16\n",
       "Denver, CO           15\n",
       "Seattle, WA           5\n",
       "Name: Location, dtype: int64"
      ]
     },
     "execution_count": 3,
     "metadata": {},
     "output_type": "execute_result"
    }
   ],
   "source": [
    "good_jobs['Location'].value_counts()"
   ]
  },
  {
   "cell_type": "code",
   "execution_count": 4,
   "metadata": {},
   "outputs": [
    {
     "data": {
      "text/html": [
       "<div>\n",
       "<style scoped>\n",
       "    .dataframe tbody tr th:only-of-type {\n",
       "        vertical-align: middle;\n",
       "    }\n",
       "\n",
       "    .dataframe tbody tr th {\n",
       "        vertical-align: top;\n",
       "    }\n",
       "\n",
       "    .dataframe thead th {\n",
       "        text-align: right;\n",
       "    }\n",
       "</style>\n",
       "<table border=\"1\" class=\"dataframe\">\n",
       "  <thead>\n",
       "    <tr style=\"text-align: right;\">\n",
       "      <th></th>\n",
       "      <th>Location</th>\n",
       "      <th>Min Salary</th>\n",
       "      <th>Max Salary</th>\n",
       "    </tr>\n",
       "  </thead>\n",
       "  <tbody>\n",
       "    <tr>\n",
       "      <th>0</th>\n",
       "      <td>New York, NY</td>\n",
       "      <td>59</td>\n",
       "      <td>85</td>\n",
       "    </tr>\n",
       "    <tr>\n",
       "      <th>1</th>\n",
       "      <td>New York, NY</td>\n",
       "      <td>59</td>\n",
       "      <td>85</td>\n",
       "    </tr>\n",
       "    <tr>\n",
       "      <th>2</th>\n",
       "      <td>New York, NY</td>\n",
       "      <td>59</td>\n",
       "      <td>85</td>\n",
       "    </tr>\n",
       "    <tr>\n",
       "      <th>3</th>\n",
       "      <td>New York, NY</td>\n",
       "      <td>59</td>\n",
       "      <td>85</td>\n",
       "    </tr>\n",
       "    <tr>\n",
       "      <th>4</th>\n",
       "      <td>New York, NY</td>\n",
       "      <td>59</td>\n",
       "      <td>85</td>\n",
       "    </tr>\n",
       "    <tr>\n",
       "      <th>...</th>\n",
       "      <td>...</td>\n",
       "      <td>...</td>\n",
       "      <td>...</td>\n",
       "    </tr>\n",
       "    <tr>\n",
       "      <th>126</th>\n",
       "      <td>Denver, CO</td>\n",
       "      <td>57</td>\n",
       "      <td>100</td>\n",
       "    </tr>\n",
       "    <tr>\n",
       "      <th>127</th>\n",
       "      <td>Denver, CO</td>\n",
       "      <td>57</td>\n",
       "      <td>100</td>\n",
       "    </tr>\n",
       "    <tr>\n",
       "      <th>128</th>\n",
       "      <td>Denver, CO</td>\n",
       "      <td>57</td>\n",
       "      <td>100</td>\n",
       "    </tr>\n",
       "    <tr>\n",
       "      <th>129</th>\n",
       "      <td>Denver, CO</td>\n",
       "      <td>57</td>\n",
       "      <td>100</td>\n",
       "    </tr>\n",
       "    <tr>\n",
       "      <th>130</th>\n",
       "      <td>Denver, CO</td>\n",
       "      <td>57</td>\n",
       "      <td>100</td>\n",
       "    </tr>\n",
       "  </tbody>\n",
       "</table>\n",
       "<p>131 rows × 3 columns</p>\n",
       "</div>"
      ],
      "text/plain": [
       "         Location  Min Salary  Max Salary\n",
       "0    New York, NY          59          85\n",
       "1    New York, NY          59          85\n",
       "2    New York, NY          59          85\n",
       "3    New York, NY          59          85\n",
       "4    New York, NY          59          85\n",
       "..            ...         ...         ...\n",
       "126    Denver, CO          57         100\n",
       "127    Denver, CO          57         100\n",
       "128    Denver, CO          57         100\n",
       "129    Denver, CO          57         100\n",
       "130    Denver, CO          57         100\n",
       "\n",
       "[131 rows x 3 columns]"
      ]
     },
     "execution_count": 4,
     "metadata": {},
     "output_type": "execute_result"
    }
   ],
   "source": [
    "cities = good_jobs[['Location','Min Salary','Max Salary']]\n",
    "\n",
    "cities"
   ]
  },
  {
   "cell_type": "code",
   "execution_count": 5,
   "metadata": {},
   "outputs": [
    {
     "name": "stdout",
     "output_type": "stream",
     "text": [
      "[57 99 93 82 65]\n",
      "[104 178 159 116 120]\n"
     ]
    }
   ],
   "source": [
    "sf = cities[cities['Location'] == 'San Francisco, CA']\n",
    "\n",
    "sf_min_salary = sf['Min Salary']\n",
    "sf_max_salary = sf['Max Salary']\n",
    "\n",
    "sf_min_salary = pd.unique(pd.Series(sf_min_salary))\n",
    "print(sf_min_salary)\n",
    "\n",
    "sf_max_salary = pd.unique(pd.Series(sf_max_salary ))\n",
    "print(sf_max_salary)"
   ]
  },
  {
   "cell_type": "code",
   "execution_count": 6,
   "metadata": {},
   "outputs": [
    {
     "name": "stdout",
     "output_type": "stream",
     "text": [
      "[59 60 73 84 77 98]\n",
      "[ 85 110 127  90 132 114]\n"
     ]
    }
   ],
   "source": [
    "ny = cities[cities['Location'] == 'New York, NY']\n",
    "\n",
    "ny_min_salary = ny['Min Salary']\n",
    "ny_max_salary = ny['Max Salary']\n",
    "\n",
    "ny_min_salary = pd.unique(pd.Series(ny_min_salary))\n",
    "print(ny_min_salary)\n",
    "\n",
    "ny_max_salary = pd.unique(pd.Series(ny_max_salary ))\n",
    "print(ny_max_salary)"
   ]
  },
  {
   "cell_type": "code",
   "execution_count": 7,
   "metadata": {},
   "outputs": [
    {
     "name": "stdout",
     "output_type": "stream",
     "text": [
      "[76 60]\n",
      "[122 124]\n"
     ]
    }
   ],
   "source": [
    "sd = cities[cities['Location'] == 'San Diego, CA']\n",
    "\n",
    "sd_min_salary = sd['Min Salary']\n",
    "sd_max_salary = sd['Max Salary']\n",
    "\n",
    "sd_min_salary = pd.unique(pd.Series(sd_min_salary))\n",
    "print(sd_min_salary)\n",
    "\n",
    "sd_max_salary = pd.unique(pd.Series(sd_max_salary ))\n",
    "print(sd_max_salary)"
   ]
  },
  {
   "cell_type": "code",
   "execution_count": 8,
   "metadata": {},
   "outputs": [
    {
     "name": "stdout",
     "output_type": "stream",
     "text": [
      "[ 55  57 113]\n",
      "[103 132]\n"
     ]
    }
   ],
   "source": [
    "la = cities[cities['Location'] == 'Los Angeles, CA']\n",
    "\n",
    "la_min_salary = la['Min Salary']\n",
    "la_max_salary = la['Max Salary']\n",
    "\n",
    "la_min_salary = pd.unique(pd.Series(la_min_salary))\n",
    "print(la_min_salary)\n",
    "\n",
    "la_max_salary = pd.unique(pd.Series(la_max_salary ))\n",
    "print(la_max_salary)"
   ]
  },
  {
   "cell_type": "code",
   "execution_count": 9,
   "metadata": {},
   "outputs": [
    {
     "name": "stdout",
     "output_type": "stream",
     "text": [
      "[57]\n",
      "[ 67 100]\n"
     ]
    }
   ],
   "source": [
    "den = cities[cities['Location'] == 'Denver, CO']\n",
    "\n",
    "den_min_salary = den['Min Salary']\n",
    "den_max_salary = den['Max Salary']\n",
    "\n",
    "den_min_salary = pd.unique(pd.Series(den_min_salary))\n",
    "print(den_min_salary)\n",
    "\n",
    "den_max_salary = pd.unique(pd.Series(den_max_salary ))\n",
    "print(den_max_salary)"
   ]
  },
  {
   "cell_type": "code",
   "execution_count": 10,
   "metadata": {},
   "outputs": [
    {
     "name": "stdout",
     "output_type": "stream",
     "text": [
      "[55]\n",
      "[101]\n"
     ]
    }
   ],
   "source": [
    "seat = cities[cities['Location'] == 'Seattle, WA']\n",
    "\n",
    "seat_min_salary = seat['Min Salary']\n",
    "seat_max_salary = seat['Max Salary']\n",
    "\n",
    "seat_min_salary = pd.unique(pd.Series(seat_min_salary))\n",
    "print(seat_min_salary)\n",
    "\n",
    "seat_max_salary = pd.unique(pd.Series(seat_max_salary ))\n",
    "print(seat_max_salary)"
   ]
  },
  {
   "cell_type": "markdown",
   "metadata": {},
   "source": [
    "### Minimun salaries between cities"
   ]
  },
  {
   "cell_type": "code",
   "execution_count": 11,
   "metadata": {},
   "outputs": [
    {
     "data": {
      "text/plain": [
       "F_onewayResult(statistic=0.44124824594519513, pvalue=0.8115508427137781)"
      ]
     },
     "execution_count": 11,
     "metadata": {},
     "output_type": "execute_result"
    }
   ],
   "source": [
    "# ANOVA\n",
    "\n",
    "f_oneway(sf_min_salary,ny_min_salary,sd_min_salary,la_min_salary,den_min_salary,seat_min_salary)"
   ]
  },
  {
   "cell_type": "code",
   "execution_count": 12,
   "metadata": {},
   "outputs": [],
   "source": [
    "from statsmodels.stats.multicomp import pairwise_tukeyhsd\n",
    "from statsmodels.stats.multicomp import MultiComparison"
   ]
  },
  {
   "cell_type": "code",
   "execution_count": 13,
   "metadata": {},
   "outputs": [],
   "source": [
    "# Tukeyhsd()\n",
    "\n",
    "mc = MultiComparison(cities['Min Salary'], cities['Location'])\n",
    "result_min = mc.tukeyhsd()"
   ]
  },
  {
   "cell_type": "code",
   "execution_count": 14,
   "metadata": {},
   "outputs": [
    {
     "name": "stdout",
     "output_type": "stream",
     "text": [
      "            Multiple Comparison of Means - Tukey HSD, FWER=0.05            \n",
      "===========================================================================\n",
      "      group1            group2      meandiff p-adj   lower    upper  reject\n",
      "---------------------------------------------------------------------------\n",
      "       Denver, CO   Los Angeles, CA      2.5    0.9 -11.8946 16.8946  False\n",
      "       Denver, CO      New York, NY  18.3333  0.001   5.8611 30.8055   True\n",
      "       Denver, CO     San Diego, CA   9.6667 0.2827  -3.5161 22.8494  False\n",
      "       Denver, CO San Francisco, CA  22.9211  0.001   10.708 35.1341   True\n",
      "       Denver, CO       Seattle, WA     -2.0    0.9 -22.6828 18.6828  False\n",
      "  Los Angeles, CA      New York, NY  15.8333 0.0035    3.632 28.0346   True\n",
      "  Los Angeles, CA     San Diego, CA   7.1667 0.5839  -5.7601 20.0934  False\n",
      "  Los Angeles, CA San Francisco, CA  20.4211  0.001   8.4847 32.3574   True\n",
      "  Los Angeles, CA       Seattle, WA     -4.5    0.9 -25.0206 16.0206  False\n",
      "     New York, NY     San Diego, CA  -8.6667 0.1881 -19.4115  2.0782  False\n",
      "     New York, NY San Francisco, CA   4.5877 0.7046  -4.9426  14.118  False\n",
      "     New York, NY       Seattle, WA -20.3333 0.0315 -39.5543 -1.1124   True\n",
      "    San Diego, CA San Francisco, CA  13.2544 0.0047   2.8114 23.6973   True\n",
      "    San Diego, CA       Seattle, WA -11.6667  0.521 -31.3561  8.0228  False\n",
      "San Francisco, CA       Seattle, WA -24.9211 0.0032 -43.9749 -5.8672   True\n",
      "---------------------------------------------------------------------------\n"
     ]
    }
   ],
   "source": [
    "print(result_min)"
   ]
  },
  {
   "cell_type": "markdown",
   "metadata": {},
   "source": [
    "### Maximum salaries between cities"
   ]
  },
  {
   "cell_type": "code",
   "execution_count": 15,
   "metadata": {},
   "outputs": [
    {
     "data": {
      "text/plain": [
       "F_onewayResult(statistic=1.6215259743465684, pvalue=0.2280376721159637)"
      ]
     },
     "execution_count": 15,
     "metadata": {},
     "output_type": "execute_result"
    }
   ],
   "source": [
    "# ANOVA\n",
    "\n",
    "f_oneway (sf_max_salary,ny_max_salary,sd_max_salary,la_max_salary,den_max_salary,seat_max_salary)"
   ]
  },
  {
   "cell_type": "code",
   "execution_count": 16,
   "metadata": {},
   "outputs": [],
   "source": [
    "# Tukeyhsd()\n",
    "\n",
    "mc = MultiComparison(cities['Max Salary'], cities['Location'])\n",
    "result_max = mc.tukeyhsd()"
   ]
  },
  {
   "cell_type": "code",
   "execution_count": 17,
   "metadata": {},
   "outputs": [
    {
     "name": "stdout",
     "output_type": "stream",
     "text": [
      "            Multiple Comparison of Means - Tukey HSD, FWER=0.05             \n",
      "============================================================================\n",
      "      group1            group2      meandiff p-adj   lower    upper   reject\n",
      "----------------------------------------------------------------------------\n",
      "       Denver, CO   Los Angeles, CA  22.4125  0.035   0.9686  43.8564   True\n",
      "       Denver, CO      New York, NY  28.2061  0.001    9.626  46.7861   True\n",
      "       Denver, CO     San Diego, CA  40.7667  0.001  21.1281  60.4052   True\n",
      "       Denver, CO San Francisco, CA  58.1526  0.001  39.9586  76.3467   True\n",
      "       Denver, CO       Seattle, WA     18.6 0.5026 -12.2115  49.4115  False\n",
      "  Los Angeles, CA      New York, NY   5.7936    0.9 -12.3829    23.97  False\n",
      "  Los Angeles, CA     San Diego, CA  18.3542 0.0714   -0.903  37.6113  False\n",
      "  Los Angeles, CA San Francisco, CA  35.7401  0.001  17.9584  53.5218   True\n",
      "  Los Angeles, CA       Seattle, WA  -3.8125    0.9 -34.3823  26.7573  False\n",
      "     New York, NY     San Diego, CA  12.5606 0.2138  -3.4461  28.5673  False\n",
      "     New York, NY San Francisco, CA  29.9466  0.001  15.7492   44.144   True\n",
      "     New York, NY       Seattle, WA  -9.6061    0.9 -38.2398  19.0277  False\n",
      "    San Diego, CA San Francisco, CA   17.386  0.019   1.8289   32.943   True\n",
      "    San Diego, CA       Seattle, WA -22.1667 0.2509 -51.4983    7.165  False\n",
      "San Francisco, CA       Seattle, WA -39.5526 0.0013 -67.9374 -11.1678   True\n",
      "----------------------------------------------------------------------------\n"
     ]
    }
   ],
   "source": [
    "print(result_max)"
   ]
  },
  {
   "cell_type": "code",
   "execution_count": 18,
   "metadata": {},
   "outputs": [
    {
     "data": {
      "text/html": [
       "<div>\n",
       "<style scoped>\n",
       "    .dataframe tbody tr th:only-of-type {\n",
       "        vertical-align: middle;\n",
       "    }\n",
       "\n",
       "    .dataframe tbody tr th {\n",
       "        vertical-align: top;\n",
       "    }\n",
       "\n",
       "    .dataframe thead th {\n",
       "        text-align: right;\n",
       "    }\n",
       "</style>\n",
       "<table border=\"1\" class=\"dataframe\">\n",
       "  <thead>\n",
       "    <tr style=\"text-align: right;\">\n",
       "      <th></th>\n",
       "      <th>Sector</th>\n",
       "      <th>Min Salary</th>\n",
       "      <th>Max Salary</th>\n",
       "    </tr>\n",
       "  </thead>\n",
       "  <tbody>\n",
       "    <tr>\n",
       "      <th>0</th>\n",
       "      <td>Information Technology</td>\n",
       "      <td>59</td>\n",
       "      <td>85</td>\n",
       "    </tr>\n",
       "    <tr>\n",
       "      <th>1</th>\n",
       "      <td>Information Technology</td>\n",
       "      <td>59</td>\n",
       "      <td>85</td>\n",
       "    </tr>\n",
       "    <tr>\n",
       "      <th>2</th>\n",
       "      <td>Media</td>\n",
       "      <td>59</td>\n",
       "      <td>85</td>\n",
       "    </tr>\n",
       "    <tr>\n",
       "      <th>3</th>\n",
       "      <td>Media</td>\n",
       "      <td>59</td>\n",
       "      <td>85</td>\n",
       "    </tr>\n",
       "    <tr>\n",
       "      <th>4</th>\n",
       "      <td>Information Technology</td>\n",
       "      <td>59</td>\n",
       "      <td>85</td>\n",
       "    </tr>\n",
       "    <tr>\n",
       "      <th>...</th>\n",
       "      <td>...</td>\n",
       "      <td>...</td>\n",
       "      <td>...</td>\n",
       "    </tr>\n",
       "    <tr>\n",
       "      <th>126</th>\n",
       "      <td>Information Technology</td>\n",
       "      <td>57</td>\n",
       "      <td>100</td>\n",
       "    </tr>\n",
       "    <tr>\n",
       "      <th>127</th>\n",
       "      <td>Business Services</td>\n",
       "      <td>57</td>\n",
       "      <td>100</td>\n",
       "    </tr>\n",
       "    <tr>\n",
       "      <th>128</th>\n",
       "      <td>Information Technology</td>\n",
       "      <td>57</td>\n",
       "      <td>100</td>\n",
       "    </tr>\n",
       "    <tr>\n",
       "      <th>129</th>\n",
       "      <td>Information Technology</td>\n",
       "      <td>57</td>\n",
       "      <td>100</td>\n",
       "    </tr>\n",
       "    <tr>\n",
       "      <th>130</th>\n",
       "      <td>Business Services</td>\n",
       "      <td>57</td>\n",
       "      <td>100</td>\n",
       "    </tr>\n",
       "  </tbody>\n",
       "</table>\n",
       "<p>131 rows × 3 columns</p>\n",
       "</div>"
      ],
      "text/plain": [
       "                     Sector  Min Salary  Max Salary\n",
       "0    Information Technology          59          85\n",
       "1    Information Technology          59          85\n",
       "2                     Media          59          85\n",
       "3                     Media          59          85\n",
       "4    Information Technology          59          85\n",
       "..                      ...         ...         ...\n",
       "126  Information Technology          57         100\n",
       "127       Business Services          57         100\n",
       "128  Information Technology          57         100\n",
       "129  Information Technology          57         100\n",
       "130       Business Services          57         100\n",
       "\n",
       "[131 rows x 3 columns]"
      ]
     },
     "execution_count": 18,
     "metadata": {},
     "output_type": "execute_result"
    }
   ],
   "source": [
    "industries = good_jobs[['Sector','Min Salary','Max Salary']]\n",
    "\n",
    "industries"
   ]
  },
  {
   "cell_type": "code",
   "execution_count": 19,
   "metadata": {},
   "outputs": [
    {
     "name": "stderr",
     "output_type": "stream",
     "text": [
      "/Users/yidichi/opt/anaconda3/lib/python3.7/site-packages/ipykernel_launcher.py:1: SettingWithCopyWarning: \n",
      "A value is trying to be set on a copy of a slice from a DataFrame.\n",
      "Try using .loc[row_indexer,col_indexer] = value instead\n",
      "\n",
      "See the caveats in the documentation: https://pandas.pydata.org/pandas-docs/stable/user_guide/indexing.html#returning-a-view-versus-a-copy\n",
      "  \"\"\"Entry point for launching an IPython kernel.\n"
     ]
    }
   ],
   "source": [
    "industries['Sector'] = industries['Sector'].astype(str)"
   ]
  },
  {
   "cell_type": "code",
   "execution_count": 20,
   "metadata": {},
   "outputs": [
    {
     "data": {
      "text/plain": [
       "Information Technology              57\n",
       "Business Services                   26\n",
       "Health Care                         11\n",
       "Education                            9\n",
       "nan                                  8\n",
       "Media                                5\n",
       "Accounting & Legal                   5\n",
       "Finance                              5\n",
       "Travel & Tourism                     1\n",
       "Transportation & Logistics           1\n",
       "Biotech & Pharmaceuticals            1\n",
       "Arts, Entertainment & Recreation     1\n",
       "Manufacturing                        1\n",
       "Name: Sector, dtype: int64"
      ]
     },
     "execution_count": 20,
     "metadata": {},
     "output_type": "execute_result"
    }
   ],
   "source": [
    "industries['Sector'].value_counts()"
   ]
  },
  {
   "cell_type": "code",
   "execution_count": 21,
   "metadata": {},
   "outputs": [],
   "source": [
    "info_tec =industries[industries['Sector'] == 'Information Technology']\n",
    "\n",
    "info_tec_min_salary = info_tec['Min Salary']\n",
    "info_tec_max_salary = info_tec['Max Salary']\n"
   ]
  },
  {
   "cell_type": "code",
   "execution_count": 22,
   "metadata": {},
   "outputs": [],
   "source": [
    "bus_ser =industries[industries['Sector'] == 'Business Services']\n",
    "\n",
    "bus_ser_min_salary = bus_ser['Min Salary']\n",
    "bus_ser_max_salary = bus_ser['Max Salary']\n"
   ]
  },
  {
   "cell_type": "code",
   "execution_count": 23,
   "metadata": {},
   "outputs": [],
   "source": [
    "heal_care =industries[industries['Sector'] == 'Business Services']\n",
    "\n",
    "heal_care_min_salary = heal_care['Min Salary']\n",
    "heal_care_max_salary = heal_care['Max Salary']"
   ]
  },
  {
   "cell_type": "code",
   "execution_count": 24,
   "metadata": {},
   "outputs": [],
   "source": [
    "education =industries[industries['Sector'] == 'Education']\n",
    "\n",
    "education_min_salary = education['Min Salary']\n",
    "education_max_salary = education['Max Salary']"
   ]
  },
  {
   "cell_type": "code",
   "execution_count": 25,
   "metadata": {},
   "outputs": [],
   "source": [
    "media =industries[industries['Sector'] == 'Media']\n",
    "\n",
    "media_min_salary = media['Min Salary']\n",
    "media_max_salary = media['Max Salary']"
   ]
  },
  {
   "cell_type": "code",
   "execution_count": 26,
   "metadata": {},
   "outputs": [],
   "source": [
    "finnace =industries[industries['Sector'] == 'Finance']\n",
    "\n",
    "finnace_min_salary = finnace['Min Salary']\n",
    "finnace_max_salary = finnace['Max Salary']"
   ]
  },
  {
   "cell_type": "code",
   "execution_count": 27,
   "metadata": {},
   "outputs": [],
   "source": [
    "acc_legal =industries[industries['Sector'] == 'Accounting & Legal']\n",
    "\n",
    "acc_legal_min_salary = acc_legal['Min Salary']\n",
    "acc_legal_max_salary = acc_legal['Max Salary']"
   ]
  },
  {
   "cell_type": "code",
   "execution_count": 28,
   "metadata": {},
   "outputs": [],
   "source": [
    "bio_phar =industries[industries['Sector'] == 'Biotech & Pharmaceuticals']\n",
    "\n",
    "bio_phar_min_salary = bio_phar['Min Salary']\n",
    "bio_phar_max_salary = bio_phar['Max Salary']"
   ]
  },
  {
   "cell_type": "code",
   "execution_count": 29,
   "metadata": {},
   "outputs": [],
   "source": [
    "manufac =industries[industries['Sector'] == 'Manufacturing']\n",
    "\n",
    "manufac_min_salary = manufac['Min Salary']\n",
    "manufac_max_salary = manufac['Max Salary']"
   ]
  },
  {
   "cell_type": "code",
   "execution_count": 30,
   "metadata": {},
   "outputs": [],
   "source": [
    "tral_tour =industries[industries['Sector'] == 'Travel & Tourism']\n",
    "\n",
    "tral_tour_min_salary = tral_tour['Min Salary']\n",
    "tral_tour_max_salary = tral_tour['Max Salary']"
   ]
  },
  {
   "cell_type": "code",
   "execution_count": 31,
   "metadata": {},
   "outputs": [],
   "source": [
    "arts =industries[industries['Sector'] == 'Arts, Entertainment & Recreation']\n",
    "\n",
    "arts_min_salary = arts['Min Salary']\n",
    "arts_max_salary = arts['Max Salary']"
   ]
  },
  {
   "cell_type": "code",
   "execution_count": 32,
   "metadata": {},
   "outputs": [],
   "source": [
    "tran_logis =industries[industries['Sector'] == 'Transportation & Logistics']\n",
    "\n",
    "tran_logis_min_salary = tran_logis['Min Salary']\n",
    "tran_logis_max_salary = tran_logis['Max Salary']"
   ]
  },
  {
   "cell_type": "markdown",
   "metadata": {},
   "source": [
    "### Minimum salaries between industries"
   ]
  },
  {
   "cell_type": "code",
   "execution_count": 33,
   "metadata": {},
   "outputs": [
    {
     "data": {
      "text/plain": [
       "F_onewayResult(statistic=1.7879763044088637, pvalue=0.06263199715386741)"
      ]
     },
     "execution_count": 33,
     "metadata": {},
     "output_type": "execute_result"
    }
   ],
   "source": [
    "# ANOVA\n",
    "\n",
    "f_oneway (info_tec_min_salary,bus_ser_min_salary,heal_care_min_salary,education_min_salary,media_min_salary,finnace_min_salary,acc_legal_min_salary,bio_phar_min_salary,manufac_min_salary,tral_tour_min_salary,arts_min_salary,tran_logis_min_salary)"
   ]
  },
  {
   "cell_type": "code",
   "execution_count": 34,
   "metadata": {},
   "outputs": [
    {
     "name": "stdout",
     "output_type": "stream",
     "text": [
      "                           Multiple Comparison of Means - Tukey HSD, FWER=0.05                            \n",
      "==========================================================================================================\n",
      "             group1                           group2              meandiff p-adj    lower    upper  reject\n",
      "----------------------------------------------------------------------------------------------------------\n",
      "              Accounting & Legal Arts, Entertainment & Recreation      5.0    0.9  -51.5985 61.5985  False\n",
      "              Accounting & Legal        Biotech & Pharmaceuticals      8.0    0.9  -48.5985 64.5985  False\n",
      "              Accounting & Legal                Business Services   1.8462    0.9  -23.3842 27.0765  False\n",
      "              Accounting & Legal                        Education  -5.4444    0.9   -34.263 23.3741  False\n",
      "              Accounting & Legal                          Finance     19.8 0.6732  -12.8771 52.4771  False\n",
      "              Accounting & Legal                      Health Care  12.0909    0.9  -15.7762 39.9581  False\n",
      "              Accounting & Legal           Information Technology  -0.3684    0.9  -24.4668 23.7299  False\n",
      "              Accounting & Legal                    Manufacturing     31.0 0.7943  -25.5985 87.5985  False\n",
      "              Accounting & Legal                            Media    -10.2    0.9  -42.8771 22.4771  False\n",
      "              Accounting & Legal       Transportation & Logistics    -11.0    0.9  -67.5985 45.5985  False\n",
      "              Accounting & Legal                 Travel & Tourism    -11.0    0.9  -67.5985 45.5985  False\n",
      "              Accounting & Legal                              nan     14.5    0.9  -14.9548 43.9548  False\n",
      "Arts, Entertainment & Recreation        Biotech & Pharmaceuticals      3.0    0.9  -70.0683 76.0683  False\n",
      "Arts, Entertainment & Recreation                Business Services  -3.1538    0.9  -55.8052 49.4975  False\n",
      "Arts, Entertainment & Recreation                        Education -10.4444    0.9  -64.9063 44.0174  False\n",
      "Arts, Entertainment & Recreation                          Finance     14.8    0.9  -41.7985 71.3985  False\n",
      "Arts, Entertainment & Recreation                      Health Care   7.0909    0.9  -46.8736 61.0554  False\n",
      "Arts, Entertainment & Recreation           Information Technology  -5.3684    0.9  -57.4868 46.7499  False\n",
      "Arts, Entertainment & Recreation                    Manufacturing     26.0    0.9  -47.0683 99.0683  False\n",
      "Arts, Entertainment & Recreation                            Media    -15.2    0.9  -71.7985 41.3985  False\n",
      "Arts, Entertainment & Recreation       Transportation & Logistics    -16.0    0.9  -89.0683 57.0683  False\n",
      "Arts, Entertainment & Recreation                 Travel & Tourism    -16.0    0.9  -89.0683 57.0683  False\n",
      "Arts, Entertainment & Recreation                              nan      9.5    0.9  -45.3012 64.3012  False\n",
      "       Biotech & Pharmaceuticals                Business Services  -6.1538    0.9  -58.8052 46.4975  False\n",
      "       Biotech & Pharmaceuticals                        Education -13.4444    0.9  -67.9063 41.0174  False\n",
      "       Biotech & Pharmaceuticals                          Finance     11.8    0.9  -44.7985 68.3985  False\n",
      "       Biotech & Pharmaceuticals                      Health Care   4.0909    0.9  -49.8736 58.0554  False\n",
      "       Biotech & Pharmaceuticals           Information Technology  -8.3684    0.9  -60.4868 43.7499  False\n",
      "       Biotech & Pharmaceuticals                    Manufacturing     23.0    0.9  -50.0683 96.0683  False\n",
      "       Biotech & Pharmaceuticals                            Media    -18.2    0.9  -74.7985 38.3985  False\n",
      "       Biotech & Pharmaceuticals       Transportation & Logistics    -19.0    0.9  -92.0683 54.0683  False\n",
      "       Biotech & Pharmaceuticals                 Travel & Tourism    -19.0    0.9  -92.0683 54.0683  False\n",
      "       Biotech & Pharmaceuticals                              nan      6.5    0.9  -48.3012 61.3012  False\n",
      "               Business Services                        Education  -7.2906    0.9  -27.2726 12.6915  False\n",
      "               Business Services                          Finance  17.9538 0.4508   -7.2765 43.1842  False\n",
      "               Business Services                      Health Care  10.2448 0.7869   -8.3389 28.8284  False\n",
      "               Business Services           Information Technology  -2.2146    0.9  -14.4418 10.0127  False\n",
      "               Business Services                    Manufacturing  29.1538 0.7818  -23.4975 81.8052  False\n",
      "               Business Services                            Media -12.0462    0.9  -37.2765 13.1842  False\n",
      "               Business Services       Transportation & Logistics -12.8462    0.9  -65.4975 39.8052  False\n",
      "               Business Services                 Travel & Tourism -12.8462    0.9  -65.4975 39.8052  False\n",
      "               Business Services                              nan  12.6538 0.6735   -8.2354  33.543  False\n",
      "                       Education                          Finance  25.2444 0.1503   -3.5741  54.063  False\n",
      "                       Education                      Health Care  17.5354 0.3516   -5.6873  40.758  False\n",
      "                       Education           Information Technology    5.076    0.9  -13.4562 23.6082  False\n",
      "                       Education                    Manufacturing  36.4444 0.5416  -18.0174 90.9063  False\n",
      "                       Education                            Media  -4.7556    0.9  -33.5741  24.063  False\n",
      "                       Education       Transportation & Logistics  -5.5556    0.9  -60.0174 48.9063  False\n",
      "                       Education                 Travel & Tourism  -5.5556    0.9  -60.0174 48.9063  False\n",
      "                       Education                              nan  19.9444 0.2736   -5.1612 45.0501  False\n",
      "                         Finance                      Health Care  -7.7091    0.9  -35.5762 20.1581  False\n",
      "                         Finance           Information Technology -20.1684 0.2028  -44.2668  3.9299  False\n",
      "                         Finance                    Manufacturing     11.2    0.9  -45.3985 67.7985  False\n",
      "                         Finance                            Media    -30.0 0.1062  -62.6771  2.6771  False\n",
      "                         Finance       Transportation & Logistics    -30.8 0.8016  -87.3985 25.7985  False\n",
      "                         Finance                 Travel & Tourism    -30.8 0.8016  -87.3985 25.7985  False\n",
      "                         Finance                              nan     -5.3    0.9  -34.7548 24.1548  False\n",
      "                     Health Care           Information Technology -12.4593 0.4034  -29.4744  4.5558  False\n",
      "                     Health Care                    Manufacturing  18.9091    0.9  -35.0554 72.8736  False\n",
      "                     Health Care                            Media -22.2909 0.2636  -50.1581  5.5762  False\n",
      "                     Health Care       Transportation & Logistics -23.0909    0.9  -77.0554 30.8736  False\n",
      "                     Health Care                 Travel & Tourism -23.0909    0.9  -77.0554 30.8736  False\n",
      "                     Health Care                              nan   2.4091    0.9  -21.5985 26.4167  False\n",
      "          Information Technology                    Manufacturing  31.3684 0.6816  -20.7499 83.4868  False\n",
      "          Information Technology                            Media  -9.8316    0.9  -33.9299 14.2668  False\n",
      "          Information Technology       Transportation & Logistics -10.6316    0.9  -62.7499 41.4868  False\n",
      "          Information Technology                 Travel & Tourism -10.6316    0.9  -62.7499 41.4868  False\n",
      "          Information Technology                              nan  14.8684 0.3361   -4.6385 34.3753  False\n",
      "                   Manufacturing                            Media    -41.2 0.4133  -97.7985 15.3985  False\n",
      "                   Manufacturing       Transportation & Logistics    -42.0 0.7379 -115.0683 31.0683  False\n",
      "                   Manufacturing                 Travel & Tourism    -42.0 0.7379 -115.0683 31.0683  False\n",
      "                   Manufacturing                              nan    -16.5    0.9  -71.3012 38.3012  False\n",
      "                           Media       Transportation & Logistics     -0.8    0.9  -57.3985 55.7985  False\n",
      "                           Media                 Travel & Tourism     -0.8    0.9  -57.3985 55.7985  False\n",
      "                           Media                              nan     24.7 0.2003   -4.7548 54.1548  False\n",
      "      Transportation & Logistics                 Travel & Tourism      0.0    0.9  -73.0683 73.0683  False\n",
      "      Transportation & Logistics                              nan     25.5    0.9  -29.3012 80.3012  False\n",
      "                Travel & Tourism                              nan     25.5    0.9  -29.3012 80.3012  False\n",
      "----------------------------------------------------------------------------------------------------------\n"
     ]
    }
   ],
   "source": [
    "# Tukeyhsd()\n",
    "\n",
    "mc_sector = MultiComparison(industries['Min Salary'],industries['Sector'])\n",
    "sector_min = mc_sector.tukeyhsd()\n",
    "print(sector_min)"
   ]
  },
  {
   "cell_type": "markdown",
   "metadata": {},
   "source": [
    "### Maximum salaries between industries"
   ]
  },
  {
   "cell_type": "code",
   "execution_count": 35,
   "metadata": {},
   "outputs": [
    {
     "data": {
      "text/plain": [
       "F_onewayResult(statistic=5.449787753125887, pvalue=4.649650417964107e-07)"
      ]
     },
     "execution_count": 35,
     "metadata": {},
     "output_type": "execute_result"
    }
   ],
   "source": [
    "# Anova\n",
    "\n",
    "f_oneway (info_tec_max_salary,bus_ser_max_salary,heal_care_max_salary,education_max_salary,media_min_salary,finnace_max_salary,acc_legal_max_salary,bio_phar_max_salary,manufac_max_salary,tral_tour_max_salary,arts_max_salary,tran_logis_max_salary)"
   ]
  },
  {
   "cell_type": "code",
   "execution_count": null,
   "metadata": {},
   "outputs": [],
   "source": [
    "0.00000004649650417964107"
   ]
  },
  {
   "cell_type": "code",
   "execution_count": 45,
   "metadata": {
    "scrolled": false
   },
   "outputs": [
    {
     "name": "stdout",
     "output_type": "stream",
     "text": [
      "                            Multiple Comparison of Means - Tukey HSD, FWER=0.05                            \n",
      "===========================================================================================================\n",
      "             group1                           group2              meandiff p-adj    lower    upper   reject\n",
      "-----------------------------------------------------------------------------------------------------------\n",
      "              Accounting & Legal Arts, Entertainment & Recreation     18.0    0.9  -77.4193 113.4193  False\n",
      "              Accounting & Legal        Biotech & Pharmaceuticals     13.0    0.9  -82.4193 108.4193  False\n",
      "              Accounting & Legal                Business Services   5.8846    0.9  -36.6512  48.4204  False\n",
      "              Accounting & Legal                        Education   5.3333    0.9  -43.2518  53.9185  False\n",
      "              Accounting & Legal                          Finance     46.4 0.1949   -8.6903 101.4903  False\n",
      "              Accounting & Legal                      Health Care  23.6364 0.8871  -23.3448  70.6176  False\n",
      "              Accounting & Legal           Information Technology   5.4912    0.9  -35.1362  46.1186  False\n",
      "              Accounting & Legal                    Manufacturing     69.0 0.4244  -26.4193 164.4193  False\n",
      "              Accounting & Legal                            Media    -13.2    0.9  -68.2903  41.8903  False\n",
      "              Accounting & Legal       Transportation & Logistics     -5.0    0.9 -100.4193  90.4193  False\n",
      "              Accounting & Legal                 Travel & Tourism    -42.0    0.9 -137.4193  53.4193  False\n",
      "              Accounting & Legal                              nan   11.625    0.9  -38.0328  61.2828  False\n",
      "Arts, Entertainment & Recreation        Biotech & Pharmaceuticals     -5.0    0.9 -128.1858 118.1858  False\n",
      "Arts, Entertainment & Recreation                Business Services -12.1154    0.9 -100.8802  76.6494  False\n",
      "Arts, Entertainment & Recreation                        Education -12.6667    0.9 -104.4839  79.1506  False\n",
      "Arts, Entertainment & Recreation                          Finance     28.4    0.9  -67.0193 123.8193  False\n",
      "Arts, Entertainment & Recreation                      Health Care   5.6364    0.9  -85.3423  96.6151  False\n",
      "Arts, Entertainment & Recreation           Information Technology -12.5088    0.9  -100.375  75.3575  False\n",
      "Arts, Entertainment & Recreation                    Manufacturing     51.0    0.9  -72.1858 174.1858  False\n",
      "Arts, Entertainment & Recreation                            Media    -31.2    0.9 -126.6193  64.2193  False\n",
      "Arts, Entertainment & Recreation       Transportation & Logistics    -23.0    0.9 -146.1858 100.1858  False\n",
      "Arts, Entertainment & Recreation                 Travel & Tourism    -60.0    0.9 -183.1858  63.1858  False\n",
      "Arts, Entertainment & Recreation                              nan   -6.375    0.9  -98.7643  86.0143  False\n",
      "       Biotech & Pharmaceuticals                Business Services  -7.1154    0.9  -95.8802  81.6494  False\n",
      "       Biotech & Pharmaceuticals                        Education  -7.6667    0.9  -99.4839  84.1506  False\n",
      "       Biotech & Pharmaceuticals                          Finance     33.4    0.9  -62.0193 128.8193  False\n",
      "       Biotech & Pharmaceuticals                      Health Care  10.6364    0.9  -80.3423 101.6151  False\n",
      "       Biotech & Pharmaceuticals           Information Technology  -7.5088    0.9   -95.375  80.3575  False\n",
      "       Biotech & Pharmaceuticals                    Manufacturing     56.0    0.9  -67.1858 179.1858  False\n",
      "       Biotech & Pharmaceuticals                            Media    -26.2    0.9 -121.6193  69.2193  False\n",
      "       Biotech & Pharmaceuticals       Transportation & Logistics    -18.0    0.9 -141.1858 105.1858  False\n",
      "       Biotech & Pharmaceuticals                 Travel & Tourism    -55.0    0.9 -178.1858  68.1858  False\n",
      "       Biotech & Pharmaceuticals                              nan   -1.375    0.9  -93.7643  91.0143  False\n",
      "               Business Services                        Education  -0.5513    0.9   -34.239  33.1364  False\n",
      "               Business Services                          Finance  40.5154 0.0786   -2.0204  83.0512  False\n",
      "               Business Services                      Health Care  17.7517  0.755  -13.5785   49.082  False\n",
      "               Business Services           Information Technology  -0.3934    0.9  -21.0073  20.2205  False\n",
      "               Business Services                    Manufacturing  63.1154 0.4521  -25.6494 151.8802  False\n",
      "               Business Services                            Media -19.0846    0.9  -61.6204  23.4512  False\n",
      "               Business Services       Transportation & Logistics -10.8846    0.9  -99.6494  77.8802  False\n",
      "               Business Services                 Travel & Tourism -47.8846 0.8115 -136.6494  40.8802  False\n",
      "               Business Services                              nan   5.7404    0.9  -29.4767  40.9575  False\n",
      "                       Education                          Finance  41.0667 0.1905   -7.5185  89.6518  False\n",
      "                       Education                      Health Care   18.303    0.9   -20.848   57.454  False\n",
      "                       Education           Information Technology   0.1579    0.9  -31.0855  31.4013  False\n",
      "                       Education                    Manufacturing  63.6667  0.491  -28.1506 155.4839  False\n",
      "                       Education                            Media -18.5333    0.9  -67.1185  30.0518  False\n",
      "                       Education       Transportation & Logistics -10.3333    0.9 -102.1506  81.4839  False\n",
      "                       Education                 Travel & Tourism -47.3333 0.8613 -139.1506  44.4839  False\n",
      "                       Education                              nan   6.2917    0.9   -36.034  48.6173  False\n",
      "                         Finance                      Health Care -22.7636    0.9  -69.7448  24.2176  False\n",
      "                         Finance           Information Technology -40.9088 0.0468  -81.5362  -0.2814   True\n",
      "                         Finance                    Manufacturing     22.6    0.9  -72.8193 118.0193  False\n",
      "                         Finance                            Media    -59.6 0.0217 -114.6903  -4.5097   True\n",
      "                         Finance       Transportation & Logistics    -51.4 0.8131 -146.8193  44.0193  False\n",
      "                         Finance                 Travel & Tourism    -88.4 0.0985 -183.8193   7.0193  False\n",
      "                         Finance                              nan  -34.775  0.476  -84.4328  14.8828  False\n",
      "                     Health Care           Information Technology -18.1451 0.6178  -46.8309  10.5406  False\n",
      "                     Health Care                    Manufacturing  45.3636 0.8964  -45.6151 136.3423  False\n",
      "                     Health Care                            Media -36.8364  0.293  -83.8176  10.1448  False\n",
      "                     Health Care       Transportation & Logistics -28.6364    0.9 -119.6151  62.3423  False\n",
      "                     Health Care                 Travel & Tourism -65.6364 0.4283 -156.6151  25.3423  False\n",
      "                     Health Care                              nan -12.0114    0.9  -52.4858  28.4631  False\n",
      "          Information Technology                    Manufacturing  63.5088 0.4252  -24.3575  151.375  False\n",
      "          Information Technology                            Media -18.6912    0.9  -59.3186  21.9362  False\n",
      "          Information Technology       Transportation & Logistics -10.4912    0.9  -98.3575   77.375  False\n",
      "          Information Technology                 Travel & Tourism -47.4912 0.8093 -135.3575   40.375  False\n",
      "          Information Technology                              nan   6.1338    0.9  -26.7529  39.0204  False\n",
      "                   Manufacturing                            Media    -82.2 0.1688 -177.6193  13.2193  False\n",
      "                   Manufacturing       Transportation & Logistics    -74.0  0.684 -197.1858  49.1858  False\n",
      "                   Manufacturing                 Travel & Tourism   -111.0  0.123 -234.1858  12.1858  False\n",
      "                   Manufacturing                              nan  -57.375 0.6418 -149.7643  35.0143  False\n",
      "                           Media       Transportation & Logistics      8.2    0.9  -87.2193 103.6193  False\n",
      "                           Media                 Travel & Tourism    -28.8    0.9 -124.2193  66.6193  False\n",
      "                           Media                              nan   24.825 0.8937  -24.8328  74.4828  False\n",
      "      Transportation & Logistics                 Travel & Tourism    -37.0    0.9 -160.1858  86.1858  False\n",
      "      Transportation & Logistics                              nan   16.625    0.9  -75.7643 109.0143  False\n",
      "                Travel & Tourism                              nan   53.625 0.7262  -38.7643 146.0143  False\n",
      "-----------------------------------------------------------------------------------------------------------\n"
     ]
    }
   ],
   "source": [
    "from statsmodels.stats.multicomp import pairwise_tukeyhsd\n",
    "print(pairwise_tukeyhsd(industries['Max Salary'],industries['Sector']))"
   ]
  },
  {
   "cell_type": "code",
   "execution_count": 46,
   "metadata": {},
   "outputs": [
    {
     "data": {
      "text/plain": [
       "Sector\n",
       "Accounting & Legal                   5\n",
       "Arts, Entertainment & Recreation     1\n",
       "Biotech & Pharmaceuticals            1\n",
       "Business Services                   26\n",
       "Education                            9\n",
       "Finance                              5\n",
       "Health Care                         11\n",
       "Information Technology              57\n",
       "Manufacturing                        1\n",
       "Media                                5\n",
       "Transportation & Logistics           1\n",
       "Travel & Tourism                     1\n",
       "nan                                  8\n",
       "Name: Max Salary, dtype: int64"
      ]
     },
     "execution_count": 46,
     "metadata": {},
     "output_type": "execute_result"
    }
   ],
   "source": [
    "industries.groupby('Sector').count()[\"Max Salary\"]"
   ]
  },
  {
   "cell_type": "code",
   "execution_count": 36,
   "metadata": {
    "scrolled": false
   },
   "outputs": [
    {
     "name": "stdout",
     "output_type": "stream",
     "text": [
      "                            Multiple Comparison of Means - Tukey HSD, FWER=0.05                            \n",
      "===========================================================================================================\n",
      "             group1                           group2              meandiff p-adj    lower    upper   reject\n",
      "-----------------------------------------------------------------------------------------------------------\n",
      "              Accounting & Legal Arts, Entertainment & Recreation     18.0    0.9  -77.4193 113.4193  False\n",
      "              Accounting & Legal        Biotech & Pharmaceuticals     13.0    0.9  -82.4193 108.4193  False\n",
      "              Accounting & Legal                Business Services   5.8846    0.9  -36.6512  48.4204  False\n",
      "              Accounting & Legal                        Education   5.3333    0.9  -43.2518  53.9185  False\n",
      "              Accounting & Legal                          Finance     46.4 0.1949   -8.6903 101.4903  False\n",
      "              Accounting & Legal                      Health Care  23.6364 0.8871  -23.3448  70.6176  False\n",
      "              Accounting & Legal           Information Technology   5.4912    0.9  -35.1362  46.1186  False\n",
      "              Accounting & Legal                    Manufacturing     69.0 0.4244  -26.4193 164.4193  False\n",
      "              Accounting & Legal                            Media    -13.2    0.9  -68.2903  41.8903  False\n",
      "              Accounting & Legal       Transportation & Logistics     -5.0    0.9 -100.4193  90.4193  False\n",
      "              Accounting & Legal                 Travel & Tourism    -42.0    0.9 -137.4193  53.4193  False\n",
      "              Accounting & Legal                              nan   11.625    0.9  -38.0328  61.2828  False\n",
      "Arts, Entertainment & Recreation        Biotech & Pharmaceuticals     -5.0    0.9 -128.1858 118.1858  False\n",
      "Arts, Entertainment & Recreation                Business Services -12.1154    0.9 -100.8802  76.6494  False\n",
      "Arts, Entertainment & Recreation                        Education -12.6667    0.9 -104.4839  79.1506  False\n",
      "Arts, Entertainment & Recreation                          Finance     28.4    0.9  -67.0193 123.8193  False\n",
      "Arts, Entertainment & Recreation                      Health Care   5.6364    0.9  -85.3423  96.6151  False\n",
      "Arts, Entertainment & Recreation           Information Technology -12.5088    0.9  -100.375  75.3575  False\n",
      "Arts, Entertainment & Recreation                    Manufacturing     51.0    0.9  -72.1858 174.1858  False\n",
      "Arts, Entertainment & Recreation                            Media    -31.2    0.9 -126.6193  64.2193  False\n",
      "Arts, Entertainment & Recreation       Transportation & Logistics    -23.0    0.9 -146.1858 100.1858  False\n",
      "Arts, Entertainment & Recreation                 Travel & Tourism    -60.0    0.9 -183.1858  63.1858  False\n",
      "Arts, Entertainment & Recreation                              nan   -6.375    0.9  -98.7643  86.0143  False\n",
      "       Biotech & Pharmaceuticals                Business Services  -7.1154    0.9  -95.8802  81.6494  False\n",
      "       Biotech & Pharmaceuticals                        Education  -7.6667    0.9  -99.4839  84.1506  False\n",
      "       Biotech & Pharmaceuticals                          Finance     33.4    0.9  -62.0193 128.8193  False\n",
      "       Biotech & Pharmaceuticals                      Health Care  10.6364    0.9  -80.3423 101.6151  False\n",
      "       Biotech & Pharmaceuticals           Information Technology  -7.5088    0.9   -95.375  80.3575  False\n",
      "       Biotech & Pharmaceuticals                    Manufacturing     56.0    0.9  -67.1858 179.1858  False\n",
      "       Biotech & Pharmaceuticals                            Media    -26.2    0.9 -121.6193  69.2193  False\n",
      "       Biotech & Pharmaceuticals       Transportation & Logistics    -18.0    0.9 -141.1858 105.1858  False\n",
      "       Biotech & Pharmaceuticals                 Travel & Tourism    -55.0    0.9 -178.1858  68.1858  False\n",
      "       Biotech & Pharmaceuticals                              nan   -1.375    0.9  -93.7643  91.0143  False\n",
      "               Business Services                        Education  -0.5513    0.9   -34.239  33.1364  False\n",
      "               Business Services                          Finance  40.5154 0.0786   -2.0204  83.0512  False\n",
      "               Business Services                      Health Care  17.7517  0.755  -13.5785   49.082  False\n",
      "               Business Services           Information Technology  -0.3934    0.9  -21.0073  20.2205  False\n",
      "               Business Services                    Manufacturing  63.1154 0.4521  -25.6494 151.8802  False\n",
      "               Business Services                            Media -19.0846    0.9  -61.6204  23.4512  False\n",
      "               Business Services       Transportation & Logistics -10.8846    0.9  -99.6494  77.8802  False\n",
      "               Business Services                 Travel & Tourism -47.8846 0.8115 -136.6494  40.8802  False\n",
      "               Business Services                              nan   5.7404    0.9  -29.4767  40.9575  False\n",
      "                       Education                          Finance  41.0667 0.1905   -7.5185  89.6518  False\n",
      "                       Education                      Health Care   18.303    0.9   -20.848   57.454  False\n",
      "                       Education           Information Technology   0.1579    0.9  -31.0855  31.4013  False\n",
      "                       Education                    Manufacturing  63.6667  0.491  -28.1506 155.4839  False\n",
      "                       Education                            Media -18.5333    0.9  -67.1185  30.0518  False\n",
      "                       Education       Transportation & Logistics -10.3333    0.9 -102.1506  81.4839  False\n",
      "                       Education                 Travel & Tourism -47.3333 0.8613 -139.1506  44.4839  False\n",
      "                       Education                              nan   6.2917    0.9   -36.034  48.6173  False\n",
      "                         Finance                      Health Care -22.7636    0.9  -69.7448  24.2176  False\n",
      "                         Finance           Information Technology -40.9088 0.0468  -81.5362  -0.2814   True\n",
      "                         Finance                    Manufacturing     22.6    0.9  -72.8193 118.0193  False\n",
      "                         Finance                            Media    -59.6 0.0217 -114.6903  -4.5097   True\n",
      "                         Finance       Transportation & Logistics    -51.4 0.8131 -146.8193  44.0193  False\n",
      "                         Finance                 Travel & Tourism    -88.4 0.0985 -183.8193   7.0193  False\n",
      "                         Finance                              nan  -34.775  0.476  -84.4328  14.8828  False\n",
      "                     Health Care           Information Technology -18.1451 0.6178  -46.8309  10.5406  False\n",
      "                     Health Care                    Manufacturing  45.3636 0.8964  -45.6151 136.3423  False\n",
      "                     Health Care                            Media -36.8364  0.293  -83.8176  10.1448  False\n",
      "                     Health Care       Transportation & Logistics -28.6364    0.9 -119.6151  62.3423  False\n",
      "                     Health Care                 Travel & Tourism -65.6364 0.4283 -156.6151  25.3423  False\n",
      "                     Health Care                              nan -12.0114    0.9  -52.4858  28.4631  False\n",
      "          Information Technology                    Manufacturing  63.5088 0.4252  -24.3575  151.375  False\n",
      "          Information Technology                            Media -18.6912    0.9  -59.3186  21.9362  False\n",
      "          Information Technology       Transportation & Logistics -10.4912    0.9  -98.3575   77.375  False\n",
      "          Information Technology                 Travel & Tourism -47.4912 0.8093 -135.3575   40.375  False\n",
      "          Information Technology                              nan   6.1338    0.9  -26.7529  39.0204  False\n",
      "                   Manufacturing                            Media    -82.2 0.1688 -177.6193  13.2193  False\n",
      "                   Manufacturing       Transportation & Logistics    -74.0  0.684 -197.1858  49.1858  False\n",
      "                   Manufacturing                 Travel & Tourism   -111.0  0.123 -234.1858  12.1858  False\n",
      "                   Manufacturing                              nan  -57.375 0.6418 -149.7643  35.0143  False\n",
      "                           Media       Transportation & Logistics      8.2    0.9  -87.2193 103.6193  False\n",
      "                           Media                 Travel & Tourism    -28.8    0.9 -124.2193  66.6193  False\n",
      "                           Media                              nan   24.825 0.8937  -24.8328  74.4828  False\n",
      "      Transportation & Logistics                 Travel & Tourism    -37.0    0.9 -160.1858  86.1858  False\n",
      "      Transportation & Logistics                              nan   16.625    0.9  -75.7643 109.0143  False\n",
      "                Travel & Tourism                              nan   53.625 0.7262  -38.7643 146.0143  False\n",
      "-----------------------------------------------------------------------------------------------------------\n"
     ]
    }
   ],
   "source": [
    "# Tukeyhsd()\n",
    "\n",
    "mc_sector = MultiComparison(industries['Max Salary'],industries['Sector'])\n",
    "sector_max = mc_sector.tukeyhsd()\n",
    "print(sector_max)"
   ]
  },
  {
   "cell_type": "markdown",
   "metadata": {},
   "source": [
    "### Is rating higher in \"easy apply\" jobs?\n"
   ]
  },
  {
   "cell_type": "code",
   "execution_count": 37,
   "metadata": {},
   "outputs": [
    {
     "data": {
      "text/html": [
       "<div>\n",
       "<style scoped>\n",
       "    .dataframe tbody tr th:only-of-type {\n",
       "        vertical-align: middle;\n",
       "    }\n",
       "\n",
       "    .dataframe tbody tr th {\n",
       "        vertical-align: top;\n",
       "    }\n",
       "\n",
       "    .dataframe thead th {\n",
       "        text-align: right;\n",
       "    }\n",
       "</style>\n",
       "<table border=\"1\" class=\"dataframe\">\n",
       "  <thead>\n",
       "    <tr style=\"text-align: right;\">\n",
       "      <th></th>\n",
       "      <th>Rating</th>\n",
       "      <th>Easy Apply</th>\n",
       "    </tr>\n",
       "  </thead>\n",
       "  <tbody>\n",
       "    <tr>\n",
       "      <th>0</th>\n",
       "      <td>5.0</td>\n",
       "      <td>False</td>\n",
       "    </tr>\n",
       "    <tr>\n",
       "      <th>1</th>\n",
       "      <td>4.0</td>\n",
       "      <td>False</td>\n",
       "    </tr>\n",
       "    <tr>\n",
       "      <th>2</th>\n",
       "      <td>4.3</td>\n",
       "      <td>False</td>\n",
       "    </tr>\n",
       "    <tr>\n",
       "      <th>3</th>\n",
       "      <td>4.1</td>\n",
       "      <td>False</td>\n",
       "    </tr>\n",
       "    <tr>\n",
       "      <th>4</th>\n",
       "      <td>4.2</td>\n",
       "      <td>False</td>\n",
       "    </tr>\n",
       "    <tr>\n",
       "      <th>...</th>\n",
       "      <td>...</td>\n",
       "      <td>...</td>\n",
       "    </tr>\n",
       "    <tr>\n",
       "      <th>126</th>\n",
       "      <td>5.0</td>\n",
       "      <td>False</td>\n",
       "    </tr>\n",
       "    <tr>\n",
       "      <th>127</th>\n",
       "      <td>4.3</td>\n",
       "      <td>True</td>\n",
       "    </tr>\n",
       "    <tr>\n",
       "      <th>128</th>\n",
       "      <td>4.1</td>\n",
       "      <td>False</td>\n",
       "    </tr>\n",
       "    <tr>\n",
       "      <th>129</th>\n",
       "      <td>5.0</td>\n",
       "      <td>False</td>\n",
       "    </tr>\n",
       "    <tr>\n",
       "      <th>130</th>\n",
       "      <td>4.3</td>\n",
       "      <td>True</td>\n",
       "    </tr>\n",
       "  </tbody>\n",
       "</table>\n",
       "<p>131 rows × 2 columns</p>\n",
       "</div>"
      ],
      "text/plain": [
       "     Rating  Easy Apply\n",
       "0       5.0       False\n",
       "1       4.0       False\n",
       "2       4.3       False\n",
       "3       4.1       False\n",
       "4       4.2       False\n",
       "..      ...         ...\n",
       "126     5.0       False\n",
       "127     4.3        True\n",
       "128     4.1       False\n",
       "129     5.0       False\n",
       "130     4.3        True\n",
       "\n",
       "[131 rows x 2 columns]"
      ]
     },
     "execution_count": 37,
     "metadata": {},
     "output_type": "execute_result"
    }
   ],
   "source": [
    "rating = good_jobs[['Rating','Easy Apply']]\n",
    "\n",
    "rating"
   ]
  },
  {
   "cell_type": "code",
   "execution_count": 38,
   "metadata": {},
   "outputs": [
    {
     "data": {
      "text/html": [
       "<div>\n",
       "<style scoped>\n",
       "    .dataframe tbody tr th:only-of-type {\n",
       "        vertical-align: middle;\n",
       "    }\n",
       "\n",
       "    .dataframe tbody tr th {\n",
       "        vertical-align: top;\n",
       "    }\n",
       "\n",
       "    .dataframe thead th {\n",
       "        text-align: right;\n",
       "    }\n",
       "</style>\n",
       "<table border=\"1\" class=\"dataframe\">\n",
       "  <thead>\n",
       "    <tr style=\"text-align: right;\">\n",
       "      <th></th>\n",
       "      <th>Rating</th>\n",
       "      <th>Easy Apply</th>\n",
       "    </tr>\n",
       "  </thead>\n",
       "  <tbody>\n",
       "    <tr>\n",
       "      <th>76</th>\n",
       "      <td>4.1</td>\n",
       "      <td>True</td>\n",
       "    </tr>\n",
       "    <tr>\n",
       "      <th>83</th>\n",
       "      <td>4.5</td>\n",
       "      <td>True</td>\n",
       "    </tr>\n",
       "    <tr>\n",
       "      <th>85</th>\n",
       "      <td>4.0</td>\n",
       "      <td>True</td>\n",
       "    </tr>\n",
       "    <tr>\n",
       "      <th>98</th>\n",
       "      <td>4.1</td>\n",
       "      <td>True</td>\n",
       "    </tr>\n",
       "    <tr>\n",
       "      <th>99</th>\n",
       "      <td>4.8</td>\n",
       "      <td>True</td>\n",
       "    </tr>\n",
       "    <tr>\n",
       "      <th>100</th>\n",
       "      <td>4.1</td>\n",
       "      <td>True</td>\n",
       "    </tr>\n",
       "    <tr>\n",
       "      <th>117</th>\n",
       "      <td>4.0</td>\n",
       "      <td>True</td>\n",
       "    </tr>\n",
       "    <tr>\n",
       "      <th>127</th>\n",
       "      <td>4.3</td>\n",
       "      <td>True</td>\n",
       "    </tr>\n",
       "    <tr>\n",
       "      <th>130</th>\n",
       "      <td>4.3</td>\n",
       "      <td>True</td>\n",
       "    </tr>\n",
       "  </tbody>\n",
       "</table>\n",
       "</div>"
      ],
      "text/plain": [
       "     Rating  Easy Apply\n",
       "76      4.1        True\n",
       "83      4.5        True\n",
       "85      4.0        True\n",
       "98      4.1        True\n",
       "99      4.8        True\n",
       "100     4.1        True\n",
       "117     4.0        True\n",
       "127     4.3        True\n",
       "130     4.3        True"
      ]
     },
     "execution_count": 38,
     "metadata": {},
     "output_type": "execute_result"
    }
   ],
   "source": [
    "easy = rating[rating['Easy Apply']==True]\n",
    "\n",
    "easy"
   ]
  },
  {
   "cell_type": "code",
   "execution_count": 39,
   "metadata": {},
   "outputs": [
    {
     "data": {
      "text/html": [
       "<div>\n",
       "<style scoped>\n",
       "    .dataframe tbody tr th:only-of-type {\n",
       "        vertical-align: middle;\n",
       "    }\n",
       "\n",
       "    .dataframe tbody tr th {\n",
       "        vertical-align: top;\n",
       "    }\n",
       "\n",
       "    .dataframe thead th {\n",
       "        text-align: right;\n",
       "    }\n",
       "</style>\n",
       "<table border=\"1\" class=\"dataframe\">\n",
       "  <thead>\n",
       "    <tr style=\"text-align: right;\">\n",
       "      <th></th>\n",
       "      <th>Rating</th>\n",
       "      <th>Easy Apply</th>\n",
       "    </tr>\n",
       "  </thead>\n",
       "  <tbody>\n",
       "    <tr>\n",
       "      <th>0</th>\n",
       "      <td>5.0</td>\n",
       "      <td>False</td>\n",
       "    </tr>\n",
       "    <tr>\n",
       "      <th>1</th>\n",
       "      <td>4.0</td>\n",
       "      <td>False</td>\n",
       "    </tr>\n",
       "    <tr>\n",
       "      <th>2</th>\n",
       "      <td>4.3</td>\n",
       "      <td>False</td>\n",
       "    </tr>\n",
       "    <tr>\n",
       "      <th>3</th>\n",
       "      <td>4.1</td>\n",
       "      <td>False</td>\n",
       "    </tr>\n",
       "    <tr>\n",
       "      <th>4</th>\n",
       "      <td>4.2</td>\n",
       "      <td>False</td>\n",
       "    </tr>\n",
       "    <tr>\n",
       "      <th>...</th>\n",
       "      <td>...</td>\n",
       "      <td>...</td>\n",
       "    </tr>\n",
       "    <tr>\n",
       "      <th>124</th>\n",
       "      <td>4.2</td>\n",
       "      <td>False</td>\n",
       "    </tr>\n",
       "    <tr>\n",
       "      <th>125</th>\n",
       "      <td>4.1</td>\n",
       "      <td>False</td>\n",
       "    </tr>\n",
       "    <tr>\n",
       "      <th>126</th>\n",
       "      <td>5.0</td>\n",
       "      <td>False</td>\n",
       "    </tr>\n",
       "    <tr>\n",
       "      <th>128</th>\n",
       "      <td>4.1</td>\n",
       "      <td>False</td>\n",
       "    </tr>\n",
       "    <tr>\n",
       "      <th>129</th>\n",
       "      <td>5.0</td>\n",
       "      <td>False</td>\n",
       "    </tr>\n",
       "  </tbody>\n",
       "</table>\n",
       "<p>122 rows × 2 columns</p>\n",
       "</div>"
      ],
      "text/plain": [
       "     Rating  Easy Apply\n",
       "0       5.0       False\n",
       "1       4.0       False\n",
       "2       4.3       False\n",
       "3       4.1       False\n",
       "4       4.2       False\n",
       "..      ...         ...\n",
       "124     4.2       False\n",
       "125     4.1       False\n",
       "126     5.0       False\n",
       "128     4.1       False\n",
       "129     5.0       False\n",
       "\n",
       "[122 rows x 2 columns]"
      ]
     },
     "execution_count": 39,
     "metadata": {},
     "output_type": "execute_result"
    }
   ],
   "source": [
    "noteasy = rating[rating['Easy Apply']==False]\n",
    "noteasy"
   ]
  },
  {
   "cell_type": "code",
   "execution_count": 42,
   "metadata": {},
   "outputs": [],
   "source": [
    "import scipy.stats as st"
   ]
  },
  {
   "cell_type": "code",
   "execution_count": 41,
   "metadata": {},
   "outputs": [
    {
     "data": {
      "text/plain": [
       "Ttest_indResult(statistic=1.6114885744395542, pvalue=0.10951733735866148)"
      ]
     },
     "execution_count": 41,
     "metadata": {},
     "output_type": "execute_result"
    }
   ],
   "source": [
    "def t_test (samp1, samp2):\n",
    "    \n",
    "    t_test = st.ttest_ind (a=samp1 ,b=samp2)\n",
    "    return t_test\n",
    "\n",
    "t_test(noteasy[\"Rating\"], easy[\"Rating\"])"
   ]
  },
  {
   "cell_type": "code",
   "execution_count": null,
   "metadata": {},
   "outputs": [],
   "source": []
  }
 ],
 "metadata": {
  "kernelspec": {
   "display_name": "Python 3",
   "language": "python",
   "name": "python3"
  },
  "language_info": {
   "codemirror_mode": {
    "name": "ipython",
    "version": 3
   },
   "file_extension": ".py",
   "mimetype": "text/x-python",
   "name": "python",
   "nbconvert_exporter": "python",
   "pygments_lexer": "ipython3",
   "version": "3.7.6"
  },
  "toc": {
   "base_numbering": 1,
   "nav_menu": {},
   "number_sections": true,
   "sideBar": true,
   "skip_h1_title": false,
   "title_cell": "Table of Contents",
   "title_sidebar": "Contents",
   "toc_cell": false,
   "toc_position": {
    "height": "calc(100% - 180px)",
    "left": "10px",
    "top": "150px",
    "width": "261.804px"
   },
   "toc_section_display": true,
   "toc_window_display": false
  }
 },
 "nbformat": 4,
 "nbformat_minor": 4
}
