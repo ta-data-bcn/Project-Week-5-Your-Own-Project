{
 "cells": [
  {
   "cell_type": "markdown",
   "metadata": {},
   "source": [
    "# Spanish Electricity Market Analysis"
   ]
  },
  {
   "cell_type": "code",
   "execution_count": null,
   "metadata": {},
   "outputs": [],
   "source": []
  },
  {
   "cell_type": "markdown",
   "metadata": {},
   "source": [
    "## 1. Dataset import and data cleaning"
   ]
  },
  {
   "cell_type": "markdown",
   "metadata": {},
   "source": [
    "### 1.1. Libraries import"
   ]
  },
  {
   "cell_type": "code",
   "execution_count": 37,
   "metadata": {},
   "outputs": [],
   "source": [
    "import pandas as pd\n",
    "import seaborn as sns\n",
    "import os\n",
    "import matplotlib as mpl\n",
    "import matplotlib.pyplot as plt\n",
    "from sqlalchemy import create_engine\n",
    "\n",
    "sns.set()"
   ]
  },
  {
   "cell_type": "markdown",
   "metadata": {},
   "source": [
    "### 1.2. Reading .csv file for REE Spanish Electricity Market Data"
   ]
  },
  {
   "cell_type": "markdown",
   "metadata": {},
   "source": []
  },
  {
   "cell_type": "code",
   "execution_count": 2,
   "metadata": {},
   "outputs": [
    {
     "data": {
      "text/plain": [
       "'/home/ingrid/Documents/DA_Ironhack/Week5/Project-Week-5-Your-Own-Project/your-project'"
      ]
     },
     "execution_count": 2,
     "metadata": {},
     "output_type": "execute_result"
    }
   ],
   "source": [
    "os.getcwd() #we get the current working directory "
   ]
  },
  {
   "cell_type": "code",
   "execution_count": 15,
   "metadata": {},
   "outputs": [],
   "source": [
    "raw_data = pd.read_csv('datasets/spain_energy_market.csv') #reading the csv file with the aggregated data from 2014-2018. "
   ]
  },
  {
   "cell_type": "code",
   "execution_count": 16,
   "metadata": {
    "scrolled": true
   },
   "outputs": [
    {
     "data": {
      "text/html": [
       "<div>\n",
       "<style scoped>\n",
       "    .dataframe tbody tr th:only-of-type {\n",
       "        vertical-align: middle;\n",
       "    }\n",
       "\n",
       "    .dataframe tbody tr th {\n",
       "        vertical-align: top;\n",
       "    }\n",
       "\n",
       "    .dataframe thead th {\n",
       "        text-align: right;\n",
       "    }\n",
       "</style>\n",
       "<table border=\"1\" class=\"dataframe\">\n",
       "  <thead>\n",
       "    <tr style=\"text-align: right;\">\n",
       "      <th></th>\n",
       "      <th>datetime</th>\n",
       "      <th>id</th>\n",
       "      <th>name</th>\n",
       "      <th>geoid</th>\n",
       "      <th>geoname</th>\n",
       "      <th>value</th>\n",
       "    </tr>\n",
       "  </thead>\n",
       "  <tbody>\n",
       "    <tr>\n",
       "      <th>0</th>\n",
       "      <td>2014-01-01 23:00:00</td>\n",
       "      <td>600</td>\n",
       "      <td>Precio mercado SPOT Diario ESP</td>\n",
       "      <td>3.0</td>\n",
       "      <td>España</td>\n",
       "      <td>25.280833</td>\n",
       "    </tr>\n",
       "    <tr>\n",
       "      <th>1</th>\n",
       "      <td>2014-01-02 23:00:00</td>\n",
       "      <td>600</td>\n",
       "      <td>Precio mercado SPOT Diario ESP</td>\n",
       "      <td>3.0</td>\n",
       "      <td>España</td>\n",
       "      <td>39.924167</td>\n",
       "    </tr>\n",
       "    <tr>\n",
       "      <th>2</th>\n",
       "      <td>2014-01-03 23:00:00</td>\n",
       "      <td>600</td>\n",
       "      <td>Precio mercado SPOT Diario ESP</td>\n",
       "      <td>3.0</td>\n",
       "      <td>España</td>\n",
       "      <td>4.992083</td>\n",
       "    </tr>\n",
       "    <tr>\n",
       "      <th>3</th>\n",
       "      <td>2014-01-04 23:00:00</td>\n",
       "      <td>600</td>\n",
       "      <td>Precio mercado SPOT Diario ESP</td>\n",
       "      <td>3.0</td>\n",
       "      <td>España</td>\n",
       "      <td>4.091667</td>\n",
       "    </tr>\n",
       "    <tr>\n",
       "      <th>4</th>\n",
       "      <td>2014-01-05 23:00:00</td>\n",
       "      <td>600</td>\n",
       "      <td>Precio mercado SPOT Diario ESP</td>\n",
       "      <td>3.0</td>\n",
       "      <td>España</td>\n",
       "      <td>13.587500</td>\n",
       "    </tr>\n",
       "  </tbody>\n",
       "</table>\n",
       "</div>"
      ],
      "text/plain": [
       "              datetime   id                            name  geoid geoname  \\\n",
       "0  2014-01-01 23:00:00  600  Precio mercado SPOT Diario ESP    3.0  España   \n",
       "1  2014-01-02 23:00:00  600  Precio mercado SPOT Diario ESP    3.0  España   \n",
       "2  2014-01-03 23:00:00  600  Precio mercado SPOT Diario ESP    3.0  España   \n",
       "3  2014-01-04 23:00:00  600  Precio mercado SPOT Diario ESP    3.0  España   \n",
       "4  2014-01-05 23:00:00  600  Precio mercado SPOT Diario ESP    3.0  España   \n",
       "\n",
       "       value  \n",
       "0  25.280833  \n",
       "1  39.924167  \n",
       "2   4.992083  \n",
       "3   4.091667  \n",
       "4  13.587500  "
      ]
     },
     "execution_count": 16,
     "metadata": {},
     "output_type": "execute_result"
    }
   ],
   "source": [
    "raw_data.head()"
   ]
  },
  {
   "cell_type": "code",
   "execution_count": 18,
   "metadata": {},
   "outputs": [
    {
     "data": {
      "text/plain": [
       "(40212, 6)"
      ]
     },
     "execution_count": 18,
     "metadata": {},
     "output_type": "execute_result"
    }
   ],
   "source": [
    "raw_data.shape #how many rows and columns this df has "
   ]
  },
  {
   "cell_type": "code",
   "execution_count": 17,
   "metadata": {},
   "outputs": [
    {
     "data": {
      "text/plain": [
       "datetime     object\n",
       "id            int64\n",
       "name         object\n",
       "geoid       float64\n",
       "geoname      object\n",
       "value       float64\n",
       "dtype: object"
      ]
     },
     "execution_count": 17,
     "metadata": {},
     "output_type": "execute_result"
    }
   ],
   "source": [
    "raw_data.dtypes #checking the types of the dataframe. "
   ]
  },
  {
   "cell_type": "code",
   "execution_count": 6,
   "metadata": {},
   "outputs": [],
   "source": [
    "raw_data.datetime = pd.to_datetime(raw_data['datetime']) #since the column datetime is imported as an string"
   ]
  },
  {
   "cell_type": "code",
   "execution_count": 7,
   "metadata": {},
   "outputs": [
    {
     "data": {
      "text/plain": [
       "datetime    datetime64[ns]\n",
       "id                   int64\n",
       "name                object\n",
       "geoid              float64\n",
       "geoname             object\n",
       "value              float64\n",
       "dtype: object"
      ]
     },
     "execution_count": 7,
     "metadata": {},
     "output_type": "execute_result"
    }
   ],
   "source": [
    "raw_data.dtypes"
   ]
  },
  {
   "cell_type": "code",
   "execution_count": 8,
   "metadata": {
    "scrolled": true
   },
   "outputs": [
    {
     "data": {
      "text/plain": [
       "array(['Precio mercado SPOT Diario ESP', 'Precio mercado SPOT Diario FRA',\n",
       "       'Precio mercado SPOT Diario POR',\n",
       "       'Energía asignada en Mercado SPOT Diario España',\n",
       "       'Energía asignada en Mercado SPOT Diario Francia', nan,\n",
       "       'Rentas de congestión mecanismos implícitos diario Francia exportación',\n",
       "       'Rentas de congestión mecanismos implícitos diario Portugal exportación',\n",
       "       'Rentas de congestión mecanismos implícitos diario Francia importación',\n",
       "       'Rentas de congestión mecanismos implícitos diario Portugal importación',\n",
       "       'Demanda real', 'Demanda programada PBF total',\n",
       "       'Generación programada PBF total',\n",
       "       'Generación programada PBF Eólica',\n",
       "       'Generación programada PBF Ciclo combinado',\n",
       "       'Generación programada PBF Carbón',\n",
       "       'Generación programada PBF Nuclear',\n",
       "       'Generación programada PBF Gas Natural Cogeneración',\n",
       "       'Generación programada PBF UGH + no UGH',\n",
       "       'Generación programada PBF Solar fotovoltaica',\n",
       "       'Generación programada PBF Turbinación bombeo'], dtype=object)"
      ]
     },
     "execution_count": 8,
     "metadata": {},
     "output_type": "execute_result"
    }
   ],
   "source": [
    "raw_data.name.unique()"
   ]
  },
  {
   "cell_type": "markdown",
   "metadata": {},
   "source": [
    "From the names above we can see that the dataset has mixed information. In this table we can found information from different sources: \n",
    "\n",
    "- Spot or DAM Market price, for Spain, France and Portugal (Iberian Electricity market system)\n",
    "- Congestion mechanisms for imbalances based on interconnections with France and Portugal \n",
    "- Real electricity demand. \n",
    "- Scheduled program generation. (Baseline → Programa Base Funcionamiento)\n",
    "- Scheduled generation per technology. \n",
    "\n",
    "Hence, we should split the entire tables into subtables to be able to perform the data analysis based on our objectives. "
   ]
  },
  {
   "cell_type": "markdown",
   "metadata": {},
   "source": [
    "### 1.3. Total scheduled electricity demand (Per day)"
   ]
  },
  {
   "cell_type": "code",
   "execution_count": 30,
   "metadata": {},
   "outputs": [],
   "source": [
    "PBF_total_df = raw_data[raw_data.name == 'Generación programada PBF total']"
   ]
  },
  {
   "cell_type": "code",
   "execution_count": 23,
   "metadata": {},
   "outputs": [
    {
     "data": {
      "text/html": [
       "<div>\n",
       "<style scoped>\n",
       "    .dataframe tbody tr th:only-of-type {\n",
       "        vertical-align: middle;\n",
       "    }\n",
       "\n",
       "    .dataframe tbody tr th {\n",
       "        vertical-align: top;\n",
       "    }\n",
       "\n",
       "    .dataframe thead th {\n",
       "        text-align: right;\n",
       "    }\n",
       "</style>\n",
       "<table border=\"1\" class=\"dataframe\">\n",
       "  <thead>\n",
       "    <tr style=\"text-align: right;\">\n",
       "      <th></th>\n",
       "      <th>datetime</th>\n",
       "      <th>id</th>\n",
       "      <th>name</th>\n",
       "      <th>geoid</th>\n",
       "      <th>geoname</th>\n",
       "      <th>value</th>\n",
       "    </tr>\n",
       "  </thead>\n",
       "  <tbody>\n",
       "    <tr>\n",
       "      <th>23819</th>\n",
       "      <td>2014-01-01 23:00:00</td>\n",
       "      <td>10258</td>\n",
       "      <td>Generación programada PBF total</td>\n",
       "      <td>NaN</td>\n",
       "      <td>NaN</td>\n",
       "      <td>642771.8</td>\n",
       "    </tr>\n",
       "    <tr>\n",
       "      <th>23820</th>\n",
       "      <td>2014-01-02 23:00:00</td>\n",
       "      <td>10258</td>\n",
       "      <td>Generación programada PBF total</td>\n",
       "      <td>NaN</td>\n",
       "      <td>NaN</td>\n",
       "      <td>658078.5</td>\n",
       "    </tr>\n",
       "    <tr>\n",
       "      <th>23821</th>\n",
       "      <td>2014-01-03 23:00:00</td>\n",
       "      <td>10258</td>\n",
       "      <td>Generación programada PBF total</td>\n",
       "      <td>NaN</td>\n",
       "      <td>NaN</td>\n",
       "      <td>680564.6</td>\n",
       "    </tr>\n",
       "    <tr>\n",
       "      <th>23822</th>\n",
       "      <td>2014-01-04 23:00:00</td>\n",
       "      <td>10258</td>\n",
       "      <td>Generación programada PBF total</td>\n",
       "      <td>NaN</td>\n",
       "      <td>NaN</td>\n",
       "      <td>644494.7</td>\n",
       "    </tr>\n",
       "    <tr>\n",
       "      <th>23823</th>\n",
       "      <td>2014-01-05 23:00:00</td>\n",
       "      <td>10258</td>\n",
       "      <td>Generación programada PBF total</td>\n",
       "      <td>NaN</td>\n",
       "      <td>NaN</td>\n",
       "      <td>598661.4</td>\n",
       "    </tr>\n",
       "  </tbody>\n",
       "</table>\n",
       "</div>"
      ],
      "text/plain": [
       "                  datetime     id                             name  geoid  \\\n",
       "23819  2014-01-01 23:00:00  10258  Generación programada PBF total    NaN   \n",
       "23820  2014-01-02 23:00:00  10258  Generación programada PBF total    NaN   \n",
       "23821  2014-01-03 23:00:00  10258  Generación programada PBF total    NaN   \n",
       "23822  2014-01-04 23:00:00  10258  Generación programada PBF total    NaN   \n",
       "23823  2014-01-05 23:00:00  10258  Generación programada PBF total    NaN   \n",
       "\n",
       "      geoname     value  \n",
       "23819     NaN  642771.8  \n",
       "23820     NaN  658078.5  \n",
       "23821     NaN  680564.6  \n",
       "23822     NaN  644494.7  \n",
       "23823     NaN  598661.4  "
      ]
     },
     "execution_count": 23,
     "metadata": {},
     "output_type": "execute_result"
    }
   ],
   "source": [
    "PBF_total_df.head()"
   ]
  },
  {
   "cell_type": "markdown",
   "metadata": {},
   "source": [
    "From this dataframe we can see that, since we are working with the *total* scheduled electricity for Spain  on that day, there is no need for the geoid, geoname, name and id columns. Also, we will reset the index. "
   ]
  },
  {
   "cell_type": "code",
   "execution_count": 33,
   "metadata": {},
   "outputs": [],
   "source": [
    "PBF_total_df = PBF_total_df[['datetime','value']].reset_index(drop=True)"
   ]
  },
  {
   "cell_type": "code",
   "execution_count": 36,
   "metadata": {},
   "outputs": [
    {
     "data": {
      "text/html": [
       "<div>\n",
       "<style scoped>\n",
       "    .dataframe tbody tr th:only-of-type {\n",
       "        vertical-align: middle;\n",
       "    }\n",
       "\n",
       "    .dataframe tbody tr th {\n",
       "        vertical-align: top;\n",
       "    }\n",
       "\n",
       "    .dataframe thead th {\n",
       "        text-align: right;\n",
       "    }\n",
       "</style>\n",
       "<table border=\"1\" class=\"dataframe\">\n",
       "  <thead>\n",
       "    <tr style=\"text-align: right;\">\n",
       "      <th></th>\n",
       "      <th>datetime</th>\n",
       "      <th>value</th>\n",
       "    </tr>\n",
       "  </thead>\n",
       "  <tbody>\n",
       "    <tr>\n",
       "      <th>0</th>\n",
       "      <td>2014-01-01 23:00:00</td>\n",
       "      <td>642771.8</td>\n",
       "    </tr>\n",
       "    <tr>\n",
       "      <th>1</th>\n",
       "      <td>2014-01-02 23:00:00</td>\n",
       "      <td>658078.5</td>\n",
       "    </tr>\n",
       "    <tr>\n",
       "      <th>2</th>\n",
       "      <td>2014-01-03 23:00:00</td>\n",
       "      <td>680564.6</td>\n",
       "    </tr>\n",
       "    <tr>\n",
       "      <th>3</th>\n",
       "      <td>2014-01-04 23:00:00</td>\n",
       "      <td>644494.7</td>\n",
       "    </tr>\n",
       "    <tr>\n",
       "      <th>4</th>\n",
       "      <td>2014-01-05 23:00:00</td>\n",
       "      <td>598661.4</td>\n",
       "    </tr>\n",
       "  </tbody>\n",
       "</table>\n",
       "</div>"
      ],
      "text/plain": [
       "              datetime     value\n",
       "0  2014-01-01 23:00:00  642771.8\n",
       "1  2014-01-02 23:00:00  658078.5\n",
       "2  2014-01-03 23:00:00  680564.6\n",
       "3  2014-01-04 23:00:00  644494.7\n",
       "4  2014-01-05 23:00:00  598661.4"
      ]
     },
     "execution_count": 36,
     "metadata": {},
     "output_type": "execute_result"
    }
   ],
   "source": [
    "PBF_total_df.head()"
   ]
  },
  {
   "cell_type": "markdown",
   "metadata": {},
   "source": [
    "With this table we have the total energy demand scheduled for the day after it is calculated. We can export this table to SQL. "
   ]
  },
  {
   "cell_type": "code",
   "execution_count": 40,
   "metadata": {},
   "outputs": [],
   "source": [
    "# Workbench Databench \n",
    "driver = 'mysql+pymysql'\n",
    "user = 'root'\n",
    "password = 'iMc91linux'\n",
    "ip = 'localhost'\n",
    "database = 'REE_analysis'\n",
    "\n",
    "\n",
    "# connection_string to connect to Workbench Database \n",
    "connection_string = f'{driver}://{user}:{password}@{ip}/{database}'\n",
    "\n",
    "    \n",
    "# Engine creation \n",
    "engine = create_engine(connection_string)\n",
    "\n",
    "\n",
    "#uploading PBF REE data into mySQL Database \n",
    "PBF_total_df.to_sql('PBF_total', engine)"
   ]
  },
  {
   "cell_type": "markdown",
   "metadata": {},
   "source": [
    "### 1.3. importing geolocation tables"
   ]
  },
  {
   "cell_type": "code",
   "execution_count": 10,
   "metadata": {},
   "outputs": [],
   "source": [
    "geo_id = pd.read_excel('datasets/geolocalizaciones.xlsx')"
   ]
  },
  {
   "cell_type": "code",
   "execution_count": 13,
   "metadata": {},
   "outputs": [
    {
     "data": {
      "text/html": [
       "<div>\n",
       "<style scoped>\n",
       "    .dataframe tbody tr th:only-of-type {\n",
       "        vertical-align: middle;\n",
       "    }\n",
       "\n",
       "    .dataframe tbody tr th {\n",
       "        vertical-align: top;\n",
       "    }\n",
       "\n",
       "    .dataframe thead th {\n",
       "        text-align: right;\n",
       "    }\n",
       "</style>\n",
       "<table border=\"1\" class=\"dataframe\">\n",
       "  <thead>\n",
       "    <tr style=\"text-align: right;\">\n",
       "      <th></th>\n",
       "      <th>GEO_ID</th>\n",
       "      <th>NIVEL</th>\n",
       "      <th>NAME</th>\n",
       "    </tr>\n",
       "  </thead>\n",
       "  <tbody>\n",
       "    <tr>\n",
       "      <th>0</th>\n",
       "      <td>1</td>\n",
       "      <td>0</td>\n",
       "      <td>Portugal</td>\n",
       "    </tr>\n",
       "    <tr>\n",
       "      <th>1</th>\n",
       "      <td>2</td>\n",
       "      <td>0</td>\n",
       "      <td>Francia</td>\n",
       "    </tr>\n",
       "    <tr>\n",
       "      <th>2</th>\n",
       "      <td>3</td>\n",
       "      <td>0</td>\n",
       "      <td>España</td>\n",
       "    </tr>\n",
       "    <tr>\n",
       "      <th>3</th>\n",
       "      <td>8739</td>\n",
       "      <td>0</td>\n",
       "      <td>Andorra</td>\n",
       "    </tr>\n",
       "    <tr>\n",
       "      <th>4</th>\n",
       "      <td>8740</td>\n",
       "      <td>0</td>\n",
       "      <td>Marruecos</td>\n",
       "    </tr>\n",
       "  </tbody>\n",
       "</table>\n",
       "</div>"
      ],
      "text/plain": [
       "   GEO_ID  NIVEL       NAME\n",
       "0       1      0   Portugal\n",
       "1       2      0    Francia\n",
       "2       3      0     España\n",
       "3    8739      0    Andorra\n",
       "4    8740      0  Marruecos"
      ]
     },
     "execution_count": 13,
     "metadata": {},
     "output_type": "execute_result"
    }
   ],
   "source": [
    "geo_id.head()"
   ]
  },
  {
   "cell_type": "markdown",
   "metadata": {},
   "source": [
    "As we can see above, the dataset contains a geographic id that explains us which generation unit has been turned on to produce the expected electricity for the time period $t_i$. This table contains three columns that contain the following information: \n",
    "\n",
    "- *GEO_ID*: the unique indicator id for each location \n",
    "- *NIVEL*: Nivel stands for the level of each location. It is an integer that can go from 0 to 5 and it is referred to: \n",
    "    - 0: Country \n",
    "    - 1: Areas in Spain (Peninsula, Canary Islands, Melilla, Ceuta, Balearic Area, Melilla)\n",
    "    - 2: Autonomous communities \n",
    "    - 3: Provinces\n",
    "    - 4: Province capital \n",
    "    - 5: Municipalty\n",
    "    - 6: Hydrological basin\n",
    "- *NAME*: name of the specific geo_id indicator. Location\n",
    "\n",
    "with the tables we are working with, we don't have "
   ]
  },
  {
   "cell_type": "code",
   "execution_count": null,
   "metadata": {},
   "outputs": [],
   "source": []
  }
 ],
 "metadata": {
  "kernelspec": {
   "display_name": "Python 3",
   "language": "python",
   "name": "python3"
  },
  "language_info": {
   "codemirror_mode": {
    "name": "ipython",
    "version": 3
   },
   "file_extension": ".py",
   "mimetype": "text/x-python",
   "name": "python",
   "nbconvert_exporter": "python",
   "pygments_lexer": "ipython3",
   "version": "3.7.3"
  }
 },
 "nbformat": 4,
 "nbformat_minor": 2
}
