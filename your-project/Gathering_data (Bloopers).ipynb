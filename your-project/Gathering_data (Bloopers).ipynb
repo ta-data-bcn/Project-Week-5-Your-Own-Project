{
 "cells": [
  {
   "cell_type": "markdown",
   "metadata": {},
   "source": [
    "Importing libraries"
   ]
  },
  {
   "cell_type": "code",
   "execution_count": null,
   "metadata": {},
   "outputs": [],
   "source": [
    "#here we import the needed libraries\n",
    "import pandas as pd\n",
    "import numpy as np\n",
    "import matplotlib.pyplot as plt\n",
    "import seaborn as sns\n",
    "import datapackage\n",
    "import re"
   ]
  },
  {
   "cell_type": "markdown",
   "metadata": {},
   "source": [
    "## Population by country"
   ]
  },
  {
   "cell_type": "code",
   "execution_count": null,
   "metadata": {},
   "outputs": [],
   "source": [
    "Pop_df = pd.read_excel('HistoricalPopulationValues.xls')\n",
    "Pop_df"
   ]
  },
  {
   "cell_type": "markdown",
   "metadata": {},
   "source": [
    "## GDP in billions of $"
   ]
  },
  {
   "cell_type": "code",
   "execution_count": null,
   "metadata": {},
   "outputs": [],
   "source": [
    "Gdp_df = pd.read_excel('GDP_millions.xls')\n",
    "Gdp_df"
   ]
  },
  {
   "cell_type": "code",
   "execution_count": null,
   "metadata": {},
   "outputs": [],
   "source": [
    "Gdp_df"
   ]
  },
  {
   "cell_type": "code",
   "execution_count": null,
   "metadata": {},
   "outputs": [],
   "source": []
  },
  {
   "cell_type": "code",
   "execution_count": null,
   "metadata": {},
   "outputs": [],
   "source": []
  },
  {
   "cell_type": "code",
   "execution_count": null,
   "metadata": {},
   "outputs": [],
   "source": []
  },
  {
   "cell_type": "code",
   "execution_count": null,
   "metadata": {},
   "outputs": [],
   "source": []
  },
  {
   "cell_type": "code",
   "execution_count": null,
   "metadata": {},
   "outputs": [],
   "source": []
  },
  {
   "cell_type": "code",
   "execution_count": null,
   "metadata": {},
   "outputs": [],
   "source": []
  },
  {
   "cell_type": "code",
   "execution_count": null,
   "metadata": {},
   "outputs": [],
   "source": [
    "#here we import the csv file about population\n",
    "population_df = pd.read_csv('population-figures-by-country.csv')\n",
    "population_df.head()"
   ]
  },
  {
   "cell_type": "code",
   "execution_count": null,
   "metadata": {},
   "outputs": [],
   "source": [
    "#here we clean the column names\n",
    "column = list(population_df.columns)\n",
    "columns = []\n",
    "for i in column:\n",
    "    text = re.sub('Year_', '', i)\n",
    "    if text:\n",
    "        columns.append(text)\n",
    "\n",
    "population_df.columns = columns\n",
    "population_df.head()"
   ]
  },
  {
   "cell_type": "code",
   "execution_count": null,
   "metadata": {},
   "outputs": [],
   "source": [
    "population_df =population_df.drop(['1960'], axis=1)"
   ]
  },
  {
   "cell_type": "code",
   "execution_count": null,
   "metadata": {},
   "outputs": [],
   "source": [
    "population_df.plot(population_df['Country']=='Angola',  kind='line')"
   ]
  },
  {
   "cell_type": "code",
   "execution_count": null,
   "metadata": {},
   "outputs": [],
   "source": []
  },
  {
   "cell_type": "markdown",
   "metadata": {},
   "source": [
    "## Gini index"
   ]
  },
  {
   "cell_type": "code",
   "execution_count": null,
   "metadata": {},
   "outputs": [],
   "source": [
    "'''#here we import the csv file\n",
    "gini_df = pd.read_csv('gini_index.csv')\n",
    "gini_df\n",
    " \n",
    "gini_df = gini_df.pivot_table(values='Value', index=gini_df['Country Name'], columns='Year').reset_index()\n",
    "for int in gini_df.columns:\n",
    "    if gini_df[int].notna().sum() >= 30:\n",
    "        gini_df = gini_df.drop([int], axis=1)\n",
    "gini_df'''"
   ]
  },
  {
   "cell_type": "markdown",
   "metadata": {},
   "source": [
    "## world indicators data"
   ]
  },
  {
   "cell_type": "code",
   "execution_count": null,
   "metadata": {},
   "outputs": [],
   "source": [
    "#here we import the csv file about world indicators\n",
    "WI_df = pd.read_csv('WDIData.csv')\n",
    "WI_df.head()"
   ]
  },
  {
   "cell_type": "code",
   "execution_count": null,
   "metadata": {},
   "outputs": [],
   "source": [
    "#here we check the different indicators from the dataset\n",
    "WI_df['Indicator Name'].unique()"
   ]
  },
  {
   "cell_type": "markdown",
   "metadata": {},
   "source": [
    "## Access to clean fuels and technologies for cooking (% of population)"
   ]
  },
  {
   "cell_type": "code",
   "execution_count": null,
   "metadata": {
    "scrolled": true
   },
   "outputs": [],
   "source": [
    "#here we filter to get the data about access to clean fuels and technologies for cooking \n",
    "tech = WI_df['Indicator Name']=='Access to clean fuels and technologies for cooking (% of population)'\n",
    "tech_df = WI_df[tech]\n",
    "tech_df"
   ]
  },
  {
   "cell_type": "code",
   "execution_count": null,
   "metadata": {},
   "outputs": [],
   "source": [
    "#tech_df.columns.unique()\n",
    "#tech_df.isna().sum()"
   ]
  },
  {
   "cell_type": "code",
   "execution_count": null,
   "metadata": {},
   "outputs": [],
   "source": [
    "#here we are cleaning the columns that we don't need or that had too many nan values\n",
    "tech_df = tech_df.drop(['Indicator Name','Indicator Code','Unnamed: 64','1960', '1961', '1962', '1963', '1964',\n",
    "       '1965', '1966', '1967', '1968', '1969', '1970', '1971', '1972', '1973',\n",
    "       '1974', '1975', '1976', '1977', '1978', '1979', '1980', '1981', '1982',\n",
    "       '1983', '1984', '1985', '1986', '1987', '1988', '1989', '1990', '1991',\n",
    "       '1992', '1993', '1994', '1995', '1996', '1997', '1998', '1999', '2017','2018','2019'], axis=1)\n",
    "tech_df"
   ]
  },
  {
   "cell_type": "code",
   "execution_count": null,
   "metadata": {},
   "outputs": [],
   "source": [
    "tech_df = tech_df.dropna()"
   ]
  },
  {
   "cell_type": "code",
   "execution_count": null,
   "metadata": {},
   "outputs": [],
   "source": [
    "tech_df.head()"
   ]
  },
  {
   "cell_type": "markdown",
   "metadata": {},
   "source": [
    "## Access to electricity (% of population)"
   ]
  },
  {
   "cell_type": "code",
   "execution_count": null,
   "metadata": {},
   "outputs": [],
   "source": [
    "#here we filter to get the data about access to electricity\n",
    "electricity = WI_df['Indicator Name']=='Access to electricity (% of population)'\n",
    "elec_df = WI_df[electricity]\n",
    "elec_df.head()"
   ]
  },
  {
   "cell_type": "code",
   "execution_count": null,
   "metadata": {},
   "outputs": [],
   "source": [
    "elec_df.columns.unique()"
   ]
  },
  {
   "cell_type": "code",
   "execution_count": null,
   "metadata": {},
   "outputs": [],
   "source": [
    "#list(elec_df.count())"
   ]
  },
  {
   "cell_type": "code",
   "execution_count": null,
   "metadata": {},
   "outputs": [],
   "source": [
    "#here we are cleaning the columns that we don't need or that had too many nan values\n",
    "elec_df = elec_df.drop(['Indicator Name','Indicator Code','Unnamed: 64','1960', '1961', '1962', '1963', '1964',\n",
    "       '1965', '1966', '1967', '1968', '1969', '1970', '1971', '1972', '1973',\n",
    "       '1974', '1975', '1976', '1977', '1978', '1979', '1980', '1981', '1982',\n",
    "       '1983', '1984', '1985', '1986', '1987', '1988', '1989', '1990', '1991',\n",
    "       '1992', '1993', '1994', '1995', '1996', '1997', '1998', '1999', '2017','2018','2019'], axis=1)\n",
    "elec_df"
   ]
  },
  {
   "cell_type": "code",
   "execution_count": null,
   "metadata": {},
   "outputs": [],
   "source": [
    "#elec_df.isna().sum()"
   ]
  },
  {
   "cell_type": "markdown",
   "metadata": {},
   "source": [
    "## terciary education\n"
   ]
  },
  {
   "cell_type": "code",
   "execution_count": null,
   "metadata": {},
   "outputs": [],
   "source": [
    "#here we import the csv file about terciary education\n",
    "education_df = pd.read_csv('DP_LIVE_04052020092227869.csv')\n",
    "education_df"
   ]
  },
  {
   "cell_type": "code",
   "execution_count": null,
   "metadata": {},
   "outputs": [],
   "source": [
    "education_df.columns.unique()"
   ]
  },
  {
   "cell_type": "code",
   "execution_count": null,
   "metadata": {},
   "outputs": [],
   "source": [
    "#here we use the function pivot_table to align the table with the other datasets\n",
    "education_df = education_df.pivot_table(values='Value', index=education_df['LOCATION'], columns='TIME').reset_index()\n",
    "education_df"
   ]
  },
  {
   "cell_type": "code",
   "execution_count": null,
   "metadata": {},
   "outputs": [],
   "source": [
    "education_df.isna().sum()"
   ]
  },
  {
   "cell_type": "code",
   "execution_count": null,
   "metadata": {},
   "outputs": [],
   "source": []
  },
  {
   "cell_type": "code",
   "execution_count": null,
   "metadata": {},
   "outputs": [],
   "source": [
    "#here we are dropping all columns that have 30 or more nan values\n",
    "for int in education_df.columns:\n",
    "    if (education_df[int].isna().sum()) >= 30:\n",
    "        education_df = education_df.drop([int], axis=1)\n",
    "education_df"
   ]
  },
  {
   "cell_type": "code",
   "execution_count": null,
   "metadata": {},
   "outputs": [],
   "source": []
  },
  {
   "cell_type": "markdown",
   "metadata": {},
   "source": [
    "## GDP per capita"
   ]
  },
  {
   "cell_type": "code",
   "execution_count": null,
   "metadata": {},
   "outputs": [],
   "source": [
    "gdp_g_df = pd.read_csv('GDP.csv', sep='delimiter',encoding = \"ISO-8859-1\")\n",
    "gdp_g_df"
   ]
  },
  {
   "cell_type": "code",
   "execution_count": null,
   "metadata": {},
   "outputs": [],
   "source": []
  },
  {
   "cell_type": "code",
   "execution_count": null,
   "metadata": {},
   "outputs": [],
   "source": []
  },
  {
   "cell_type": "code",
   "execution_count": null,
   "metadata": {},
   "outputs": [],
   "source": []
  },
  {
   "cell_type": "code",
   "execution_count": null,
   "metadata": {},
   "outputs": [],
   "source": []
  },
  {
   "cell_type": "code",
   "execution_count": null,
   "metadata": {},
   "outputs": [],
   "source": []
  },
  {
   "cell_type": "code",
   "execution_count": null,
   "metadata": {
    "scrolled": true
   },
   "outputs": [],
   "source": [
    "# here we are reading the excel sheet about GDP per country\n",
    "gdp_df = pd.read_excel('mpd_2013-01.xlsx', skiprows=2)"
   ]
  },
  {
   "cell_type": "code",
   "execution_count": null,
   "metadata": {},
   "outputs": [],
   "source": [
    "gdp_df.columns.unique()"
   ]
  },
  {
   "cell_type": "code",
   "execution_count": null,
   "metadata": {},
   "outputs": [],
   "source": [
    "# here we clean the data a bit before tranposing it\n",
    "gdp_df = gdp_df.rename(columns = {'Unnamed: 0':'year'})\n",
    "#gdp_df['year'] = gdp_df['year'].astype(int)\n",
    "gdp_df = gdp_df.set_index('year')\n",
    "gdp_df"
   ]
  },
  {
   "cell_type": "code",
   "execution_count": null,
   "metadata": {},
   "outputs": [],
   "source": [
    "#here we transpose the datar frame to align it with the other datasets\n",
    "gdp_correct = gdp_df.T\n",
    "gdp_correct"
   ]
  },
  {
   "cell_type": "code",
   "execution_count": null,
   "metadata": {},
   "outputs": [],
   "source": [
    "years = list(gdp_correct.columns.unique())"
   ]
  },
  {
   "cell_type": "code",
   "execution_count": null,
   "metadata": {},
   "outputs": [],
   "source": [
    "year = str(years)\n",
    "year"
   ]
  },
  {
   "cell_type": "code",
   "execution_count": null,
   "metadata": {},
   "outputs": [],
   "source": [
    "gdp_correct.columns.unique()"
   ]
  },
  {
   "cell_type": "code",
   "execution_count": null,
   "metadata": {},
   "outputs": [],
   "source": [
    "gdp_correct.columns.map(type)"
   ]
  },
  {
   "cell_type": "code",
   "execution_count": null,
   "metadata": {},
   "outputs": [],
   "source": [
    "'''['1','730','1000','1150','1280','1300','1348','1400', '1450', '1500', '1550', '1570', '1600',\n",
    "                                '1650', '1700', '1720', '1750', '1775', '1800', '1801', '1802', '1803', '1804', '1805', '1806',\n",
    "                                '1807', '1808', '1809', '1810', '1811', '1812', '1813', '1814', '1815', '1816', '1817', '1818',\n",
    "                                '1819', '1820', '1821', '1822', '1823', '1824', '1825', '1826', '1827', '1828', '1829', '1830',\n",
    "                                '1831', '1832', '1833', '1834', '1835', '1836', '1837', '1838', '1839', '1840', '1841', '1842',\n",
    "                                '1843', '1844', '1845', '1846', '1847', '1848', '1849', '1850', '1851', '1852', '1853', '1854',\n",
    "                                '1855', '1856', '1857', '1858', '1859', '1860', '1861', '1862', '1863', '1864', '1865', '1866', \n",
    "                                '1867', '1868', '1869', '1870', '1871', '1872', '1873', '1874', '1875', '1876', '1877', '1878',\n",
    "                                '1879', '1880', '1881', '1882', '1883', '1884', '1885', '1886', '1887', '1888', '1889', '1890', \n",
    "                                '1891', '1892', '1893', '1894', '1895', '1896', '1897', '1898', '1899', '1900', '1901', '1902',\n",
    "                                '1903', '1904', '1905', '1906', '1907', '1908', '1909', '1910', '1911', '1912', '1913', '1914',\n",
    "                                '1915', '1916', '1917', '1918', '1919', '1920', '1921', '1922', '1923', '1924', '1925', '1926', \n",
    "                                '1927', '1928', '1929', '1930', '1931', '1932', '1933', '1934', '1935', '1936', '1937', '1938',\n",
    "                                '1939', '1940', '1941', '1942', '1943', '1944', '1945', '1946', '1947', '1948', '1949', '1950',\n",
    "                                '1951', '1952', '1953', '1954', '1955', '1956', '1957', '1958', '1959', '1960'], axis=1)'''"
   ]
  },
  {
   "cell_type": "code",
   "execution_count": null,
   "metadata": {},
   "outputs": [],
   "source": [
    "gdp_correct = gdp_correct.drop([1, 730, 1000, 1150, 1280, 1300, 1348, 1400, 1450, 1500, 1550, 1570, 1600, 1650, 1700, 1720, \n",
    "                                1750, 1775, 1800, 1801, 1802, 1803, 1804, 1805, 1806, 1807, 1808, 1809, 1810, 1811, 1812, 1813,\n",
    "                                1814, 1815, 1816, 1817, 1818, 1819, 1820, 1821, 1822, 1823, 1824, 1825, 1826, 1827, 1828, 1829, \n",
    "                                1830, 1831, 1832, 1833, 1834, 1835, 1836, 1837, 1838, 1839, 1840, 1841, 1842, 1843, 1844, 1845,\n",
    "                                1846, 1847, 1848, 1849, 1850, 1851, 1852, 1853, 1854, 1855, 1856, 1857, 1858, 1859, 1860, 1861,\n",
    "                                1862, 1863, 1864, 1865, 1866, 1867, 1868, 1869, 1870, 1871, 1872, 1873, 1874, 1875, 1876, 1877, \n",
    "                                1878, 1879, 1880, 1881, 1882, 1883, 1884, 1885, 1886, 1887, 1888, 1889, 1890, 1891, 1892, 1893,\n",
    "                                1894, 1895, 1896, 1897, 1898, 1899, 1900, 1901, 1902, 1903, 1904, 1905, 1906, 1907, 1908, 1909,\n",
    "                                1910, 1911, 1912, 1913, 1914, 1915, 1916, 1917, 1918, 1919, 1920, 1921, 1922, 1923, 1924, 1925, \n",
    "                                1926, 1927, 1928, 1929, 1930, 1931, 1932, 1933, 1934, 1935, 1936, 1937, 1938, 1939, 1940, 1941,\n",
    "                                1942, 1943, 1944, 1945, 1946, 1947, 1948, 1949, 1950, 1951, 1952, 1953, 1954, 1955, 1956, 1957, \n",
    "                                1958, 1959, 1960], axis=1)\n",
    "gdp_correct.head()"
   ]
  },
  {
   "cell_type": "code",
   "execution_count": null,
   "metadata": {},
   "outputs": [],
   "source": [
    "gdp_correct = gdp_correct.reset_index()"
   ]
  },
  {
   "cell_type": "code",
   "execution_count": null,
   "metadata": {},
   "outputs": [],
   "source": [
    "#here we are cleaning a bit more so it's more readable\n",
    "gdp_correct.rename(columns={'year':'index',\n",
    "                          'index':'Country'},\n",
    "                            inplace=True)\n",
    "gdp_correct"
   ]
  },
  {
   "cell_type": "code",
   "execution_count": null,
   "metadata": {},
   "outputs": [],
   "source": [
    "gdp_correct.Country.unique()"
   ]
  },
  {
   "cell_type": "code",
   "execution_count": null,
   "metadata": {},
   "outputs": [],
   "source": [
    "#here we are dropping all the rows we don't need\n",
    "gdp_correct.drop([12, 17, 18, 23, 31, 39, 67, 83, 84, 85, 102, 109,110,122,123,125,126, 127, 180, 181, 182, 183])\n"
   ]
  },
  {
   "cell_type": "code",
   "execution_count": null,
   "metadata": {},
   "outputs": [],
   "source": [
    "#gdp_correct.isna().sum()\n",
    "gdp_correct = gdp_correct.drop([2009,2010], axis=1)"
   ]
  },
  {
   "cell_type": "markdown",
   "metadata": {},
   "source": [
    "## CHILDREN PER WOMAN AND CHILD MORTALITY"
   ]
  },
  {
   "cell_type": "code",
   "execution_count": null,
   "metadata": {},
   "outputs": [],
   "source": [
    "# this is a function to be able to read the csv files properly\n",
    "def comma_remover(string):\n",
    "    text_cleaned = re.sub(',000', '', string)\n",
    "    text_cleaned = re.sub('rate,', 'rate', text_cleaned)\n",
    "    return text_cleaned"
   ]
  },
  {
   "cell_type": "code",
   "execution_count": null,
   "metadata": {},
   "outputs": [],
   "source": [
    "#here we import the csv file about fertility (children per woman)\n",
    "fertility_df = pd.read_csv('fertility.csv', sep=',')\n",
    "fertility_df"
   ]
  },
  {
   "cell_type": "code",
   "execution_count": null,
   "metadata": {},
   "outputs": [],
   "source": [
    "#here we apply the comma remover function\n",
    "column_name = fertility_df.columns[0]\n",
    "fertility_df[column_name] = fertility_df[column_name].apply(comma_remover)"
   ]
  },
  {
   "cell_type": "code",
   "execution_count": null,
   "metadata": {},
   "outputs": [],
   "source": [
    "column = fertility_df.columns[0].split(',')\n",
    "columns = []\n",
    "for i in column:\n",
    "    text = re.sub('\"', '', i)\n",
    "    if text:\n",
    "        columns.append(text)\n",
    "        \n",
    "columns.append('')\n",
    "columns.append('')"
   ]
  },
  {
   "cell_type": "code",
   "execution_count": null,
   "metadata": {},
   "outputs": [],
   "source": [
    "fertility_df[columns] = fertility_df[column_name].str.split(',', expand=True)"
   ]
  },
  {
   "cell_type": "code",
   "execution_count": null,
   "metadata": {},
   "outputs": [],
   "source": [
    "#here we are dropping the columns we dont need\n",
    "fertility_df.drop(columns = [column_name, 'Indicator Code', 'Indicator Name', ''], inplace=True)\n",
    "fertility_df.head()"
   ]
  },
  {
   "cell_type": "code",
   "execution_count": null,
   "metadata": {},
   "outputs": [],
   "source": [
    "#this is a function to clean the values so we can transform them in float to operate with them\n",
    "def cleaner(string):\n",
    "    return re.sub('\"', '', string)\n",
    "\n",
    "columns_new = list(fertility_df.columns)\n",
    "for i in columns_new:\n",
    "    fertility_df[i] = fertility_df[i].apply(cleaner)\n",
    "\n",
    "fertility_df"
   ]
  },
  {
   "cell_type": "code",
   "execution_count": null,
   "metadata": {},
   "outputs": [],
   "source": [
    "#Here we drop the column 1960 because was causing problems\n",
    "fertility_df = fertility_df.drop(['1960'], axis=1)\n",
    "fertility_df"
   ]
  },
  {
   "cell_type": "code",
   "execution_count": null,
   "metadata": {
    "scrolled": true
   },
   "outputs": [],
   "source": [
    "#here we drop the 2019 because id had too many data missing\n",
    "fertility_df = fertility_df.drop(['2019'], axis=1)\n",
    "fertility_df"
   ]
  },
  {
   "cell_type": "code",
   "execution_count": null,
   "metadata": {},
   "outputs": [],
   "source": [
    "#here we fill the empty values with NAN's to be able to operate with the columns\n",
    "fertility_df = fertility_df.replace('', np.nan)\n",
    "fertility_df"
   ]
  },
  {
   "cell_type": "code",
   "execution_count": null,
   "metadata": {},
   "outputs": [],
   "source": [
    "#here we transform all columns but Country Name and Country Code to numeric values\n",
    "fertility_df[['1961', '1962', '1963', '1964', '1965',\n",
    "       '1966', '1967', '1968', '1969', '1970', '1971', '1972', '1973', '1974',\n",
    "       '1975', '1976', '1977', '1978', '1979', '1980', '1981', '1982', '1983',\n",
    "       '1984', '1985', '1986', '1987', '1988', '1989', '1990', '1991', '1992',\n",
    "       '1993', '1994', '1995', '1996', '1997', '1998', '1999', '2000', '2001',\n",
    "       '2002', '2003', '2004', '2005', '2006', '2007', '2008', '2009', '2010',\n",
    "       '2011', '2012', '2013', '2014', '2015', '2016', '2017', '2018']] = fertility_df[['1961', '1962', '1963', '1964', '1965',\n",
    "       '1966', '1967', '1968', '1969', '1970', '1971', '1972', '1973', '1974',\n",
    "       '1975', '1976', '1977', '1978', '1979', '1980', '1981', '1982', '1983',\n",
    "       '1984', '1985', '1986', '1987', '1988', '1989', '1990', '1991', '1992',\n",
    "       '1993', '1994', '1995', '1996', '1997', '1998', '1999', '2000', '2001',\n",
    "       '2002', '2003', '2004', '2005', '2006', '2007', '2008', '2009', '2010',\n",
    "       '2011', '2012', '2013', '2014', '2015', '2016', '2017', '2018']].apply(pd.to_numeric)"
   ]
  },
  {
   "cell_type": "code",
   "execution_count": null,
   "metadata": {},
   "outputs": [],
   "source": [
    "#fertility_df.dtypes"
   ]
  },
  {
   "cell_type": "code",
   "execution_count": null,
   "metadata": {},
   "outputs": [],
   "source": [
    "fertility_df.describe()"
   ]
  },
  {
   "cell_type": "markdown",
   "metadata": {},
   "source": [
    "## child mortality rates"
   ]
  },
  {
   "cell_type": "code",
   "execution_count": null,
   "metadata": {},
   "outputs": [],
   "source": [
    "#here we import the csv file about child mortality rates (death per 1000 births)\n",
    "mortality_df = pd.read_csv('mortality2.csv', sep=',')"
   ]
  },
  {
   "cell_type": "code",
   "execution_count": null,
   "metadata": {},
   "outputs": [],
   "source": [
    "#here we apply the comma remover function\n",
    "column_name = mortality_df.columns[0]\n",
    "mortality_df[column_name] = mortality_df[column_name].apply(comma_remover)"
   ]
  },
  {
   "cell_type": "code",
   "execution_count": null,
   "metadata": {},
   "outputs": [],
   "source": [
    "column = mortality_df.columns[0].split(',')\n",
    "columns = []\n",
    "for i in column:\n",
    "    text = re.sub('\"', '', i)\n",
    "    if text:\n",
    "        columns.append(text)\n",
    "        \n",
    "columns.append('')\n",
    "columns.append('')"
   ]
  },
  {
   "cell_type": "code",
   "execution_count": null,
   "metadata": {},
   "outputs": [],
   "source": [
    "mortality_df[columns] = mortality_df[column_name].str.split(',', expand=True)"
   ]
  },
  {
   "cell_type": "code",
   "execution_count": null,
   "metadata": {},
   "outputs": [],
   "source": [
    "#hee we drop the columns we don't need\n",
    "mortality_df.drop(columns = [column_name, 'Indicator Code', 'Indicator Name', ''], inplace=True)\n",
    "mortality_df.head()"
   ]
  },
  {
   "cell_type": "code",
   "execution_count": null,
   "metadata": {},
   "outputs": [],
   "source": [
    "#this is a function to clean the values so we can transform them in float to operate with them\n",
    "def cleaner(string):\n",
    "    return re.sub('\"', '', string)\n",
    "\n",
    "columns_new = list(mortality_df.columns)\n",
    "for i in columns_new:\n",
    "    mortality_df[i] = mortality_df[i].apply(cleaner)\n",
    "\n",
    "mortality_df"
   ]
  },
  {
   "cell_type": "code",
   "execution_count": null,
   "metadata": {},
   "outputs": [],
   "source": [
    "mortality_df = mortality_df.replace('', np.nan, inplace=False)\n",
    "mortality_df"
   ]
  },
  {
   "cell_type": "code",
   "execution_count": null,
   "metadata": {},
   "outputs": [],
   "source": [
    "#here we drop the columns we don't need\n",
    "mortality_df = mortality_df.drop(['1960', '2019'], axis=1)\n",
    "mortality_df"
   ]
  },
  {
   "cell_type": "code",
   "execution_count": null,
   "metadata": {},
   "outputs": [],
   "source": [
    "#here we transform all columns but Country Name and Country Code to numeric values\n",
    "mortality_df[['1961', '1962', '1963', '1964', '1965',\n",
    "       '1966', '1967', '1968', '1969', '1970', '1971', '1972', '1973', '1974',\n",
    "       '1975', '1976', '1977', '1978', '1979', '1980', '1981', '1982', '1983',\n",
    "       '1984', '1985', '1986', '1987', '1988', '1989', '1990', '1991', '1992',\n",
    "       '1993', '1994', '1995', '1996', '1997', '1998', '1999', '2000', '2001',\n",
    "       '2002', '2003', '2004', '2005', '2006', '2007', '2008', '2009', '2010',\n",
    "       '2011', '2012', '2013', '2014', '2015', '2016', '2017', '2018']] = mortality_df[['1961', '1962', '1963', '1964', '1965',\n",
    "       '1966', '1967', '1968', '1969', '1970', '1971', '1972', '1973', '1974',\n",
    "       '1975', '1976', '1977', '1978', '1979', '1980', '1981', '1982', '1983',\n",
    "       '1984', '1985', '1986', '1987', '1988', '1989', '1990', '1991', '1992',\n",
    "       '1993', '1994', '1995', '1996', '1997', '1998', '1999', '2000', '2001',\n",
    "       '2002', '2003', '2004', '2005', '2006', '2007', '2008', '2009', '2010',\n",
    "       '2011', '2012', '2013', '2014', '2015', '2016', '2017', '2018']].apply(pd.to_numeric)"
   ]
  },
  {
   "cell_type": "code",
   "execution_count": null,
   "metadata": {},
   "outputs": [],
   "source": [
    "#mortality_df.dtypes"
   ]
  },
  {
   "cell_type": "code",
   "execution_count": null,
   "metadata": {},
   "outputs": [],
   "source": [
    "'''mortality_df[[1961, 1962, 1963, 1964, 1965, 1966, 1967, 1968, 1969, 1970, 1971, 1972, 1973, 1974, 1975, 1976, 1977, 1978, 1979,\n",
    "             1980, 1981, 1982, 1983, 1984, 1985, 1986, 1987, 1988, 1989, 1990, 1991, 1992, 1993, 1994, 1995, 1996, 1997, 1998,\n",
    "             1999, 2000, 2001, 2002, 2003, 2004, 2005, 2006, 2007, 2008, 2009, 2010, 2011, 2012, 2013, 2014, 2015, 2016, 2017,\n",
    "             2018]].div(10)'''"
   ]
  },
  {
   "cell_type": "code",
   "execution_count": null,
   "metadata": {},
   "outputs": [],
   "source": [
    "mortality_df.describe()"
   ]
  },
  {
   "cell_type": "markdown",
   "metadata": {},
   "source": [
    "## Cleaned datasets"
   ]
  },
  {
   "cell_type": "markdown",
   "metadata": {},
   "source": [
    "- population_df : This dataset is about population level per country from 1961 to 2016.\n",
    "- gdp_correct: This is a dataset about the GDP level per country from 1961 to 2008.\n",
    "- fertility_df: This is a dataset about the children per woman per country from 1961 to 2018.\n",
    "- mortality_df: This is a dataset about the child mortality per 1000 births from 1961 to 2018.\n",
    "- tech_df: This is a dataset about the 'Access to clean fuels and technologies for cooking (% of population)' per country from     2000 to 2016.\n",
    "- elec_df: This is a dataset about the 'Access to electricity (% of population)' per country from 2000 to 2016.\n",
    "- education_df: This is a dataset about the percentage of people between 25-34 that have tertiary education from 1994 to 2018.\n",
    "\n",
    "\n"
   ]
  },
  {
   "cell_type": "markdown",
   "metadata": {},
   "source": [
    "## Merging datasets"
   ]
  },
  {
   "cell_type": "code",
   "execution_count": null,
   "metadata": {},
   "outputs": [],
   "source": [
    "fertility_df_m = fertility_df.drop(['2009','2010','2011','2012','2013','2014','2015','2016','2017','2018'], axis=1)"
   ]
  },
  {
   "cell_type": "code",
   "execution_count": null,
   "metadata": {
    "scrolled": true
   },
   "outputs": [],
   "source": [
    "mortality_df_m = mortality_df.drop(['2009','2010','2011','2012','2013','2014','2015','2016','2017','2018'], axis=1)"
   ]
  },
  {
   "cell_type": "code",
   "execution_count": null,
   "metadata": {},
   "outputs": [],
   "source": [
    "columns = list(fertility_df.columns)\n",
    "columns.remove('Country Code')\n",
    "columns.remove('Country Name')\n",
    "f_melted = pd.melt(fertility_df, id_vars=['Country Name', 'Country Code'], value_vars=columns, var_name=\"Year\", value_name=\"Fertility\")\n",
    "\n",
    "f_melted.head()"
   ]
  },
  {
   "cell_type": "code",
   "execution_count": null,
   "metadata": {
    "scrolled": true
   },
   "outputs": [],
   "source": [
    "columns = list(mortality_df.columns)\n",
    "columns.remove('Country Code')\n",
    "columns.remove('Country Name')\n",
    "m_melted = pd.melt(mortality_df, id_vars=['Country Name', 'Country Code'], value_vars=columns, var_name=\"Year\", value_name=\"Mortality\")\n",
    "\n",
    "m_melted.head()"
   ]
  },
  {
   "cell_type": "code",
   "execution_count": null,
   "metadata": {},
   "outputs": [],
   "source": [
    "fert_mort_df = pd.merge(f_melted, m_melted, on=['Country Name','Country Code', 'Year'])\n",
    "fert_mort_df.head()"
   ]
  },
  {
   "cell_type": "code",
   "execution_count": null,
   "metadata": {},
   "outputs": [],
   "source": [
    "fert_mort_df.to_csv('fert_mort_original.csv')"
   ]
  },
  {
   "cell_type": "code",
   "execution_count": null,
   "metadata": {
    "scrolled": true
   },
   "outputs": [],
   "source": [
    "grouped_f_m = fert_mort_df[['Year', 'Fertility', 'Mortality']].groupby(['Year']).agg({'Fertility':'mean', 'Mortality':'mean'})\n",
    "grouped_f_m['Mortality'] = grouped_f_m['Mortality'] / 10\n",
    "grouped_f_m.head()"
   ]
  },
  {
   "cell_type": "code",
   "execution_count": null,
   "metadata": {},
   "outputs": [],
   "source": [
    "grouped_f_m.plot()"
   ]
  },
  {
   "cell_type": "code",
   "execution_count": null,
   "metadata": {},
   "outputs": [],
   "source": [
    "import matplotlib.pyplot as plt\n",
    "plt.scatter(grouped_f_m['Mortality'], grouped_f_m['Fertility'])"
   ]
  },
  {
   "cell_type": "code",
   "execution_count": null,
   "metadata": {},
   "outputs": [],
   "source": [
    "grouped_f_m.to_csv('fert_mort.csv')"
   ]
  },
  {
   "cell_type": "code",
   "execution_count": null,
   "metadata": {},
   "outputs": [],
   "source": [
    "'''for i in fert_mort_df['Country Name'][i]:\n",
    "    if (fert_mort_df['Country Name'][i].isna().sum(axis=1)) >=20:\n",
    "        fert_mort_df.drop(['Country Name'][i])\n",
    "'''"
   ]
  },
  {
   "cell_type": "markdown",
   "metadata": {},
   "source": [
    "## merging polulation and Gdp dataframes"
   ]
  },
  {
   "cell_type": "code",
   "execution_count": null,
   "metadata": {},
   "outputs": [],
   "source": [
    "population_df_m = population_df.drop(['2009','2010','2011','2012','2013','2014','2015','2016'],axis=1)"
   ]
  },
  {
   "cell_type": "code",
   "execution_count": null,
   "metadata": {},
   "outputs": [],
   "source": [
    "population_df_m"
   ]
  },
  {
   "cell_type": "code",
   "execution_count": null,
   "metadata": {},
   "outputs": [],
   "source": [
    "columns = list(population_df_m.columns)\n",
    "columns.remove('Country_Code')\n",
    "columns.remove('Country')\n",
    "p_melted = pd.melt(population_df_m, id_vars=['Country', 'Country_Code'], value_vars=columns, var_name=\"Year\", value_name=\"Population\")\n",
    "\n",
    "p_melted.head()"
   ]
  },
  {
   "cell_type": "code",
   "execution_count": null,
   "metadata": {},
   "outputs": [],
   "source": [
    "p_melted.tail()"
   ]
  },
  {
   "cell_type": "code",
   "execution_count": null,
   "metadata": {},
   "outputs": [],
   "source": [
    "#p_melted['Year'] = p_melted['Year'].apply(pd.to_numeric)"
   ]
  },
  {
   "cell_type": "code",
   "execution_count": null,
   "metadata": {},
   "outputs": [],
   "source": []
  },
  {
   "cell_type": "code",
   "execution_count": null,
   "metadata": {},
   "outputs": [],
   "source": [
    "columns = list(gdp_correct.columns)\n",
    "columns.remove('Country')\n",
    "gdp_melted = pd.melt(gdp_correct, id_vars=['Country'], value_vars=columns, var_name=\"Year\", value_name=\"GDP_per_capita\")\n",
    "\n",
    "gdp_melted.head()"
   ]
  },
  {
   "cell_type": "code",
   "execution_count": null,
   "metadata": {},
   "outputs": [],
   "source": [
    "#gdp_melted.dtypes"
   ]
  },
  {
   "cell_type": "code",
   "execution_count": null,
   "metadata": {},
   "outputs": [],
   "source": [
    "gdp_melted.tail()"
   ]
  },
  {
   "cell_type": "code",
   "execution_count": null,
   "metadata": {},
   "outputs": [],
   "source": [
    "fert_mort_df.dtypes"
   ]
  },
  {
   "cell_type": "code",
   "execution_count": null,
   "metadata": {},
   "outputs": [],
   "source": [
    "1"
   ]
  },
  {
   "cell_type": "code",
   "execution_count": null,
   "metadata": {},
   "outputs": [],
   "source": [
    "#gdp_p_df['GDP'] = gdp_p_df['GDP_per_capita'] * gdp_p_df['Population']  \n"
   ]
  },
  {
   "cell_type": "code",
   "execution_count": null,
   "metadata": {},
   "outputs": [],
   "source": [
    "gdp_p_years = gdp_p_df[['Year', 'Population', 'GDP_per_capita']].groupby(['Year']).agg({'Population':'mean', 'GDP_per_capita':'mean'})\n",
    "gdp_p_years"
   ]
  },
  {
   "cell_type": "code",
   "execution_count": null,
   "metadata": {},
   "outputs": [],
   "source": [
    "gdp_p_years.plot()"
   ]
  },
  {
   "cell_type": "code",
   "execution_count": null,
   "metadata": {},
   "outputs": [],
   "source": [
    "plt.scatter(gdp_p_years['Population'], gdp_p_years['GDP_per_capita'])"
   ]
  },
  {
   "cell_type": "code",
   "execution_count": null,
   "metadata": {},
   "outputs": [],
   "source": [
    "fert_mort_df.rename(columns={'Country Name':'Country','Country Code':'Country_Code'},inplace=True)"
   ]
  },
  {
   "cell_type": "code",
   "execution_count": null,
   "metadata": {},
   "outputs": [],
   "source": [
    "fert_mort_df.dtypes"
   ]
  },
  {
   "cell_type": "code",
   "execution_count": null,
   "metadata": {},
   "outputs": [],
   "source": [
    "final_df = pd.merge(gdp_p_df, fert_mort_df, on=['Country','Country_Code','Year'], how='outer')\n",
    "final_df"
   ]
  },
  {
   "cell_type": "code",
   "execution_count": null,
   "metadata": {},
   "outputs": [],
   "source": []
  },
  {
   "cell_type": "code",
   "execution_count": null,
   "metadata": {
    "scrolled": true
   },
   "outputs": [],
   "source": [
    "grouped_years = fert_mort_df[['Year', 'Fertility', 'Mortality']].groupby(['Year']).agg({'Fertility':'mean', 'Mortality':'mean'})\n",
    "grouped_f_m['Mortality'] = grouped_f_m['Mortality'] / 10\n",
    "grouped_f_m.head()"
   ]
  },
  {
   "cell_type": "code",
   "execution_count": null,
   "metadata": {},
   "outputs": [],
   "source": []
  }
 ],
 "metadata": {
  "kernelspec": {
   "display_name": "Python 3",
   "language": "python",
   "name": "python3"
  },
  "language_info": {
   "codemirror_mode": {
    "name": "ipython",
    "version": 3
   },
   "file_extension": ".py",
   "mimetype": "text/x-python",
   "name": "python",
   "nbconvert_exporter": "python",
   "pygments_lexer": "ipython3",
   "version": "3.7.7"
  }
 },
 "nbformat": 4,
 "nbformat_minor": 4
}
