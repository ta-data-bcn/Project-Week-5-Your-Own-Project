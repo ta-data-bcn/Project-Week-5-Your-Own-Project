{
 "cells": [
  {
   "cell_type": "code",
   "execution_count": 1,
   "metadata": {},
   "outputs": [],
   "source": [
    "#Libraries\n",
    "from functools import reduce\n",
    "import numpy as np\n",
    "import pandas as pd\n",
    "from sqlalchemy import create_engine\n",
    "import random\n",
    "from random import choice\n",
    "import matplotlib.pyplot as plt\n",
    "import seaborn as sns\n",
    "from zipfile import ZipFile\n",
    "import wget\n",
    "import gzip\n",
    "import os\n",
    "import locale\n",
    "from datetime import datetime\n",
    "from dateutil.parser import parse\n",
    "from scipy.stats import iqr\n",
    "from sklearn import preprocessing"
   ]
  },
  {
   "cell_type": "markdown",
   "metadata": {},
   "source": [
    "First create a list with the unique identifies for zipped CSV files on Insideairbnb. This section will ultimately be replaced with new code that will scrape the name off the site programatically."
   ]
  },
  {
   "cell_type": "code",
   "execution_count": 2,
   "metadata": {},
   "outputs": [],
   "source": [
    "ibnbdts = [\n",
    "'2019-09-17',\n",
    "'2019-08-12',\n",
    "'2019-07-10',\n",
    "'2019-06-07',\n",
    "'2019-05-14',\n",
    "'2019-04-10',\n",
    "'2019-03-08',\n",
    "'2019-02-06',\n",
    "'2019-01-14',\n",
    "'2018-12-10',\n",
    "'2018-11-07',\n",
    "'2018-10-10',\n",
    "'2018-09-11',\n",
    "'2018-08-14',\n",
    "'2018-07-10',\n",
    "'2018-06-09',\n",
    "'2018-05-14',\n",
    "'2018-04-12',\n",
    "'2018-02-07',\n",
    "'2018-01-17',\n",
    "'2017-12-09',\n",
    "'2017-11-13',\n",
    "'2017-10-07',\n",
    "'2017-09-12',\n",
    "'2017-08-06',\n",
    "'2017-07-06',\n",
    "'2017-06-05',\n",
    "'2017-05-07',\n",
    "'2017-04-08',\n",
    "'2017-03-06',\n",
    "'2017-02-09',\n",
    "'2017-01-04',\n",
    "'2016-12-08',\n",
    "'2016-11-07',\n",
    "'2016-01-03',\n",
    "'2015-10-02',\n",
    "'2015-09-04',\n",
    "'2015-07-17',\n",
    "'2015-04-30']"
   ]
  },
  {
   "cell_type": "markdown",
   "metadata": {},
   "source": [
    "The below downloaded 39 zip files from Insideairbnb and takes a while. Run at your own peril but be warned that it will overwrite the files that are already there for your convenience."
   ]
  },
  {
   "cell_type": "code",
   "execution_count": null,
   "metadata": {},
   "outputs": [],
   "source": [
    "#url = 'http://data.insideairbnb.com/spain/catalonia/barcelona/{}/data/listings.csv.gz'\n",
    "#folder = '../data/'\n",
    "#count = 0\n",
    "#remain = 39\n",
    "#old_FN = '../data2/listings.csv.gz'\n",
    "#new_FN = '../data2/listings{}.csv.gz'\n",
    "#print(\"This will take some time - however progress will be displayed below\")\n",
    "#for i in ibnbdts:\n",
    "#    wget.download(url.format(i), folder)\n",
    "#    os.rename(old_FN,new_FN.format(i))\n",
    "#    count += 1\n",
    "#    remain -= 1\n",
    "#    print(f'You have downloaded {count} file(s) just {remain} to go.')\n",
    "#\n",
    "#print(\"All files downloaded. You may proceed\") "
   ]
  },
  {
   "cell_type": "markdown",
   "metadata": {},
   "source": [
    "Create a new dictionary (df_dict) into which we will pass the contents of each zipped file as a value with the key name coming from a concatination of 'df' and the date of the scrape (which are stored within the elements of the list ibnbdts - defined above). Add a column which identifies the date it was scraped (from list defined above)"
   ]
  },
  {
   "cell_type": "code",
   "execution_count": 5,
   "metadata": {},
   "outputs": [
    {
     "name": "stderr",
     "output_type": "stream",
     "text": [
      "C:\\Users\\ellio\\Anaconda3\\envs\\test\\lib\\site-packages\\IPython\\core\\interactiveshell.py:3058: DtypeWarning: Columns (43,61,62) have mixed types. Specify dtype option on import or set low_memory=False.\n",
      "  interactivity=interactivity, compiler=compiler, result=result)\n",
      "C:\\Users\\ellio\\Anaconda3\\envs\\test\\lib\\site-packages\\IPython\\core\\interactiveshell.py:3058: DtypeWarning: Columns (61,62) have mixed types. Specify dtype option on import or set low_memory=False.\n",
      "  interactivity=interactivity, compiler=compiler, result=result)\n",
      "C:\\Users\\ellio\\Anaconda3\\envs\\test\\lib\\site-packages\\IPython\\core\\interactiveshell.py:3058: DtypeWarning: Columns (43) have mixed types. Specify dtype option on import or set low_memory=False.\n",
      "  interactivity=interactivity, compiler=compiler, result=result)\n",
      "C:\\Users\\ellio\\Anaconda3\\envs\\test\\lib\\site-packages\\IPython\\core\\interactiveshell.py:3058: DtypeWarning: Columns (43,88) have mixed types. Specify dtype option on import or set low_memory=False.\n",
      "  interactivity=interactivity, compiler=compiler, result=result)\n"
     ]
    },
    {
     "name": "stdout",
     "output_type": "stream",
     "text": [
      "Load of zip files finished. You may proceed\n"
     ]
    }
   ],
   "source": [
    "df_dict = {}\n",
    "new_FN = '../data/listings{}.csv.gz'\n",
    "dfname = 'df{}'\n",
    "for i in ibnbdts:\n",
    "    df_dict[dfname.format(i)] = pd.read_csv(gzip.open(new_FN.format(i), 'rb'))\n",
    "    df_dict[dfname.format(i)]['import_dt'] = i \n",
    "print(\"Load of zip files finished. You may proceed\")"
   ]
  },
  {
   "cell_type": "markdown",
   "metadata": {},
   "source": [
    "Create a new list into which each dataframe (currently residing as values within the dictionary created above) will be added. Then use the DataFrame Concat feature to turn the list into a consolidated dataframe."
   ]
  },
  {
   "cell_type": "code",
   "execution_count": 6,
   "metadata": {},
   "outputs": [],
   "source": [
    "df_staging = []\n",
    "for key in df_dict:\n",
    "    df_staging.append(df_dict[key])\n",
    "    \n",
    "df = pd.concat(df_staging, ignore_index=True, sort=True)"
   ]
  },
  {
   "cell_type": "markdown",
   "metadata": {},
   "source": [
    "Perform exploratory data analysis (EDA). The first step is to look at XXXXX\n",
    "1. Look at dataframe shape\n",
    "x. Look at dataframe info\n",
    "x. Look at dataframe head\n",
    "x. Count the number of Nans by column"
   ]
  },
  {
   "cell_type": "code",
   "execution_count": null,
   "metadata": {},
   "outputs": [],
   "source": []
  },
  {
   "cell_type": "code",
   "execution_count": 7,
   "metadata": {},
   "outputs": [
    {
     "data": {
      "text/plain": [
       "access              350342\n",
       "accommodates             0\n",
       "amenities            12033\n",
       "availability_30         16\n",
       "availability_365        16\n",
       "                     ...  \n",
       "thumbnail_url       412893\n",
       "transit             298069\n",
       "weekly_price        604877\n",
       "xl_picture_url      412893\n",
       "zipcode              28257\n",
       "Length: 107, dtype: int64"
      ]
     },
     "execution_count": 7,
     "metadata": {},
     "output_type": "execute_result"
    }
   ],
   "source": [
    "df.isna().sum()"
   ]
  },
  {
   "cell_type": "markdown",
   "metadata": {},
   "source": [
    "Identify columns of interest and created a new dataframe with only columns of interest."
   ]
  },
  {
   "cell_type": "code",
   "execution_count": 8,
   "metadata": {},
   "outputs": [],
   "source": [
    "df_filtered = df[[\n",
    "        'id',\n",
    "        'last_scraped',\n",
    "        'neighbourhood_cleansed',\n",
    "        'neighbourhood_group_cleansed',\n",
    "        'latitude',\n",
    "        'longitude',\n",
    "        'property_type',\n",
    "        'room_type',\n",
    "        'bathrooms',\n",
    "        'bedrooms',\n",
    "        'beds',\n",
    "        'price',\n",
    "        'import_dt']]"
   ]
  },
  {
   "cell_type": "code",
   "execution_count": 9,
   "metadata": {},
   "outputs": [
    {
     "data": {
      "text/html": [
       "<div>\n",
       "<style scoped>\n",
       "    .dataframe tbody tr th:only-of-type {\n",
       "        vertical-align: middle;\n",
       "    }\n",
       "\n",
       "    .dataframe tbody tr th {\n",
       "        vertical-align: top;\n",
       "    }\n",
       "\n",
       "    .dataframe thead th {\n",
       "        text-align: right;\n",
       "    }\n",
       "</style>\n",
       "<table border=\"1\" class=\"dataframe\">\n",
       "  <thead>\n",
       "    <tr style=\"text-align: right;\">\n",
       "      <th></th>\n",
       "      <th>id</th>\n",
       "      <th>latitude</th>\n",
       "      <th>longitude</th>\n",
       "      <th>bathrooms</th>\n",
       "      <th>bedrooms</th>\n",
       "      <th>beds</th>\n",
       "    </tr>\n",
       "  </thead>\n",
       "  <tbody>\n",
       "    <tr>\n",
       "      <th>count</th>\n",
       "      <td>6.961910e+05</td>\n",
       "      <td>696191.000000</td>\n",
       "      <td>696191.000000</td>\n",
       "      <td>694812.000000</td>\n",
       "      <td>695699.000000</td>\n",
       "      <td>695061.000000</td>\n",
       "    </tr>\n",
       "    <tr>\n",
       "      <th>mean</th>\n",
       "      <td>1.346948e+07</td>\n",
       "      <td>41.392245</td>\n",
       "      <td>2.167440</td>\n",
       "      <td>1.295245</td>\n",
       "      <td>1.537321</td>\n",
       "      <td>2.240244</td>\n",
       "    </tr>\n",
       "    <tr>\n",
       "      <th>std</th>\n",
       "      <td>9.359402e+06</td>\n",
       "      <td>0.014948</td>\n",
       "      <td>0.018094</td>\n",
       "      <td>0.615929</td>\n",
       "      <td>0.985990</td>\n",
       "      <td>1.888418</td>\n",
       "    </tr>\n",
       "    <tr>\n",
       "      <th>min</th>\n",
       "      <td>5.808000e+03</td>\n",
       "      <td>41.330810</td>\n",
       "      <td>2.056991</td>\n",
       "      <td>0.000000</td>\n",
       "      <td>0.000000</td>\n",
       "      <td>0.000000</td>\n",
       "    </tr>\n",
       "    <tr>\n",
       "      <th>25%</th>\n",
       "      <td>5.197866e+06</td>\n",
       "      <td>41.380489</td>\n",
       "      <td>2.156780</td>\n",
       "      <td>1.000000</td>\n",
       "      <td>1.000000</td>\n",
       "      <td>1.000000</td>\n",
       "    </tr>\n",
       "    <tr>\n",
       "      <th>50%</th>\n",
       "      <td>1.326902e+07</td>\n",
       "      <td>41.389435</td>\n",
       "      <td>2.167893</td>\n",
       "      <td>1.000000</td>\n",
       "      <td>1.000000</td>\n",
       "      <td>2.000000</td>\n",
       "    </tr>\n",
       "    <tr>\n",
       "      <th>75%</th>\n",
       "      <td>1.998535e+07</td>\n",
       "      <td>41.402442</td>\n",
       "      <td>2.178107</td>\n",
       "      <td>1.500000</td>\n",
       "      <td>2.000000</td>\n",
       "      <td>3.000000</td>\n",
       "    </tr>\n",
       "    <tr>\n",
       "      <th>max</th>\n",
       "      <td>3.867327e+07</td>\n",
       "      <td>41.472114</td>\n",
       "      <td>2.231701</td>\n",
       "      <td>26.000000</td>\n",
       "      <td>16.000000</td>\n",
       "      <td>50.000000</td>\n",
       "    </tr>\n",
       "  </tbody>\n",
       "</table>\n",
       "</div>"
      ],
      "text/plain": [
       "                 id       latitude      longitude      bathrooms  \\\n",
       "count  6.961910e+05  696191.000000  696191.000000  694812.000000   \n",
       "mean   1.346948e+07      41.392245       2.167440       1.295245   \n",
       "std    9.359402e+06       0.014948       0.018094       0.615929   \n",
       "min    5.808000e+03      41.330810       2.056991       0.000000   \n",
       "25%    5.197866e+06      41.380489       2.156780       1.000000   \n",
       "50%    1.326902e+07      41.389435       2.167893       1.000000   \n",
       "75%    1.998535e+07      41.402442       2.178107       1.500000   \n",
       "max    3.867327e+07      41.472114       2.231701      26.000000   \n",
       "\n",
       "            bedrooms           beds  \n",
       "count  695699.000000  695061.000000  \n",
       "mean        1.537321       2.240244  \n",
       "std         0.985990       1.888418  \n",
       "min         0.000000       0.000000  \n",
       "25%         1.000000       1.000000  \n",
       "50%         1.000000       2.000000  \n",
       "75%         2.000000       3.000000  \n",
       "max        16.000000      50.000000  "
      ]
     },
     "execution_count": 9,
     "metadata": {},
     "output_type": "execute_result"
    }
   ],
   "source": [
    "df_filtered.describe()"
   ]
  },
  {
   "cell_type": "code",
   "execution_count": 10,
   "metadata": {},
   "outputs": [
    {
     "data": {
      "text/plain": [
       "(696191, 13)"
      ]
     },
     "execution_count": 10,
     "metadata": {},
     "output_type": "execute_result"
    }
   ],
   "source": [
    "df_filtered.shape"
   ]
  },
  {
   "cell_type": "code",
   "execution_count": 11,
   "metadata": {},
   "outputs": [
    {
     "name": "stdout",
     "output_type": "stream",
     "text": [
      "<class 'pandas.core.frame.DataFrame'>\n",
      "RangeIndex: 696191 entries, 0 to 696190\n",
      "Data columns (total 13 columns):\n",
      "id                              696191 non-null int64\n",
      "last_scraped                    696191 non-null object\n",
      "neighbourhood_cleansed          696191 non-null object\n",
      "neighbourhood_group_cleansed    696191 non-null object\n",
      "latitude                        696191 non-null float64\n",
      "longitude                       696191 non-null float64\n",
      "property_type                   696188 non-null object\n",
      "room_type                       696191 non-null object\n",
      "bathrooms                       694812 non-null float64\n",
      "bedrooms                        695699 non-null float64\n",
      "beds                            695061 non-null float64\n",
      "price                           696191 non-null object\n",
      "import_dt                       696191 non-null object\n",
      "dtypes: float64(5), int64(1), object(7)\n",
      "memory usage: 69.0+ MB\n"
     ]
    }
   ],
   "source": [
    "df_filtered.info()"
   ]
  },
  {
   "cell_type": "code",
   "execution_count": 12,
   "metadata": {},
   "outputs": [
    {
     "data": {
      "text/plain": [
       "Index(['id', 'last_scraped', 'neighbourhood_cleansed',\n",
       "       'neighbourhood_group_cleansed', 'latitude', 'longitude',\n",
       "       'property_type', 'room_type', 'bathrooms', 'bedrooms', 'beds', 'price',\n",
       "       'import_dt'],\n",
       "      dtype='object')"
      ]
     },
     "execution_count": 12,
     "metadata": {},
     "output_type": "execute_result"
    }
   ],
   "source": [
    "df_filtered.columns"
   ]
  },
  {
   "cell_type": "code",
   "execution_count": null,
   "metadata": {},
   "outputs": [],
   "source": []
  },
  {
   "cell_type": "markdown",
   "metadata": {},
   "source": [
    "Identify the room types (to determine which to exclude)."
   ]
  },
  {
   "cell_type": "code",
   "execution_count": 13,
   "metadata": {},
   "outputs": [
    {
     "data": {
      "text/plain": [
       "array(['Entire home/apt', 'Private room', 'Hotel room', 'Shared room'],\n",
       "      dtype=object)"
      ]
     },
     "execution_count": 13,
     "metadata": {},
     "output_type": "execute_result"
    }
   ],
   "source": [
    "df_filtered.room_type.unique()"
   ]
  },
  {
   "cell_type": "markdown",
   "metadata": {},
   "source": [
    "Identify indexies of rows within dataframe that are not 'Entire home/apt' and drop them from the dataframe.\n",
    "It should be noted that there are 696191 rows peforming this step."
   ]
  },
  {
   "cell_type": "code",
   "execution_count": 14,
   "metadata": {},
   "outputs": [],
   "source": [
    "indexNames = df_filtered[ df_filtered['room_type'] != 'Entire home/apt' ].index\n",
    "df_filtered = df_filtered.drop(indexNames)"
   ]
  },
  {
   "cell_type": "markdown",
   "metadata": {},
   "source": [
    "Now determine how many rows remain."
   ]
  },
  {
   "cell_type": "code",
   "execution_count": 15,
   "metadata": {},
   "outputs": [
    {
     "data": {
      "text/plain": [
       "(333564, 13)"
      ]
     },
     "execution_count": 15,
     "metadata": {},
     "output_type": "execute_result"
    }
   ],
   "source": [
    "df_filtered.shape"
   ]
  },
  {
   "cell_type": "markdown",
   "metadata": {},
   "source": [
    "Identify the different property types (to determine which to exclude)."
   ]
  },
  {
   "cell_type": "code",
   "execution_count": 16,
   "metadata": {},
   "outputs": [
    {
     "data": {
      "text/plain": [
       "array(['Apartment', 'Loft', 'Condominium', 'House', 'Serviced apartment',\n",
       "       'Boat', 'Guest suite', 'Townhouse', 'Villa', 'Chalet',\n",
       "       'Tiny house', 'Other', 'Guesthouse', 'Camper/RV',\n",
       "       'Casa particular (Cuba)', 'Earth house', 'Dome house', 'Hotel',\n",
       "       'Nature lodge', 'Aparthotel', 'Hostel', 'Houseboat', 'Barn',\n",
       "       'Casa particular', 'Bed and breakfast', 'Dorm', 'Farm stay',\n",
       "       'Resort', 'Hut', 'Boutique hotel', 'In-law', 'Bungalow',\n",
       "       'Vacation home', 'Cabin', 'Timeshare', 'Castle', 'Earth House',\n",
       "       'Bed & Breakfast', 'Floor', 'Tent', 'Train', 'Cave'], dtype=object)"
      ]
     },
     "execution_count": 16,
     "metadata": {},
     "output_type": "execute_result"
    }
   ],
   "source": [
    "df_filtered.property_type.unique()"
   ]
  },
  {
   "cell_type": "markdown",
   "metadata": {},
   "source": [
    "Identify indexies of rows within dataframe that are not of interest and drop them from the dataframe.\n",
    "It should be noted that there are XXXX rows before peforming this step. Also drop the rows with Nan value here."
   ]
  },
  {
   "cell_type": "code",
   "execution_count": 17,
   "metadata": {},
   "outputs": [
    {
     "data": {
      "text/plain": [
       "(313478, 13)"
      ]
     },
     "execution_count": 17,
     "metadata": {},
     "output_type": "execute_result"
    }
   ],
   "source": [
    "property_type2keep = ['Apartment', 'Loft',  'Condominium' ] # ,'Serviced apartment', 'House', 'Townhouse']\n",
    "indexNames = df_filtered[ ~df_filtered['property_type'].isin( property_type2keep) ].index\n",
    "df_filtered.drop(indexNames, inplace=True)\n",
    "df_filtered.dropna(subset=['property_type'], inplace=True) \n",
    "\n",
    "# Now determine how many rows remain.\n",
    "df_filtered.shape"
   ]
  },
  {
   "cell_type": "code",
   "execution_count": 18,
   "metadata": {},
   "outputs": [
    {
     "data": {
      "text/plain": [
       "array(['Apartment', 'Loft', 'Condominium'], dtype=object)"
      ]
     },
     "execution_count": 18,
     "metadata": {},
     "output_type": "execute_result"
    }
   ],
   "source": [
    "#Check that this worked\n",
    "df_filtered.property_type.unique()"
   ]
  },
  {
   "cell_type": "markdown",
   "metadata": {},
   "source": [
    "Determine if there are any Nan values remaining within the filtered dataset."
   ]
  },
  {
   "cell_type": "code",
   "execution_count": 19,
   "metadata": {},
   "outputs": [
    {
     "data": {
      "text/plain": [
       "id                                0\n",
       "last_scraped                      0\n",
       "neighbourhood_cleansed            0\n",
       "neighbourhood_group_cleansed      0\n",
       "latitude                          0\n",
       "longitude                         0\n",
       "property_type                     0\n",
       "room_type                         0\n",
       "bathrooms                       487\n",
       "bedrooms                        322\n",
       "beds                            188\n",
       "price                             0\n",
       "import_dt                         0\n",
       "dtype: int64"
      ]
     },
     "execution_count": 19,
     "metadata": {},
     "output_type": "execute_result"
    }
   ],
   "source": [
    "df_filtered.isna().sum()"
   ]
  },
  {
   "cell_type": "code",
   "execution_count": 20,
   "metadata": {},
   "outputs": [],
   "source": [
    "#Create a new column that turns current nightly price (string with preceeding $) into float\n",
    "locale.setlocale(locale.LC_ALL,'')\n",
    "df_filtered['priceUSD']=df_filtered.price.map(lambda x: locale.atof(x.strip('$')))"
   ]
  },
  {
   "cell_type": "markdown",
   "metadata": {},
   "source": [
    "Create box plots to identify outliers."
   ]
  },
  {
   "cell_type": "code",
   "execution_count": 21,
   "metadata": {},
   "outputs": [
    {
     "data": {
      "text/plain": [
       "<matplotlib.axes._subplots.AxesSubplot at 0x1d8873aa5c8>"
      ]
     },
     "execution_count": 21,
     "metadata": {},
     "output_type": "execute_result"
    },
    {
     "data": {
      "image/png": "[encoded data removed]",
      "text/plain": [
       "<Figure size 1080x720 with 2 Axes>"
      ]
     },
     "metadata": {
      "needs_background": "light"
     },
     "output_type": "display_data"
    }
   ],
   "source": [
    "fig, ax = plt.subplots(1,2, figsize = (15, 10)) #columns and rows, number of axes, figure size \n",
    "sns.boxplot(y = df_filtered.bedrooms, ax = ax[0]) #selecting y and axes where to draw\n",
    "sns.boxplot(y = df_filtered.bathrooms, ax = ax[1])\n"
   ]
  },
  {
   "cell_type": "markdown",
   "metadata": {},
   "source": [
    "Drop properties with less than one bathroom, as all property/ room types remaining should be self contained wellings with a bathroom. Also remove properties with more than 4 bathrooms as they are not the norm and likely to distort the data.\n",
    "Also delete those with Nan values. Once complete, see how many rows return."
   ]
  },
  {
   "cell_type": "code",
   "execution_count": 22,
   "metadata": {},
   "outputs": [
    {
     "name": "stdout",
     "output_type": "stream",
     "text": [
      "<class 'pandas.core.frame.DataFrame'>\n",
      "Int64Index: 77539 entries, 1 to 696186\n",
      "Data columns (total 14 columns):\n",
      "id                              77539 non-null int64\n",
      "last_scraped                    77539 non-null object\n",
      "neighbourhood_cleansed          77539 non-null object\n",
      "neighbourhood_group_cleansed    77539 non-null object\n",
      "latitude                        77539 non-null float64\n",
      "longitude                       77539 non-null float64\n",
      "property_type                   77539 non-null object\n",
      "room_type                       77539 non-null object\n",
      "bathrooms                       77539 non-null float64\n",
      "bedrooms                        77497 non-null float64\n",
      "beds                            77506 non-null float64\n",
      "price                           77539 non-null object\n",
      "import_dt                       77539 non-null object\n",
      "priceUSD                        77539 non-null float64\n",
      "dtypes: float64(6), int64(1), object(7)\n",
      "memory usage: 8.9+ MB\n"
     ]
    }
   ],
   "source": [
    "indexNames = df_filtered[ df_filtered['bathrooms'] <= 1.5 ].index\n",
    "df_filtered.drop(indexNames , inplace=True)\n",
    "\n",
    "indexNames = df_filtered[ df_filtered['bathrooms'] > 2 ].index\n",
    "df_filtered.drop(indexNames , inplace=True)\n",
    "\n",
    "df_filtered.dropna(subset = ['bathrooms'], inplace=True)\n",
    "\n",
    "df_filtered.info()"
   ]
  },
  {
   "cell_type": "code",
   "execution_count": null,
   "metadata": {},
   "outputs": [],
   "source": []
  },
  {
   "cell_type": "code",
   "execution_count": null,
   "metadata": {},
   "outputs": [],
   "source": []
  },
  {
   "cell_type": "markdown",
   "metadata": {},
   "source": [
    "Drop properties with more than 5 bedrooms as they are not the norm and likely to distort the data.\n",
    "Also replace Nan values with 0 - as these could be studios apartments without physical bedrooms. Once complete, see how many rows remain."
   ]
  },
  {
   "cell_type": "code",
   "execution_count": 23,
   "metadata": {},
   "outputs": [
    {
     "name": "stdout",
     "output_type": "stream",
     "text": [
      "<class 'pandas.core.frame.DataFrame'>\n",
      "Int64Index: 26930 entries, 25 to 696182\n",
      "Data columns (total 14 columns):\n",
      "id                              26930 non-null int64\n",
      "last_scraped                    26930 non-null object\n",
      "neighbourhood_cleansed          26930 non-null object\n",
      "neighbourhood_group_cleansed    26930 non-null object\n",
      "latitude                        26930 non-null float64\n",
      "longitude                       26930 non-null float64\n",
      "property_type                   26930 non-null object\n",
      "room_type                       26930 non-null object\n",
      "bathrooms                       26930 non-null float64\n",
      "bedrooms                        26930 non-null float64\n",
      "beds                            26926 non-null float64\n",
      "price                           26930 non-null object\n",
      "import_dt                       26930 non-null object\n",
      "priceUSD                        26930 non-null float64\n",
      "dtypes: float64(6), int64(1), object(7)\n",
      "memory usage: 3.1+ MB\n"
     ]
    }
   ],
   "source": [
    "values = {'bedrooms': 0,}\n",
    "df_filtered.fillna(value=values, inplace=True)\n",
    "\n",
    "indexNames = df_filtered[ df_filtered['bedrooms'] != 2 ].index\n",
    "df_filtered.drop(indexNames , inplace=True)\n",
    "\n",
    "df_filtered.info()"
   ]
  },
  {
   "cell_type": "code",
   "execution_count": null,
   "metadata": {},
   "outputs": [],
   "source": []
  },
  {
   "cell_type": "code",
   "execution_count": null,
   "metadata": {},
   "outputs": [],
   "source": []
  },
  {
   "cell_type": "code",
   "execution_count": null,
   "metadata": {},
   "outputs": [],
   "source": []
  },
  {
   "cell_type": "code",
   "execution_count": null,
   "metadata": {},
   "outputs": [],
   "source": []
  },
  {
   "cell_type": "code",
   "execution_count": null,
   "metadata": {},
   "outputs": [],
   "source": []
  },
  {
   "cell_type": "markdown",
   "metadata": {},
   "source": [
    "Create a version of the clean dataframe that doesn't have duplicates and only shows the most recent values"
   ]
  },
  {
   "cell_type": "code",
   "execution_count": 24,
   "metadata": {},
   "outputs": [
    {
     "data": {
      "text/plain": [
       "(2772, 14)"
      ]
     },
     "execution_count": 24,
     "metadata": {},
     "output_type": "execute_result"
    }
   ],
   "source": [
    "#Create a new copy of filtered DF called df_filteredND (No Duplicates)\n",
    "df_filteredND = df_filtered\n",
    "\n",
    "#Now to sort by id (property unique identifier) ascending and import date descending\n",
    "df_filteredND.sort_values(['id', 'import_dt'], ascending=[True, False],inplace=True)\n",
    "\n",
    "#remove duplicate - now showing most recent (as will be useful for last known price on platform, etc)\n",
    "df_filteredND = df_filteredND.drop_duplicates(subset='id', keep='first')\n",
    "\n",
    "df_filteredND.shape"
   ]
  },
  {
   "cell_type": "code",
   "execution_count": 25,
   "metadata": {},
   "outputs": [
    {
     "data": {
      "text/html": [
       "<div>\n",
       "<style scoped>\n",
       "    .dataframe tbody tr th:only-of-type {\n",
       "        vertical-align: middle;\n",
       "    }\n",
       "\n",
       "    .dataframe tbody tr th {\n",
       "        vertical-align: top;\n",
       "    }\n",
       "\n",
       "    .dataframe thead th {\n",
       "        text-align: right;\n",
       "    }\n",
       "</style>\n",
       "<table border=\"1\" class=\"dataframe\">\n",
       "  <thead>\n",
       "    <tr style=\"text-align: right;\">\n",
       "      <th></th>\n",
       "      <th>id</th>\n",
       "      <th>last_scraped</th>\n",
       "      <th>neighbourhood_cleansed</th>\n",
       "      <th>neighbourhood_group_cleansed</th>\n",
       "      <th>latitude</th>\n",
       "      <th>longitude</th>\n",
       "      <th>property_type</th>\n",
       "      <th>room_type</th>\n",
       "      <th>bathrooms</th>\n",
       "      <th>bedrooms</th>\n",
       "      <th>beds</th>\n",
       "      <th>price</th>\n",
       "      <th>import_dt</th>\n",
       "      <th>priceUSD</th>\n",
       "    </tr>\n",
       "  </thead>\n",
       "  <tbody>\n",
       "    <tr>\n",
       "      <th>690330</th>\n",
       "      <td>36620</td>\n",
       "      <td>2015-04-30</td>\n",
       "      <td>Sant Pere, Santa Caterina i la Ribera</td>\n",
       "      <td>Ciutat Vella</td>\n",
       "      <td>41.386929</td>\n",
       "      <td>2.183409</td>\n",
       "      <td>Apartment</td>\n",
       "      <td>Entire home/apt</td>\n",
       "      <td>2.0</td>\n",
       "      <td>2.0</td>\n",
       "      <td>3.0</td>\n",
       "      <td>$120.00</td>\n",
       "      <td>2015-04-30</td>\n",
       "      <td>120.0</td>\n",
       "    </tr>\n",
       "    <tr>\n",
       "      <th>355238</th>\n",
       "      <td>41952</td>\n",
       "      <td>2018-01-17</td>\n",
       "      <td>el Camp d'en Grassot i Gràcia Nova</td>\n",
       "      <td>Gràcia</td>\n",
       "      <td>41.405653</td>\n",
       "      <td>2.169320</td>\n",
       "      <td>Apartment</td>\n",
       "      <td>Entire home/apt</td>\n",
       "      <td>2.0</td>\n",
       "      <td>2.0</td>\n",
       "      <td>4.0</td>\n",
       "      <td>$110.00</td>\n",
       "      <td>2018-01-17</td>\n",
       "      <td>110.0</td>\n",
       "    </tr>\n",
       "    <tr>\n",
       "      <th>650620</th>\n",
       "      <td>59333</td>\n",
       "      <td>2015-10-02</td>\n",
       "      <td>Sarrià</td>\n",
       "      <td>Sarrià-Sant Gervasi</td>\n",
       "      <td>41.408367</td>\n",
       "      <td>2.115572</td>\n",
       "      <td>Apartment</td>\n",
       "      <td>Entire home/apt</td>\n",
       "      <td>2.0</td>\n",
       "      <td>2.0</td>\n",
       "      <td>5.0</td>\n",
       "      <td>$212.00</td>\n",
       "      <td>2015-10-02</td>\n",
       "      <td>212.0</td>\n",
       "    </tr>\n",
       "    <tr>\n",
       "      <th>25</th>\n",
       "      <td>66037</td>\n",
       "      <td>2019-09-17</td>\n",
       "      <td>Sant Pere, Santa Caterina i la Ribera</td>\n",
       "      <td>Ciutat Vella</td>\n",
       "      <td>41.383220</td>\n",
       "      <td>2.182340</td>\n",
       "      <td>Apartment</td>\n",
       "      <td>Entire home/apt</td>\n",
       "      <td>2.0</td>\n",
       "      <td>2.0</td>\n",
       "      <td>3.0</td>\n",
       "      <td>$190.00</td>\n",
       "      <td>2019-09-17</td>\n",
       "      <td>190.0</td>\n",
       "    </tr>\n",
       "    <tr>\n",
       "      <th>31</th>\n",
       "      <td>71603</td>\n",
       "      <td>2019-09-17</td>\n",
       "      <td>la Dreta de l'Eixample</td>\n",
       "      <td>Eixample</td>\n",
       "      <td>41.390380</td>\n",
       "      <td>2.176060</td>\n",
       "      <td>Apartment</td>\n",
       "      <td>Entire home/apt</td>\n",
       "      <td>2.0</td>\n",
       "      <td>2.0</td>\n",
       "      <td>4.0</td>\n",
       "      <td>$390.00</td>\n",
       "      <td>2019-09-17</td>\n",
       "      <td>390.0</td>\n",
       "    </tr>\n",
       "  </tbody>\n",
       "</table>\n",
       "</div>"
      ],
      "text/plain": [
       "           id last_scraped                 neighbourhood_cleansed  \\\n",
       "690330  36620   2015-04-30  Sant Pere, Santa Caterina i la Ribera   \n",
       "355238  41952   2018-01-17     el Camp d'en Grassot i Gràcia Nova   \n",
       "650620  59333   2015-10-02                                 Sarrià   \n",
       "25      66037   2019-09-17  Sant Pere, Santa Caterina i la Ribera   \n",
       "31      71603   2019-09-17                 la Dreta de l'Eixample   \n",
       "\n",
       "       neighbourhood_group_cleansed   latitude  longitude property_type  \\\n",
       "690330                 Ciutat Vella  41.386929   2.183409     Apartment   \n",
       "355238                       Gràcia  41.405653   2.169320     Apartment   \n",
       "650620          Sarrià-Sant Gervasi  41.408367   2.115572     Apartment   \n",
       "25                     Ciutat Vella  41.383220   2.182340     Apartment   \n",
       "31                         Eixample  41.390380   2.176060     Apartment   \n",
       "\n",
       "              room_type  bathrooms  bedrooms  beds    price   import_dt  \\\n",
       "690330  Entire home/apt        2.0       2.0   3.0  $120.00  2015-04-30   \n",
       "355238  Entire home/apt        2.0       2.0   4.0  $110.00  2018-01-17   \n",
       "650620  Entire home/apt        2.0       2.0   5.0  $212.00  2015-10-02   \n",
       "25      Entire home/apt        2.0       2.0   3.0  $190.00  2019-09-17   \n",
       "31      Entire home/apt        2.0       2.0   4.0  $390.00  2019-09-17   \n",
       "\n",
       "        priceUSD  \n",
       "690330     120.0  \n",
       "355238     110.0  \n",
       "650620     212.0  \n",
       "25         190.0  \n",
       "31         390.0  "
      ]
     },
     "execution_count": 25,
     "metadata": {},
     "output_type": "execute_result"
    }
   ],
   "source": [
    "df_filteredND.head()"
   ]
  },
  {
   "cell_type": "code",
   "execution_count": null,
   "metadata": {},
   "outputs": [],
   "source": []
  },
  {
   "cell_type": "code",
   "execution_count": null,
   "metadata": {},
   "outputs": [],
   "source": []
  },
  {
   "cell_type": "code",
   "execution_count": null,
   "metadata": {},
   "outputs": [],
   "source": []
  },
  {
   "cell_type": "code",
   "execution_count": null,
   "metadata": {},
   "outputs": [],
   "source": []
  },
  {
   "cell_type": "code",
   "execution_count": null,
   "metadata": {},
   "outputs": [],
   "source": []
  },
  {
   "cell_type": "code",
   "execution_count": null,
   "metadata": {},
   "outputs": [],
   "source": []
  },
  {
   "cell_type": "markdown",
   "metadata": {},
   "source": [
    "Create a new dataframe that contains each property (identified by 'id' column) also include date(s) it was scraped and price."
   ]
  },
  {
   "cell_type": "code",
   "execution_count": 26,
   "metadata": {},
   "outputs": [
    {
     "name": "stderr",
     "output_type": "stream",
     "text": [
      "C:\\Users\\ellio\\Anaconda3\\envs\\test\\lib\\site-packages\\ipykernel_launcher.py:3: SettingWithCopyWarning: \n",
      "A value is trying to be set on a copy of a slice from a DataFrame\n",
      "\n",
      "See the caveats in the documentation: http://pandas.pydata.org/pandas-docs/stable/user_guide/indexing.html#returning-a-view-versus-a-copy\n",
      "  This is separate from the ipykernel package so we can avoid doing imports until\n"
     ]
    }
   ],
   "source": [
    "df_slim_stg = df_filtered[['id','import_dt']]\n",
    "\n",
    "df_slim_stg.sort_values(['id', 'import_dt'], ascending=[True, False],inplace=True)"
   ]
  },
  {
   "cell_type": "code",
   "execution_count": 27,
   "metadata": {},
   "outputs": [
    {
     "data": {
      "text/html": [
       "<div>\n",
       "<style scoped>\n",
       "    .dataframe tbody tr th:only-of-type {\n",
       "        vertical-align: middle;\n",
       "    }\n",
       "\n",
       "    .dataframe tbody tr th {\n",
       "        vertical-align: top;\n",
       "    }\n",
       "\n",
       "    .dataframe thead th {\n",
       "        text-align: right;\n",
       "    }\n",
       "</style>\n",
       "<table border=\"1\" class=\"dataframe\">\n",
       "  <thead>\n",
       "    <tr style=\"text-align: right;\">\n",
       "      <th></th>\n",
       "      <th>id</th>\n",
       "      <th>import_dt</th>\n",
       "    </tr>\n",
       "  </thead>\n",
       "  <tbody>\n",
       "    <tr>\n",
       "      <th>690330</th>\n",
       "      <td>36620</td>\n",
       "      <td>2015-04-30</td>\n",
       "    </tr>\n",
       "    <tr>\n",
       "      <th>355238</th>\n",
       "      <td>41952</td>\n",
       "      <td>2018-01-17</td>\n",
       "    </tr>\n",
       "    <tr>\n",
       "      <th>389752</th>\n",
       "      <td>41952</td>\n",
       "      <td>2017-12-09</td>\n",
       "    </tr>\n",
       "    <tr>\n",
       "      <th>408459</th>\n",
       "      <td>41952</td>\n",
       "      <td>2017-11-13</td>\n",
       "    </tr>\n",
       "    <tr>\n",
       "      <th>426432</th>\n",
       "      <td>41952</td>\n",
       "      <td>2017-10-07</td>\n",
       "    </tr>\n",
       "  </tbody>\n",
       "</table>\n",
       "</div>"
      ],
      "text/plain": [
       "           id   import_dt\n",
       "690330  36620  2015-04-30\n",
       "355238  41952  2018-01-17\n",
       "389752  41952  2017-12-09\n",
       "408459  41952  2017-11-13\n",
       "426432  41952  2017-10-07"
      ]
     },
     "execution_count": 27,
     "metadata": {},
     "output_type": "execute_result"
    }
   ],
   "source": [
    "df_slim_stg.head()"
   ]
  },
  {
   "cell_type": "markdown",
   "metadata": {},
   "source": [
    "Use existing column value (string) to make a datetime date to calculate duration that property is/ has been on the platform."
   ]
  },
  {
   "cell_type": "code",
   "execution_count": 28,
   "metadata": {},
   "outputs": [
    {
     "name": "stderr",
     "output_type": "stream",
     "text": [
      "C:\\Users\\ellio\\Anaconda3\\envs\\test\\lib\\site-packages\\ipykernel_launcher.py:11: SettingWithCopyWarning: \n",
      "A value is trying to be set on a copy of a slice from a DataFrame.\n",
      "Try using .loc[row_indexer,col_indexer] = value instead\n",
      "\n",
      "See the caveats in the documentation: http://pandas.pydata.org/pandas-docs/stable/user_guide/indexing.html#returning-a-view-versus-a-copy\n",
      "  # This is added back by InteractiveShellApp.init_path()\n"
     ]
    },
    {
     "data": {
      "text/html": [
       "<div>\n",
       "<style scoped>\n",
       "    .dataframe tbody tr th:only-of-type {\n",
       "        vertical-align: middle;\n",
       "    }\n",
       "\n",
       "    .dataframe tbody tr th {\n",
       "        vertical-align: top;\n",
       "    }\n",
       "\n",
       "    .dataframe thead th {\n",
       "        text-align: right;\n",
       "    }\n",
       "</style>\n",
       "<table border=\"1\" class=\"dataframe\">\n",
       "  <thead>\n",
       "    <tr style=\"text-align: right;\">\n",
       "      <th></th>\n",
       "      <th>id</th>\n",
       "      <th>import_dt</th>\n",
       "      <th>scrape_dt</th>\n",
       "    </tr>\n",
       "  </thead>\n",
       "  <tbody>\n",
       "    <tr>\n",
       "      <th>690330</th>\n",
       "      <td>36620</td>\n",
       "      <td>2015-04-30</td>\n",
       "      <td>2015-04-30</td>\n",
       "    </tr>\n",
       "    <tr>\n",
       "      <th>355238</th>\n",
       "      <td>41952</td>\n",
       "      <td>2018-01-17</td>\n",
       "      <td>2018-01-17</td>\n",
       "    </tr>\n",
       "    <tr>\n",
       "      <th>389752</th>\n",
       "      <td>41952</td>\n",
       "      <td>2017-12-09</td>\n",
       "      <td>2017-12-09</td>\n",
       "    </tr>\n",
       "    <tr>\n",
       "      <th>408459</th>\n",
       "      <td>41952</td>\n",
       "      <td>2017-11-13</td>\n",
       "      <td>2017-11-13</td>\n",
       "    </tr>\n",
       "    <tr>\n",
       "      <th>426432</th>\n",
       "      <td>41952</td>\n",
       "      <td>2017-10-07</td>\n",
       "      <td>2017-10-07</td>\n",
       "    </tr>\n",
       "  </tbody>\n",
       "</table>\n",
       "</div>"
      ],
      "text/plain": [
       "           id   import_dt  scrape_dt\n",
       "690330  36620  2015-04-30 2015-04-30\n",
       "355238  41952  2018-01-17 2018-01-17\n",
       "389752  41952  2017-12-09 2017-12-09\n",
       "408459  41952  2017-11-13 2017-11-13\n",
       "426432  41952  2017-10-07 2017-10-07"
      ]
     },
     "execution_count": 28,
     "metadata": {},
     "output_type": "execute_result"
    }
   ],
   "source": [
    "def strtodate(row):\n",
    "    '''\n",
    "    Input: String in format YYYY-MM-DD\n",
    "    Output: Correspdining Datetime\n",
    "    \n",
    "    The purpose of this function is to convert a string to datetime, so that timedeltas can be calculated on them.\n",
    "    '''\n",
    "    return datetime.strptime(row['import_dt'], '%Y-%m-%d')\n",
    "\n",
    "\n",
    "df_slim_stg['scrape_dt'] = df_slim_stg.apply(strtodate, axis = 1)\n",
    "\n",
    "df_slim_stg.head()"
   ]
  },
  {
   "cell_type": "code",
   "execution_count": null,
   "metadata": {},
   "outputs": [],
   "source": []
  },
  {
   "cell_type": "code",
   "execution_count": 29,
   "metadata": {},
   "outputs": [
    {
     "data": {
      "text/html": [
       "<div>\n",
       "<style scoped>\n",
       "    .dataframe tbody tr th:only-of-type {\n",
       "        vertical-align: middle;\n",
       "    }\n",
       "\n",
       "    .dataframe tbody tr th {\n",
       "        vertical-align: top;\n",
       "    }\n",
       "\n",
       "    .dataframe thead tr th {\n",
       "        text-align: left;\n",
       "    }\n",
       "</style>\n",
       "<table border=\"1\" class=\"dataframe\">\n",
       "  <thead>\n",
       "    <tr>\n",
       "      <th></th>\n",
       "      <th>id</th>\n",
       "      <th colspan=\"2\" halign=\"left\">scrape_dt</th>\n",
       "    </tr>\n",
       "    <tr>\n",
       "      <th></th>\n",
       "      <th></th>\n",
       "      <th>amin</th>\n",
       "      <th>amax</th>\n",
       "    </tr>\n",
       "  </thead>\n",
       "  <tbody>\n",
       "    <tr>\n",
       "      <th>0</th>\n",
       "      <td>36620</td>\n",
       "      <td>2015-04-30</td>\n",
       "      <td>2015-04-30</td>\n",
       "    </tr>\n",
       "    <tr>\n",
       "      <th>1</th>\n",
       "      <td>41952</td>\n",
       "      <td>2015-04-30</td>\n",
       "      <td>2018-01-17</td>\n",
       "    </tr>\n",
       "    <tr>\n",
       "      <th>2</th>\n",
       "      <td>59333</td>\n",
       "      <td>2015-04-30</td>\n",
       "      <td>2015-10-02</td>\n",
       "    </tr>\n",
       "    <tr>\n",
       "      <th>3</th>\n",
       "      <td>66037</td>\n",
       "      <td>2015-04-30</td>\n",
       "      <td>2019-09-17</td>\n",
       "    </tr>\n",
       "    <tr>\n",
       "      <th>4</th>\n",
       "      <td>71603</td>\n",
       "      <td>2019-07-10</td>\n",
       "      <td>2019-09-17</td>\n",
       "    </tr>\n",
       "  </tbody>\n",
       "</table>\n",
       "</div>"
      ],
      "text/plain": [
       "      id  scrape_dt           \n",
       "               amin       amax\n",
       "0  36620 2015-04-30 2015-04-30\n",
       "1  41952 2015-04-30 2018-01-17\n",
       "2  59333 2015-04-30 2015-10-02\n",
       "3  66037 2015-04-30 2019-09-17\n",
       "4  71603 2019-07-10 2019-09-17"
      ]
     },
     "execution_count": 29,
     "metadata": {},
     "output_type": "execute_result"
    }
   ],
   "source": [
    "df_slim = df_slim_stg.groupby('id').agg({'scrape_dt' : [np.min, np.max]})\n",
    "\n",
    "#Drop the index as this is property identifier (id). This will make a new column to be renamed.\n",
    "df_slim = df_slim.reset_index()\n",
    "\n",
    "#Check output\n",
    "df_slim.head()"
   ]
  },
  {
   "cell_type": "code",
   "execution_count": null,
   "metadata": {},
   "outputs": [],
   "source": []
  },
  {
   "cell_type": "code",
   "execution_count": null,
   "metadata": {},
   "outputs": [],
   "source": []
  },
  {
   "cell_type": "code",
   "execution_count": null,
   "metadata": {},
   "outputs": [],
   "source": []
  },
  {
   "cell_type": "code",
   "execution_count": null,
   "metadata": {},
   "outputs": [],
   "source": []
  },
  {
   "cell_type": "code",
   "execution_count": null,
   "metadata": {},
   "outputs": [],
   "source": []
  },
  {
   "cell_type": "markdown",
   "metadata": {},
   "source": [
    "Create a new colum that determines if the property is still active on the platform."
   ]
  },
  {
   "cell_type": "code",
   "execution_count": 30,
   "metadata": {},
   "outputs": [
    {
     "data": {
      "text/html": [
       "<div>\n",
       "<style scoped>\n",
       "    .dataframe tbody tr th:only-of-type {\n",
       "        vertical-align: middle;\n",
       "    }\n",
       "\n",
       "    .dataframe tbody tr th {\n",
       "        vertical-align: top;\n",
       "    }\n",
       "\n",
       "    .dataframe thead tr th {\n",
       "        text-align: left;\n",
       "    }\n",
       "</style>\n",
       "<table border=\"1\" class=\"dataframe\">\n",
       "  <thead>\n",
       "    <tr>\n",
       "      <th></th>\n",
       "      <th>id</th>\n",
       "      <th colspan=\"2\" halign=\"left\">scrape_dt</th>\n",
       "      <th>stillactive</th>\n",
       "    </tr>\n",
       "    <tr>\n",
       "      <th></th>\n",
       "      <th></th>\n",
       "      <th>amin</th>\n",
       "      <th>amax</th>\n",
       "      <th></th>\n",
       "    </tr>\n",
       "  </thead>\n",
       "  <tbody>\n",
       "    <tr>\n",
       "      <th>0</th>\n",
       "      <td>36620</td>\n",
       "      <td>2015-04-30</td>\n",
       "      <td>2015-04-30</td>\n",
       "      <td>0</td>\n",
       "    </tr>\n",
       "    <tr>\n",
       "      <th>1</th>\n",
       "      <td>41952</td>\n",
       "      <td>2015-04-30</td>\n",
       "      <td>2018-01-17</td>\n",
       "      <td>0</td>\n",
       "    </tr>\n",
       "    <tr>\n",
       "      <th>2</th>\n",
       "      <td>59333</td>\n",
       "      <td>2015-04-30</td>\n",
       "      <td>2015-10-02</td>\n",
       "      <td>0</td>\n",
       "    </tr>\n",
       "    <tr>\n",
       "      <th>3</th>\n",
       "      <td>66037</td>\n",
       "      <td>2015-04-30</td>\n",
       "      <td>2019-09-17</td>\n",
       "      <td>1</td>\n",
       "    </tr>\n",
       "    <tr>\n",
       "      <th>4</th>\n",
       "      <td>71603</td>\n",
       "      <td>2019-07-10</td>\n",
       "      <td>2019-09-17</td>\n",
       "      <td>1</td>\n",
       "    </tr>\n",
       "  </tbody>\n",
       "</table>\n",
       "</div>"
      ],
      "text/plain": [
       "      id  scrape_dt            stillactive\n",
       "               amin       amax            \n",
       "0  36620 2015-04-30 2015-04-30           0\n",
       "1  41952 2015-04-30 2018-01-17           0\n",
       "2  59333 2015-04-30 2015-10-02           0\n",
       "3  66037 2015-04-30 2019-09-17           1\n",
       "4  71603 2019-07-10 2019-09-17           1"
      ]
     },
     "execution_count": 30,
     "metadata": {},
     "output_type": "execute_result"
    }
   ],
   "source": [
    "def mostrecent(row):\n",
    "    '''\n",
    "    Input: Date\n",
    "    Output: 1 if date matches 17 September 2019 or 0 if it does not\n",
    "    \n",
    "    This will help to determine if the property is still active on the platform.\n",
    "    '''\n",
    "    if row == datetime.strptime('2019-09-17', '%Y-%m-%d'):\n",
    "        return 1\n",
    "    else:\n",
    "        return 0\n",
    "\n",
    "\n",
    "df_slim['stillactive'] = df_slim['scrape_dt']['amax'].apply(mostrecent)\n",
    "\n",
    "#Check output\n",
    "\n",
    "df_slim.head()"
   ]
  },
  {
   "cell_type": "code",
   "execution_count": 31,
   "metadata": {},
   "outputs": [
    {
     "data": {
      "text/plain": [
       "0    1987\n",
       "1     785\n",
       "Name: stillactive, dtype: int64"
      ]
     },
     "execution_count": 31,
     "metadata": {},
     "output_type": "execute_result"
    }
   ],
   "source": [
    "#Check to see how many 'still active rows there are\n",
    "df_slim['stillactive'].value_counts()"
   ]
  },
  {
   "cell_type": "markdown",
   "metadata": {},
   "source": [
    "Create a new columns to calculate the number of days that the property has been on the platform."
   ]
  },
  {
   "cell_type": "code",
   "execution_count": 32,
   "metadata": {},
   "outputs": [
    {
     "data": {
      "text/html": [
       "<div>\n",
       "<style scoped>\n",
       "    .dataframe tbody tr th:only-of-type {\n",
       "        vertical-align: middle;\n",
       "    }\n",
       "\n",
       "    .dataframe tbody tr th {\n",
       "        vertical-align: top;\n",
       "    }\n",
       "\n",
       "    .dataframe thead tr th {\n",
       "        text-align: left;\n",
       "    }\n",
       "</style>\n",
       "<table border=\"1\" class=\"dataframe\">\n",
       "  <thead>\n",
       "    <tr>\n",
       "      <th></th>\n",
       "      <th>id</th>\n",
       "      <th colspan=\"2\" halign=\"left\">scrape_dt</th>\n",
       "      <th>stillactive</th>\n",
       "      <th>days_online</th>\n",
       "    </tr>\n",
       "    <tr>\n",
       "      <th></th>\n",
       "      <th></th>\n",
       "      <th>amin</th>\n",
       "      <th>amax</th>\n",
       "      <th></th>\n",
       "      <th></th>\n",
       "    </tr>\n",
       "  </thead>\n",
       "  <tbody>\n",
       "    <tr>\n",
       "      <th>0</th>\n",
       "      <td>36620</td>\n",
       "      <td>2015-04-30</td>\n",
       "      <td>2015-04-30</td>\n",
       "      <td>0</td>\n",
       "      <td>0 days</td>\n",
       "    </tr>\n",
       "    <tr>\n",
       "      <th>1</th>\n",
       "      <td>41952</td>\n",
       "      <td>2015-04-30</td>\n",
       "      <td>2018-01-17</td>\n",
       "      <td>0</td>\n",
       "      <td>993 days</td>\n",
       "    </tr>\n",
       "    <tr>\n",
       "      <th>2</th>\n",
       "      <td>59333</td>\n",
       "      <td>2015-04-30</td>\n",
       "      <td>2015-10-02</td>\n",
       "      <td>0</td>\n",
       "      <td>155 days</td>\n",
       "    </tr>\n",
       "    <tr>\n",
       "      <th>3</th>\n",
       "      <td>66037</td>\n",
       "      <td>2015-04-30</td>\n",
       "      <td>2019-09-17</td>\n",
       "      <td>1</td>\n",
       "      <td>1601 days</td>\n",
       "    </tr>\n",
       "    <tr>\n",
       "      <th>4</th>\n",
       "      <td>71603</td>\n",
       "      <td>2019-07-10</td>\n",
       "      <td>2019-09-17</td>\n",
       "      <td>1</td>\n",
       "      <td>69 days</td>\n",
       "    </tr>\n",
       "  </tbody>\n",
       "</table>\n",
       "</div>"
      ],
      "text/plain": [
       "      id  scrape_dt            stillactive days_online\n",
       "               amin       amax                        \n",
       "0  36620 2015-04-30 2015-04-30           0      0 days\n",
       "1  41952 2015-04-30 2018-01-17           0    993 days\n",
       "2  59333 2015-04-30 2015-10-02           0    155 days\n",
       "3  66037 2015-04-30 2019-09-17           1   1601 days\n",
       "4  71603 2019-07-10 2019-09-17           1     69 days"
      ]
     },
     "execution_count": 32,
     "metadata": {},
     "output_type": "execute_result"
    }
   ],
   "source": [
    "def daysonline(row):\n",
    "    '''\n",
    "    Input: First Date and Last Dates that the property was seen on the platform\n",
    "    Output: Number of days\n",
    "    \n",
    "    This will help to determine how long the  property is/ was listed on the platform for.\n",
    "    '''\n",
    "    return row['scrape_dt']['amax'] - row['scrape_dt']['amin']\n",
    "\n",
    "df_slim['days_online'] = df_slim.apply(daysonline, axis = 1)\n",
    "\n",
    "#Check output\n",
    "df_slim.head()"
   ]
  },
  {
   "cell_type": "code",
   "execution_count": null,
   "metadata": {},
   "outputs": [],
   "source": []
  },
  {
   "cell_type": "markdown",
   "metadata": {},
   "source": [
    "Create a final dataframe from df_slim and df_filteredND"
   ]
  },
  {
   "cell_type": "code",
   "execution_count": 34,
   "metadata": {},
   "outputs": [
    {
     "name": "stderr",
     "output_type": "stream",
     "text": [
      "C:\\Users\\ellio\\Anaconda3\\envs\\test\\lib\\site-packages\\pandas\\core\\reshape\\merge.py:617: UserWarning: merging between different levels can give an unintended result (2 levels on the left, 1 on the right)\n",
      "  warnings.warn(msg, UserWarning)\n"
     ]
    }
   ],
   "source": [
    "df_final = pd.merge(df_slim,df_filteredND\n",
    "                    [['id', 'neighbourhood_cleansed','neighbourhood_group_cleansed','latitude',\n",
    "                      'longitude','property_type','bathrooms','bedrooms','priceUSD']],\n",
    "                    left_on='id', right_on='id', how='left')"
   ]
  },
  {
   "cell_type": "code",
   "execution_count": 35,
   "metadata": {},
   "outputs": [
    {
     "data": {
      "text/html": [
       "<div>\n",
       "<style scoped>\n",
       "    .dataframe tbody tr th:only-of-type {\n",
       "        vertical-align: middle;\n",
       "    }\n",
       "\n",
       "    .dataframe tbody tr th {\n",
       "        vertical-align: top;\n",
       "    }\n",
       "\n",
       "    .dataframe thead th {\n",
       "        text-align: right;\n",
       "    }\n",
       "</style>\n",
       "<table border=\"1\" class=\"dataframe\">\n",
       "  <thead>\n",
       "    <tr style=\"text-align: right;\">\n",
       "      <th></th>\n",
       "      <th>id</th>\n",
       "      <th>(id, )</th>\n",
       "      <th>(scrape_dt, amin)</th>\n",
       "      <th>(scrape_dt, amax)</th>\n",
       "      <th>(stillactive, )</th>\n",
       "      <th>(days_online, )</th>\n",
       "      <th>neighbourhood_cleansed</th>\n",
       "      <th>neighbourhood_group_cleansed</th>\n",
       "      <th>latitude</th>\n",
       "      <th>longitude</th>\n",
       "      <th>property_type</th>\n",
       "      <th>bathrooms</th>\n",
       "      <th>bedrooms</th>\n",
       "      <th>priceUSD</th>\n",
       "    </tr>\n",
       "  </thead>\n",
       "  <tbody>\n",
       "    <tr>\n",
       "      <th>0</th>\n",
       "      <td>36620</td>\n",
       "      <td>36620</td>\n",
       "      <td>2015-04-30</td>\n",
       "      <td>2015-04-30</td>\n",
       "      <td>0</td>\n",
       "      <td>0 days</td>\n",
       "      <td>Sant Pere, Santa Caterina i la Ribera</td>\n",
       "      <td>Ciutat Vella</td>\n",
       "      <td>41.386929</td>\n",
       "      <td>2.183409</td>\n",
       "      <td>Apartment</td>\n",
       "      <td>2.0</td>\n",
       "      <td>2.0</td>\n",
       "      <td>120.0</td>\n",
       "    </tr>\n",
       "    <tr>\n",
       "      <th>1</th>\n",
       "      <td>41952</td>\n",
       "      <td>41952</td>\n",
       "      <td>2015-04-30</td>\n",
       "      <td>2018-01-17</td>\n",
       "      <td>0</td>\n",
       "      <td>993 days</td>\n",
       "      <td>el Camp d'en Grassot i Gràcia Nova</td>\n",
       "      <td>Gràcia</td>\n",
       "      <td>41.405653</td>\n",
       "      <td>2.169320</td>\n",
       "      <td>Apartment</td>\n",
       "      <td>2.0</td>\n",
       "      <td>2.0</td>\n",
       "      <td>110.0</td>\n",
       "    </tr>\n",
       "    <tr>\n",
       "      <th>2</th>\n",
       "      <td>59333</td>\n",
       "      <td>59333</td>\n",
       "      <td>2015-04-30</td>\n",
       "      <td>2015-10-02</td>\n",
       "      <td>0</td>\n",
       "      <td>155 days</td>\n",
       "      <td>Sarrià</td>\n",
       "      <td>Sarrià-Sant Gervasi</td>\n",
       "      <td>41.408367</td>\n",
       "      <td>2.115572</td>\n",
       "      <td>Apartment</td>\n",
       "      <td>2.0</td>\n",
       "      <td>2.0</td>\n",
       "      <td>212.0</td>\n",
       "    </tr>\n",
       "    <tr>\n",
       "      <th>3</th>\n",
       "      <td>66037</td>\n",
       "      <td>66037</td>\n",
       "      <td>2015-04-30</td>\n",
       "      <td>2019-09-17</td>\n",
       "      <td>1</td>\n",
       "      <td>1601 days</td>\n",
       "      <td>Sant Pere, Santa Caterina i la Ribera</td>\n",
       "      <td>Ciutat Vella</td>\n",
       "      <td>41.383220</td>\n",
       "      <td>2.182340</td>\n",
       "      <td>Apartment</td>\n",
       "      <td>2.0</td>\n",
       "      <td>2.0</td>\n",
       "      <td>190.0</td>\n",
       "    </tr>\n",
       "    <tr>\n",
       "      <th>4</th>\n",
       "      <td>71603</td>\n",
       "      <td>71603</td>\n",
       "      <td>2019-07-10</td>\n",
       "      <td>2019-09-17</td>\n",
       "      <td>1</td>\n",
       "      <td>69 days</td>\n",
       "      <td>la Dreta de l'Eixample</td>\n",
       "      <td>Eixample</td>\n",
       "      <td>41.390380</td>\n",
       "      <td>2.176060</td>\n",
       "      <td>Apartment</td>\n",
       "      <td>2.0</td>\n",
       "      <td>2.0</td>\n",
       "      <td>390.0</td>\n",
       "    </tr>\n",
       "  </tbody>\n",
       "</table>\n",
       "</div>"
      ],
      "text/plain": [
       "      id  (id, ) (scrape_dt, amin) (scrape_dt, amax)  (stillactive, )  \\\n",
       "0  36620   36620        2015-04-30        2015-04-30                0   \n",
       "1  41952   41952        2015-04-30        2018-01-17                0   \n",
       "2  59333   59333        2015-04-30        2015-10-02                0   \n",
       "3  66037   66037        2015-04-30        2019-09-17                1   \n",
       "4  71603   71603        2019-07-10        2019-09-17                1   \n",
       "\n",
       "  (days_online, )                 neighbourhood_cleansed  \\\n",
       "0          0 days  Sant Pere, Santa Caterina i la Ribera   \n",
       "1        993 days     el Camp d'en Grassot i Gràcia Nova   \n",
       "2        155 days                                 Sarrià   \n",
       "3       1601 days  Sant Pere, Santa Caterina i la Ribera   \n",
       "4         69 days                 la Dreta de l'Eixample   \n",
       "\n",
       "  neighbourhood_group_cleansed   latitude  longitude property_type  bathrooms  \\\n",
       "0                 Ciutat Vella  41.386929   2.183409     Apartment        2.0   \n",
       "1                       Gràcia  41.405653   2.169320     Apartment        2.0   \n",
       "2          Sarrià-Sant Gervasi  41.408367   2.115572     Apartment        2.0   \n",
       "3                 Ciutat Vella  41.383220   2.182340     Apartment        2.0   \n",
       "4                     Eixample  41.390380   2.176060     Apartment        2.0   \n",
       "\n",
       "   bedrooms  priceUSD  \n",
       "0       2.0     120.0  \n",
       "1       2.0     110.0  \n",
       "2       2.0     212.0  \n",
       "3       2.0     190.0  \n",
       "4       2.0     390.0  "
      ]
     },
     "execution_count": 35,
     "metadata": {},
     "output_type": "execute_result"
    }
   ],
   "source": [
    "df_final.head()"
   ]
  },
  {
   "cell_type": "markdown",
   "metadata": {},
   "source": [
    "Drop the coulumns not required (i.e. duplicates resulting from the join)"
   ]
  },
  {
   "cell_type": "code",
   "execution_count": 36,
   "metadata": {},
   "outputs": [],
   "source": [
    "df_final = df_final.drop(df_final.columns[1], axis=1)"
   ]
  },
  {
   "cell_type": "code",
   "execution_count": 37,
   "metadata": {},
   "outputs": [
    {
     "data": {
      "text/html": [
       "<div>\n",
       "<style scoped>\n",
       "    .dataframe tbody tr th:only-of-type {\n",
       "        vertical-align: middle;\n",
       "    }\n",
       "\n",
       "    .dataframe tbody tr th {\n",
       "        vertical-align: top;\n",
       "    }\n",
       "\n",
       "    .dataframe thead th {\n",
       "        text-align: right;\n",
       "    }\n",
       "</style>\n",
       "<table border=\"1\" class=\"dataframe\">\n",
       "  <thead>\n",
       "    <tr style=\"text-align: right;\">\n",
       "      <th></th>\n",
       "      <th>id</th>\n",
       "      <th>(scrape_dt, amin)</th>\n",
       "      <th>(scrape_dt, amax)</th>\n",
       "      <th>(stillactive, )</th>\n",
       "      <th>(days_online, )</th>\n",
       "      <th>neighbourhood_cleansed</th>\n",
       "      <th>neighbourhood_group_cleansed</th>\n",
       "      <th>latitude</th>\n",
       "      <th>longitude</th>\n",
       "      <th>property_type</th>\n",
       "      <th>bathrooms</th>\n",
       "      <th>bedrooms</th>\n",
       "      <th>priceUSD</th>\n",
       "    </tr>\n",
       "  </thead>\n",
       "  <tbody>\n",
       "    <tr>\n",
       "      <th>0</th>\n",
       "      <td>36620</td>\n",
       "      <td>2015-04-30</td>\n",
       "      <td>2015-04-30</td>\n",
       "      <td>0</td>\n",
       "      <td>0 days</td>\n",
       "      <td>Sant Pere, Santa Caterina i la Ribera</td>\n",
       "      <td>Ciutat Vella</td>\n",
       "      <td>41.386929</td>\n",
       "      <td>2.183409</td>\n",
       "      <td>Apartment</td>\n",
       "      <td>2.0</td>\n",
       "      <td>2.0</td>\n",
       "      <td>120.0</td>\n",
       "    </tr>\n",
       "    <tr>\n",
       "      <th>1</th>\n",
       "      <td>41952</td>\n",
       "      <td>2015-04-30</td>\n",
       "      <td>2018-01-17</td>\n",
       "      <td>0</td>\n",
       "      <td>993 days</td>\n",
       "      <td>el Camp d'en Grassot i Gràcia Nova</td>\n",
       "      <td>Gràcia</td>\n",
       "      <td>41.405653</td>\n",
       "      <td>2.169320</td>\n",
       "      <td>Apartment</td>\n",
       "      <td>2.0</td>\n",
       "      <td>2.0</td>\n",
       "      <td>110.0</td>\n",
       "    </tr>\n",
       "    <tr>\n",
       "      <th>2</th>\n",
       "      <td>59333</td>\n",
       "      <td>2015-04-30</td>\n",
       "      <td>2015-10-02</td>\n",
       "      <td>0</td>\n",
       "      <td>155 days</td>\n",
       "      <td>Sarrià</td>\n",
       "      <td>Sarrià-Sant Gervasi</td>\n",
       "      <td>41.408367</td>\n",
       "      <td>2.115572</td>\n",
       "      <td>Apartment</td>\n",
       "      <td>2.0</td>\n",
       "      <td>2.0</td>\n",
       "      <td>212.0</td>\n",
       "    </tr>\n",
       "    <tr>\n",
       "      <th>3</th>\n",
       "      <td>66037</td>\n",
       "      <td>2015-04-30</td>\n",
       "      <td>2019-09-17</td>\n",
       "      <td>1</td>\n",
       "      <td>1601 days</td>\n",
       "      <td>Sant Pere, Santa Caterina i la Ribera</td>\n",
       "      <td>Ciutat Vella</td>\n",
       "      <td>41.383220</td>\n",
       "      <td>2.182340</td>\n",
       "      <td>Apartment</td>\n",
       "      <td>2.0</td>\n",
       "      <td>2.0</td>\n",
       "      <td>190.0</td>\n",
       "    </tr>\n",
       "    <tr>\n",
       "      <th>4</th>\n",
       "      <td>71603</td>\n",
       "      <td>2019-07-10</td>\n",
       "      <td>2019-09-17</td>\n",
       "      <td>1</td>\n",
       "      <td>69 days</td>\n",
       "      <td>la Dreta de l'Eixample</td>\n",
       "      <td>Eixample</td>\n",
       "      <td>41.390380</td>\n",
       "      <td>2.176060</td>\n",
       "      <td>Apartment</td>\n",
       "      <td>2.0</td>\n",
       "      <td>2.0</td>\n",
       "      <td>390.0</td>\n",
       "    </tr>\n",
       "    <tr>\n",
       "      <th>5</th>\n",
       "      <td>77407</td>\n",
       "      <td>2015-07-17</td>\n",
       "      <td>2017-07-06</td>\n",
       "      <td>0</td>\n",
       "      <td>720 days</td>\n",
       "      <td>l'Antiga Esquerra de l'Eixample</td>\n",
       "      <td>Eixample</td>\n",
       "      <td>41.393725</td>\n",
       "      <td>2.152760</td>\n",
       "      <td>Apartment</td>\n",
       "      <td>2.0</td>\n",
       "      <td>2.0</td>\n",
       "      <td>450.0</td>\n",
       "    </tr>\n",
       "    <tr>\n",
       "      <th>6</th>\n",
       "      <td>78810</td>\n",
       "      <td>2015-04-30</td>\n",
       "      <td>2015-07-17</td>\n",
       "      <td>0</td>\n",
       "      <td>78 days</td>\n",
       "      <td>el Barri Gòtic</td>\n",
       "      <td>Ciutat Vella</td>\n",
       "      <td>41.381073</td>\n",
       "      <td>2.179053</td>\n",
       "      <td>Apartment</td>\n",
       "      <td>2.0</td>\n",
       "      <td>2.0</td>\n",
       "      <td>160.0</td>\n",
       "    </tr>\n",
       "    <tr>\n",
       "      <th>7</th>\n",
       "      <td>81291</td>\n",
       "      <td>2015-04-30</td>\n",
       "      <td>2018-11-07</td>\n",
       "      <td>0</td>\n",
       "      <td>1287 days</td>\n",
       "      <td>el Poblenou</td>\n",
       "      <td>Sant Martí</td>\n",
       "      <td>41.404765</td>\n",
       "      <td>2.202640</td>\n",
       "      <td>Apartment</td>\n",
       "      <td>2.0</td>\n",
       "      <td>2.0</td>\n",
       "      <td>139.0</td>\n",
       "    </tr>\n",
       "    <tr>\n",
       "      <th>8</th>\n",
       "      <td>86940</td>\n",
       "      <td>2015-04-30</td>\n",
       "      <td>2015-07-17</td>\n",
       "      <td>0</td>\n",
       "      <td>78 days</td>\n",
       "      <td>el Barri Gòtic</td>\n",
       "      <td>Ciutat Vella</td>\n",
       "      <td>41.382138</td>\n",
       "      <td>2.178860</td>\n",
       "      <td>Apartment</td>\n",
       "      <td>2.0</td>\n",
       "      <td>2.0</td>\n",
       "      <td>150.0</td>\n",
       "    </tr>\n",
       "    <tr>\n",
       "      <th>9</th>\n",
       "      <td>93379</td>\n",
       "      <td>2015-07-17</td>\n",
       "      <td>2015-10-02</td>\n",
       "      <td>0</td>\n",
       "      <td>77 days</td>\n",
       "      <td>el Raval</td>\n",
       "      <td>Ciutat Vella</td>\n",
       "      <td>41.381212</td>\n",
       "      <td>2.167703</td>\n",
       "      <td>Apartment</td>\n",
       "      <td>2.0</td>\n",
       "      <td>2.0</td>\n",
       "      <td>60.0</td>\n",
       "    </tr>\n",
       "  </tbody>\n",
       "</table>\n",
       "</div>"
      ],
      "text/plain": [
       "      id (scrape_dt, amin) (scrape_dt, amax)  (stillactive, ) (days_online, )  \\\n",
       "0  36620        2015-04-30        2015-04-30                0          0 days   \n",
       "1  41952        2015-04-30        2018-01-17                0        993 days   \n",
       "2  59333        2015-04-30        2015-10-02                0        155 days   \n",
       "3  66037        2015-04-30        2019-09-17                1       1601 days   \n",
       "4  71603        2019-07-10        2019-09-17                1         69 days   \n",
       "5  77407        2015-07-17        2017-07-06                0        720 days   \n",
       "6  78810        2015-04-30        2015-07-17                0         78 days   \n",
       "7  81291        2015-04-30        2018-11-07                0       1287 days   \n",
       "8  86940        2015-04-30        2015-07-17                0         78 days   \n",
       "9  93379        2015-07-17        2015-10-02                0         77 days   \n",
       "\n",
       "                  neighbourhood_cleansed neighbourhood_group_cleansed  \\\n",
       "0  Sant Pere, Santa Caterina i la Ribera                 Ciutat Vella   \n",
       "1     el Camp d'en Grassot i Gràcia Nova                       Gràcia   \n",
       "2                                 Sarrià          Sarrià-Sant Gervasi   \n",
       "3  Sant Pere, Santa Caterina i la Ribera                 Ciutat Vella   \n",
       "4                 la Dreta de l'Eixample                     Eixample   \n",
       "5        l'Antiga Esquerra de l'Eixample                     Eixample   \n",
       "6                         el Barri Gòtic                 Ciutat Vella   \n",
       "7                            el Poblenou                   Sant Martí   \n",
       "8                         el Barri Gòtic                 Ciutat Vella   \n",
       "9                               el Raval                 Ciutat Vella   \n",
       "\n",
       "    latitude  longitude property_type  bathrooms  bedrooms  priceUSD  \n",
       "0  41.386929   2.183409     Apartment        2.0       2.0     120.0  \n",
       "1  41.405653   2.169320     Apartment        2.0       2.0     110.0  \n",
       "2  41.408367   2.115572     Apartment        2.0       2.0     212.0  \n",
       "3  41.383220   2.182340     Apartment        2.0       2.0     190.0  \n",
       "4  41.390380   2.176060     Apartment        2.0       2.0     390.0  \n",
       "5  41.393725   2.152760     Apartment        2.0       2.0     450.0  \n",
       "6  41.381073   2.179053     Apartment        2.0       2.0     160.0  \n",
       "7  41.404765   2.202640     Apartment        2.0       2.0     139.0  \n",
       "8  41.382138   2.178860     Apartment        2.0       2.0     150.0  \n",
       "9  41.381212   2.167703     Apartment        2.0       2.0      60.0  "
      ]
     },
     "execution_count": 37,
     "metadata": {},
     "output_type": "execute_result"
    }
   ],
   "source": [
    "df_final.head(10)"
   ]
  },
  {
   "cell_type": "markdown",
   "metadata": {},
   "source": [
    "#Rename columns of new dataframe into something more meaningful"
   ]
  },
  {
   "cell_type": "code",
   "execution_count": 39,
   "metadata": {},
   "outputs": [
    {
     "data": {
      "text/html": [
       "<div>\n",
       "<style scoped>\n",
       "    .dataframe tbody tr th:only-of-type {\n",
       "        vertical-align: middle;\n",
       "    }\n",
       "\n",
       "    .dataframe tbody tr th {\n",
       "        vertical-align: top;\n",
       "    }\n",
       "\n",
       "    .dataframe thead th {\n",
       "        text-align: right;\n",
       "    }\n",
       "</style>\n",
       "<table border=\"1\" class=\"dataframe\">\n",
       "  <thead>\n",
       "    <tr style=\"text-align: right;\">\n",
       "      <th></th>\n",
       "      <th>propertyID</th>\n",
       "      <th>DTfirst</th>\n",
       "      <th>DTlast</th>\n",
       "      <th>stillactive</th>\n",
       "      <th>days_online</th>\n",
       "      <th>neighbourhood_cleansed</th>\n",
       "      <th>neighbourhood_group_cleansed</th>\n",
       "      <th>latitude</th>\n",
       "      <th>longitude</th>\n",
       "      <th>property_type</th>\n",
       "      <th>bathrooms</th>\n",
       "      <th>bedrooms</th>\n",
       "      <th>priceUSD</th>\n",
       "    </tr>\n",
       "  </thead>\n",
       "  <tbody>\n",
       "    <tr>\n",
       "      <th>0</th>\n",
       "      <td>36620</td>\n",
       "      <td>2015-04-30</td>\n",
       "      <td>2015-04-30</td>\n",
       "      <td>0</td>\n",
       "      <td>0 days</td>\n",
       "      <td>Sant Pere, Santa Caterina i la Ribera</td>\n",
       "      <td>Ciutat Vella</td>\n",
       "      <td>41.386929</td>\n",
       "      <td>2.183409</td>\n",
       "      <td>Apartment</td>\n",
       "      <td>2.0</td>\n",
       "      <td>2.0</td>\n",
       "      <td>120.0</td>\n",
       "    </tr>\n",
       "    <tr>\n",
       "      <th>1</th>\n",
       "      <td>41952</td>\n",
       "      <td>2015-04-30</td>\n",
       "      <td>2018-01-17</td>\n",
       "      <td>0</td>\n",
       "      <td>993 days</td>\n",
       "      <td>el Camp d'en Grassot i Gràcia Nova</td>\n",
       "      <td>Gràcia</td>\n",
       "      <td>41.405653</td>\n",
       "      <td>2.169320</td>\n",
       "      <td>Apartment</td>\n",
       "      <td>2.0</td>\n",
       "      <td>2.0</td>\n",
       "      <td>110.0</td>\n",
       "    </tr>\n",
       "    <tr>\n",
       "      <th>2</th>\n",
       "      <td>59333</td>\n",
       "      <td>2015-04-30</td>\n",
       "      <td>2015-10-02</td>\n",
       "      <td>0</td>\n",
       "      <td>155 days</td>\n",
       "      <td>Sarrià</td>\n",
       "      <td>Sarrià-Sant Gervasi</td>\n",
       "      <td>41.408367</td>\n",
       "      <td>2.115572</td>\n",
       "      <td>Apartment</td>\n",
       "      <td>2.0</td>\n",
       "      <td>2.0</td>\n",
       "      <td>212.0</td>\n",
       "    </tr>\n",
       "    <tr>\n",
       "      <th>3</th>\n",
       "      <td>66037</td>\n",
       "      <td>2015-04-30</td>\n",
       "      <td>2019-09-17</td>\n",
       "      <td>1</td>\n",
       "      <td>1601 days</td>\n",
       "      <td>Sant Pere, Santa Caterina i la Ribera</td>\n",
       "      <td>Ciutat Vella</td>\n",
       "      <td>41.383220</td>\n",
       "      <td>2.182340</td>\n",
       "      <td>Apartment</td>\n",
       "      <td>2.0</td>\n",
       "      <td>2.0</td>\n",
       "      <td>190.0</td>\n",
       "    </tr>\n",
       "    <tr>\n",
       "      <th>4</th>\n",
       "      <td>71603</td>\n",
       "      <td>2019-07-10</td>\n",
       "      <td>2019-09-17</td>\n",
       "      <td>1</td>\n",
       "      <td>69 days</td>\n",
       "      <td>la Dreta de l'Eixample</td>\n",
       "      <td>Eixample</td>\n",
       "      <td>41.390380</td>\n",
       "      <td>2.176060</td>\n",
       "      <td>Apartment</td>\n",
       "      <td>2.0</td>\n",
       "      <td>2.0</td>\n",
       "      <td>390.0</td>\n",
       "    </tr>\n",
       "  </tbody>\n",
       "</table>\n",
       "</div>"
      ],
      "text/plain": [
       "   propertyID    DTfirst     DTlast  stillactive days_online  \\\n",
       "0       36620 2015-04-30 2015-04-30            0      0 days   \n",
       "1       41952 2015-04-30 2018-01-17            0    993 days   \n",
       "2       59333 2015-04-30 2015-10-02            0    155 days   \n",
       "3       66037 2015-04-30 2019-09-17            1   1601 days   \n",
       "4       71603 2019-07-10 2019-09-17            1     69 days   \n",
       "\n",
       "                  neighbourhood_cleansed neighbourhood_group_cleansed  \\\n",
       "0  Sant Pere, Santa Caterina i la Ribera                 Ciutat Vella   \n",
       "1     el Camp d'en Grassot i Gràcia Nova                       Gràcia   \n",
       "2                                 Sarrià          Sarrià-Sant Gervasi   \n",
       "3  Sant Pere, Santa Caterina i la Ribera                 Ciutat Vella   \n",
       "4                 la Dreta de l'Eixample                     Eixample   \n",
       "\n",
       "    latitude  longitude property_type  bathrooms  bedrooms  priceUSD  \n",
       "0  41.386929   2.183409     Apartment        2.0       2.0     120.0  \n",
       "1  41.405653   2.169320     Apartment        2.0       2.0     110.0  \n",
       "2  41.408367   2.115572     Apartment        2.0       2.0     212.0  \n",
       "3  41.383220   2.182340     Apartment        2.0       2.0     190.0  \n",
       "4  41.390380   2.176060     Apartment        2.0       2.0     390.0  "
      ]
     },
     "execution_count": 39,
     "metadata": {},
     "output_type": "execute_result"
    }
   ],
   "source": [
    "df_final = df_final.rename(columns = {\n",
    "df_final.columns[0] : 'propertyID',\n",
    "df_final.columns[1] : 'DTfirst',\n",
    "df_final.columns[2] : 'DTlast',\n",
    "df_final.columns[3] : 'stillactive',\n",
    "df_final.columns[4] : 'days_online'\n",
    "})\n",
    "\n",
    "df_final.head()"
   ]
  },
  {
   "cell_type": "code",
   "execution_count": null,
   "metadata": {},
   "outputs": [],
   "source": []
  },
  {
   "cell_type": "code",
   "execution_count": null,
   "metadata": {},
   "outputs": [],
   "source": []
  },
  {
   "cell_type": "code",
   "execution_count": null,
   "metadata": {},
   "outputs": [],
   "source": []
  },
  {
   "cell_type": "code",
   "execution_count": null,
   "metadata": {},
   "outputs": [],
   "source": []
  },
  {
   "cell_type": "code",
   "execution_count": null,
   "metadata": {},
   "outputs": [],
   "source": []
  },
  {
   "cell_type": "code",
   "execution_count": null,
   "metadata": {},
   "outputs": [],
   "source": []
  },
  {
   "cell_type": "markdown",
   "metadata": {},
   "source": [
    "We have seen in the Box Plot above that there are a vast variety of prices. In order to remove outliers, XXXX. The existing values need to be normalised in order for this to work."
   ]
  },
  {
   "cell_type": "code",
   "execution_count": 40,
   "metadata": {},
   "outputs": [],
   "source": [
    "#Normalize the new 'priceUSD' column for analysis\n",
    "# Create variable x and pass in the float verion of column 'priceUSD'\n",
    "x = df_final[['priceUSD']].values.astype(float)\n",
    "\n",
    "# Create a minimum and maximum processor object\n",
    "min_max_scaler = preprocessing.MinMaxScaler()\n",
    "\n",
    "# Create an object to transform the data to fit minmax processor\n",
    "x_scaled = min_max_scaler.fit_transform(x)\n",
    "\n",
    "# Append the normalised values within a new column in the dataframe.\n",
    "df_final['priceNORM'] = pd.DataFrame(x_scaled)"
   ]
  },
  {
   "cell_type": "code",
   "execution_count": 41,
   "metadata": {},
   "outputs": [],
   "source": [
    "#First find values that are UNDER 1.5 Standard Deviations of the mean\n",
    "indexNames = df_final[ df_final['priceNORM'] < (np.mean(df_final.priceNORM, axis=0) - ( 1.5 * np.std(df_final.priceNORM, axis=0)) ) ].index\n",
    "df_final.drop(indexNames , inplace=True)\n",
    "\n",
    "#Second find values that are ABOVE 1.5 Standard Deviations of the mean\n",
    "indexNames = df_final[ df_final['priceNORM'] > (np.mean(df_final.priceNORM, axis=0) + ( 1.5 * np.std(df_final.priceNORM, axis=0)) ) ].index\n",
    "df_final.drop(indexNames , inplace=True)\n"
   ]
  },
  {
   "cell_type": "markdown",
   "metadata": {},
   "source": [
    "Plot a new Box Plot to see how the remaining price data is looking."
   ]
  },
  {
   "cell_type": "code",
   "execution_count": 42,
   "metadata": {},
   "outputs": [
    {
     "data": {
      "text/plain": [
       "<matplotlib.axes._subplots.AxesSubplot at 0x1d89326af08>"
      ]
     },
     "execution_count": 42,
     "metadata": {},
     "output_type": "execute_result"
    },
    {
     "data": {
      "image/png": "[encoded data removed]",
      "text/plain": [
       "<Figure size 1080x720 with 2 Axes>"
      ]
     },
     "metadata": {
      "needs_background": "light"
     },
     "output_type": "display_data"
    }
   ],
   "source": [
    "fig, ax = plt.subplots(1,2, figsize = (15, 10)) #columns and rows, number of axes, figure size \n",
    "sns.boxplot(y = df_final.priceUSD, ax = ax[0])"
   ]
  },
  {
   "cell_type": "markdown",
   "metadata": {},
   "source": [
    "Now prices are normalised, they will be banded for ease of interpretation on the survival plot."
   ]
  },
  {
   "cell_type": "code",
   "execution_count": 43,
   "metadata": {},
   "outputs": [],
   "source": [
    "df_final['price_band']=pd.qcut(df_final['priceUSD'],q=5, labels = ['Very Low','Low','Moderate','High','Very High'])"
   ]
  },
  {
   "cell_type": "markdown",
   "metadata": {},
   "source": [
    "Convert timedelta64 so that calculations may be performed."
   ]
  },
  {
   "cell_type": "code",
   "execution_count": 44,
   "metadata": {},
   "outputs": [
    {
     "data": {
      "text/html": [
       "<div>\n",
       "<style scoped>\n",
       "    .dataframe tbody tr th:only-of-type {\n",
       "        vertical-align: middle;\n",
       "    }\n",
       "\n",
       "    .dataframe tbody tr th {\n",
       "        vertical-align: top;\n",
       "    }\n",
       "\n",
       "    .dataframe thead th {\n",
       "        text-align: right;\n",
       "    }\n",
       "</style>\n",
       "<table border=\"1\" class=\"dataframe\">\n",
       "  <thead>\n",
       "    <tr style=\"text-align: right;\">\n",
       "      <th></th>\n",
       "      <th>propertyID</th>\n",
       "      <th>DTfirst</th>\n",
       "      <th>DTlast</th>\n",
       "      <th>stillactive</th>\n",
       "      <th>days_online</th>\n",
       "      <th>neighbourhood_cleansed</th>\n",
       "      <th>neighbourhood_group_cleansed</th>\n",
       "      <th>latitude</th>\n",
       "      <th>longitude</th>\n",
       "      <th>property_type</th>\n",
       "      <th>bathrooms</th>\n",
       "      <th>bedrooms</th>\n",
       "      <th>priceUSD</th>\n",
       "      <th>priceNORM</th>\n",
       "      <th>price_band</th>\n",
       "      <th>days</th>\n",
       "    </tr>\n",
       "  </thead>\n",
       "  <tbody>\n",
       "    <tr>\n",
       "      <th>0</th>\n",
       "      <td>36620</td>\n",
       "      <td>2015-04-30</td>\n",
       "      <td>2015-04-30</td>\n",
       "      <td>0</td>\n",
       "      <td>0 days</td>\n",
       "      <td>Sant Pere, Santa Caterina i la Ribera</td>\n",
       "      <td>Ciutat Vella</td>\n",
       "      <td>41.386929</td>\n",
       "      <td>2.183409</td>\n",
       "      <td>Apartment</td>\n",
       "      <td>2.0</td>\n",
       "      <td>2.0</td>\n",
       "      <td>120.0</td>\n",
       "      <td>0.022044</td>\n",
       "      <td>Moderate</td>\n",
       "      <td>0.0</td>\n",
       "    </tr>\n",
       "    <tr>\n",
       "      <th>1</th>\n",
       "      <td>41952</td>\n",
       "      <td>2015-04-30</td>\n",
       "      <td>2018-01-17</td>\n",
       "      <td>0</td>\n",
       "      <td>993 days</td>\n",
       "      <td>el Camp d'en Grassot i Gràcia Nova</td>\n",
       "      <td>Gràcia</td>\n",
       "      <td>41.405653</td>\n",
       "      <td>2.169320</td>\n",
       "      <td>Apartment</td>\n",
       "      <td>2.0</td>\n",
       "      <td>2.0</td>\n",
       "      <td>110.0</td>\n",
       "      <td>0.020040</td>\n",
       "      <td>Low</td>\n",
       "      <td>993.0</td>\n",
       "    </tr>\n",
       "    <tr>\n",
       "      <th>2</th>\n",
       "      <td>59333</td>\n",
       "      <td>2015-04-30</td>\n",
       "      <td>2015-10-02</td>\n",
       "      <td>0</td>\n",
       "      <td>155 days</td>\n",
       "      <td>Sarrià</td>\n",
       "      <td>Sarrià-Sant Gervasi</td>\n",
       "      <td>41.408367</td>\n",
       "      <td>2.115572</td>\n",
       "      <td>Apartment</td>\n",
       "      <td>2.0</td>\n",
       "      <td>2.0</td>\n",
       "      <td>212.0</td>\n",
       "      <td>0.040481</td>\n",
       "      <td>Very High</td>\n",
       "      <td>155.0</td>\n",
       "    </tr>\n",
       "    <tr>\n",
       "      <th>3</th>\n",
       "      <td>66037</td>\n",
       "      <td>2015-04-30</td>\n",
       "      <td>2019-09-17</td>\n",
       "      <td>1</td>\n",
       "      <td>1601 days</td>\n",
       "      <td>Sant Pere, Santa Caterina i la Ribera</td>\n",
       "      <td>Ciutat Vella</td>\n",
       "      <td>41.383220</td>\n",
       "      <td>2.182340</td>\n",
       "      <td>Apartment</td>\n",
       "      <td>2.0</td>\n",
       "      <td>2.0</td>\n",
       "      <td>190.0</td>\n",
       "      <td>0.036072</td>\n",
       "      <td>High</td>\n",
       "      <td>1601.0</td>\n",
       "    </tr>\n",
       "    <tr>\n",
       "      <th>4</th>\n",
       "      <td>71603</td>\n",
       "      <td>2019-07-10</td>\n",
       "      <td>2019-09-17</td>\n",
       "      <td>1</td>\n",
       "      <td>69 days</td>\n",
       "      <td>la Dreta de l'Eixample</td>\n",
       "      <td>Eixample</td>\n",
       "      <td>41.390380</td>\n",
       "      <td>2.176060</td>\n",
       "      <td>Apartment</td>\n",
       "      <td>2.0</td>\n",
       "      <td>2.0</td>\n",
       "      <td>390.0</td>\n",
       "      <td>0.076152</td>\n",
       "      <td>Very High</td>\n",
       "      <td>69.0</td>\n",
       "    </tr>\n",
       "  </tbody>\n",
       "</table>\n",
       "</div>"
      ],
      "text/plain": [
       "   propertyID    DTfirst     DTlast  stillactive days_online  \\\n",
       "0       36620 2015-04-30 2015-04-30            0      0 days   \n",
       "1       41952 2015-04-30 2018-01-17            0    993 days   \n",
       "2       59333 2015-04-30 2015-10-02            0    155 days   \n",
       "3       66037 2015-04-30 2019-09-17            1   1601 days   \n",
       "4       71603 2019-07-10 2019-09-17            1     69 days   \n",
       "\n",
       "                  neighbourhood_cleansed neighbourhood_group_cleansed  \\\n",
       "0  Sant Pere, Santa Caterina i la Ribera                 Ciutat Vella   \n",
       "1     el Camp d'en Grassot i Gràcia Nova                       Gràcia   \n",
       "2                                 Sarrià          Sarrià-Sant Gervasi   \n",
       "3  Sant Pere, Santa Caterina i la Ribera                 Ciutat Vella   \n",
       "4                 la Dreta de l'Eixample                     Eixample   \n",
       "\n",
       "    latitude  longitude property_type  bathrooms  bedrooms  priceUSD  \\\n",
       "0  41.386929   2.183409     Apartment        2.0       2.0     120.0   \n",
       "1  41.405653   2.169320     Apartment        2.0       2.0     110.0   \n",
       "2  41.408367   2.115572     Apartment        2.0       2.0     212.0   \n",
       "3  41.383220   2.182340     Apartment        2.0       2.0     190.0   \n",
       "4  41.390380   2.176060     Apartment        2.0       2.0     390.0   \n",
       "\n",
       "   priceNORM price_band    days  \n",
       "0   0.022044   Moderate     0.0  \n",
       "1   0.020040        Low   993.0  \n",
       "2   0.040481  Very High   155.0  \n",
       "3   0.036072       High  1601.0  \n",
       "4   0.076152  Very High    69.0  "
      ]
     },
     "execution_count": 44,
     "metadata": {},
     "output_type": "execute_result"
    }
   ],
   "source": [
    "df_final['days'] = df_final['days_online'].astype('timedelta64[D]')\n",
    "\n",
    "#Check output\n",
    "df_final.head()"
   ]
  },
  {
   "cell_type": "code",
   "execution_count": 45,
   "metadata": {},
   "outputs": [
    {
     "data": {
      "text/html": [
       "<div>\n",
       "<style scoped>\n",
       "    .dataframe tbody tr th:only-of-type {\n",
       "        vertical-align: middle;\n",
       "    }\n",
       "\n",
       "    .dataframe tbody tr th {\n",
       "        vertical-align: top;\n",
       "    }\n",
       "\n",
       "    .dataframe thead th {\n",
       "        text-align: right;\n",
       "    }\n",
       "</style>\n",
       "<table border=\"1\" class=\"dataframe\">\n",
       "  <thead>\n",
       "    <tr style=\"text-align: right;\">\n",
       "      <th></th>\n",
       "      <th>propertyID</th>\n",
       "      <th>DTfirst</th>\n",
       "      <th>DTlast</th>\n",
       "      <th>stillactive</th>\n",
       "      <th>days_online</th>\n",
       "      <th>neighbourhood_cleansed</th>\n",
       "      <th>neighbourhood_group_cleansed</th>\n",
       "      <th>latitude</th>\n",
       "      <th>longitude</th>\n",
       "      <th>property_type</th>\n",
       "      <th>bathrooms</th>\n",
       "      <th>bedrooms</th>\n",
       "      <th>priceUSD</th>\n",
       "      <th>priceNORM</th>\n",
       "      <th>price_band</th>\n",
       "      <th>days</th>\n",
       "      <th>months</th>\n",
       "    </tr>\n",
       "  </thead>\n",
       "  <tbody>\n",
       "    <tr>\n",
       "      <th>0</th>\n",
       "      <td>36620</td>\n",
       "      <td>2015-04-30</td>\n",
       "      <td>2015-04-30</td>\n",
       "      <td>0</td>\n",
       "      <td>0 days</td>\n",
       "      <td>Sant Pere, Santa Caterina i la Ribera</td>\n",
       "      <td>Ciutat Vella</td>\n",
       "      <td>41.386929</td>\n",
       "      <td>2.183409</td>\n",
       "      <td>Apartment</td>\n",
       "      <td>2.0</td>\n",
       "      <td>2.0</td>\n",
       "      <td>120.0</td>\n",
       "      <td>0.022044</td>\n",
       "      <td>Moderate</td>\n",
       "      <td>0.0</td>\n",
       "      <td>0.000000</td>\n",
       "    </tr>\n",
       "    <tr>\n",
       "      <th>1</th>\n",
       "      <td>41952</td>\n",
       "      <td>2015-04-30</td>\n",
       "      <td>2018-01-17</td>\n",
       "      <td>0</td>\n",
       "      <td>993 days</td>\n",
       "      <td>el Camp d'en Grassot i Gràcia Nova</td>\n",
       "      <td>Gràcia</td>\n",
       "      <td>41.405653</td>\n",
       "      <td>2.169320</td>\n",
       "      <td>Apartment</td>\n",
       "      <td>2.0</td>\n",
       "      <td>2.0</td>\n",
       "      <td>110.0</td>\n",
       "      <td>0.020040</td>\n",
       "      <td>Low</td>\n",
       "      <td>993.0</td>\n",
       "      <td>32.646575</td>\n",
       "    </tr>\n",
       "    <tr>\n",
       "      <th>2</th>\n",
       "      <td>59333</td>\n",
       "      <td>2015-04-30</td>\n",
       "      <td>2015-10-02</td>\n",
       "      <td>0</td>\n",
       "      <td>155 days</td>\n",
       "      <td>Sarrià</td>\n",
       "      <td>Sarrià-Sant Gervasi</td>\n",
       "      <td>41.408367</td>\n",
       "      <td>2.115572</td>\n",
       "      <td>Apartment</td>\n",
       "      <td>2.0</td>\n",
       "      <td>2.0</td>\n",
       "      <td>212.0</td>\n",
       "      <td>0.040481</td>\n",
       "      <td>Very High</td>\n",
       "      <td>155.0</td>\n",
       "      <td>5.095890</td>\n",
       "    </tr>\n",
       "    <tr>\n",
       "      <th>3</th>\n",
       "      <td>66037</td>\n",
       "      <td>2015-04-30</td>\n",
       "      <td>2019-09-17</td>\n",
       "      <td>1</td>\n",
       "      <td>1601 days</td>\n",
       "      <td>Sant Pere, Santa Caterina i la Ribera</td>\n",
       "      <td>Ciutat Vella</td>\n",
       "      <td>41.383220</td>\n",
       "      <td>2.182340</td>\n",
       "      <td>Apartment</td>\n",
       "      <td>2.0</td>\n",
       "      <td>2.0</td>\n",
       "      <td>190.0</td>\n",
       "      <td>0.036072</td>\n",
       "      <td>High</td>\n",
       "      <td>1601.0</td>\n",
       "      <td>52.635616</td>\n",
       "    </tr>\n",
       "    <tr>\n",
       "      <th>4</th>\n",
       "      <td>71603</td>\n",
       "      <td>2019-07-10</td>\n",
       "      <td>2019-09-17</td>\n",
       "      <td>1</td>\n",
       "      <td>69 days</td>\n",
       "      <td>la Dreta de l'Eixample</td>\n",
       "      <td>Eixample</td>\n",
       "      <td>41.390380</td>\n",
       "      <td>2.176060</td>\n",
       "      <td>Apartment</td>\n",
       "      <td>2.0</td>\n",
       "      <td>2.0</td>\n",
       "      <td>390.0</td>\n",
       "      <td>0.076152</td>\n",
       "      <td>Very High</td>\n",
       "      <td>69.0</td>\n",
       "      <td>2.268493</td>\n",
       "    </tr>\n",
       "  </tbody>\n",
       "</table>\n",
       "</div>"
      ],
      "text/plain": [
       "   propertyID    DTfirst     DTlast  stillactive days_online  \\\n",
       "0       36620 2015-04-30 2015-04-30            0      0 days   \n",
       "1       41952 2015-04-30 2018-01-17            0    993 days   \n",
       "2       59333 2015-04-30 2015-10-02            0    155 days   \n",
       "3       66037 2015-04-30 2019-09-17            1   1601 days   \n",
       "4       71603 2019-07-10 2019-09-17            1     69 days   \n",
       "\n",
       "                  neighbourhood_cleansed neighbourhood_group_cleansed  \\\n",
       "0  Sant Pere, Santa Caterina i la Ribera                 Ciutat Vella   \n",
       "1     el Camp d'en Grassot i Gràcia Nova                       Gràcia   \n",
       "2                                 Sarrià          Sarrià-Sant Gervasi   \n",
       "3  Sant Pere, Santa Caterina i la Ribera                 Ciutat Vella   \n",
       "4                 la Dreta de l'Eixample                     Eixample   \n",
       "\n",
       "    latitude  longitude property_type  bathrooms  bedrooms  priceUSD  \\\n",
       "0  41.386929   2.183409     Apartment        2.0       2.0     120.0   \n",
       "1  41.405653   2.169320     Apartment        2.0       2.0     110.0   \n",
       "2  41.408367   2.115572     Apartment        2.0       2.0     212.0   \n",
       "3  41.383220   2.182340     Apartment        2.0       2.0     190.0   \n",
       "4  41.390380   2.176060     Apartment        2.0       2.0     390.0   \n",
       "\n",
       "   priceNORM price_band    days     months  \n",
       "0   0.022044   Moderate     0.0   0.000000  \n",
       "1   0.020040        Low   993.0  32.646575  \n",
       "2   0.040481  Very High   155.0   5.095890  \n",
       "3   0.036072       High  1601.0  52.635616  \n",
       "4   0.076152  Very High    69.0   2.268493  "
      ]
     },
     "execution_count": 45,
     "metadata": {},
     "output_type": "execute_result"
    }
   ],
   "source": [
    "#The newly calculated days online value needs to be converted into months.\n",
    "\n",
    "def days2month(row):\n",
    "    '''\n",
    "    Input: Numerical value which is assumed to be days\n",
    "    Output: Corresponding numner of months\n",
    "    \n",
    "    The int/ float input (days) is divided by 365 then multiplied by 12.\n",
    "    '''\n",
    "    return ((row['days']/365)*12)\n",
    "\n",
    "\n",
    "df_final['months'] = df_final.apply(days2month, axis = 1)\n",
    "\n",
    "#Check output\n",
    "df_final.head()"
   ]
  },
  {
   "cell_type": "code",
   "execution_count": 46,
   "metadata": {},
   "outputs": [],
   "source": [
    "df_final_export = df_final[['propertyID','DTfirst','DTlast','stillactive',\n",
    "                           'months','neighbourhood_cleansed','neighbourhood_group_cleansed','latitude',\n",
    "                            'longitude','property_type','bathrooms','bedrooms','priceNORM','price_band','months']]"
   ]
  },
  {
   "cell_type": "code",
   "execution_count": 47,
   "metadata": {},
   "outputs": [
    {
     "data": {
      "text/plain": [
       "array(['Ciutat Vella', 'Gràcia', 'Sarrià-Sant Gervasi', 'Eixample',\n",
       "       'Sant Martí', 'Sants-Montjuïc', 'Horta-Guinardó', 'Sant Andreu',\n",
       "       'Les Corts', 'Nou Barris'], dtype=object)"
      ]
     },
     "execution_count": 47,
     "metadata": {},
     "output_type": "execute_result"
    }
   ],
   "source": [
    "df_final_export.neighbourhood_group_cleansed.unique()"
   ]
  },
  {
   "cell_type": "code",
   "execution_count": 48,
   "metadata": {},
   "outputs": [],
   "source": [
    "df_eixample = df_final_export.loc[df_final_export['neighbourhood_group_cleansed'] == 'Eixample']"
   ]
  },
  {
   "cell_type": "code",
   "execution_count": 49,
   "metadata": {},
   "outputs": [],
   "source": [
    "df_gracia = df_final_export.loc[df_final_export['neighbourhood_group_cleansed'] == 'Gràcia']"
   ]
  },
  {
   "cell_type": "code",
   "execution_count": null,
   "metadata": {},
   "outputs": [],
   "source": []
  },
  {
   "cell_type": "code",
   "execution_count": null,
   "metadata": {},
   "outputs": [],
   "source": []
  },
  {
   "cell_type": "code",
   "execution_count": 50,
   "metadata": {},
   "outputs": [],
   "source": [
    "df_final_export.to_csv('df_final_export2.csv')\n",
    "df_eixample.to_csv('df_eixample2.csv')\n",
    "df_gracia.to_csv('df_gracia2.csv')"
   ]
  },
  {
   "cell_type": "code",
   "execution_count": null,
   "metadata": {},
   "outputs": [],
   "source": []
  },
  {
   "cell_type": "code",
   "execution_count": null,
   "metadata": {},
   "outputs": [],
   "source": []
  },
  {
   "cell_type": "code",
   "execution_count": null,
   "metadata": {},
   "outputs": [],
   "source": []
  },
  {
   "cell_type": "code",
   "execution_count": null,
   "metadata": {},
   "outputs": [],
   "source": []
  },
  {
   "cell_type": "code",
   "execution_count": null,
   "metadata": {},
   "outputs": [],
   "source": []
  }
 ],
 "metadata": {
  "kernelspec": {
   "display_name": "Python 3",
   "language": "python",
   "name": "python3"
  },
  "language_info": {
   "codemirror_mode": {
    "name": "ipython",
    "version": 3
   },
   "file_extension": ".py",
   "mimetype": "text/x-python",
   "name": "python",
   "nbconvert_exporter": "python",
   "pygments_lexer": "ipython3",
   "version": "3.7.5"
  }
 },
 "nbformat": 4,
 "nbformat_minor": 2
}
