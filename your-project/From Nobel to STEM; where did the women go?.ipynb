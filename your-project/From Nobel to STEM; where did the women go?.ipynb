{
 "cells": [
  {
   "cell_type": "markdown",
   "metadata": {},
   "source": [
    "# FROM NOBELS TO STEM: Where did the women go?\n",
    "\n",
    "***"
   ]
  },
  {
   "cell_type": "markdown",
   "metadata": {},
   "source": [
    "## The Nobel prizes"
   ]
  },
  {
   "cell_type": "markdown",
   "metadata": {},
   "source": [
    "The Nobel prizes were stablish with the funding Alfred Nobel left on his will and since its start in 1901, the Nobel prizes have become a largely recognisable prize in the fields of Chemistry, Physics, Physiology or Medicine, Peace, Literature and Economic Sciences (for extra information go to [the Nobel Prize webpage](https://www.nobelprize.org)). <br>\n",
    "Many have won the prize and the glory that comes within, and these winners came from different countries, different backgrounds and are represented both by males and females, or is it?"
   ]
  },
  {
   "cell_type": "markdown",
   "metadata": {},
   "source": [
    "Nonetheless, and although many years have passed (119 years to be more exact), the number of females (only 18 up to 2016) that have won a nobel prize is very low compared to the male winners (572)."
   ]
  },
  {
   "cell_type": "markdown",
   "metadata": {},
   "source": [
    "<img src=\"https://github.com/mg365/Project-Week-5-Your-Own-Project/blob/master/your-project/images/nobel_prize.png?raw=true\" alt=\"Nobel\" width=\"500\"/>"
   ]
  },
  {
   "cell_type": "markdown",
   "metadata": {},
   "source": [
    "This massive difference arose various questions that will be individually explored:"
   ]
  },
  {
   "cell_type": "markdown",
   "metadata": {},
   "source": [
    "## Question 1: Are there more males than females in the world? "
   ]
  },
  {
   "cell_type": "markdown",
   "metadata": {},
   "source": [
    "### Female/Male Ratio"
   ]
  },
  {
   "cell_type": "markdown",
   "metadata": {},
   "source": [
    "The female vs male ratio (males per 100 females) shows how at the age of 15 there are more males than females and how the ratio becomes female favored as we grow older "
   ]
  },
  {
   "cell_type": "markdown",
   "metadata": {},
   "source": [
    "<img src=\"https://github.com/mg365/Project-Week-5-Your-Own-Project/blob/master/your-project/images/F_M_ratio.png?raw=true\" alt=\"Ironhack Logo\" width=\"500\"/>"
   ]
  },
  {
   "cell_type": "markdown",
   "metadata": {},
   "source": [
    "We can see how although on the extremes is either male favoured or extremely female favoured, that around the age of 50, there are no differences between number of males or females.\n",
    "<br><br>\n",
    "But which is the percentage of total females in the world (latest data available is from 2017)?\n",
    "It is **49'56 %** \n",
    "<br><br>\n",
    "And females in the age of going to university?\n",
    "It is **48 %**"
   ]
  },
  {
   "cell_type": "markdown",
   "metadata": {},
   "source": [
    "<img src=\"https://github.com/mg365/Project-Week-5-Your-Own-Project/blob/master/your-project/images/ratio.png?raw=true\" alt=\"ratio pic\" width=\"700\"/>"
   ]
  },
  {
   "cell_type": "markdown",
   "metadata": {},
   "source": [
    "## Question 2: Which fields do females choose to study at university?"
   ]
  },
  {
   "cell_type": "markdown",
   "metadata": {},
   "source": [
    "It can clearly be seen that **S**cience  (except health and welfare), **T**echnology, **E**ngineering and **M**athematics (**STEM**) are not the prefered fields as Health and welfare and Business, administration and law are more favoured."
   ]
  },
  {
   "cell_type": "markdown",
   "metadata": {},
   "source": [
    "<img src=\"https://github.com/mg365/Project-Week-5-Your-Own-Project/blob/master/your-project/images/undergad_preference.png?raw=true\" alt=\"degree preference\" width=\"400\"/>"
   ]
  },
  {
   "cell_type": "markdown",
   "metadata": {},
   "source": [
    "## Question 3: Are there more males graduating?"
   ]
  },
  {
   "cell_type": "markdown",
   "metadata": {},
   "source": [
    "Actually, no. There are more females graduating from university with a **56 %**, but females from all the STEM graduates, only **13.39 %** are female."
   ]
  },
  {
   "cell_type": "markdown",
   "metadata": {},
   "source": [
    "## Question 4: Are there gender differences in performance in Maths and Science?"
   ]
  },
  {
   "cell_type": "markdown",
   "metadata": {},
   "source": [
    "Looking at the graph we see that in fact, the ploted mean scores of males and females fall quite closely from the line that marks no difference between gender. Moreover, the Average value for all the countries is almost directly on top of the line so we could stablish that the performance differences are not significant and therefore not the issue here."
   ]
  },
  {
   "cell_type": "markdown",
   "metadata": {},
   "source": [
    "<img src=\"https://github.com/mg365/Project-Week-5-Your-Own-Project/blob/master/your-project/images/PISA_labeled.png?raw=true\" alt=\"PISA\" width=\"700\"/>"
   ]
  },
  {
   "cell_type": "markdown",
   "metadata": {},
   "source": [
    "## Question 5: How to you win a Nobel prize?"
   ]
  },
  {
   "cell_type": "markdown",
   "metadata": {},
   "source": [
    "In order to be considered for the prize you need to have researched and published a breakgrounding discovery, but in order to do that you need to be a researcher and you need to be willing and need to be able to publish your (or your teams) findings.\n",
    "<br><br>\n",
    "It seems though that only 26.8% of females are authors and have published their research for the scientific community to see. Therefore, it is more unlikely that a female wins the Nobel prize.\n",
    "The most affected fields, as we mention before are **STEM**, while health and welfare and political science are more female represented."
   ]
  },
  {
   "attachments": {},
   "cell_type": "markdown",
   "metadata": {},
   "source": [
    "<img src=\"https://github.com/mg365/Project-Week-5-Your-Own-Project/blob/master/your-project/images/authors.png?raw=true![image.png](attachment:image.png)\" alt=\"authors\" width=\"600\"/>"
   ]
  },
  {
   "cell_type": "markdown",
   "metadata": {},
   "source": [
    "## Conclusions"
   ]
  },
  {
   "cell_type": "markdown",
   "metadata": {},
   "source": [
    "The gender gap in the Nobel prizes seem to be partly explained by the fact that fewer women pursue a career in Chemistry and Physics and even fewer as researchers in the field, specially researcher publishing the findings.\n",
    "Regarding the Medicine prize, although more females are enrolling in Health and welfare degrees, not many of them research on the topic and therefore do not publish results.\n",
    "To conclude, it seems that the differences career path choice in females and males are not produced by a difference skills in maths and science (PISA scores prove that) indicating that perhaps sociocultural factors could be the explanation."
   ]
  },
  {
   "cell_type": "markdown",
   "metadata": {},
   "source": [
    "***"
   ]
  },
  {
   "cell_type": "markdown",
   "metadata": {},
   "source": [
    "## Resources"
   ]
  },
  {
   "cell_type": "markdown",
   "metadata": {},
   "source": [
    "### Data retrieval:\n",
    "\n",
    "- https://ec.europa.eu/eurostat/en/web/products-statistics-in-focus/-/KS-NS-01-007\n",
    "- https://ec.europa.eu/eurostat/en/web/products-eurostat-news/-/EDN-20200210-2\n",
    "- http://data.uis.unesco.org\n",
    "- https://ourworldindata.org/gender-ratio\n",
    "- https://datacatalog.worldbank.org/dataset/education-statistics\n",
    "- https://www.pnas.org/content/pnas/117/9/4609.full.pdf\n",
    "- http://hdr.undp.org/en/indicators/137506\n",
    "- https://www.imf.org/external/pubs/ft/weo/2009/01/weodata/groups.htm\n",
    "- https://ourworldindata.org/biology-pay-gap\n",
    "- https://www.pewsocialtrends.org/2018/01/09/women-and-men-in-stem-often-at-odds-over-workplace-equity/\n",
    "- https://www.pewsocialtrends.org/2018/01/09/diversity-in-the-stem-workforce-varies-widely-across-jobs/\n",
    "- https://pisadataexplorer.oecd.org/ide/idepisa/report.aspx\n",
    "\n"
   ]
  },
  {
   "cell_type": "markdown",
   "metadata": {},
   "source": [
    "### Literature:\n",
    "- Eagly, A. H. (2020). Do the social roles that women and men occupy in science allow equal access to publication?. Proceedings of the National Academy of Sciences, 117(11), 5553-5555.\n",
    "- Chao, F., Gerland, P., Cook, A. R., & Alkema, L. (2019). Systematic assessment of the sex ratio at birth for all countries and estimation of national imbalances and regional reference levels. Proceedings of the National Academy of Sciences, 116(19), 9303-9311.\n",
    "- Sen, A. (1992). Missing women. BMJ: British Medical Journal, 304(6827), 587.\n",
    "- Huang, J., Gates, A. J., Sinatra, R., & Barabási, A. L. (2020). Historical comparison of gender inequality in scientific careers across countries and disciplines. Proceedings of the National Academy of Sciences, 117(9), 4609-4616.\n",
    "- Mackintosh, N. J. (1996). Sex differences and IQ. Journal of Biosocial Science, 28(4), 558-571.\n"
   ]
  },
  {
   "cell_type": "code",
   "execution_count": null,
   "metadata": {},
   "outputs": [],
   "source": []
  }
 ],
 "metadata": {
  "kernelspec": {
   "display_name": "Python 3",
   "language": "python",
   "name": "python3"
  },
  "language_info": {
   "codemirror_mode": {
    "name": "ipython",
    "version": 3
   },
   "file_extension": ".py",
   "mimetype": "text/x-python",
   "name": "python",
   "nbconvert_exporter": "python",
   "pygments_lexer": "ipython3",
   "version": "3.8.3"
  },
  "toc": {
   "base_numbering": 1,
   "nav_menu": {},
   "number_sections": true,
   "sideBar": true,
   "skip_h1_title": false,
   "title_cell": "Table of Contents",
   "title_sidebar": "Contents",
   "toc_cell": false,
   "toc_position": {},
   "toc_section_display": true,
   "toc_window_display": false
  }
 },
 "nbformat": 4,
 "nbformat_minor": 4
}
