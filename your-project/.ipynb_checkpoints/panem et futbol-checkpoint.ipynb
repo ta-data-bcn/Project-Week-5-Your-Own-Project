{
 "cells": [
  {
   "cell_type": "markdown",
   "metadata": {},
   "source": [
    "### 0. Libraries"
   ]
  },
  {
   "cell_type": "code",
   "execution_count": 1,
   "metadata": {},
   "outputs": [],
   "source": [
    "import numpy as np\n",
    "import pandas as pd\n",
    "import glob\n",
    "from pathlib import Path\n",
    "import os\n",
    "import scipy.stats as stats"
   ]
  },
  {
   "cell_type": "markdown",
   "metadata": {},
   "source": [
    "### 1. Transfers DataFrame"
   ]
  },
  {
   "cell_type": "code",
   "execution_count": 2,
   "metadata": {},
   "outputs": [],
   "source": [
    "transfers = []\n",
    "for year in range(1996, 2021):\n",
    "    path = \"data/transfers/\" + str(year) + \"/\"\n",
    "    for file in os.listdir(path):\n",
    "        if not file.startswith('.'):\n",
    "            df = pd.read_csv(path + file, sep=',')\n",
    "            transfers.append(df)\n",
    "\n",
    "transfers_df = pd.concat(transfers)"
   ]
  },
  {
   "cell_type": "markdown",
   "metadata": {},
   "source": [
    "#### 1.1 Cleaning: transfers_df"
   ]
  },
  {
   "cell_type": "code",
   "execution_count": 3,
   "metadata": {},
   "outputs": [],
   "source": [
    "transfers_df.replace(to_replace='Premier Liga', value='Premier League', inplace=True)\n",
    "transfers_df.replace(to_replace='Primera Division', value='La Liga', inplace=True)\n",
    "transfers_df.replace(to_replace='1 Bundesliga', value='Bundesliga', inplace=True)\n",
    "transfers_df.replace(to_replace='Defender', value='Centre-Back', inplace=True)\n",
    "transfers_df.replace(to_replace='Sweeper', value='Centre-Back', inplace=True)\n",
    "transfers_df.replace(to_replace='Midfielder', value='Central Midfield', inplace=True)\n",
    "transfers_df.replace(to_replace='Left Midfield', value='Left Winger', inplace=True)\n",
    "transfers_df.replace(to_replace='Right Midfield', value='Right Winger', inplace=True)\n",
    "transfers_df.replace(to_replace='Forward', value='Second Striker', inplace=True)\n",
    "transfers_df.replace(to_replace='Centre-Forward', value='Striker', inplace=True)\n",
    "transfers_df['fee_cleaned'] = transfers_df['fee_cleaned'].fillna(0)"
   ]
  },
  {
   "cell_type": "markdown",
   "metadata": {},
   "source": [
    "#### 1.2 New DF: transfers_in"
   ]
  },
  {
   "cell_type": "code",
   "execution_count": 4,
   "metadata": {},
   "outputs": [],
   "source": [
    "transfers_in = transfers_df[transfers_df['transfer_movement'].isin(['in'])]"
   ]
  },
  {
   "cell_type": "markdown",
   "metadata": {},
   "source": [
    "#### 1.3 New DF: transfers_in_not_free"
   ]
  },
  {
   "cell_type": "code",
   "execution_count": 5,
   "metadata": {},
   "outputs": [],
   "source": [
    "transfers_in_not_free = transfers_in[(transfers_in != 0).all(1)]"
   ]
  },
  {
   "cell_type": "markdown",
   "metadata": {},
   "source": [
    "#### 1.4 Convert £ to € and apply inflation"
   ]
  },
  {
   "cell_type": "code",
   "execution_count": 6,
   "metadata": {},
   "outputs": [],
   "source": [
    "change_inflation = pd.read_csv('../your-project/data/change_inflation/inflation_change.csv', sep=';')\n",
    "change_inflation.columns = ['year', 'change', 'inflation']\n",
    "#change_inflation"
   ]
  },
  {
   "cell_type": "code",
   "execution_count": 57,
   "metadata": {},
   "outputs": [],
   "source": [
    "transfers_in_converted = pd.merge(transfers_in_not_free, change_inflation, how='left', left_on=['year'], right_on =['year'])\n",
    "transfers_in_converted[\"fee_converted\"] = transfers_in_converted[\"fee_cleaned\"] * transfers_in_converted[\"change\"] * transfers_in_converted[\"inflation\"]\n",
    "transfers_in_converted = transfers_in_converted[['club_name', 'player_name', 'age', 'position', 'club_involved_name',\n",
    "       'fee', 'fee_converted', 'transfer_movement', 'transfer_period', 'league_name', 'year', 'season']]\n",
    "#transfers_in_converted"
   ]
  },
  {
   "cell_type": "code",
   "execution_count": 58,
   "metadata": {},
   "outputs": [],
   "source": [
    "transfers_in_converted.to_csv(r'../your-project/data/tableau_dfs/transfers_in_converted.csv')"
   ]
  },
  {
   "cell_type": "markdown",
   "metadata": {},
   "source": [
    "#### 1.5 Transfers Statistics"
   ]
  },
  {
   "cell_type": "code",
   "execution_count": 112,
   "metadata": {},
   "outputs": [
    {
     "ename": "SyntaxError",
     "evalue": "unmatched ')' (<ipython-input-112-8204c91c5f6d>, line 14)",
     "output_type": "error",
     "traceback": [
      "\u001b[0;36m  File \u001b[0;32m\"<ipython-input-112-8204c91c5f6d>\"\u001b[0;36m, line \u001b[0;32m14\u001b[0m\n\u001b[0;31m    transfers_statistics.groupby('position').count().reset_index())\u001b[0m\n\u001b[0m                                                                  ^\u001b[0m\n\u001b[0;31mSyntaxError\u001b[0m\u001b[0;31m:\u001b[0m unmatched ')'\n"
     ]
    }
   ],
   "source": [
    "transfers_statistics = transfers_in_converted[['position', 'fee_converted']]\n",
    "# AGRUPAR POSICIONS PER ZONES DEL CAMP\n",
    "transfers_statistics.replace(to_replace='Centre-Back', value='Defenders', inplace=True)\n",
    "transfers_statistics.replace(to_replace='Left-Back', value='Defenders', inplace=True)\n",
    "transfers_statistics.replace(to_replace='Right-Back', value='Defenders', inplace=True)\n",
    "transfers_statistics.replace(to_replace='Defensive Midfield', value='Midfielders', inplace=True)\n",
    "transfers_statistics.replace(to_replace='Central Midfield', value='Midfielders', inplace=True)\n",
    "transfers_statistics.replace(to_replace='Left Winger', value='Midfielders', inplace=True)\n",
    "transfers_statistics.replace(to_replace='Right Winger', value='Midfielders', inplace=True)\n",
    "transfers_statistics.replace(to_replace='Attacking Midfield', value='Attackers', inplace=True)\n",
    "transfers_statistics.replace(to_replace='Second Striker', value='Attackers', inplace=True)\n",
    "transfers_statistics.replace(to_replace='Striker', value='Attackers', inplace=True)\n",
    "#transfers_statistics"
   ]
  },
  {
   "cell_type": "code",
   "execution_count": 115,
   "metadata": {},
   "outputs": [],
   "source": [
    "position_count = transfers_statistics.groupby('position').count().reset_index()\n",
    "position_count.to_csv(r'../your-project/data/tableau_dfs/position_count.csv')"
   ]
  },
  {
   "cell_type": "code",
   "execution_count": 116,
   "metadata": {},
   "outputs": [],
   "source": [
    "position_mean = transfers_statistics.groupby('position').mean().reset_index()\n",
    "position_mean.to_csv(r'../your-project/data/tableau_dfs/position_mean.csv')"
   ]
  },
  {
   "cell_type": "code",
   "execution_count": 9,
   "metadata": {},
   "outputs": [],
   "source": [
    "GK = transfers_statistics[transfers_statistics['position']=='Goalkeeper']\n",
    "GK = GK['fee_converted'].reset_index(drop=True)\n",
    "#GK"
   ]
  },
  {
   "cell_type": "code",
   "execution_count": 10,
   "metadata": {},
   "outputs": [],
   "source": [
    "DF = transfers_statistics[transfers_statistics['position']=='Defenders']\n",
    "DF = DF['fee_converted'].reset_index(drop=True)\n",
    "#DF"
   ]
  },
  {
   "cell_type": "code",
   "execution_count": 11,
   "metadata": {},
   "outputs": [],
   "source": [
    "MF = transfers_statistics[transfers_statistics['position']=='Midfielders']\n",
    "MF = MF['fee_converted'].reset_index(drop=True)\n",
    "#MF"
   ]
  },
  {
   "cell_type": "code",
   "execution_count": 12,
   "metadata": {},
   "outputs": [],
   "source": [
    "AT = transfers_statistics[transfers_statistics['position']=='Attackers']\n",
    "AT = AT['fee_converted'].reset_index(drop=True)\n",
    "#AT"
   ]
  },
  {
   "cell_type": "markdown",
   "metadata": {},
   "source": [
    "#### 1.6 P-Values"
   ]
  },
  {
   "cell_type": "code",
   "execution_count": 13,
   "metadata": {},
   "outputs": [],
   "source": [
    "# MEGA NULL HIPOSTESIS = TOTES LES ZONES DEL CAMP SON IGUAL D'IMPORTANTS I, PER TANT, S'HAURIEN DE PAGAR IGUAL\n",
    "# 6 NULL HIPOTESIS = \n",
    "\n",
    "# SI TOTS ELS P-VALUES (6 COMBINACIONS) SURTEN MENORS DE 0.05 VOL DIR QUE LA COMPARATIVA ENTRE ZONES DEL CAMP SON ESTADISTICAMENT DIFERENTS, ES A DIR,\n",
    "# QUE SI ES PAGA MES PER UNS QUE PELS ALTRES NO ES PER CASUALITAT."
   ]
  },
  {
   "cell_type": "code",
   "execution_count": 14,
   "metadata": {},
   "outputs": [
    {
     "data": {
      "text/plain": [
       "(-3.002030732360958, 0.002744739934721077)"
      ]
     },
     "execution_count": 14,
     "metadata": {},
     "output_type": "execute_result"
    }
   ],
   "source": [
    "ttest, pvalue_gk_vs_df = stats.ttest_ind(GK, DF, equal_var=False)\n",
    "ttest, pvalue_gk_vs_df"
   ]
  },
  {
   "cell_type": "code",
   "execution_count": 15,
   "metadata": {},
   "outputs": [
    {
     "data": {
      "text/plain": [
       "(-7.827720439063066, 9.882662761524437e-15)"
      ]
     },
     "execution_count": 15,
     "metadata": {},
     "output_type": "execute_result"
    }
   ],
   "source": [
    "ttest, pvalue_gk_vs_mf = stats.ttest_ind(GK, MF, equal_var=False)\n",
    "ttest, pvalue_gk_vs_mf"
   ]
  },
  {
   "cell_type": "code",
   "execution_count": 16,
   "metadata": {},
   "outputs": [
    {
     "data": {
      "text/plain": [
       "(-9.812522754896259, 4.1806054341417954e-22)"
      ]
     },
     "execution_count": 16,
     "metadata": {},
     "output_type": "execute_result"
    }
   ],
   "source": [
    "ttest, pvalue_gk_vs_at = stats.ttest_ind(GK, AT, equal_var=False)\n",
    "ttest, pvalue_gk_vs_at"
   ]
  },
  {
   "cell_type": "code",
   "execution_count": 17,
   "metadata": {},
   "outputs": [
    {
     "data": {
      "text/plain": [
       "(-7.573218452685393, 4.103226117023789e-14)"
      ]
     },
     "execution_count": 17,
     "metadata": {},
     "output_type": "execute_result"
    }
   ],
   "source": [
    "ttest, pvalue_df_vs_mf = stats.ttest_ind(DF, MF, equal_var=False)\n",
    "ttest, pvalue_df_vs_mf"
   ]
  },
  {
   "cell_type": "code",
   "execution_count": 18,
   "metadata": {},
   "outputs": [
    {
     "data": {
      "text/plain": [
       "(-10.21814510984094, 2.6103340504176492e-24)"
      ]
     },
     "execution_count": 18,
     "metadata": {},
     "output_type": "execute_result"
    }
   ],
   "source": [
    "ttest, pvalue_df_vs_at = stats.ttest_ind(DF, AT, equal_var=False)\n",
    "ttest, pvalue_df_vs_at"
   ]
  },
  {
   "cell_type": "code",
   "execution_count": 19,
   "metadata": {},
   "outputs": [
    {
     "data": {
      "text/plain": [
       "(-2.9789454649519493, 0.002902198973509399)"
      ]
     },
     "execution_count": 19,
     "metadata": {},
     "output_type": "execute_result"
    }
   ],
   "source": [
    "ttest, pvalue_mf_vs_at = stats.ttest_ind(MF, AT, equal_var=False)\n",
    "ttest, pvalue_mf_vs_at"
   ]
  },
  {
   "cell_type": "markdown",
   "metadata": {},
   "source": [
    "#### 1.7 Transfers pct_change"
   ]
  },
  {
   "cell_type": "code",
   "execution_count": 54,
   "metadata": {},
   "outputs": [],
   "source": [
    "transfers_year_leagues_pctch = transfers_in_converted.groupby(['year', 'league_name'])['fee_converted'].sum().reset_index()\n",
    "transfers_year_leagues_pctch['pct_change'] = transfers_year_leagues_pctch.groupby(['league_name'])['fee_converted'].pct_change()\n",
    "#transfers_year_leagues_pctch.head(50)"
   ]
  },
  {
   "cell_type": "code",
   "execution_count": 59,
   "metadata": {},
   "outputs": [],
   "source": [
    "transfers_year_leagues_pctch.to_csv(r'../your-project/data/tableau_dfs/transfers_pctch_df.csv')"
   ]
  },
  {
   "cell_type": "markdown",
   "metadata": {},
   "source": [
    "#### 1.8 Football Fun Facts"
   ]
  },
  {
   "cell_type": "code",
   "execution_count": 21,
   "metadata": {},
   "outputs": [],
   "source": [
    "transfers_year_leagues_mean = transfers_in_converted.groupby(['year', 'league_name'])['fee_converted'].mean().reset_index()\n",
    "#transfers_year_leagues_mean"
   ]
  },
  {
   "cell_type": "code",
   "execution_count": 22,
   "metadata": {},
   "outputs": [],
   "source": [
    "transfers_year_leagues_globalsum = transfers_in_converted.groupby(['year'])['fee_converted'].sum().reset_index()\n",
    "transfers_year_leagues_globalsum['pct_change'] = transfers_year_leagues_globalsum['fee_converted'].pct_change()\n",
    "#transfers_year_leagues_globalsum"
   ]
  },
  {
   "cell_type": "code",
   "execution_count": 23,
   "metadata": {},
   "outputs": [],
   "source": [
    "transfers_year_leagues_globalmean = transfers_in_converted.groupby(['year'])['fee_converted'].mean()\n",
    "#transfers_year_leagues_globalmean"
   ]
  },
  {
   "cell_type": "code",
   "execution_count": 24,
   "metadata": {
    "scrolled": true
   },
   "outputs": [],
   "source": [
    "transfers_league_age_mean = transfers_in_converted.groupby(['year', 'league_name'])['age'].mean()\n",
    "#transfers_league_age_mean"
   ]
  },
  {
   "cell_type": "code",
   "execution_count": 25,
   "metadata": {},
   "outputs": [],
   "source": [
    "transfers_league_age_mean_global = transfers_in_converted.groupby(['year'])['age'].mean()\n",
    "#transfers_league_age_mean_global"
   ]
  },
  {
   "cell_type": "code",
   "execution_count": 26,
   "metadata": {},
   "outputs": [],
   "source": [
    "transfers_league_players_count = transfers_in_converted.groupby(['year', 'league_name'])['player_name'].count()\n",
    "#transfers_league_players_count"
   ]
  },
  {
   "cell_type": "code",
   "execution_count": 27,
   "metadata": {},
   "outputs": [],
   "source": [
    "transfers_league_players_globalcount = transfers_in_converted.groupby(['year'])['player_name'].count()\n",
    "#transfers_league_players_globalcount"
   ]
  },
  {
   "cell_type": "code",
   "execution_count": 28,
   "metadata": {},
   "outputs": [],
   "source": [
    "transfers_league_positions_sum = transfers_in_converted.groupby(['year', 'league_name', 'position'])['fee_converted'].sum()\n",
    "#transfers_league_positions_sum"
   ]
  },
  {
   "cell_type": "code",
   "execution_count": 29,
   "metadata": {},
   "outputs": [],
   "source": [
    "transfers_league_positions_globalsum = transfers_in_converted.groupby(['year', 'position'])['fee_converted'].sum()\n",
    "#transfers_league_positions_globalsum"
   ]
  },
  {
   "cell_type": "code",
   "execution_count": 30,
   "metadata": {},
   "outputs": [],
   "source": [
    "transfers_league_positions_globalmean = transfers_in_converted.groupby(['year', 'position'])['fee_converted'].mean()\n",
    "#transfers_league_positions_globalmean"
   ]
  },
  {
   "cell_type": "code",
   "execution_count": 31,
   "metadata": {},
   "outputs": [],
   "source": [
    "transfers_league_positions_historicsum = transfers_in_converted.groupby(['position'], sort=True)['fee_converted'].sum()\n",
    "#transfers_league_positions_historicsum"
   ]
  },
  {
   "cell_type": "code",
   "execution_count": 32,
   "metadata": {},
   "outputs": [],
   "source": [
    "transfers_league_positions_historicmean = transfers_in_converted.groupby(['position'])['fee_converted'].mean()\n",
    "#transfers_league_positions_historicmean"
   ]
  },
  {
   "cell_type": "code",
   "execution_count": 33,
   "metadata": {},
   "outputs": [],
   "source": [
    "transfers_league_positions_count = transfers_in_converted.groupby(['year', 'league_name', 'position'])['player_name'].count()\n",
    "#transfers_league_positions_count"
   ]
  },
  {
   "cell_type": "code",
   "execution_count": 34,
   "metadata": {},
   "outputs": [],
   "source": [
    "transfers_league_positions_historiccount = transfers_in_converted.groupby(['position'])['player_name'].count()\n",
    "#transfers_league_positions_historiccount"
   ]
  },
  {
   "cell_type": "markdown",
   "metadata": {},
   "source": [
    "### Economy DataFrame"
   ]
  },
  {
   "cell_type": "code",
   "execution_count": 35,
   "metadata": {},
   "outputs": [],
   "source": [
    "path = r'/Users/arnauangerri/Desktop/IronHack/Week5/Project-Week-5-Your-Own-Project/your-project/data/economy/'\n",
    "all_files = glob.glob(path + \"/*.csv\")\n",
    "\n",
    "economy = []\n",
    "\n",
    "for filename in all_files:\n",
    "    dataframes = pd.read_csv(filename, index_col=None, header=0, sep=';')\n",
    "    economy.append(dataframes)\n",
    "\n",
    "economy_df = pd.concat(economy, axis=0, ignore_index=True)\n",
    "economy_df\n",
    "economy_df.columns = ['Year', 'Country', 'Anual GDP (M.€)', 'Inc. GDP (%)', 'GDP Per Capita (m.€)',\n",
    "       'Annual Inc. GDP Per Capita (%)', 'Total Debt (M.€)', 'Debt (% GDP)',\n",
    "       'Debt Per Capita (m.€)']\n",
    "economy_df = economy_df.replace({'Francia':'France'}, regex=True)\n",
    "economy_df = economy_df.replace({'Reino Unido':'UK'}, regex=True)\n",
    "economy_df = economy_df.replace({'Italia':'Italy'}, regex=True)\n",
    "economy_df = economy_df.replace({'España':'Spain'}, regex=True)\n",
    "economy_df = economy_df.replace({'Alemania':'Germany'}, regex=True)\n",
    "economy_df = economy_df.replace({'%':''}, regex=True)\n",
    "economy_df = economy_df.replace({'€':''}, regex=True)\n",
    "economy_df = economy_df.replace({'M.':''}, regex=True)\n",
    "economy_df['Anual GDP (M.€)'] = economy_df['Anual GDP (M.€)'].str.replace('.', '').str.replace(',', '.').astype(float)\n",
    "economy_df['Anual GDP (M.€)'] = economy_df['Anual GDP (M.€)'] * 1000000\n",
    "economy_df['Inc. GDP (%)'] = economy_df['Inc. GDP (%)'].str.replace('.', '').str.replace(',', '.').astype(float)\n",
    "economy_df['GDP Per Capita (m.€)'] = economy_df['GDP Per Capita (m.€)'].str.replace('.', '').str.replace(',', '.').astype(float)\n",
    "economy_df['Annual Inc. GDP Per Capita (%)'] = economy_df['Annual Inc. GDP Per Capita (%)'].str.replace('.', '').str.replace(',', '.').astype(float)\n",
    "economy_df['Total Debt (M.€)'] = economy_df['Total Debt (M.€)'].str.replace('.', '').str.replace(',', '.').astype(float)\n",
    "economy_df['Total Debt (M.€)'] = economy_df['Total Debt (M.€)'] * 1000000\n",
    "economy_df['Debt (% GDP)'] = economy_df['Debt (% GDP)'].str.replace('.', '').str.replace(',', '.').astype(float)\n",
    "economy_df['Debt Per Capita (m.€)'] = economy_df['Debt Per Capita (m.€)'].str.replace('.', '').str.replace(',', '.').astype(float)"
   ]
  },
  {
   "cell_type": "code",
   "execution_count": 36,
   "metadata": {},
   "outputs": [],
   "source": [
    "economy_df_germany = economy_df[economy_df['Country'].isin(['Germany'])].sort_values('Year')\n",
    "economy_df_france = economy_df[economy_df['Country'].isin(['France'])].sort_values('Year')\n",
    "economy_df_spain = economy_df[economy_df['Country'].isin(['Spain'])].sort_values('Year')\n",
    "economy_df_italy = economy_df[economy_df['Country'].isin(['Italy'])].sort_values('Year')\n",
    "economy_df_uk = economy_df[economy_df['Country'].isin(['UK'])].sort_values('Year')"
   ]
  },
  {
   "cell_type": "code",
   "execution_count": 37,
   "metadata": {},
   "outputs": [],
   "source": [
    "economy_df_germany_pctch = economy_df_germany[['Anual GDP (M.€)', 'GDP Per Capita (m.€)', 'Total Debt (M.€)', 'Debt (% GDP)', 'Debt Per Capita (m.€)']]\n",
    "economy_df_germany_pctch = economy_df_germany_pctch.pct_change()\n",
    "economy_df_germany_pctch.columns = ['Var. GDP(%)', 'Var. GDPxC(%)', 'Var. TDebt(%)', 'Var. Debt (% GDP)', 'Var. DebtxC (%)']\n",
    "economy_df_germany_pctch = pd.merge(economy_df_germany, economy_df_germany_pctch, how='left', left_index=True, right_index=True)\n",
    "economy_df_germany_pctch = economy_df_germany_pctch[['Year', 'Country', 'Anual GDP (M.€)', 'Var. GDP(%)', 'GDP Per Capita (m.€)', 'Var. GDPxC(%)', 'Total Debt (M.€)', 'Var. TDebt(%)',\n",
    "                                                     'Debt (% GDP)', 'Var. Debt (% GDP)', 'Debt Per Capita (m.€)', 'Var. DebtxC (%)']]\n",
    "#economy_df_germany_pctch\n",
    "#economy_df_germany_pctch.to_csv(r'../your-project/data/economy/merged_clean_data/economy_df_germany_pctch.csv')"
   ]
  },
  {
   "cell_type": "code",
   "execution_count": 38,
   "metadata": {},
   "outputs": [],
   "source": [
    "economy_df_france_pctch = economy_df_france[['Anual GDP (M.€)', 'GDP Per Capita (m.€)', 'Total Debt (M.€)', 'Debt (% GDP)', 'Debt Per Capita (m.€)']]\n",
    "economy_df_france_pctch = economy_df_france_pctch.pct_change()\n",
    "economy_df_france_pctch.columns = ['Var. GDP(%)', 'Var. GDPxC(%)', 'Var. TDebt(%)', 'Var. Debt (% GDP)', 'Var. DebtxC (%)']\n",
    "economy_df_france_pctch = pd.merge(economy_df_france, economy_df_france_pctch, how='left', left_index=True, right_index=True)\n",
    "economy_df_france_pctch = economy_df_france_pctch[['Year', 'Country', 'Anual GDP (M.€)', 'Var. GDP(%)', 'GDP Per Capita (m.€)', 'Var. GDPxC(%)', 'Total Debt (M.€)', 'Var. TDebt(%)',\n",
    "                                                     'Debt (% GDP)', 'Var. Debt (% GDP)', 'Debt Per Capita (m.€)', 'Var. DebtxC (%)']]\n",
    "#economy_df_france_pctch\n",
    "#economy_df_france_pctch.to_csv(r'../your-project/data/economy/merged_clean_data/economy_df_france_pctch.csv')"
   ]
  },
  {
   "cell_type": "code",
   "execution_count": 39,
   "metadata": {},
   "outputs": [],
   "source": [
    "economy_df_spain_pctch = economy_df_spain[['Anual GDP (M.€)', 'GDP Per Capita (m.€)', 'Total Debt (M.€)', 'Debt (% GDP)', 'Debt Per Capita (m.€)']]\n",
    "economy_df_spain_pctch = economy_df_spain_pctch.pct_change()\n",
    "economy_df_spain_pctch.columns = ['Var. GDP(%)', 'Var. GDPxC(%)', 'Var. TDebt(%)', 'Var. Debt (% GDP)', 'Var. DebtxC (%)']\n",
    "economy_df_spain_pctch = pd.merge(economy_df_spain, economy_df_spain_pctch, how='left', left_index=True, right_index=True)\n",
    "economy_df_spain_pctch = economy_df_spain_pctch[['Year', 'Country', 'Anual GDP (M.€)', 'Var. GDP(%)', 'GDP Per Capita (m.€)', 'Var. GDPxC(%)', 'Total Debt (M.€)', 'Var. TDebt(%)',\n",
    "                                                     'Debt (% GDP)', 'Var. Debt (% GDP)', 'Debt Per Capita (m.€)', 'Var. DebtxC (%)']]\n",
    "#economy_df_spain_pctch\n",
    "#economy_df_spain_pctch.to_csv(r'../your-project/data/economy/merged_clean_data/economy_df_spain_pctch.csv')"
   ]
  },
  {
   "cell_type": "code",
   "execution_count": 40,
   "metadata": {},
   "outputs": [],
   "source": [
    "economy_df_italy_pctch = economy_df_italy[['Anual GDP (M.€)', 'GDP Per Capita (m.€)', 'Total Debt (M.€)', 'Debt (% GDP)', 'Debt Per Capita (m.€)']]\n",
    "economy_df_italy_pctch = economy_df_italy_pctch.pct_change()\n",
    "economy_df_italy_pctch.columns = ['Var. GDP(%)', 'Var. GDPxC(%)', 'Var. TDebt(%)', 'Var. Debt (% GDP)', 'Var. DebtxC (%)']\n",
    "economy_df_italy_pctch = pd.merge(economy_df_italy, economy_df_italy_pctch, how='left', left_index=True, right_index=True)\n",
    "economy_df_italy_pctch = economy_df_italy_pctch[['Year', 'Country', 'Anual GDP (M.€)', 'Var. GDP(%)', 'GDP Per Capita (m.€)', 'Var. GDPxC(%)', 'Total Debt (M.€)', 'Var. TDebt(%)',\n",
    "                                                     'Debt (% GDP)', 'Var. Debt (% GDP)', 'Debt Per Capita (m.€)', 'Var. DebtxC (%)']]\n",
    "#economy_df_italy_pctch\n",
    "#economy_df_italy_pctch.to_csv(r'../your-project/data/economy/merged_clean_data/economy_df_italy_pctch.csv')"
   ]
  },
  {
   "cell_type": "code",
   "execution_count": 41,
   "metadata": {},
   "outputs": [],
   "source": [
    "economy_df_uk_pctch = economy_df_uk[['Anual GDP (M.€)', 'GDP Per Capita (m.€)', 'Total Debt (M.€)', 'Debt (% GDP)', 'Debt Per Capita (m.€)']]\n",
    "economy_df_uk_pctch = economy_df_uk_pctch.pct_change()\n",
    "economy_df_uk_pctch.columns = ['Var. GDP(%)', 'Var. GDPxC(%)', 'Var. TDebt(%)', 'Var. Debt (% GDP)', 'Var. DebtxC (%)']\n",
    "economy_df_uk_pctch = pd.merge(economy_df_uk, economy_df_uk_pctch, how='left', left_index=True, right_index=True)\n",
    "economy_df_uk_pctch = economy_df_uk_pctch[['Year', 'Country', 'Anual GDP (M.€)', 'Var. GDP(%)', 'GDP Per Capita (m.€)', 'Var. GDPxC(%)', 'Total Debt (M.€)', 'Var. TDebt(%)',\n",
    "                                                     'Debt (% GDP)', 'Var. Debt (% GDP)', 'Debt Per Capita (m.€)', 'Var. DebtxC (%)']]\n",
    "#economy_df_uk_pctch\n",
    "#economy_df_uk_pctch.to_csv(r'../your-project/data/economy/merged_clean_data/economy_df_uk_pctch.csv')"
   ]
  },
  {
   "cell_type": "code",
   "execution_count": 90,
   "metadata": {},
   "outputs": [
    {
     "data": {
      "text/html": [
       "<div>\n",
       "<style scoped>\n",
       "    .dataframe tbody tr th:only-of-type {\n",
       "        vertical-align: middle;\n",
       "    }\n",
       "\n",
       "    .dataframe tbody tr th {\n",
       "        vertical-align: top;\n",
       "    }\n",
       "\n",
       "    .dataframe thead th {\n",
       "        text-align: right;\n",
       "    }\n",
       "</style>\n",
       "<table border=\"1\" class=\"dataframe\">\n",
       "  <thead>\n",
       "    <tr style=\"text-align: right;\">\n",
       "      <th></th>\n",
       "      <th>Year</th>\n",
       "      <th>Country</th>\n",
       "      <th>Anual GDP (M.€)</th>\n",
       "      <th>Var. GDP(%)</th>\n",
       "      <th>GDP Per Capita (m.€)</th>\n",
       "      <th>Var. GDPxC(%)</th>\n",
       "      <th>Total Debt (M.€)</th>\n",
       "      <th>Var. TDebt(%)</th>\n",
       "      <th>Debt (% GDP)</th>\n",
       "      <th>Var. Debt (% GDP)</th>\n",
       "      <th>Debt Per Capita (m.€)</th>\n",
       "      <th>Var. DebtxC (%)</th>\n",
       "    </tr>\n",
       "  </thead>\n",
       "  <tbody>\n",
       "    <tr>\n",
       "      <th>0</th>\n",
       "      <td>1996</td>\n",
       "      <td>Germany</td>\n",
       "      <td>1.967956e+12</td>\n",
       "      <td>NaN</td>\n",
       "      <td>24160.0</td>\n",
       "      <td>NaN</td>\n",
       "      <td>1.115747e+12</td>\n",
       "      <td>NaN</td>\n",
       "      <td>57.8</td>\n",
       "      <td>NaN</td>\n",
       "      <td>13605.0</td>\n",
       "      <td>NaN</td>\n",
       "    </tr>\n",
       "    <tr>\n",
       "      <th>1</th>\n",
       "      <td>1997</td>\n",
       "      <td>Germany</td>\n",
       "      <td>1.952618e+12</td>\n",
       "      <td>-0.007794</td>\n",
       "      <td>23960.0</td>\n",
       "      <td>-0.008278</td>\n",
       "      <td>1.142493e+12</td>\n",
       "      <td>0.023971</td>\n",
       "      <td>58.9</td>\n",
       "      <td>0.019031</td>\n",
       "      <td>13923.0</td>\n",
       "      <td>0.023374</td>\n",
       "    </tr>\n",
       "    <tr>\n",
       "      <th>2</th>\n",
       "      <td>1998</td>\n",
       "      <td>Germany</td>\n",
       "      <td>2.000816e+12</td>\n",
       "      <td>0.024684</td>\n",
       "      <td>24570.0</td>\n",
       "      <td>0.025459</td>\n",
       "      <td>1.199279e+12</td>\n",
       "      <td>0.049704</td>\n",
       "      <td>59.5</td>\n",
       "      <td>0.010187</td>\n",
       "      <td>14619.0</td>\n",
       "      <td>0.049989</td>\n",
       "    </tr>\n",
       "    <tr>\n",
       "      <th>3</th>\n",
       "      <td>1999</td>\n",
       "      <td>Germany</td>\n",
       "      <td>2.059480e+12</td>\n",
       "      <td>0.029320</td>\n",
       "      <td>25290.0</td>\n",
       "      <td>0.029304</td>\n",
       "      <td>1.238559e+12</td>\n",
       "      <td>0.032753</td>\n",
       "      <td>60.1</td>\n",
       "      <td>0.010084</td>\n",
       "      <td>15074.0</td>\n",
       "      <td>0.031124</td>\n",
       "    </tr>\n",
       "    <tr>\n",
       "      <th>4</th>\n",
       "      <td>2000</td>\n",
       "      <td>Germany</td>\n",
       "      <td>2.109090e+12</td>\n",
       "      <td>0.024089</td>\n",
       "      <td>25890.0</td>\n",
       "      <td>0.023725</td>\n",
       "      <td>1.245750e+12</td>\n",
       "      <td>0.005806</td>\n",
       "      <td>59.1</td>\n",
       "      <td>-0.016639</td>\n",
       "      <td>15144.0</td>\n",
       "      <td>0.004644</td>\n",
       "    </tr>\n",
       "    <tr>\n",
       "      <th>...</th>\n",
       "      <td>...</td>\n",
       "      <td>...</td>\n",
       "      <td>...</td>\n",
       "      <td>...</td>\n",
       "      <td>...</td>\n",
       "      <td>...</td>\n",
       "      <td>...</td>\n",
       "      <td>...</td>\n",
       "      <td>...</td>\n",
       "      <td>...</td>\n",
       "      <td>...</td>\n",
       "      <td>...</td>\n",
       "    </tr>\n",
       "    <tr>\n",
       "      <th>115</th>\n",
       "      <td>2015</td>\n",
       "      <td>Italy</td>\n",
       "      <td>1.655355e+12</td>\n",
       "      <td>0.017174</td>\n",
       "      <td>27260.0</td>\n",
       "      <td>0.018304</td>\n",
       "      <td>2.239409e+12</td>\n",
       "      <td>0.016528</td>\n",
       "      <td>135.3</td>\n",
       "      <td>-0.000739</td>\n",
       "      <td>36914.0</td>\n",
       "      <td>0.018711</td>\n",
       "    </tr>\n",
       "    <tr>\n",
       "      <th>116</th>\n",
       "      <td>2016</td>\n",
       "      <td>Italy</td>\n",
       "      <td>1.695787e+12</td>\n",
       "      <td>0.024425</td>\n",
       "      <td>27970.0</td>\n",
       "      <td>0.026045</td>\n",
       "      <td>2.285619e+12</td>\n",
       "      <td>0.020635</td>\n",
       "      <td>134.8</td>\n",
       "      <td>-0.003695</td>\n",
       "      <td>37723.0</td>\n",
       "      <td>0.021916</td>\n",
       "    </tr>\n",
       "    <tr>\n",
       "      <th>117</th>\n",
       "      <td>2017</td>\n",
       "      <td>Italy</td>\n",
       "      <td>1.736593e+12</td>\n",
       "      <td>0.024063</td>\n",
       "      <td>28690.0</td>\n",
       "      <td>0.025742</td>\n",
       "      <td>2.329553e+12</td>\n",
       "      <td>0.019222</td>\n",
       "      <td>134.1</td>\n",
       "      <td>-0.005193</td>\n",
       "      <td>38515.0</td>\n",
       "      <td>0.020995</td>\n",
       "    </tr>\n",
       "    <tr>\n",
       "      <th>118</th>\n",
       "      <td>2018</td>\n",
       "      <td>Italy</td>\n",
       "      <td>1.766168e+12</td>\n",
       "      <td>0.017030</td>\n",
       "      <td>29210.0</td>\n",
       "      <td>0.018125</td>\n",
       "      <td>2.380942e+12</td>\n",
       "      <td>0.022060</td>\n",
       "      <td>134.8</td>\n",
       "      <td>0.005220</td>\n",
       "      <td>39446.0</td>\n",
       "      <td>0.024172</td>\n",
       "    </tr>\n",
       "    <tr>\n",
       "      <th>119</th>\n",
       "      <td>2019</td>\n",
       "      <td>Italy</td>\n",
       "      <td>1.787664e+12</td>\n",
       "      <td>0.012171</td>\n",
       "      <td>29610.0</td>\n",
       "      <td>0.013694</td>\n",
       "      <td>2.409841e+12</td>\n",
       "      <td>0.012138</td>\n",
       "      <td>134.8</td>\n",
       "      <td>0.000000</td>\n",
       "      <td>40001.0</td>\n",
       "      <td>0.014070</td>\n",
       "    </tr>\n",
       "  </tbody>\n",
       "</table>\n",
       "<p>120 rows × 12 columns</p>\n",
       "</div>"
      ],
      "text/plain": [
       "     Year  Country  Anual GDP (M.€)  Var. GDP(%)  GDP Per Capita (m.€)  \\\n",
       "0    1996  Germany     1.967956e+12          NaN               24160.0   \n",
       "1    1997  Germany     1.952618e+12    -0.007794               23960.0   \n",
       "2    1998  Germany     2.000816e+12     0.024684               24570.0   \n",
       "3    1999  Germany     2.059480e+12     0.029320               25290.0   \n",
       "4    2000  Germany     2.109090e+12     0.024089               25890.0   \n",
       "..    ...      ...              ...          ...                   ...   \n",
       "115  2015    Italy     1.655355e+12     0.017174               27260.0   \n",
       "116  2016    Italy     1.695787e+12     0.024425               27970.0   \n",
       "117  2017    Italy     1.736593e+12     0.024063               28690.0   \n",
       "118  2018    Italy     1.766168e+12     0.017030               29210.0   \n",
       "119  2019    Italy     1.787664e+12     0.012171               29610.0   \n",
       "\n",
       "     Var. GDPxC(%)  Total Debt (M.€)  Var. TDebt(%)  Debt (% GDP)  \\\n",
       "0              NaN      1.115747e+12            NaN          57.8   \n",
       "1        -0.008278      1.142493e+12       0.023971          58.9   \n",
       "2         0.025459      1.199279e+12       0.049704          59.5   \n",
       "3         0.029304      1.238559e+12       0.032753          60.1   \n",
       "4         0.023725      1.245750e+12       0.005806          59.1   \n",
       "..             ...               ...            ...           ...   \n",
       "115       0.018304      2.239409e+12       0.016528         135.3   \n",
       "116       0.026045      2.285619e+12       0.020635         134.8   \n",
       "117       0.025742      2.329553e+12       0.019222         134.1   \n",
       "118       0.018125      2.380942e+12       0.022060         134.8   \n",
       "119       0.013694      2.409841e+12       0.012138         134.8   \n",
       "\n",
       "     Var. Debt (% GDP)  Debt Per Capita (m.€)  Var. DebtxC (%)  \n",
       "0                  NaN                13605.0              NaN  \n",
       "1             0.019031                13923.0         0.023374  \n",
       "2             0.010187                14619.0         0.049989  \n",
       "3             0.010084                15074.0         0.031124  \n",
       "4            -0.016639                15144.0         0.004644  \n",
       "..                 ...                    ...              ...  \n",
       "115          -0.000739                36914.0         0.018711  \n",
       "116          -0.003695                37723.0         0.021916  \n",
       "117          -0.005193                38515.0         0.020995  \n",
       "118           0.005220                39446.0         0.024172  \n",
       "119           0.000000                40001.0         0.014070  \n",
       "\n",
       "[120 rows x 12 columns]"
      ]
     },
     "execution_count": 90,
     "metadata": {},
     "output_type": "execute_result"
    }
   ],
   "source": [
    "path = r'/Users/arnauangerri/Desktop/IronHack/Week5/Project-Week-5-Your-Own-Project/your-project/data/economy/merged_clean_data/'\n",
    "all_files = glob.glob(path + \"/*.csv\")\n",
    "\n",
    "economy = []\n",
    "\n",
    "for filename in all_files:\n",
    "    dataframes = pd.read_csv(filename, index_col=None, header=0)\n",
    "    economy.append(dataframes)\n",
    "\n",
    "economy_df = pd.concat(economy, axis=0, ignore_index=True)\n",
    "\n",
    "economy_df = economy_df[['Year', 'Country', 'Anual GDP (M.€)', 'Var. GDP(%)', 'GDP Per Capita (m.€)', 'Var. GDPxC(%)', 'Total Debt (M.€)', 'Var. TDebt(%)', \n",
    "                         'Debt (% GDP)', 'Var. Debt (% GDP)', 'Debt Per Capita (m.€)', 'Var. DebtxC (%)']]\n",
    "\n",
    "economy_df\n",
    "#economy_df.to_csv(r'../your-project/data/tableau_dfs/economy_df.csv')"
   ]
  },
  {
   "cell_type": "markdown",
   "metadata": {},
   "source": [
    "### National Average Salary"
   ]
  },
  {
   "cell_type": "code",
   "execution_count": 103,
   "metadata": {},
   "outputs": [],
   "source": [
    "national_avg_salary = pd.read_csv('../your-project/data/economy/national_avarage_salary/national_average_salary.csv', sep=';')\n",
    "national_avg_salary['NAS_Inc/Dec_Rate'] = national_avg_salary.groupby(['Country'])['National Average Salary'].pct_change()\n",
    "#national_avg_salary\n",
    "national_avg_salary.to_csv(r'../your-project/data/tableau_dfs/national_avg_salary.csv')"
   ]
  },
  {
   "cell_type": "markdown",
   "metadata": {},
   "source": [
    "### Unemployement Rate"
   ]
  },
  {
   "cell_type": "code",
   "execution_count": 110,
   "metadata": {},
   "outputs": [],
   "source": [
    "unemployement_rate = pd.read_csv('../your-project/data/economy/unemployement_rate/unemployement_rate.csv', sep=';')\n",
    "unemployement_rate = unemployement_rate.replace({'%':''}, regex=True)\n",
    "unemployement_rate['Unemployment Rate (%)'] = unemployement_rate['Unemployment Rate (%)'].astype(float) \n",
    "unemployement_rate['Annual Change'] = unemployement_rate.groupby(['Country'])['Unemployment Rate (%)'].pct_change()\n",
    "#unemployement_rate\n",
    "unemployement_rate.to_csv(r'../your-project/data/tableau_dfs/unemployement_rate.csv')"
   ]
  },
  {
   "cell_type": "markdown",
   "metadata": {},
   "source": [
    "### TV Revenue DataFrame"
   ]
  },
  {
   "cell_type": "code",
   "execution_count": 72,
   "metadata": {},
   "outputs": [],
   "source": [
    "tv_revenue_df = pd.read_csv('../your-project/data/tv_stadiums/tv_big_5.csv', sep=';', thousands='.')\n",
    "tv_revenue_inflation = pd.merge(tv_revenue_df, change_inflation, how='left', left_on=['Year'], right_on =['year'])\n",
    "tv_revenue_inflation = tv_revenue_inflation[['Year', 'inflation', 'England', 'Italy', 'Germany', 'Spain', 'France']]\n",
    "tv_revenue_inflation.columns\n",
    "tv_revenue_inflation[\"England_infl\"] = tv_revenue_inflation[\"England\"] * tv_revenue_inflation[\"inflation\"]\n",
    "tv_revenue_inflation[\"Italy_infl\"] = tv_revenue_inflation[\"Italy\"] * tv_revenue_inflation[\"inflation\"]\n",
    "tv_revenue_inflation[\"Germany_infl\"] = tv_revenue_inflation[\"Germany\"] * tv_revenue_inflation[\"inflation\"]\n",
    "tv_revenue_inflation[\"Spain_infl\"] = tv_revenue_inflation[\"Spain\"] * tv_revenue_inflation[\"inflation\"]\n",
    "tv_revenue_inflation[\"France_infl\"] = tv_revenue_inflation[\"France\"] * tv_revenue_inflation[\"inflation\"]\n",
    "tv_revenue_inflation = tv_revenue_inflation[['Year', 'inflation', 'England', 'England_infl', 'Italy', 'Italy_infl', \n",
    "                                             'Germany', 'Germany_infl', 'Spain', 'Spain_infl', 'France', 'France_infl']]\n",
    "tv_revenue_inflation['Big5_TV'] = tv_revenue_inflation_pct[['England_infl', 'Italy_infl', 'Germany_infl', 'Spain_infl', 'France_infl']].sum(axis=1)"
   ]
  },
  {
   "cell_type": "code",
   "execution_count": 73,
   "metadata": {},
   "outputs": [],
   "source": [
    "tv_revenue_inflation_pctch = tv_revenue_inflation[['England_infl', 'Italy_infl', 'Germany_infl', 'Spain_infl', 'France_infl', 'Big5_TV']]\n",
    "tv_revenue_inflation_pctch = tv_revenue_inflation_pctch.pct_change()\n",
    "tv_revenue_inflation_pctch.columns = ['Premier_%', 'SerieA_%', 'Bundesliga_%', 'LaLiga_%', 'Ligue1_%', 'Big5_%'] "
   ]
  },
  {
   "cell_type": "code",
   "execution_count": 77,
   "metadata": {},
   "outputs": [
    {
     "data": {
      "text/html": [
       "<div>\n",
       "<style scoped>\n",
       "    .dataframe tbody tr th:only-of-type {\n",
       "        vertical-align: middle;\n",
       "    }\n",
       "\n",
       "    .dataframe tbody tr th {\n",
       "        vertical-align: top;\n",
       "    }\n",
       "\n",
       "    .dataframe thead th {\n",
       "        text-align: right;\n",
       "    }\n",
       "</style>\n",
       "<table border=\"1\" class=\"dataframe\">\n",
       "  <thead>\n",
       "    <tr style=\"text-align: right;\">\n",
       "      <th></th>\n",
       "      <th>Year</th>\n",
       "      <th>inflation</th>\n",
       "      <th>England</th>\n",
       "      <th>England_infl</th>\n",
       "      <th>Premier_%</th>\n",
       "      <th>Italy</th>\n",
       "      <th>Italy_infl</th>\n",
       "      <th>SerieA_%</th>\n",
       "      <th>Germany</th>\n",
       "      <th>Germany_infl</th>\n",
       "      <th>Bundesliga_%</th>\n",
       "      <th>Spain</th>\n",
       "      <th>Spain_infl</th>\n",
       "      <th>LaLiga_%</th>\n",
       "      <th>France</th>\n",
       "      <th>France_infl</th>\n",
       "      <th>Ligue1_%</th>\n",
       "      <th>Big5_TV</th>\n",
       "      <th>Big5_%</th>\n",
       "    </tr>\n",
       "  </thead>\n",
       "  <tbody>\n",
       "    <tr>\n",
       "      <th>0</th>\n",
       "      <td>1996</td>\n",
       "      <td>1.5021</td>\n",
       "      <td>685</td>\n",
       "      <td>1028.9385</td>\n",
       "      <td>NaN</td>\n",
       "      <td>551</td>\n",
       "      <td>827.6571</td>\n",
       "      <td>NaN</td>\n",
       "      <td>444</td>\n",
       "      <td>666.9324</td>\n",
       "      <td>NaN</td>\n",
       "      <td>524</td>\n",
       "      <td>787.1004</td>\n",
       "      <td>NaN</td>\n",
       "      <td>293</td>\n",
       "      <td>440.1153</td>\n",
       "      <td>NaN</td>\n",
       "      <td>3750.7437</td>\n",
       "      <td>NaN</td>\n",
       "    </tr>\n",
       "    <tr>\n",
       "      <th>1</th>\n",
       "      <td>1997</td>\n",
       "      <td>1.4698</td>\n",
       "      <td>895</td>\n",
       "      <td>1315.4710</td>\n",
       "      <td>0.278474</td>\n",
       "      <td>650</td>\n",
       "      <td>955.3700</td>\n",
       "      <td>0.154307</td>\n",
       "      <td>569</td>\n",
       "      <td>836.3162</td>\n",
       "      <td>0.253974</td>\n",
       "      <td>513</td>\n",
       "      <td>754.0074</td>\n",
       "      <td>-0.042044</td>\n",
       "      <td>323</td>\n",
       "      <td>474.7454</td>\n",
       "      <td>0.078684</td>\n",
       "      <td>4335.9100</td>\n",
       "      <td>0.156013</td>\n",
       "    </tr>\n",
       "    <tr>\n",
       "      <th>2</th>\n",
       "      <td>1998</td>\n",
       "      <td>1.4466</td>\n",
       "      <td>1024</td>\n",
       "      <td>1481.3184</td>\n",
       "      <td>0.126075</td>\n",
       "      <td>714</td>\n",
       "      <td>1032.8724</td>\n",
       "      <td>0.081123</td>\n",
       "      <td>577</td>\n",
       "      <td>834.6882</td>\n",
       "      <td>-0.001947</td>\n",
       "      <td>612</td>\n",
       "      <td>885.3192</td>\n",
       "      <td>0.174152</td>\n",
       "      <td>393</td>\n",
       "      <td>568.5138</td>\n",
       "      <td>0.197513</td>\n",
       "      <td>4802.7120</td>\n",
       "      <td>0.107660</td>\n",
       "    </tr>\n",
       "    <tr>\n",
       "      <th>3</th>\n",
       "      <td>1999</td>\n",
       "      <td>1.4346</td>\n",
       "      <td>1219</td>\n",
       "      <td>1748.7774</td>\n",
       "      <td>0.180555</td>\n",
       "      <td>954</td>\n",
       "      <td>1368.6084</td>\n",
       "      <td>0.325051</td>\n",
       "      <td>681</td>\n",
       "      <td>976.9626</td>\n",
       "      <td>0.170452</td>\n",
       "      <td>722</td>\n",
       "      <td>1035.7812</td>\n",
       "      <td>0.169952</td>\n",
       "      <td>607</td>\n",
       "      <td>870.8022</td>\n",
       "      <td>0.531717</td>\n",
       "      <td>6000.9318</td>\n",
       "      <td>0.249488</td>\n",
       "    </tr>\n",
       "    <tr>\n",
       "      <th>4</th>\n",
       "      <td>2000</td>\n",
       "      <td>1.4089</td>\n",
       "      <td>1557</td>\n",
       "      <td>2193.6573</td>\n",
       "      <td>0.254395</td>\n",
       "      <td>1027</td>\n",
       "      <td>1446.9403</td>\n",
       "      <td>0.057235</td>\n",
       "      <td>880</td>\n",
       "      <td>1239.8320</td>\n",
       "      <td>0.269068</td>\n",
       "      <td>676</td>\n",
       "      <td>952.4164</td>\n",
       "      <td>-0.080485</td>\n",
       "      <td>644</td>\n",
       "      <td>907.3316</td>\n",
       "      <td>0.041949</td>\n",
       "      <td>6740.1776</td>\n",
       "      <td>0.123189</td>\n",
       "    </tr>\n",
       "    <tr>\n",
       "      <th>5</th>\n",
       "      <td>2001</td>\n",
       "      <td>1.3737</td>\n",
       "      <td>1747</td>\n",
       "      <td>2399.8539</td>\n",
       "      <td>0.093997</td>\n",
       "      <td>1017</td>\n",
       "      <td>1397.0529</td>\n",
       "      <td>-0.034478</td>\n",
       "      <td>1043</td>\n",
       "      <td>1432.7691</td>\n",
       "      <td>0.155616</td>\n",
       "      <td>776</td>\n",
       "      <td>1065.9912</td>\n",
       "      <td>0.119249</td>\n",
       "      <td>643</td>\n",
       "      <td>883.2891</td>\n",
       "      <td>-0.026498</td>\n",
       "      <td>7178.9562</td>\n",
       "      <td>0.065099</td>\n",
       "    </tr>\n",
       "    <tr>\n",
       "      <th>6</th>\n",
       "      <td>2002</td>\n",
       "      <td>1.3455</td>\n",
       "      <td>1791</td>\n",
       "      <td>2409.7905</td>\n",
       "      <td>0.004141</td>\n",
       "      <td>1024</td>\n",
       "      <td>1377.7920</td>\n",
       "      <td>-0.013787</td>\n",
       "      <td>1108</td>\n",
       "      <td>1490.8140</td>\n",
       "      <td>0.040512</td>\n",
       "      <td>847</td>\n",
       "      <td>1139.6385</td>\n",
       "      <td>0.069088</td>\n",
       "      <td>689</td>\n",
       "      <td>927.0495</td>\n",
       "      <td>0.049543</td>\n",
       "      <td>7345.0845</td>\n",
       "      <td>0.023141</td>\n",
       "    </tr>\n",
       "    <tr>\n",
       "      <th>7</th>\n",
       "      <td>2003</td>\n",
       "      <td>1.3151</td>\n",
       "      <td>1977</td>\n",
       "      <td>2599.9527</td>\n",
       "      <td>0.078912</td>\n",
       "      <td>1052</td>\n",
       "      <td>1383.4852</td>\n",
       "      <td>0.004132</td>\n",
       "      <td>1058</td>\n",
       "      <td>1391.3758</td>\n",
       "      <td>-0.066701</td>\n",
       "      <td>953</td>\n",
       "      <td>1253.2903</td>\n",
       "      <td>0.099726</td>\n",
       "      <td>655</td>\n",
       "      <td>861.3905</td>\n",
       "      <td>-0.070826</td>\n",
       "      <td>7489.4945</td>\n",
       "      <td>0.019661</td>\n",
       "    </tr>\n",
       "    <tr>\n",
       "      <th>8</th>\n",
       "      <td>2004</td>\n",
       "      <td>1.2890</td>\n",
       "      <td>1975</td>\n",
       "      <td>2545.7750</td>\n",
       "      <td>-0.020838</td>\n",
       "      <td>1219</td>\n",
       "      <td>1571.2910</td>\n",
       "      <td>0.135748</td>\n",
       "      <td>1236</td>\n",
       "      <td>1593.2040</td>\n",
       "      <td>0.145057</td>\n",
       "      <td>1029</td>\n",
       "      <td>1326.3810</td>\n",
       "      <td>0.058319</td>\n",
       "      <td>696</td>\n",
       "      <td>897.1440</td>\n",
       "      <td>0.041507</td>\n",
       "      <td>7933.7950</td>\n",
       "      <td>0.059323</td>\n",
       "    </tr>\n",
       "    <tr>\n",
       "      <th>9</th>\n",
       "      <td>2005</td>\n",
       "      <td>1.2593</td>\n",
       "      <td>1995</td>\n",
       "      <td>2512.3035</td>\n",
       "      <td>-0.013148</td>\n",
       "      <td>1277</td>\n",
       "      <td>1608.1261</td>\n",
       "      <td>0.023443</td>\n",
       "      <td>1195</td>\n",
       "      <td>1504.8635</td>\n",
       "      <td>-0.055448</td>\n",
       "      <td>1158</td>\n",
       "      <td>1458.2694</td>\n",
       "      <td>0.099435</td>\n",
       "      <td>910</td>\n",
       "      <td>1145.9630</td>\n",
       "      <td>0.277346</td>\n",
       "      <td>8229.5255</td>\n",
       "      <td>0.037275</td>\n",
       "    </tr>\n",
       "    <tr>\n",
       "      <th>10</th>\n",
       "      <td>2006</td>\n",
       "      <td>1.2314</td>\n",
       "      <td>2273</td>\n",
       "      <td>2798.9722</td>\n",
       "      <td>0.114106</td>\n",
       "      <td>1064</td>\n",
       "      <td>1310.2096</td>\n",
       "      <td>-0.185257</td>\n",
       "      <td>1379</td>\n",
       "      <td>1698.1006</td>\n",
       "      <td>0.128408</td>\n",
       "      <td>1326</td>\n",
       "      <td>1632.8364</td>\n",
       "      <td>0.119708</td>\n",
       "      <td>972</td>\n",
       "      <td>1196.9208</td>\n",
       "      <td>0.044467</td>\n",
       "      <td>8637.0396</td>\n",
       "      <td>0.049519</td>\n",
       "    </tr>\n",
       "    <tr>\n",
       "      <th>11</th>\n",
       "      <td>2007</td>\n",
       "      <td>1.2081</td>\n",
       "      <td>2441</td>\n",
       "      <td>2948.9721</td>\n",
       "      <td>0.053591</td>\n",
       "      <td>1421</td>\n",
       "      <td>1716.7101</td>\n",
       "      <td>0.310256</td>\n",
       "      <td>1438</td>\n",
       "      <td>1737.2478</td>\n",
       "      <td>0.023054</td>\n",
       "      <td>1438</td>\n",
       "      <td>1737.2478</td>\n",
       "      <td>0.063945</td>\n",
       "      <td>989</td>\n",
       "      <td>1194.8109</td>\n",
       "      <td>-0.001763</td>\n",
       "      <td>9334.9887</td>\n",
       "      <td>0.080809</td>\n",
       "    </tr>\n",
       "    <tr>\n",
       "      <th>12</th>\n",
       "      <td>2008</td>\n",
       "      <td>1.1717</td>\n",
       "      <td>2326</td>\n",
       "      <td>2725.3742</td>\n",
       "      <td>-0.075822</td>\n",
       "      <td>1494</td>\n",
       "      <td>1750.5198</td>\n",
       "      <td>0.019694</td>\n",
       "      <td>1575</td>\n",
       "      <td>1845.4275</td>\n",
       "      <td>0.062271</td>\n",
       "      <td>1501</td>\n",
       "      <td>1758.7217</td>\n",
       "      <td>0.012361</td>\n",
       "      <td>1048</td>\n",
       "      <td>1227.9416</td>\n",
       "      <td>0.027729</td>\n",
       "      <td>9307.9848</td>\n",
       "      <td>-0.002893</td>\n",
       "    </tr>\n",
       "    <tr>\n",
       "      <th>13</th>\n",
       "      <td>2009</td>\n",
       "      <td>1.1526</td>\n",
       "      <td>2479</td>\n",
       "      <td>2857.2954</td>\n",
       "      <td>0.048405</td>\n",
       "      <td>1532</td>\n",
       "      <td>1765.7832</td>\n",
       "      <td>0.008719</td>\n",
       "      <td>1664</td>\n",
       "      <td>1917.9264</td>\n",
       "      <td>0.039286</td>\n",
       "      <td>1644</td>\n",
       "      <td>1894.8744</td>\n",
       "      <td>0.077416</td>\n",
       "      <td>1072</td>\n",
       "      <td>1235.5872</td>\n",
       "      <td>0.006226</td>\n",
       "      <td>9671.4666</td>\n",
       "      <td>0.039051</td>\n",
       "    </tr>\n",
       "    <tr>\n",
       "      <th>14</th>\n",
       "      <td>2010</td>\n",
       "      <td>1.1421</td>\n",
       "      <td>2515</td>\n",
       "      <td>2872.3815</td>\n",
       "      <td>0.005280</td>\n",
       "      <td>1553</td>\n",
       "      <td>1773.6813</td>\n",
       "      <td>0.004473</td>\n",
       "      <td>1746</td>\n",
       "      <td>1994.1066</td>\n",
       "      <td>0.039720</td>\n",
       "      <td>1718</td>\n",
       "      <td>1962.1278</td>\n",
       "      <td>0.035492</td>\n",
       "      <td>1040</td>\n",
       "      <td>1187.7840</td>\n",
       "      <td>-0.038689</td>\n",
       "      <td>9790.0812</td>\n",
       "      <td>0.012264</td>\n",
       "    </tr>\n",
       "    <tr>\n",
       "      <th>15</th>\n",
       "      <td>2011</td>\n",
       "      <td>1.1173</td>\n",
       "      <td>2900</td>\n",
       "      <td>3240.1700</td>\n",
       "      <td>0.128043</td>\n",
       "      <td>1600</td>\n",
       "      <td>1787.6800</td>\n",
       "      <td>0.007892</td>\n",
       "      <td>1900</td>\n",
       "      <td>2122.8700</td>\n",
       "      <td>0.064572</td>\n",
       "      <td>1800</td>\n",
       "      <td>2011.1400</td>\n",
       "      <td>0.024979</td>\n",
       "      <td>1100</td>\n",
       "      <td>1229.0300</td>\n",
       "      <td>0.034725</td>\n",
       "      <td>10390.8900</td>\n",
       "      <td>0.061369</td>\n",
       "    </tr>\n",
       "    <tr>\n",
       "      <th>16</th>\n",
       "      <td>2012</td>\n",
       "      <td>1.0874</td>\n",
       "      <td>2946</td>\n",
       "      <td>3203.4804</td>\n",
       "      <td>-0.011323</td>\n",
       "      <td>1677</td>\n",
       "      <td>1823.5698</td>\n",
       "      <td>0.020076</td>\n",
       "      <td>2018</td>\n",
       "      <td>2194.3732</td>\n",
       "      <td>0.033682</td>\n",
       "      <td>1868</td>\n",
       "      <td>2031.2632</td>\n",
       "      <td>0.010006</td>\n",
       "      <td>1297</td>\n",
       "      <td>1410.3578</td>\n",
       "      <td>0.147537</td>\n",
       "      <td>10663.0444</td>\n",
       "      <td>0.026192</td>\n",
       "    </tr>\n",
       "    <tr>\n",
       "      <th>17</th>\n",
       "      <td>2013</td>\n",
       "      <td>1.0638</td>\n",
       "      <td>3897</td>\n",
       "      <td>4145.6286</td>\n",
       "      <td>0.294101</td>\n",
       "      <td>1700</td>\n",
       "      <td>1808.4600</td>\n",
       "      <td>-0.008286</td>\n",
       "      <td>2275</td>\n",
       "      <td>2420.1450</td>\n",
       "      <td>0.102887</td>\n",
       "      <td>1933</td>\n",
       "      <td>2056.3254</td>\n",
       "      <td>0.012338</td>\n",
       "      <td>1498</td>\n",
       "      <td>1593.5724</td>\n",
       "      <td>0.129906</td>\n",
       "      <td>12024.1314</td>\n",
       "      <td>0.127645</td>\n",
       "    </tr>\n",
       "    <tr>\n",
       "      <th>18</th>\n",
       "      <td>2014</td>\n",
       "      <td>1.0548</td>\n",
       "      <td>4403</td>\n",
       "      <td>4644.2844</td>\n",
       "      <td>0.120285</td>\n",
       "      <td>1790</td>\n",
       "      <td>1888.0920</td>\n",
       "      <td>0.044033</td>\n",
       "      <td>2392</td>\n",
       "      <td>2523.0816</td>\n",
       "      <td>0.042533</td>\n",
       "      <td>2053</td>\n",
       "      <td>2165.5044</td>\n",
       "      <td>0.053094</td>\n",
       "      <td>1418</td>\n",
       "      <td>1495.7064</td>\n",
       "      <td>-0.061413</td>\n",
       "      <td>12716.6688</td>\n",
       "      <td>0.057596</td>\n",
       "    </tr>\n",
       "    <tr>\n",
       "      <th>19</th>\n",
       "      <td>2015</td>\n",
       "      <td>1.0566</td>\n",
       "      <td>4865</td>\n",
       "      <td>5140.3590</td>\n",
       "      <td>0.106814</td>\n",
       "      <td>1917</td>\n",
       "      <td>2025.5022</td>\n",
       "      <td>0.072777</td>\n",
       "      <td>2712</td>\n",
       "      <td>2865.4992</td>\n",
       "      <td>0.135714</td>\n",
       "      <td>2437</td>\n",
       "      <td>2574.9342</td>\n",
       "      <td>0.189069</td>\n",
       "      <td>1485</td>\n",
       "      <td>1569.0510</td>\n",
       "      <td>0.049037</td>\n",
       "      <td>14175.3456</td>\n",
       "      <td>0.114706</td>\n",
       "    </tr>\n",
       "    <tr>\n",
       "      <th>20</th>\n",
       "      <td>2016</td>\n",
       "      <td>1.0540</td>\n",
       "      <td>5301</td>\n",
       "      <td>5587.2540</td>\n",
       "      <td>0.086938</td>\n",
       "      <td>2062</td>\n",
       "      <td>2173.3480</td>\n",
       "      <td>0.072992</td>\n",
       "      <td>2793</td>\n",
       "      <td>2943.8220</td>\n",
       "      <td>0.027333</td>\n",
       "      <td>2865</td>\n",
       "      <td>3019.7100</td>\n",
       "      <td>0.172733</td>\n",
       "      <td>1643</td>\n",
       "      <td>1731.7220</td>\n",
       "      <td>0.103675</td>\n",
       "      <td>15455.8560</td>\n",
       "      <td>0.090334</td>\n",
       "    </tr>\n",
       "    <tr>\n",
       "      <th>21</th>\n",
       "      <td>2017</td>\n",
       "      <td>1.0425</td>\n",
       "      <td>5440</td>\n",
       "      <td>5671.2000</td>\n",
       "      <td>0.015025</td>\n",
       "      <td>2239</td>\n",
       "      <td>2334.1575</td>\n",
       "      <td>0.073992</td>\n",
       "      <td>3168</td>\n",
       "      <td>3302.6400</td>\n",
       "      <td>0.121888</td>\n",
       "      <td>3073</td>\n",
       "      <td>3203.6025</td>\n",
       "      <td>0.060897</td>\n",
       "      <td>1692</td>\n",
       "      <td>1763.9100</td>\n",
       "      <td>0.018587</td>\n",
       "      <td>16275.5100</td>\n",
       "      <td>0.053032</td>\n",
       "    </tr>\n",
       "    <tr>\n",
       "      <th>22</th>\n",
       "      <td>2018</td>\n",
       "      <td>1.0287</td>\n",
       "      <td>5851</td>\n",
       "      <td>6018.9237</td>\n",
       "      <td>0.061314</td>\n",
       "      <td>2495</td>\n",
       "      <td>2566.6065</td>\n",
       "      <td>0.099586</td>\n",
       "      <td>3345</td>\n",
       "      <td>3441.0015</td>\n",
       "      <td>0.041894</td>\n",
       "      <td>3375</td>\n",
       "      <td>3471.8625</td>\n",
       "      <td>0.083737</td>\n",
       "      <td>1902</td>\n",
       "      <td>1956.5874</td>\n",
       "      <td>0.109233</td>\n",
       "      <td>17454.9816</td>\n",
       "      <td>0.072469</td>\n",
       "    </tr>\n",
       "    <tr>\n",
       "      <th>23</th>\n",
       "      <td>2019</td>\n",
       "      <td>1.0133</td>\n",
       "      <td>4900</td>\n",
       "      <td>4965.1700</td>\n",
       "      <td>-0.175073</td>\n",
       "      <td>2100</td>\n",
       "      <td>2127.9300</td>\n",
       "      <td>-0.170917</td>\n",
       "      <td>3300</td>\n",
       "      <td>3343.8900</td>\n",
       "      <td>-0.028222</td>\n",
       "      <td>3100</td>\n",
       "      <td>3141.2300</td>\n",
       "      <td>-0.095232</td>\n",
       "      <td>1700</td>\n",
       "      <td>1722.6100</td>\n",
       "      <td>-0.119584</td>\n",
       "      <td>15300.8300</td>\n",
       "      <td>-0.123412</td>\n",
       "    </tr>\n",
       "    <tr>\n",
       "      <th>24</th>\n",
       "      <td>2020</td>\n",
       "      <td>1.0000</td>\n",
       "      <td>6200</td>\n",
       "      <td>6200.0000</td>\n",
       "      <td>0.248698</td>\n",
       "      <td>2700</td>\n",
       "      <td>2700.0000</td>\n",
       "      <td>0.268839</td>\n",
       "      <td>3200</td>\n",
       "      <td>3200.0000</td>\n",
       "      <td>-0.043031</td>\n",
       "      <td>3700</td>\n",
       "      <td>3700.0000</td>\n",
       "      <td>0.177883</td>\n",
       "      <td>2300</td>\n",
       "      <td>2300.0000</td>\n",
       "      <td>0.335183</td>\n",
       "      <td>18100.0000</td>\n",
       "      <td>0.182942</td>\n",
       "    </tr>\n",
       "  </tbody>\n",
       "</table>\n",
       "</div>"
      ],
      "text/plain": [
       "    Year  inflation  England  England_infl  Premier_%  Italy  Italy_infl  \\\n",
       "0   1996     1.5021      685     1028.9385        NaN    551    827.6571   \n",
       "1   1997     1.4698      895     1315.4710   0.278474    650    955.3700   \n",
       "2   1998     1.4466     1024     1481.3184   0.126075    714   1032.8724   \n",
       "3   1999     1.4346     1219     1748.7774   0.180555    954   1368.6084   \n",
       "4   2000     1.4089     1557     2193.6573   0.254395   1027   1446.9403   \n",
       "5   2001     1.3737     1747     2399.8539   0.093997   1017   1397.0529   \n",
       "6   2002     1.3455     1791     2409.7905   0.004141   1024   1377.7920   \n",
       "7   2003     1.3151     1977     2599.9527   0.078912   1052   1383.4852   \n",
       "8   2004     1.2890     1975     2545.7750  -0.020838   1219   1571.2910   \n",
       "9   2005     1.2593     1995     2512.3035  -0.013148   1277   1608.1261   \n",
       "10  2006     1.2314     2273     2798.9722   0.114106   1064   1310.2096   \n",
       "11  2007     1.2081     2441     2948.9721   0.053591   1421   1716.7101   \n",
       "12  2008     1.1717     2326     2725.3742  -0.075822   1494   1750.5198   \n",
       "13  2009     1.1526     2479     2857.2954   0.048405   1532   1765.7832   \n",
       "14  2010     1.1421     2515     2872.3815   0.005280   1553   1773.6813   \n",
       "15  2011     1.1173     2900     3240.1700   0.128043   1600   1787.6800   \n",
       "16  2012     1.0874     2946     3203.4804  -0.011323   1677   1823.5698   \n",
       "17  2013     1.0638     3897     4145.6286   0.294101   1700   1808.4600   \n",
       "18  2014     1.0548     4403     4644.2844   0.120285   1790   1888.0920   \n",
       "19  2015     1.0566     4865     5140.3590   0.106814   1917   2025.5022   \n",
       "20  2016     1.0540     5301     5587.2540   0.086938   2062   2173.3480   \n",
       "21  2017     1.0425     5440     5671.2000   0.015025   2239   2334.1575   \n",
       "22  2018     1.0287     5851     6018.9237   0.061314   2495   2566.6065   \n",
       "23  2019     1.0133     4900     4965.1700  -0.175073   2100   2127.9300   \n",
       "24  2020     1.0000     6200     6200.0000   0.248698   2700   2700.0000   \n",
       "\n",
       "    SerieA_%  Germany  Germany_infl  Bundesliga_%  Spain  Spain_infl  \\\n",
       "0        NaN      444      666.9324           NaN    524    787.1004   \n",
       "1   0.154307      569      836.3162      0.253974    513    754.0074   \n",
       "2   0.081123      577      834.6882     -0.001947    612    885.3192   \n",
       "3   0.325051      681      976.9626      0.170452    722   1035.7812   \n",
       "4   0.057235      880     1239.8320      0.269068    676    952.4164   \n",
       "5  -0.034478     1043     1432.7691      0.155616    776   1065.9912   \n",
       "6  -0.013787     1108     1490.8140      0.040512    847   1139.6385   \n",
       "7   0.004132     1058     1391.3758     -0.066701    953   1253.2903   \n",
       "8   0.135748     1236     1593.2040      0.145057   1029   1326.3810   \n",
       "9   0.023443     1195     1504.8635     -0.055448   1158   1458.2694   \n",
       "10 -0.185257     1379     1698.1006      0.128408   1326   1632.8364   \n",
       "11  0.310256     1438     1737.2478      0.023054   1438   1737.2478   \n",
       "12  0.019694     1575     1845.4275      0.062271   1501   1758.7217   \n",
       "13  0.008719     1664     1917.9264      0.039286   1644   1894.8744   \n",
       "14  0.004473     1746     1994.1066      0.039720   1718   1962.1278   \n",
       "15  0.007892     1900     2122.8700      0.064572   1800   2011.1400   \n",
       "16  0.020076     2018     2194.3732      0.033682   1868   2031.2632   \n",
       "17 -0.008286     2275     2420.1450      0.102887   1933   2056.3254   \n",
       "18  0.044033     2392     2523.0816      0.042533   2053   2165.5044   \n",
       "19  0.072777     2712     2865.4992      0.135714   2437   2574.9342   \n",
       "20  0.072992     2793     2943.8220      0.027333   2865   3019.7100   \n",
       "21  0.073992     3168     3302.6400      0.121888   3073   3203.6025   \n",
       "22  0.099586     3345     3441.0015      0.041894   3375   3471.8625   \n",
       "23 -0.170917     3300     3343.8900     -0.028222   3100   3141.2300   \n",
       "24  0.268839     3200     3200.0000     -0.043031   3700   3700.0000   \n",
       "\n",
       "    LaLiga_%  France  France_infl  Ligue1_%     Big5_TV    Big5_%  \n",
       "0        NaN     293     440.1153       NaN   3750.7437       NaN  \n",
       "1  -0.042044     323     474.7454  0.078684   4335.9100  0.156013  \n",
       "2   0.174152     393     568.5138  0.197513   4802.7120  0.107660  \n",
       "3   0.169952     607     870.8022  0.531717   6000.9318  0.249488  \n",
       "4  -0.080485     644     907.3316  0.041949   6740.1776  0.123189  \n",
       "5   0.119249     643     883.2891 -0.026498   7178.9562  0.065099  \n",
       "6   0.069088     689     927.0495  0.049543   7345.0845  0.023141  \n",
       "7   0.099726     655     861.3905 -0.070826   7489.4945  0.019661  \n",
       "8   0.058319     696     897.1440  0.041507   7933.7950  0.059323  \n",
       "9   0.099435     910    1145.9630  0.277346   8229.5255  0.037275  \n",
       "10  0.119708     972    1196.9208  0.044467   8637.0396  0.049519  \n",
       "11  0.063945     989    1194.8109 -0.001763   9334.9887  0.080809  \n",
       "12  0.012361    1048    1227.9416  0.027729   9307.9848 -0.002893  \n",
       "13  0.077416    1072    1235.5872  0.006226   9671.4666  0.039051  \n",
       "14  0.035492    1040    1187.7840 -0.038689   9790.0812  0.012264  \n",
       "15  0.024979    1100    1229.0300  0.034725  10390.8900  0.061369  \n",
       "16  0.010006    1297    1410.3578  0.147537  10663.0444  0.026192  \n",
       "17  0.012338    1498    1593.5724  0.129906  12024.1314  0.127645  \n",
       "18  0.053094    1418    1495.7064 -0.061413  12716.6688  0.057596  \n",
       "19  0.189069    1485    1569.0510  0.049037  14175.3456  0.114706  \n",
       "20  0.172733    1643    1731.7220  0.103675  15455.8560  0.090334  \n",
       "21  0.060897    1692    1763.9100  0.018587  16275.5100  0.053032  \n",
       "22  0.083737    1902    1956.5874  0.109233  17454.9816  0.072469  \n",
       "23 -0.095232    1700    1722.6100 -0.119584  15300.8300 -0.123412  \n",
       "24  0.177883    2300    2300.0000  0.335183  18100.0000  0.182942  "
      ]
     },
     "execution_count": 77,
     "metadata": {},
     "output_type": "execute_result"
    }
   ],
   "source": [
    "tv_revenue_inflation_pct = pd.merge(tv_revenue_inflation, tv_revenue_inflation_pctch, how='left', left_index=True, right_index=True)\n",
    "tv_revenue_inflation_pct = tv_revenue_inflation_pct[['Year', 'inflation', 'England', 'England_infl', 'Premier_%', 'Italy', 'Italy_infl', 'SerieA_%', 'Germany', \n",
    "                                                     'Germany_infl', 'Bundesliga_%', 'Spain', 'Spain_infl', 'LaLiga_%', 'France', 'France_infl', 'Ligue1_%', 'Big5_TV', 'Big5_%']]\n",
    "\n",
    "tv_revenue_inflation_pct.to_csv(r'../your-project/data/tableau_dfs/tv_revenue_df.csv')\n",
    "tv_revenue_inflation_pct"
   ]
  },
  {
   "cell_type": "markdown",
   "metadata": {},
   "source": [
    "### Stadium Attendance DataFrame"
   ]
  },
  {
   "cell_type": "code",
   "execution_count": 78,
   "metadata": {},
   "outputs": [],
   "source": [
    "attendance_df = pd.read_csv('../your-project/data/tv_stadiums/stadiums_attendance.csv', sep=';')\n",
    "attendance_df = attendance_df.fillna(0)\n",
    "attendance_df = attendance_df.replace({'%':''}, regex=True)\n",
    "attendance_df['Average Capacity Ocupation'] = attendance_df['Average Capacity Ocupation'].str.replace(',', '.').astype(float)\n",
    "attendance_df['Total Stadiums Capacity'] = attendance_df['Total Stadiums Capacity'].astype(float) \n",
    "attendance_df['Average Stadiums Capacity'] = attendance_df['Average Stadiums Capacity'].astype(float)"
   ]
  },
  {
   "cell_type": "code",
   "execution_count": 79,
   "metadata": {},
   "outputs": [],
   "source": [
    "attendance_df_bundes = attendance_df[attendance_df['League'].isin(['Bundesliga'])]\n",
    "attendance_df_premier = attendance_df[attendance_df['League'].isin(['Premier League'])]\n",
    "attendance_df_laliga = attendance_df[attendance_df['League'].isin(['La Liga'])]\n",
    "attendance_df_ligue1 = attendance_df[attendance_df['League'].isin(['Ligue 1'])]\n",
    "attendance_df_seriea = attendance_df[attendance_df['League'].isin(['Serie A'])]"
   ]
  },
  {
   "cell_type": "code",
   "execution_count": 82,
   "metadata": {},
   "outputs": [],
   "source": [
    "attendance_df_bundes_pctch = attendance_df_bundes[['Total Stadiums Capacity', 'Average Stadiums Capacity', 'Total Attendance', 'Average Attendance', 'Average Capacity Ocupation']]\n",
    "attendance_df_bundes_pctch = attendance_df_bundes_pctch.pct_change()\n",
    "attendance_df_bundes_pctch.columns = ['TSC_%', 'ASC_%', 'TA_%', 'AA_%', 'ACO_%']\n",
    "attendance_df_bundes_pctch = pd.merge(attendance_df_bundes, attendance_df_bundes_pctch, how='left', left_index=True, right_index=True)\n",
    "attendance_df_bundes_pctch = attendance_df_bundes_pctch[['Season End Year', 'League', 'Nº Teams', 'Total Stadiums Capacity', 'TSC_%', 'Average Stadiums Capacity', 'ASC_%', \n",
    "                                                         'Total Attendance', 'TA_%', 'Average Attendance', 'AA_%', 'Average Capacity Ocupation', 'ACO_%']]\n",
    "#attendance_df_bundes_pctch\n",
    "attendance_df_bundes_pctch.to_csv(r'../your-project/data/tv_stadiums/merged_cleaned_data/attendance_df_bundes_pctch.csv')"
   ]
  },
  {
   "cell_type": "code",
   "execution_count": 83,
   "metadata": {},
   "outputs": [],
   "source": [
    "attendance_df_premier_pctch = attendance_df_premier[['Total Stadiums Capacity', 'Average Stadiums Capacity', 'Total Attendance', 'Average Attendance', 'Average Capacity Ocupation']]\n",
    "attendance_df_premier_pctch = attendance_df_premier_pctch.pct_change()\n",
    "attendance_df_premier_pctch.columns = ['TSC_%', 'ASC_%', 'TA_%', 'AA_%', 'ACO_%']\n",
    "attendance_df_premier_pctch = pd.merge(attendance_df_premier, attendance_df_premier_pctch, how='left', left_index=True, right_index=True)\n",
    "attendance_df_premier_pctch = attendance_df_premier_pctch[['Season End Year', 'League', 'Nº Teams', 'Total Stadiums Capacity', 'TSC_%', 'Average Stadiums Capacity', 'ASC_%', \n",
    "                                                         'Total Attendance', 'TA_%', 'Average Attendance', 'AA_%', 'Average Capacity Ocupation', 'ACO_%']]\n",
    "#attendance_df_premier_pctch\n",
    "attendance_df_premier_pctch.to_csv(r'../your-project/data/tv_stadiums/merged_cleaned_data/attendance_df_premier_pctch.csv')"
   ]
  },
  {
   "cell_type": "code",
   "execution_count": 84,
   "metadata": {},
   "outputs": [],
   "source": [
    "attendance_df_laliga_pctch = attendance_df_laliga[['Total Stadiums Capacity', 'Average Stadiums Capacity', 'Total Attendance', 'Average Attendance', 'Average Capacity Ocupation']]\n",
    "attendance_df_laliga_pctch = attendance_df_laliga_pctch.pct_change()\n",
    "attendance_df_laliga_pctch.columns = ['TSC_%', 'ASC_%', 'TA_%', 'AA_%', 'ACO_%']\n",
    "attendance_df_laliga_pctch = pd.merge(attendance_df_laliga, attendance_df_laliga_pctch, how='left', left_index=True, right_index=True)\n",
    "attendance_df_laliga_pctch = attendance_df_laliga_pctch[['Season End Year', 'League', 'Nº Teams', 'Total Stadiums Capacity', 'TSC_%', 'Average Stadiums Capacity', 'ASC_%', \n",
    "                                                         'Total Attendance', 'TA_%', 'Average Attendance', 'AA_%', 'Average Capacity Ocupation', 'ACO_%']]\n",
    "#attendance_df_laliga_pctch\n",
    "attendance_df_laliga_pctch.to_csv(r'../your-project/data/tv_stadiums/merged_cleaned_data/attendance_df_laliga_pctch.csv')"
   ]
  },
  {
   "cell_type": "code",
   "execution_count": 85,
   "metadata": {},
   "outputs": [],
   "source": [
    "attendance_df_ligue1_pctch = attendance_df_ligue1[['Total Stadiums Capacity', 'Average Stadiums Capacity', 'Total Attendance', 'Average Attendance', 'Average Capacity Ocupation']]\n",
    "attendance_df_ligue1_pctch = attendance_df_ligue1_pctch.pct_change()\n",
    "attendance_df_ligue1_pctch.columns = ['TSC_%', 'ASC_%', 'TA_%', 'AA_%', 'ACO_%']\n",
    "attendance_df_ligue1_pctch = pd.merge(attendance_df_ligue1, attendance_df_ligue1_pctch, how='left', left_index=True, right_index=True)\n",
    "attendance_df_ligue1_pctch = attendance_df_ligue1_pctch[['Season End Year', 'League', 'Nº Teams', 'Total Stadiums Capacity', 'TSC_%', 'Average Stadiums Capacity', 'ASC_%', \n",
    "                                                         'Total Attendance', 'TA_%', 'Average Attendance', 'AA_%', 'Average Capacity Ocupation', 'ACO_%']]\n",
    "#attendance_df_ligue1_pctch\n",
    "attendance_df_ligue1_pctch.to_csv(r'../your-project/data/tv_stadiums/merged_cleaned_data/attendance_df_ligue1_pctch.csv')"
   ]
  },
  {
   "cell_type": "code",
   "execution_count": 86,
   "metadata": {},
   "outputs": [],
   "source": [
    "attendance_df_seriea_pctch = attendance_df_seriea[['Total Stadiums Capacity', 'Average Stadiums Capacity', 'Total Attendance', 'Average Attendance', 'Average Capacity Ocupation']]\n",
    "attendance_df_seriea_pctch = attendance_df_seriea_pctch.pct_change()\n",
    "attendance_df_seriea_pctch.columns = ['TSC_%', 'ASC_%', 'TA_%', 'AA_%', 'ACO_%']\n",
    "attendance_df_seriea_pctch = pd.merge(attendance_df_seriea, attendance_df_seriea_pctch, how='left', left_index=True, right_index=True)\n",
    "attendance_df_seriea_pctch = attendance_df_seriea_pctch[['Season End Year', 'League', 'Nº Teams', 'Total Stadiums Capacity', 'TSC_%', 'Average Stadiums Capacity', 'ASC_%', \n",
    "                                                         'Total Attendance', 'TA_%', 'Average Attendance', 'AA_%', 'Average Capacity Ocupation', 'ACO_%']]\n",
    "#attendance_df_seriea_pctch\n",
    "attendance_df_seriea_pctch.to_csv(r'../your-project/data/tv_stadiums/merged_cleaned_data/attendance_df_seriea_pctch.csv')"
   ]
  },
  {
   "cell_type": "code",
   "execution_count": 92,
   "metadata": {
    "scrolled": true
   },
   "outputs": [],
   "source": [
    "path = r'/Users/arnauangerri/Desktop/IronHack/Week5/Project-Week-5-Your-Own-Project/your-project/data/tv_stadiums/merged_cleaned_data/'\n",
    "all_files = glob.glob(path + \"/*.csv\")\n",
    "\n",
    "stadiums = []\n",
    "\n",
    "for filename in all_files:\n",
    "    dataframes = pd.read_csv(filename, index_col=None, header=0)\n",
    "    stadiums.append(dataframes)\n",
    "\n",
    "stadiums_df = pd.concat(stadiums, axis=0, ignore_index=True)\n",
    "\n",
    "stadiums_df = stadiums_df[['Season End Year', 'League', 'Nº Teams', 'Total Stadiums Capacity', 'TSC_%', 'Average Stadiums Capacity', 'ASC_%', \n",
    "                           'Total Attendance','TA_%', 'Average Attendance', 'AA_%', 'Average Capacity Ocupation', 'ACO_%']]\n",
    "#stadiums_df.head(50)\n",
    "#stadiums_df.to_csv(r'../your-project/data/tableau_dfs/stadiums_df.csv')"
   ]
  }
 ],
 "metadata": {
  "kernelspec": {
   "display_name": "Python 3",
   "language": "python",
   "name": "python3"
  },
  "language_info": {
   "codemirror_mode": {
    "name": "ipython",
    "version": 3
   },
   "file_extension": ".py",
   "mimetype": "text/x-python",
   "name": "python",
   "nbconvert_exporter": "python",
   "pygments_lexer": "ipython3",
   "version": "3.8.3"
  }
 },
 "nbformat": 4,
 "nbformat_minor": 4
}
