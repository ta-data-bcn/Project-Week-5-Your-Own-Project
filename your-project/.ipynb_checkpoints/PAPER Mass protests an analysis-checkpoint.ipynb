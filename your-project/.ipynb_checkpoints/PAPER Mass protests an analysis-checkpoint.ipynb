{
 "cells": [
  {
   "cell_type": "markdown",
   "metadata": {},
   "source": [
    "# Mass protests: an analysis\n",
    "### By Cristina Arias Baniela"
   ]
  },
  {
   "cell_type": "markdown",
   "metadata": {},
   "source": [
    "### Introduction"
   ]
  },
  {
   "cell_type": "markdown",
   "metadata": {},
   "source": [
    "With the COVID crisis and the Black Lives Matter movement, there are increasing voices in the media talking about a growing disillusionment that drives a general social discomfort. Yuval Noah Harari wrote in his book \"21 lessons for the 21st century\" that liberalism is losing credibility since the latest financial crisis at the same time that the advances in information technology and biotechnology  are making us fear losing our jobs, our liberty and becoming irrelevant. \n",
    "\n",
    "In this paper I analyse whether it is true that discomfort has increased since the last financial crisis. For doing so, I focus on data for gatherings of 1000 people or more occurring all over the world (excluding the United States, where no extensive enough reliable data was found) and I try to determine whether the number of mass protests have indeed increase after 2010 compared to the prior 20 years of welfare state.\n",
    "\n",
    "In order to understand whether the approach of looking at global data is relevant, I also analyse the correlation between the number of protests and the country's level of freedom."
   ]
  },
  {
   "cell_type": "markdown",
   "metadata": {},
   "source": [
    "### Data sources"
   ]
  },
  {
   "cell_type": "markdown",
   "metadata": {},
   "source": [
    "**Mass mobilization protest data:** https://dataverse.harvard.edu/dataverse/MMdata\n",
    "\n",
    "**Freedom index:** https://freedomhouse.org/explore-the-map?type=fiw&year=2020"
   ]
  },
  {
   "cell_type": "markdown",
   "metadata": {},
   "source": [
    "### Analysis"
   ]
  },
  {
   "cell_type": "markdown",
   "metadata": {},
   "source": [
    "**Do we protest more?**\n",
    "\n",
    "The graph below shows the number of mass protests (grey line) and the average participants (red bars) throughout the period under analysis.\n",
    "\n",
    "In this graph we can see how the number of mass protests generally increases after 2010 versus the prior 20 years. Even when there are more protests, the average participation is lower, with the exception of 2017, when average participation reaches a maximum peak. \n",
    "\n",
    "This could suggest that we protest about more different topics, however only a few get general engagement. And those topics that manage to engage, spread further than before. As a reference, the participation peak in the period 1990-2010 happened in 2003 and corresponded to the global \"No war against Irak\" demonstrations."
   ]
  },
  {
   "cell_type": "markdown",
   "metadata": {},
   "source": [
    "<img src=\"https://s3.amazonaws.com/media-p.slid.es/uploads/1349019/images/7600982/Captura_de_pantalla_2020-07-31_a_las_10.13.32.png\">"
   ]
  },
  {
   "cell_type": "markdown",
   "metadata": {},
   "source": [
    "**What do we protest about?**\n",
    "\n",
    "The graph below shows that we overwhelmingly protest more about political behaviours. There seems to be indeed disillusionment with the way states handle situations."
   ]
  },
  {
   "cell_type": "markdown",
   "metadata": {},
   "source": [
    "<img src=\"https://s3.amazonaws.com/media-p.slid.es/uploads/1349019/images/7600948/Captura_de_pantalla_2020-07-31_a_las_9.54.30.png\">"
   ]
  },
  {
   "cell_type": "markdown",
   "metadata": {},
   "source": [
    "**Which countries protest more?**\n",
    "\n",
    "*Per number of protests*\n",
    "\n",
    "The countries that carried out more number of protests throughout the period contemplated are:\n",
    "- South Korea (Free)\n",
    "- France (Free)\n",
    "- Germany (Free)\n",
    "\n",
    "The countries that carried out the least number of protests are:\n",
    "- North Corea (Not Free)\n",
    "- Luxembourg (Free)\n",
    "- Chad (Not Free)"
   ]
  },
  {
   "cell_type": "markdown",
   "metadata": {},
   "source": [
    "<img src=\"https://s3.amazonaws.com/media-p.slid.es/uploads/1349019/images/7600913/Captura_de_pantalla_2020-07-31_a_las_9.38.37.png\">"
   ]
  },
  {
   "cell_type": "markdown",
   "metadata": {},
   "source": [
    "*Per average participation*\n",
    "\n",
    "The countries with largest protests are:\n",
    "- Italy (Free)\n",
    "- Venezuela (Partially Free)\n",
    "- Lebanon (Partially Free)\n",
    "\n",
    "The countries with smaller protests are:\n",
    "- Netherlands (Free)\n",
    "- Cuba (Not Free)\n",
    "- Sierra Leona (Partially Free)"
   ]
  },
  {
   "cell_type": "markdown",
   "metadata": {},
   "source": [
    "<img src=\"https://s3.amazonaws.com/media-p.slid.es/uploads/1349019/images/7600916/Captura_de_pantalla_2020-07-31_a_las_9.32.41.png\">"
   ]
  },
  {
   "cell_type": "markdown",
   "metadata": {},
   "source": [
    "Notice that I indicate between brackets whether the country is free, partially free or not free. Through this categorization we can see that there is a mix of freedom levels in both podiums and tails. In order to determine whether the level of freedom affects the number of protests, we can look at the correlation matrix below:"
   ]
  },
  {
   "cell_type": "markdown",
   "metadata": {},
   "source": [
    "<img src=\"https://s3.amazonaws.com/media-p.slid.es/uploads/1349019/images/7597701/Captura_de_pantalla_2020-07-30_a_las_12.57.15.png\">"
   ]
  },
  {
   "cell_type": "markdown",
   "metadata": {},
   "source": [
    "Here we see that, even when the signs do capture certain trend in the way the variables move (protests seem to increase when there is more freedom and decrease when there is more repression), there is no evidence of a strong impact of freedom level on number of protests."
   ]
  },
  {
   "cell_type": "markdown",
   "metadata": {},
   "source": [
    "### Conclusion"
   ]
  },
  {
   "cell_type": "markdown",
   "metadata": {},
   "source": [
    "It does seem that the number of protests has increased since the financial crisis. People protest more times than in the glorious days of the welfare state and when a topic is engaging, it spreads wider.\n",
    "\n",
    "This, together with the fact that most mass protests seem to be triggered by disagreements with political behaviors, second Harari's thesis that liberalism might have lost credibility and that people are nervous in the current moment of revolutionary change brought by technology.\n",
    "\n",
    "The fact that the level of freedom of a country does not affect significantly the ability of people to protest might well be related to this same technological evolution reaching all countries around the world, particularly the Internet and social media, which help to spread messages faster.\n",
    "\n",
    "All in all, we seem to be undergoing deep changes as a society, and if there was ever a moment in the past 30 years to express opinions and concerns that help to build a better future, it is certainly now."
   ]
  }
 ],
 "metadata": {
  "kernelspec": {
   "display_name": "Python 3",
   "language": "python",
   "name": "python3"
  },
  "language_info": {
   "codemirror_mode": {
    "name": "ipython",
    "version": 3
   },
   "file_extension": ".py",
   "mimetype": "text/x-python",
   "name": "python",
   "nbconvert_exporter": "python",
   "pygments_lexer": "ipython3",
   "version": "3.8.3"
  }
 },
 "nbformat": 4,
 "nbformat_minor": 4
}
