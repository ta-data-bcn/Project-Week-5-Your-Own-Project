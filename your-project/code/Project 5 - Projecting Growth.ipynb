{
 "cells": [
  {
   "cell_type": "markdown",
   "metadata": {},
   "source": [
    "## Projecting Growth"
   ]
  },
  {
   "cell_type": "code",
   "execution_count": 2,
   "metadata": {},
   "outputs": [],
   "source": [
    "import pandas as pd\n",
    "import numpy as np"
   ]
  },
  {
   "cell_type": "markdown",
   "metadata": {},
   "source": [
    "### Overall"
   ]
  },
  {
   "cell_type": "markdown",
   "metadata": {},
   "source": [
    "Assuming a world without Corona and Recession"
   ]
  },
  {
   "cell_type": "code",
   "execution_count": 4,
   "metadata": {},
   "outputs": [
    {
     "data": {
      "text/html": [
       "<div>\n",
       "<style scoped>\n",
       "    .dataframe tbody tr th:only-of-type {\n",
       "        vertical-align: middle;\n",
       "    }\n",
       "\n",
       "    .dataframe tbody tr th {\n",
       "        vertical-align: top;\n",
       "    }\n",
       "\n",
       "    .dataframe thead th {\n",
       "        text-align: right;\n",
       "    }\n",
       "</style>\n",
       "<table border=\"1\" class=\"dataframe\">\n",
       "  <thead>\n",
       "    <tr style=\"text-align: right;\">\n",
       "      <th></th>\n",
       "      <th>year_founded</th>\n",
       "      <th>number</th>\n",
       "      <th>yoy_growth</th>\n",
       "    </tr>\n",
       "  </thead>\n",
       "  <tbody>\n",
       "    <tr>\n",
       "      <th>0</th>\n",
       "      <td>1901.0</td>\n",
       "      <td>5</td>\n",
       "      <td>NaN</td>\n",
       "    </tr>\n",
       "    <tr>\n",
       "      <th>1</th>\n",
       "      <td>1902.0</td>\n",
       "      <td>8</td>\n",
       "      <td>0.600000</td>\n",
       "    </tr>\n",
       "    <tr>\n",
       "      <th>2</th>\n",
       "      <td>1903.0</td>\n",
       "      <td>7</td>\n",
       "      <td>-0.125000</td>\n",
       "    </tr>\n",
       "    <tr>\n",
       "      <th>3</th>\n",
       "      <td>1904.0</td>\n",
       "      <td>4</td>\n",
       "      <td>-0.428571</td>\n",
       "    </tr>\n",
       "    <tr>\n",
       "      <th>4</th>\n",
       "      <td>1905.0</td>\n",
       "      <td>3</td>\n",
       "      <td>-0.250000</td>\n",
       "    </tr>\n",
       "  </tbody>\n",
       "</table>\n",
       "</div>"
      ],
      "text/plain": [
       "   year_founded  number  yoy_growth\n",
       "0        1901.0       5         NaN\n",
       "1        1902.0       8    0.600000\n",
       "2        1903.0       7   -0.125000\n",
       "3        1904.0       4   -0.428571\n",
       "4        1905.0       3   -0.250000"
      ]
     },
     "execution_count": 4,
     "metadata": {},
     "output_type": "execute_result"
    }
   ],
   "source": [
    "ecosystem = pd.read_csv(r'data/comps_cons_ann_growth.csv').drop(columns = \"Unnamed: 0\")\n",
    "ecosystem.head()"
   ]
  },
  {
   "cell_type": "code",
   "execution_count": 5,
   "metadata": {},
   "outputs": [
    {
     "data": {
      "text/html": [
       "<div>\n",
       "<style scoped>\n",
       "    .dataframe tbody tr th:only-of-type {\n",
       "        vertical-align: middle;\n",
       "    }\n",
       "\n",
       "    .dataframe tbody tr th {\n",
       "        vertical-align: top;\n",
       "    }\n",
       "\n",
       "    .dataframe thead th {\n",
       "        text-align: right;\n",
       "    }\n",
       "</style>\n",
       "<table border=\"1\" class=\"dataframe\">\n",
       "  <thead>\n",
       "    <tr style=\"text-align: right;\">\n",
       "      <th></th>\n",
       "      <th>year_founded</th>\n",
       "      <th>number</th>\n",
       "      <th>yoy_growth</th>\n",
       "    </tr>\n",
       "  </thead>\n",
       "  <tbody>\n",
       "    <tr>\n",
       "      <th>89</th>\n",
       "      <td>1990.0</td>\n",
       "      <td>349</td>\n",
       "      <td>0.026471</td>\n",
       "    </tr>\n",
       "    <tr>\n",
       "      <th>90</th>\n",
       "      <td>1991.0</td>\n",
       "      <td>351</td>\n",
       "      <td>0.005731</td>\n",
       "    </tr>\n",
       "    <tr>\n",
       "      <th>91</th>\n",
       "      <td>1992.0</td>\n",
       "      <td>392</td>\n",
       "      <td>0.116809</td>\n",
       "    </tr>\n",
       "    <tr>\n",
       "      <th>92</th>\n",
       "      <td>1993.0</td>\n",
       "      <td>485</td>\n",
       "      <td>0.237245</td>\n",
       "    </tr>\n",
       "    <tr>\n",
       "      <th>93</th>\n",
       "      <td>1994.0</td>\n",
       "      <td>528</td>\n",
       "      <td>0.088660</td>\n",
       "    </tr>\n",
       "  </tbody>\n",
       "</table>\n",
       "</div>"
      ],
      "text/plain": [
       "    year_founded  number  yoy_growth\n",
       "89        1990.0     349    0.026471\n",
       "90        1991.0     351    0.005731\n",
       "91        1992.0     392    0.116809\n",
       "92        1993.0     485    0.237245\n",
       "93        1994.0     528    0.088660"
      ]
     },
     "execution_count": 5,
     "metadata": {},
     "output_type": "execute_result"
    }
   ],
   "source": [
    "idx = ecosystem[ecosystem['year_founded'] < 1990].index\n",
    "ecosystem.drop(idx , inplace=True)\n",
    "ecosystem.head()"
   ]
  },
  {
   "cell_type": "code",
   "execution_count": 10,
   "metadata": {},
   "outputs": [
    {
     "data": {
      "text/plain": [
       "2012.0"
      ]
     },
     "execution_count": 10,
     "metadata": {},
     "output_type": "execute_result"
    }
   ],
   "source": [
    "# getting rid of 2013 and 2014\n",
    "\n",
    "idx = ecosystem[ecosystem['year_founded'] >= 2013].index\n",
    "ecosystem.drop(idx , inplace=True)\n",
    "ecosystem.year_founded.max()"
   ]
  },
  {
   "cell_type": "code",
   "execution_count": 11,
   "metadata": {},
   "outputs": [
    {
     "data": {
      "text/plain": [
       "count    23.000000\n",
       "mean      0.170481\n",
       "std       0.150929\n",
       "min      -0.106007\n",
       "25%       0.095052\n",
       "50%       0.138020\n",
       "75%       0.240194\n",
       "max       0.515957\n",
       "Name: yoy_growth, dtype: float64"
      ]
     },
     "execution_count": 11,
     "metadata": {},
     "output_type": "execute_result"
    }
   ],
   "source": [
    "ecosystem.yoy_growth.describe()"
   ]
  },
  {
   "cell_type": "code",
   "execution_count": 12,
   "metadata": {},
   "outputs": [],
   "source": [
    "from scipy.stats import sem, t\n",
    "from scipy import mean"
   ]
  },
  {
   "cell_type": "code",
   "execution_count": 13,
   "metadata": {},
   "outputs": [
    {
     "name": "stderr",
     "output_type": "stream",
     "text": [
      "/usr/local/Cellar/jupyterlab/1.2.4/libexec/lib/python3.7/site-packages/ipykernel_launcher.py:5: DeprecationWarning: scipy.mean is deprecated and will be removed in SciPy 2.0.0, use numpy.mean instead\n",
      "  \"\"\"\n"
     ]
    }
   ],
   "source": [
    "confidence = 0.95\n",
    "data = ecosystem.yoy_growth\n",
    "\n",
    "n = len(data)\n",
    "m = mean(data)\n",
    "std_err = sem(data)\n",
    "h = std_err * t.ppf((1 + confidence) / 2, n - 1)"
   ]
  },
  {
   "cell_type": "code",
   "execution_count": 15,
   "metadata": {},
   "outputs": [
    {
     "name": "stdout",
     "output_type": "stream",
     "text": [
      "0.10521491813916703\n"
     ]
    }
   ],
   "source": [
    "start = m - h\n",
    "print(start)"
   ]
  },
  {
   "cell_type": "code",
   "execution_count": 16,
   "metadata": {},
   "outputs": [
    {
     "name": "stdout",
     "output_type": "stream",
     "text": [
      "0.2357480735364004\n"
     ]
    }
   ],
   "source": [
    "end = m + h\n",
    "print(end)"
   ]
  },
  {
   "cell_type": "code",
   "execution_count": null,
   "metadata": {},
   "outputs": [],
   "source": [
    "# After 2000"
   ]
  },
  {
   "cell_type": "code",
   "execution_count": 18,
   "metadata": {},
   "outputs": [
    {
     "data": {
      "text/html": [
       "<div>\n",
       "<style scoped>\n",
       "    .dataframe tbody tr th:only-of-type {\n",
       "        vertical-align: middle;\n",
       "    }\n",
       "\n",
       "    .dataframe tbody tr th {\n",
       "        vertical-align: top;\n",
       "    }\n",
       "\n",
       "    .dataframe thead th {\n",
       "        text-align: right;\n",
       "    }\n",
       "</style>\n",
       "<table border=\"1\" class=\"dataframe\">\n",
       "  <thead>\n",
       "    <tr style=\"text-align: right;\">\n",
       "      <th></th>\n",
       "      <th>year_founded</th>\n",
       "      <th>number</th>\n",
       "      <th>yoy_growth</th>\n",
       "    </tr>\n",
       "  </thead>\n",
       "  <tbody>\n",
       "    <tr>\n",
       "      <th>99</th>\n",
       "      <td>2000.0</td>\n",
       "      <td>2264</td>\n",
       "      <td>0.134837</td>\n",
       "    </tr>\n",
       "    <tr>\n",
       "      <th>100</th>\n",
       "      <td>2001.0</td>\n",
       "      <td>2024</td>\n",
       "      <td>-0.106007</td>\n",
       "    </tr>\n",
       "    <tr>\n",
       "      <th>101</th>\n",
       "      <td>2002.0</td>\n",
       "      <td>2001</td>\n",
       "      <td>-0.011364</td>\n",
       "    </tr>\n",
       "    <tr>\n",
       "      <th>102</th>\n",
       "      <td>2003.0</td>\n",
       "      <td>2268</td>\n",
       "      <td>0.133433</td>\n",
       "    </tr>\n",
       "    <tr>\n",
       "      <th>103</th>\n",
       "      <td>2004.0</td>\n",
       "      <td>2610</td>\n",
       "      <td>0.150794</td>\n",
       "    </tr>\n",
       "  </tbody>\n",
       "</table>\n",
       "</div>"
      ],
      "text/plain": [
       "     year_founded  number  yoy_growth\n",
       "99         2000.0    2264    0.134837\n",
       "100        2001.0    2024   -0.106007\n",
       "101        2002.0    2001   -0.011364\n",
       "102        2003.0    2268    0.133433\n",
       "103        2004.0    2610    0.150794"
      ]
     },
     "execution_count": 18,
     "metadata": {},
     "output_type": "execute_result"
    }
   ],
   "source": [
    "idx = ecosystem[ecosystem['year_founded'] < 2000].index\n",
    "ecosystem.drop(idx , inplace=True)\n",
    "ecosystem.head()"
   ]
  },
  {
   "cell_type": "code",
   "execution_count": 19,
   "metadata": {},
   "outputs": [
    {
     "data": {
      "text/plain": [
       "count    13.000000\n",
       "mean      0.145392\n",
       "std       0.142630\n",
       "min      -0.106007\n",
       "25%       0.101444\n",
       "50%       0.138020\n",
       "75%       0.239464\n",
       "max       0.394960\n",
       "Name: yoy_growth, dtype: float64"
      ]
     },
     "execution_count": 19,
     "metadata": {},
     "output_type": "execute_result"
    }
   ],
   "source": [
    "ecosystem.yoy_growth.describe()"
   ]
  },
  {
   "cell_type": "code",
   "execution_count": 20,
   "metadata": {},
   "outputs": [
    {
     "name": "stderr",
     "output_type": "stream",
     "text": [
      "/usr/local/Cellar/jupyterlab/1.2.4/libexec/lib/python3.7/site-packages/ipykernel_launcher.py:5: DeprecationWarning: scipy.mean is deprecated and will be removed in SciPy 2.0.0, use numpy.mean instead\n",
      "  \"\"\"\n"
     ]
    }
   ],
   "source": [
    "confidence = 0.95\n",
    "data = ecosystem.yoy_growth\n",
    "\n",
    "n = len(data)\n",
    "m = mean(data)\n",
    "std_err = sem(data)\n",
    "h = std_err * t.ppf((1 + confidence) / 2, n - 1)"
   ]
  },
  {
   "cell_type": "code",
   "execution_count": 21,
   "metadata": {},
   "outputs": [
    {
     "name": "stdout",
     "output_type": "stream",
     "text": [
      "0.10521491813916703\n"
     ]
    }
   ],
   "source": [
    "start2000 = m - h\n",
    "print(start)"
   ]
  },
  {
   "cell_type": "code",
   "execution_count": 22,
   "metadata": {},
   "outputs": [
    {
     "name": "stdout",
     "output_type": "stream",
     "text": [
      "0.2357480735364004\n"
     ]
    }
   ],
   "source": [
    "end2000 = m + h\n",
    "print(end)"
   ]
  },
  {
   "cell_type": "code",
   "execution_count": null,
   "metadata": {},
   "outputs": [],
   "source": [
    "# After 2005"
   ]
  },
  {
   "cell_type": "code",
   "execution_count": 24,
   "metadata": {},
   "outputs": [
    {
     "data": {
      "text/html": [
       "<div>\n",
       "<style scoped>\n",
       "    .dataframe tbody tr th:only-of-type {\n",
       "        vertical-align: middle;\n",
       "    }\n",
       "\n",
       "    .dataframe tbody tr th {\n",
       "        vertical-align: top;\n",
       "    }\n",
       "\n",
       "    .dataframe thead th {\n",
       "        text-align: right;\n",
       "    }\n",
       "</style>\n",
       "<table border=\"1\" class=\"dataframe\">\n",
       "  <thead>\n",
       "    <tr style=\"text-align: right;\">\n",
       "      <th></th>\n",
       "      <th>year_founded</th>\n",
       "      <th>number</th>\n",
       "      <th>yoy_growth</th>\n",
       "    </tr>\n",
       "  </thead>\n",
       "  <tbody>\n",
       "    <tr>\n",
       "      <th>104</th>\n",
       "      <td>2005.0</td>\n",
       "      <td>3235</td>\n",
       "      <td>0.239464</td>\n",
       "    </tr>\n",
       "    <tr>\n",
       "      <th>105</th>\n",
       "      <td>2006.0</td>\n",
       "      <td>4246</td>\n",
       "      <td>0.312519</td>\n",
       "    </tr>\n",
       "    <tr>\n",
       "      <th>106</th>\n",
       "      <td>2007.0</td>\n",
       "      <td>5923</td>\n",
       "      <td>0.394960</td>\n",
       "    </tr>\n",
       "    <tr>\n",
       "      <th>107</th>\n",
       "      <td>2008.0</td>\n",
       "      <td>7350</td>\n",
       "      <td>0.240925</td>\n",
       "    </tr>\n",
       "    <tr>\n",
       "      <th>108</th>\n",
       "      <td>2009.0</td>\n",
       "      <td>8948</td>\n",
       "      <td>0.217415</td>\n",
       "    </tr>\n",
       "  </tbody>\n",
       "</table>\n",
       "</div>"
      ],
      "text/plain": [
       "     year_founded  number  yoy_growth\n",
       "104        2005.0    3235    0.239464\n",
       "105        2006.0    4246    0.312519\n",
       "106        2007.0    5923    0.394960\n",
       "107        2008.0    7350    0.240925\n",
       "108        2009.0    8948    0.217415"
      ]
     },
     "execution_count": 24,
     "metadata": {},
     "output_type": "execute_result"
    }
   ],
   "source": [
    "idx = ecosystem[ecosystem['year_founded'] < 2005].index\n",
    "ecosystem.drop(idx , inplace=True)\n",
    "ecosystem.head()"
   ]
  },
  {
   "cell_type": "code",
   "execution_count": 25,
   "metadata": {},
   "outputs": [
    {
     "data": {
      "text/plain": [
       "count    8.000000\n",
       "mean     0.198550\n",
       "std      0.138078\n",
       "min     -0.056348\n",
       "25%      0.128876\n",
       "50%      0.228439\n",
       "75%      0.258824\n",
       "max      0.394960\n",
       "Name: yoy_growth, dtype: float64"
      ]
     },
     "execution_count": 25,
     "metadata": {},
     "output_type": "execute_result"
    }
   ],
   "source": [
    "ecosystem.yoy_growth.describe()"
   ]
  },
  {
   "cell_type": "code",
   "execution_count": null,
   "metadata": {},
   "outputs": [],
   "source": []
  },
  {
   "cell_type": "code",
   "execution_count": 26,
   "metadata": {},
   "outputs": [
    {
     "name": "stderr",
     "output_type": "stream",
     "text": [
      "/usr/local/Cellar/jupyterlab/1.2.4/libexec/lib/python3.7/site-packages/ipykernel_launcher.py:5: DeprecationWarning: scipy.mean is deprecated and will be removed in SciPy 2.0.0, use numpy.mean instead\n",
      "  \"\"\"\n"
     ]
    }
   ],
   "source": [
    "confidence = 0.95\n",
    "data = ecosystem.yoy_growth\n",
    "\n",
    "n = len(data)\n",
    "m = mean(data)\n",
    "std_err = sem(data)\n",
    "h = std_err * t.ppf((1 + confidence) / 2, n - 1)"
   ]
  },
  {
   "cell_type": "code",
   "execution_count": 27,
   "metadata": {},
   "outputs": [
    {
     "name": "stdout",
     "output_type": "stream",
     "text": [
      "0.10521491813916703\n"
     ]
    }
   ],
   "source": [
    "start2005 = m - h\n",
    "print(start)"
   ]
  },
  {
   "cell_type": "code",
   "execution_count": 28,
   "metadata": {},
   "outputs": [
    {
     "name": "stdout",
     "output_type": "stream",
     "text": [
      "0.2357480735364004\n"
     ]
    }
   ],
   "source": [
    "end2005 = m + h\n",
    "print(end)"
   ]
  },
  {
   "cell_type": "code",
   "execution_count": null,
   "metadata": {},
   "outputs": [],
   "source": []
  },
  {
   "cell_type": "markdown",
   "metadata": {},
   "source": [
    "### By Industry"
   ]
  },
  {
   "cell_type": "code",
   "execution_count": 49,
   "metadata": {},
   "outputs": [
    {
     "data": {
      "text/html": [
       "<div>\n",
       "<style scoped>\n",
       "    .dataframe tbody tr th:only-of-type {\n",
       "        vertical-align: middle;\n",
       "    }\n",
       "\n",
       "    .dataframe tbody tr th {\n",
       "        vertical-align: top;\n",
       "    }\n",
       "\n",
       "    .dataframe thead th {\n",
       "        text-align: right;\n",
       "    }\n",
       "</style>\n",
       "<table border=\"1\" class=\"dataframe\">\n",
       "  <thead>\n",
       "    <tr style=\"text-align: right;\">\n",
       "      <th></th>\n",
       "      <th>category_code</th>\n",
       "      <th>year_founded</th>\n",
       "      <th>country_code</th>\n",
       "      <th>0</th>\n",
       "    </tr>\n",
       "  </thead>\n",
       "  <tbody>\n",
       "    <tr>\n",
       "      <th>0</th>\n",
       "      <td>advertising</td>\n",
       "      <td>1990.0</td>\n",
       "      <td>ESP</td>\n",
       "      <td>1</td>\n",
       "    </tr>\n",
       "    <tr>\n",
       "      <th>1</th>\n",
       "      <td>advertising</td>\n",
       "      <td>1990.0</td>\n",
       "      <td>ITA</td>\n",
       "      <td>1</td>\n",
       "    </tr>\n",
       "    <tr>\n",
       "      <th>2</th>\n",
       "      <td>advertising</td>\n",
       "      <td>1990.0</td>\n",
       "      <td>USA</td>\n",
       "      <td>3</td>\n",
       "    </tr>\n",
       "    <tr>\n",
       "      <th>3</th>\n",
       "      <td>advertising</td>\n",
       "      <td>1991.0</td>\n",
       "      <td>CAN</td>\n",
       "      <td>1</td>\n",
       "    </tr>\n",
       "    <tr>\n",
       "      <th>4</th>\n",
       "      <td>advertising</td>\n",
       "      <td>1991.0</td>\n",
       "      <td>POL</td>\n",
       "      <td>1</td>\n",
       "    </tr>\n",
       "  </tbody>\n",
       "</table>\n",
       "</div>"
      ],
      "text/plain": [
       "  category_code  year_founded country_code  0\n",
       "0   advertising        1990.0          ESP  1\n",
       "1   advertising        1990.0          ITA  1\n",
       "2   advertising        1990.0          USA  3\n",
       "3   advertising        1991.0          CAN  1\n",
       "4   advertising        1991.0          POL  1"
      ]
     },
     "execution_count": 49,
     "metadata": {},
     "output_type": "execute_result"
    }
   ],
   "source": [
    "comps_year_ind = pd.read_csv(r'data/companies_year_industry_geography.csv')\n",
    "comps_year_ind.head()"
   ]
  },
  {
   "cell_type": "code",
   "execution_count": 50,
   "metadata": {},
   "outputs": [],
   "source": [
    "# after 2000"
   ]
  },
  {
   "cell_type": "code",
   "execution_count": 51,
   "metadata": {},
   "outputs": [
    {
     "data": {
      "text/html": [
       "<div>\n",
       "<style scoped>\n",
       "    .dataframe tbody tr th:only-of-type {\n",
       "        vertical-align: middle;\n",
       "    }\n",
       "\n",
       "    .dataframe tbody tr th {\n",
       "        vertical-align: top;\n",
       "    }\n",
       "\n",
       "    .dataframe thead th {\n",
       "        text-align: right;\n",
       "    }\n",
       "</style>\n",
       "<table border=\"1\" class=\"dataframe\">\n",
       "  <thead>\n",
       "    <tr style=\"text-align: right;\">\n",
       "      <th></th>\n",
       "      <th>category_code</th>\n",
       "      <th>year_founded</th>\n",
       "      <th>country_code</th>\n",
       "      <th>0</th>\n",
       "    </tr>\n",
       "  </thead>\n",
       "  <tbody>\n",
       "    <tr>\n",
       "      <th>51</th>\n",
       "      <td>advertising</td>\n",
       "      <td>1999.0</td>\n",
       "      <td>AUS</td>\n",
       "      <td>1</td>\n",
       "    </tr>\n",
       "    <tr>\n",
       "      <th>52</th>\n",
       "      <td>advertising</td>\n",
       "      <td>1999.0</td>\n",
       "      <td>CAN</td>\n",
       "      <td>9</td>\n",
       "    </tr>\n",
       "    <tr>\n",
       "      <th>53</th>\n",
       "      <td>advertising</td>\n",
       "      <td>1999.0</td>\n",
       "      <td>DEU</td>\n",
       "      <td>1</td>\n",
       "    </tr>\n",
       "    <tr>\n",
       "      <th>54</th>\n",
       "      <td>advertising</td>\n",
       "      <td>1999.0</td>\n",
       "      <td>ESP</td>\n",
       "      <td>1</td>\n",
       "    </tr>\n",
       "    <tr>\n",
       "      <th>55</th>\n",
       "      <td>advertising</td>\n",
       "      <td>1999.0</td>\n",
       "      <td>FRA</td>\n",
       "      <td>1</td>\n",
       "    </tr>\n",
       "  </tbody>\n",
       "</table>\n",
       "</div>"
      ],
      "text/plain": [
       "   category_code  year_founded country_code  0\n",
       "51   advertising        1999.0          AUS  1\n",
       "52   advertising        1999.0          CAN  9\n",
       "53   advertising        1999.0          DEU  1\n",
       "54   advertising        1999.0          ESP  1\n",
       "55   advertising        1999.0          FRA  1"
      ]
     },
     "execution_count": 51,
     "metadata": {},
     "output_type": "execute_result"
    }
   ],
   "source": [
    "idx = comps_year_ind[comps_year_ind['year_founded'] < 1999].index\n",
    "comps_year_ind.drop(idx , inplace=True)\n",
    "comps_year_ind.head()"
   ]
  },
  {
   "cell_type": "code",
   "execution_count": 52,
   "metadata": {},
   "outputs": [
    {
     "data": {
      "text/html": [
       "<div>\n",
       "<style scoped>\n",
       "    .dataframe tbody tr th:only-of-type {\n",
       "        vertical-align: middle;\n",
       "    }\n",
       "\n",
       "    .dataframe tbody tr th {\n",
       "        vertical-align: top;\n",
       "    }\n",
       "\n",
       "    .dataframe thead th {\n",
       "        text-align: right;\n",
       "    }\n",
       "</style>\n",
       "<table border=\"1\" class=\"dataframe\">\n",
       "  <thead>\n",
       "    <tr style=\"text-align: right;\">\n",
       "      <th></th>\n",
       "      <th>category_code</th>\n",
       "      <th>year_founded</th>\n",
       "      <th>0</th>\n",
       "    </tr>\n",
       "  </thead>\n",
       "  <tbody>\n",
       "    <tr>\n",
       "      <th>0</th>\n",
       "      <td>advertising</td>\n",
       "      <td>1999.0</td>\n",
       "      <td>88</td>\n",
       "    </tr>\n",
       "    <tr>\n",
       "      <th>1</th>\n",
       "      <td>advertising</td>\n",
       "      <td>2000.0</td>\n",
       "      <td>81</td>\n",
       "    </tr>\n",
       "    <tr>\n",
       "      <th>2</th>\n",
       "      <td>advertising</td>\n",
       "      <td>2001.0</td>\n",
       "      <td>95</td>\n",
       "    </tr>\n",
       "    <tr>\n",
       "      <th>3</th>\n",
       "      <td>advertising</td>\n",
       "      <td>2002.0</td>\n",
       "      <td>69</td>\n",
       "    </tr>\n",
       "    <tr>\n",
       "      <th>4</th>\n",
       "      <td>advertising</td>\n",
       "      <td>2003.0</td>\n",
       "      <td>117</td>\n",
       "    </tr>\n",
       "  </tbody>\n",
       "</table>\n",
       "</div>"
      ],
      "text/plain": [
       "  category_code  year_founded    0\n",
       "0   advertising        1999.0   88\n",
       "1   advertising        2000.0   81\n",
       "2   advertising        2001.0   95\n",
       "3   advertising        2002.0   69\n",
       "4   advertising        2003.0  117"
      ]
     },
     "execution_count": 52,
     "metadata": {},
     "output_type": "execute_result"
    }
   ],
   "source": [
    "comps_year_ind_grouped = comps_year_ind.groupby(['category_code', 'year_founded']).sum().reset_index()\n",
    "comps_year_ind_grouped.head()"
   ]
  },
  {
   "cell_type": "code",
   "execution_count": 53,
   "metadata": {},
   "outputs": [],
   "source": [
    "# Growth"
   ]
  },
  {
   "cell_type": "code",
   "execution_count": 54,
   "metadata": {},
   "outputs": [
    {
     "data": {
      "text/html": [
       "<div>\n",
       "<style scoped>\n",
       "    .dataframe tbody tr th:only-of-type {\n",
       "        vertical-align: middle;\n",
       "    }\n",
       "\n",
       "    .dataframe tbody tr th {\n",
       "        vertical-align: top;\n",
       "    }\n",
       "\n",
       "    .dataframe thead th {\n",
       "        text-align: right;\n",
       "    }\n",
       "</style>\n",
       "<table border=\"1\" class=\"dataframe\">\n",
       "  <thead>\n",
       "    <tr style=\"text-align: right;\">\n",
       "      <th></th>\n",
       "      <th>category_code</th>\n",
       "      <th>year_founded</th>\n",
       "      <th>0</th>\n",
       "      <th>yoy_growth</th>\n",
       "    </tr>\n",
       "  </thead>\n",
       "  <tbody>\n",
       "    <tr>\n",
       "      <th>605</th>\n",
       "      <td>web</td>\n",
       "      <td>2010.0</td>\n",
       "      <td>976</td>\n",
       "      <td>0.073707</td>\n",
       "    </tr>\n",
       "    <tr>\n",
       "      <th>606</th>\n",
       "      <td>web</td>\n",
       "      <td>2011.0</td>\n",
       "      <td>1120</td>\n",
       "      <td>0.147541</td>\n",
       "    </tr>\n",
       "    <tr>\n",
       "      <th>607</th>\n",
       "      <td>web</td>\n",
       "      <td>2012.0</td>\n",
       "      <td>935</td>\n",
       "      <td>-0.165179</td>\n",
       "    </tr>\n",
       "    <tr>\n",
       "      <th>608</th>\n",
       "      <td>web</td>\n",
       "      <td>2013.0</td>\n",
       "      <td>319</td>\n",
       "      <td>-0.658824</td>\n",
       "    </tr>\n",
       "    <tr>\n",
       "      <th>609</th>\n",
       "      <td>web</td>\n",
       "      <td>2014.0</td>\n",
       "      <td>2</td>\n",
       "      <td>-0.993730</td>\n",
       "    </tr>\n",
       "  </tbody>\n",
       "</table>\n",
       "</div>"
      ],
      "text/plain": [
       "    category_code  year_founded     0  yoy_growth\n",
       "605           web        2010.0   976    0.073707\n",
       "606           web        2011.0  1120    0.147541\n",
       "607           web        2012.0   935   -0.165179\n",
       "608           web        2013.0   319   -0.658824\n",
       "609           web        2014.0     2   -0.993730"
      ]
     },
     "execution_count": 54,
     "metadata": {},
     "output_type": "execute_result"
    }
   ],
   "source": [
    "comps_year_ind_grouped['yoy_growth'] = (comps_year_ind_grouped['0'] -comps_year_ind_grouped['0'].shift(1)) / comps_year_ind_grouped['0'].shift(1)\n",
    "comps_year_ind_grouped.tail()"
   ]
  },
  {
   "cell_type": "code",
   "execution_count": 57,
   "metadata": {},
   "outputs": [],
   "source": [
    "idx = comps_year_ind_grouped[comps_year_ind_grouped['year_founded'] < 2000].index\n",
    "comps_year_ind_grouped.drop(idx , inplace=True)"
   ]
  },
  {
   "cell_type": "code",
   "execution_count": 58,
   "metadata": {},
   "outputs": [
    {
     "data": {
      "text/html": [
       "<div>\n",
       "<style scoped>\n",
       "    .dataframe tbody tr th:only-of-type {\n",
       "        vertical-align: middle;\n",
       "    }\n",
       "\n",
       "    .dataframe tbody tr th {\n",
       "        vertical-align: top;\n",
       "    }\n",
       "\n",
       "    .dataframe thead th {\n",
       "        text-align: right;\n",
       "    }\n",
       "</style>\n",
       "<table border=\"1\" class=\"dataframe\">\n",
       "  <thead>\n",
       "    <tr style=\"text-align: right;\">\n",
       "      <th></th>\n",
       "      <th>category_code</th>\n",
       "      <th>year_founded</th>\n",
       "      <th>0</th>\n",
       "      <th>yoy_growth</th>\n",
       "    </tr>\n",
       "  </thead>\n",
       "  <tbody>\n",
       "    <tr>\n",
       "      <th>1</th>\n",
       "      <td>advertising</td>\n",
       "      <td>2000.0</td>\n",
       "      <td>81</td>\n",
       "      <td>-0.079545</td>\n",
       "    </tr>\n",
       "    <tr>\n",
       "      <th>2</th>\n",
       "      <td>advertising</td>\n",
       "      <td>2001.0</td>\n",
       "      <td>95</td>\n",
       "      <td>0.172840</td>\n",
       "    </tr>\n",
       "    <tr>\n",
       "      <th>3</th>\n",
       "      <td>advertising</td>\n",
       "      <td>2002.0</td>\n",
       "      <td>69</td>\n",
       "      <td>-0.273684</td>\n",
       "    </tr>\n",
       "    <tr>\n",
       "      <th>4</th>\n",
       "      <td>advertising</td>\n",
       "      <td>2003.0</td>\n",
       "      <td>117</td>\n",
       "      <td>0.695652</td>\n",
       "    </tr>\n",
       "    <tr>\n",
       "      <th>5</th>\n",
       "      <td>advertising</td>\n",
       "      <td>2004.0</td>\n",
       "      <td>112</td>\n",
       "      <td>-0.042735</td>\n",
       "    </tr>\n",
       "  </tbody>\n",
       "</table>\n",
       "</div>"
      ],
      "text/plain": [
       "  category_code  year_founded    0  yoy_growth\n",
       "1   advertising        2000.0   81   -0.079545\n",
       "2   advertising        2001.0   95    0.172840\n",
       "3   advertising        2002.0   69   -0.273684\n",
       "4   advertising        2003.0  117    0.695652\n",
       "5   advertising        2004.0  112   -0.042735"
      ]
     },
     "execution_count": 58,
     "metadata": {},
     "output_type": "execute_result"
    }
   ],
   "source": [
    "idx = comps_year_ind_grouped[comps_year_ind_grouped['year_founded'] > 2012].index\n",
    "comps_year_ind_grouped.drop(idx , inplace=True)\n",
    "comps_year_ind_grouped.head()"
   ]
  },
  {
   "cell_type": "code",
   "execution_count": 66,
   "metadata": {},
   "outputs": [],
   "source": [
    "from scipy import stats\n",
    "import math\n",
    "\n",
    "list_of_industries = list(comps_year_ind_grouped.category_code.unique())\n",
    "lower_con = []\n",
    "upper_con = []\n",
    "\n",
    "\n",
    "for industry in list_of_industries:\n",
    "    temp = comps_year_ind_grouped.loc[comps_year_ind_grouped.category_code == industry]\n",
    "    n = len(temp.yoy_growth)\n",
    "    m = temp.yoy_growth.mean()\n",
    "    std_err = temp.yoy_growth.sem()\n",
    "    std = temp.yoy_growth.std()\n",
    "    h = std_err * t.ppf((1 + confidence) / 2, n - 1)\n",
    "    lower, upper = stats.norm.interval(0.95, m, scale = (std / math.sqrt(n)))\n",
    "    lower_con.append(lower)\n",
    "    upper_con.append(upper)"
   ]
  },
  {
   "cell_type": "code",
   "execution_count": 71,
   "metadata": {},
   "outputs": [
    {
     "data": {
      "text/html": [
       "<div>\n",
       "<style scoped>\n",
       "    .dataframe tbody tr th:only-of-type {\n",
       "        vertical-align: middle;\n",
       "    }\n",
       "\n",
       "    .dataframe tbody tr th {\n",
       "        vertical-align: top;\n",
       "    }\n",
       "\n",
       "    .dataframe thead th {\n",
       "        text-align: right;\n",
       "    }\n",
       "</style>\n",
       "<table border=\"1\" class=\"dataframe\">\n",
       "  <thead>\n",
       "    <tr style=\"text-align: right;\">\n",
       "      <th></th>\n",
       "      <th>Industry</th>\n",
       "      <th>Lower</th>\n",
       "      <th>Upper</th>\n",
       "    </tr>\n",
       "  </thead>\n",
       "  <tbody>\n",
       "    <tr>\n",
       "      <th>0</th>\n",
       "      <td>advertising</td>\n",
       "      <td>-0.00947837</td>\n",
       "      <td>0.306652</td>\n",
       "    </tr>\n",
       "    <tr>\n",
       "      <th>1</th>\n",
       "      <td>analytics</td>\n",
       "      <td>0.0424264</td>\n",
       "      <td>0.767002</td>\n",
       "    </tr>\n",
       "    <tr>\n",
       "      <th>2</th>\n",
       "      <td>automotive</td>\n",
       "      <td>-0.0628921</td>\n",
       "      <td>0.661293</td>\n",
       "    </tr>\n",
       "    <tr>\n",
       "      <th>3</th>\n",
       "      <td>biotech</td>\n",
       "      <td>-0.0550599</td>\n",
       "      <td>0.144694</td>\n",
       "    </tr>\n",
       "    <tr>\n",
       "      <th>4</th>\n",
       "      <td>cleantech</td>\n",
       "      <td>-0.0721029</td>\n",
       "      <td>0.311477</td>\n",
       "    </tr>\n",
       "  </tbody>\n",
       "</table>\n",
       "</div>"
      ],
      "text/plain": [
       "      Industry       Lower     Upper\n",
       "0  advertising -0.00947837  0.306652\n",
       "1    analytics   0.0424264  0.767002\n",
       "2   automotive  -0.0628921  0.661293\n",
       "3      biotech  -0.0550599  0.144694\n",
       "4    cleantech  -0.0721029  0.311477"
      ]
     },
     "execution_count": 71,
     "metadata": {},
     "output_type": "execute_result"
    }
   ],
   "source": [
    "df = pd.DataFrame(data=[list_of_industries, lower_con, upper_con]).transpose()\n",
    "df.columns=['Industry', 'Lower', 'Upper']\n",
    "df.head()"
   ]
  },
  {
   "cell_type": "code",
   "execution_count": 72,
   "metadata": {},
   "outputs": [],
   "source": [
    "df.to_csv(r'growth_industry_confidence.csv')"
   ]
  },
  {
   "cell_type": "code",
   "execution_count": null,
   "metadata": {},
   "outputs": [],
   "source": []
  },
  {
   "cell_type": "code",
   "execution_count": null,
   "metadata": {},
   "outputs": [],
   "source": []
  },
  {
   "cell_type": "markdown",
   "metadata": {},
   "source": [
    "### By geographical Orientation"
   ]
  },
  {
   "cell_type": "code",
   "execution_count": null,
   "metadata": {},
   "outputs": [],
   "source": []
  },
  {
   "cell_type": "code",
   "execution_count": null,
   "metadata": {},
   "outputs": [],
   "source": []
  },
  {
   "cell_type": "code",
   "execution_count": null,
   "metadata": {},
   "outputs": [],
   "source": []
  },
  {
   "cell_type": "code",
   "execution_count": null,
   "metadata": {},
   "outputs": [],
   "source": []
  },
  {
   "cell_type": "code",
   "execution_count": null,
   "metadata": {},
   "outputs": [],
   "source": []
  },
  {
   "cell_type": "code",
   "execution_count": null,
   "metadata": {},
   "outputs": [],
   "source": []
  },
  {
   "cell_type": "markdown",
   "metadata": {},
   "source": [
    "## Companies being closed"
   ]
  },
  {
   "cell_type": "code",
   "execution_count": 17,
   "metadata": {},
   "outputs": [],
   "source": [
    "# Ratio in general"
   ]
  },
  {
   "cell_type": "code",
   "execution_count": null,
   "metadata": {},
   "outputs": [],
   "source": []
  },
  {
   "cell_type": "code",
   "execution_count": null,
   "metadata": {},
   "outputs": [],
   "source": []
  },
  {
   "cell_type": "code",
   "execution_count": null,
   "metadata": {},
   "outputs": [],
   "source": []
  },
  {
   "cell_type": "markdown",
   "metadata": {},
   "source": [
    "#### Overall"
   ]
  },
  {
   "cell_type": "code",
   "execution_count": null,
   "metadata": {},
   "outputs": [],
   "source": []
  },
  {
   "cell_type": "code",
   "execution_count": null,
   "metadata": {},
   "outputs": [],
   "source": []
  }
 ],
 "metadata": {
  "kernelspec": {
   "display_name": "Python 3",
   "language": "python",
   "name": "python3"
  },
  "language_info": {
   "codemirror_mode": {
    "name": "ipython",
    "version": 3
   },
   "file_extension": ".py",
   "mimetype": "text/x-python",
   "name": "python",
   "nbconvert_exporter": "python",
   "pygments_lexer": "ipython3",
   "version": "3.7.6"
  }
 },
 "nbformat": 4,
 "nbformat_minor": 2
}
