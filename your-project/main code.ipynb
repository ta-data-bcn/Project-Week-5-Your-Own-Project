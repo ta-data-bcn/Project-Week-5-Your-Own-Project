{
 "cells": [
  {
   "cell_type": "markdown",
   "metadata": {},
   "source": [
    "## Dataset cleaning\n",
    "\n",
    "The purpose of this notebook is to **clean** the *global shark attacks*dataset as much as we can so the values that stay are **reliable*** and **rigorous** enough to:\n",
    "\n",
    "- Get early stage conclusions paying with pandas\n",
    "- Apply some statistical concepts such as formulas and hypothesis testings\n",
    "- Plot the statistics and results\n",
    "\n"
   ]
  },
  {
   "cell_type": "markdown",
   "metadata": {},
   "source": [
    "First we have to import the necessary **libraries** that will help us with the data cleaning"
   ]
  },
  {
   "cell_type": "code",
   "execution_count": 1,
   "metadata": {},
   "outputs": [],
   "source": [
    "import pandas as pd\n",
    "import numpy as np\n",
    "import regex as re\n",
    "import datetime\n",
    "pd.set_option('display.max_rows', None)"
   ]
  },
  {
   "cell_type": "markdown",
   "metadata": {},
   "source": [
    "Second step is uploading the data set on jupyter and  **filling** the nan with \"N/A\" so we can extract the values of each column properly, **drop** columns that we don't need and **rename** the ones that we are going to keep in the dataframe\n"
   ]
  },
  {
   "cell_type": "code",
   "execution_count": 2,
   "metadata": {},
   "outputs": [],
   "source": [
    "sharks= pd.read_csv(\"datasets/global-shark-attack.csv\",sep=\";\")\n"
   ]
  },
  {
   "cell_type": "code",
   "execution_count": 3,
   "metadata": {},
   "outputs": [
    {
     "data": {
      "text/html": [
       "<div>\n",
       "<style scoped>\n",
       "    .dataframe tbody tr th:only-of-type {\n",
       "        vertical-align: middle;\n",
       "    }\n",
       "\n",
       "    .dataframe tbody tr th {\n",
       "        vertical-align: top;\n",
       "    }\n",
       "\n",
       "    .dataframe thead th {\n",
       "        text-align: right;\n",
       "    }\n",
       "</style>\n",
       "<table border=\"1\" class=\"dataframe\">\n",
       "  <thead>\n",
       "    <tr style=\"text-align: right;\">\n",
       "      <th></th>\n",
       "      <th>Date</th>\n",
       "      <th>Year</th>\n",
       "      <th>Type</th>\n",
       "      <th>Country</th>\n",
       "      <th>Area</th>\n",
       "      <th>Location</th>\n",
       "      <th>Activity</th>\n",
       "      <th>Name</th>\n",
       "      <th>Sex</th>\n",
       "      <th>Age</th>\n",
       "      <th>Injury</th>\n",
       "      <th>Fatal (Y/N)</th>\n",
       "      <th>Time</th>\n",
       "      <th>Species</th>\n",
       "      <th>href</th>\n",
       "      <th>Case Number.1</th>\n",
       "    </tr>\n",
       "  </thead>\n",
       "  <tbody>\n",
       "    <tr>\n",
       "      <th>0</th>\n",
       "      <td>2018-05-27</td>\n",
       "      <td>2018</td>\n",
       "      <td>Unprovoked</td>\n",
       "      <td>USA</td>\n",
       "      <td>Florida</td>\n",
       "      <td>Lighhouse Point Park, Ponce Inlet, Volusia County</td>\n",
       "      <td>Fishing</td>\n",
       "      <td>male</td>\n",
       "      <td>M</td>\n",
       "      <td>52</td>\n",
       "      <td>Minor injury to foot. PROVOKED INCIDENT</td>\n",
       "      <td>N</td>\n",
       "      <td>N/A</td>\n",
       "      <td>Lemon shark, 3'</td>\n",
       "      <td>http://sharkattackfile.net/spreadsheets/pdf_di...</td>\n",
       "      <td>2018.05.27</td>\n",
       "    </tr>\n",
       "    <tr>\n",
       "      <th>1</th>\n",
       "      <td>2018-05-13</td>\n",
       "      <td>2018</td>\n",
       "      <td>Unprovoked</td>\n",
       "      <td>USA</td>\n",
       "      <td>South Carolina</td>\n",
       "      <td>Hilton Head Island, Beaufort County</td>\n",
       "      <td>Swimming</td>\n",
       "      <td>Jei Turrell</td>\n",
       "      <td>M</td>\n",
       "      <td>10</td>\n",
       "      <td>Severe bite to right forearm</td>\n",
       "      <td>N</td>\n",
       "      <td>15h00</td>\n",
       "      <td>N/A</td>\n",
       "      <td>http://sharkattackfile.net/spreadsheets/pdf_di...</td>\n",
       "      <td>2018.05.13.b</td>\n",
       "    </tr>\n",
       "    <tr>\n",
       "      <th>2</th>\n",
       "      <td>2018-04-25</td>\n",
       "      <td>2018</td>\n",
       "      <td>Questionable</td>\n",
       "      <td>AUSTRALIA</td>\n",
       "      <td>New South Wales</td>\n",
       "      <td>Lennox Head</td>\n",
       "      <td>Surfing</td>\n",
       "      <td>Matthew Lee</td>\n",
       "      <td>M</td>\n",
       "      <td>N/A</td>\n",
       "      <td>No injury</td>\n",
       "      <td>N</td>\n",
       "      <td>07h00</td>\n",
       "      <td>Questionable</td>\n",
       "      <td>http://sharkattackfile.net/spreadsheets/pdf_di...</td>\n",
       "      <td>2018.04.25.b</td>\n",
       "    </tr>\n",
       "    <tr>\n",
       "      <th>3</th>\n",
       "      <td>2018-04-10</td>\n",
       "      <td>2018</td>\n",
       "      <td>Invalid</td>\n",
       "      <td>BRAZIL</td>\n",
       "      <td>Alagoas</td>\n",
       "      <td>Praia de Sauaçuhy, Maceió</td>\n",
       "      <td>Fishing</td>\n",
       "      <td>Josias Paz</td>\n",
       "      <td>M</td>\n",
       "      <td>56</td>\n",
       "      <td>Injury to ankle from marine animal trapped in ...</td>\n",
       "      <td>N</td>\n",
       "      <td>N/A</td>\n",
       "      <td>Shark involvement not confirmed</td>\n",
       "      <td>http://sharkattackfile.net/spreadsheets/pdf_di...</td>\n",
       "      <td>2018.04.10.R</td>\n",
       "    </tr>\n",
       "    <tr>\n",
       "      <th>4</th>\n",
       "      <td>2018-04-09</td>\n",
       "      <td>2018</td>\n",
       "      <td>Unprovoked</td>\n",
       "      <td>NEW CALEDONIA</td>\n",
       "      <td>N/A</td>\n",
       "      <td>Magenta Beach, Noumea</td>\n",
       "      <td>Windsurfing</td>\n",
       "      <td>N/A</td>\n",
       "      <td>N/A</td>\n",
       "      <td>N/A</td>\n",
       "      <td>No injury, shark bit board</td>\n",
       "      <td>N</td>\n",
       "      <td>17h00</td>\n",
       "      <td>2 m shark</td>\n",
       "      <td>http://sharkattackfile.net/spreadsheets/pdf_di...</td>\n",
       "      <td>2018.04.09</td>\n",
       "    </tr>\n",
       "  </tbody>\n",
       "</table>\n",
       "</div>"
      ],
      "text/plain": [
       "         Date  Year          Type        Country             Area  \\\n",
       "0  2018-05-27  2018    Unprovoked            USA          Florida   \n",
       "1  2018-05-13  2018    Unprovoked            USA   South Carolina   \n",
       "2  2018-04-25  2018  Questionable      AUSTRALIA  New South Wales   \n",
       "3  2018-04-10  2018       Invalid         BRAZIL          Alagoas   \n",
       "4  2018-04-09  2018    Unprovoked  NEW CALEDONIA              N/A   \n",
       "\n",
       "                                            Location     Activity  \\\n",
       "0  Lighhouse Point Park, Ponce Inlet, Volusia County      Fishing   \n",
       "1                Hilton Head Island, Beaufort County     Swimming   \n",
       "2                                        Lennox Head      Surfing   \n",
       "3                          Praia de Sauaçuhy, Maceió      Fishing   \n",
       "4                              Magenta Beach, Noumea  Windsurfing   \n",
       "\n",
       "          Name  Sex  Age                                             Injury  \\\n",
       "0         male    M   52            Minor injury to foot. PROVOKED INCIDENT   \n",
       "1  Jei Turrell    M   10                       Severe bite to right forearm   \n",
       "2  Matthew Lee    M  N/A                                          No injury   \n",
       "3   Josias Paz    M   56  Injury to ankle from marine animal trapped in ...   \n",
       "4          N/A  N/A  N/A                         No injury, shark bit board   \n",
       "\n",
       "  Fatal (Y/N)   Time                          Species  \\\n",
       "0           N    N/A                  Lemon shark, 3'   \n",
       "1           N  15h00                              N/A   \n",
       "2           N  07h00                     Questionable   \n",
       "3           N    N/A  Shark involvement not confirmed   \n",
       "4           N  17h00                        2 m shark   \n",
       "\n",
       "                                                href Case Number.1  \n",
       "0  http://sharkattackfile.net/spreadsheets/pdf_di...    2018.05.27  \n",
       "1  http://sharkattackfile.net/spreadsheets/pdf_di...  2018.05.13.b  \n",
       "2  http://sharkattackfile.net/spreadsheets/pdf_di...  2018.04.25.b  \n",
       "3  http://sharkattackfile.net/spreadsheets/pdf_di...  2018.04.10.R  \n",
       "4  http://sharkattackfile.net/spreadsheets/pdf_di...    2018.04.09  "
      ]
     },
     "execution_count": 3,
     "metadata": {},
     "output_type": "execute_result"
    }
   ],
   "source": [
    "sharks.fillna(\"N/A\",inplace=True)\n",
    "sharks.drop([\"Case Number\",\"Investigator or Source\",\"pdf\",\"href formula\",\"Case Number.2\",\"original order\"],axis=1,inplace=True)\n",
    "sharks.head()"
   ]
  },
  {
   "cell_type": "code",
   "execution_count": 4,
   "metadata": {},
   "outputs": [
    {
     "data": {
      "text/html": [
       "<div>\n",
       "<style scoped>\n",
       "    .dataframe tbody tr th:only-of-type {\n",
       "        vertical-align: middle;\n",
       "    }\n",
       "\n",
       "    .dataframe tbody tr th {\n",
       "        vertical-align: top;\n",
       "    }\n",
       "\n",
       "    .dataframe thead th {\n",
       "        text-align: right;\n",
       "    }\n",
       "</style>\n",
       "<table border=\"1\" class=\"dataframe\">\n",
       "  <thead>\n",
       "    <tr style=\"text-align: right;\">\n",
       "      <th></th>\n",
       "      <th>Month</th>\n",
       "      <th>Year</th>\n",
       "      <th>Type</th>\n",
       "      <th>Country</th>\n",
       "      <th>Area</th>\n",
       "      <th>Location</th>\n",
       "      <th>Activity</th>\n",
       "      <th>Name</th>\n",
       "      <th>Gender</th>\n",
       "      <th>Age</th>\n",
       "      <th>Injury</th>\n",
       "      <th>Severity</th>\n",
       "      <th>Hour</th>\n",
       "      <th>Shark specie</th>\n",
       "      <th>link source</th>\n",
       "      <th>Case number</th>\n",
       "    </tr>\n",
       "  </thead>\n",
       "  <tbody>\n",
       "    <tr>\n",
       "      <th>0</th>\n",
       "      <td>2018-05-27</td>\n",
       "      <td>2018</td>\n",
       "      <td>Unprovoked</td>\n",
       "      <td>USA</td>\n",
       "      <td>Florida</td>\n",
       "      <td>Lighhouse Point Park, Ponce Inlet, Volusia County</td>\n",
       "      <td>Fishing</td>\n",
       "      <td>male</td>\n",
       "      <td>M</td>\n",
       "      <td>52</td>\n",
       "      <td>Minor injury to foot. PROVOKED INCIDENT</td>\n",
       "      <td>N</td>\n",
       "      <td>N/A</td>\n",
       "      <td>Lemon shark, 3'</td>\n",
       "      <td>http://sharkattackfile.net/spreadsheets/pdf_di...</td>\n",
       "      <td>2018.05.27</td>\n",
       "    </tr>\n",
       "    <tr>\n",
       "      <th>1</th>\n",
       "      <td>2018-05-13</td>\n",
       "      <td>2018</td>\n",
       "      <td>Unprovoked</td>\n",
       "      <td>USA</td>\n",
       "      <td>South Carolina</td>\n",
       "      <td>Hilton Head Island, Beaufort County</td>\n",
       "      <td>Swimming</td>\n",
       "      <td>Jei Turrell</td>\n",
       "      <td>M</td>\n",
       "      <td>10</td>\n",
       "      <td>Severe bite to right forearm</td>\n",
       "      <td>N</td>\n",
       "      <td>15h00</td>\n",
       "      <td>N/A</td>\n",
       "      <td>http://sharkattackfile.net/spreadsheets/pdf_di...</td>\n",
       "      <td>2018.05.13.b</td>\n",
       "    </tr>\n",
       "    <tr>\n",
       "      <th>2</th>\n",
       "      <td>2018-04-25</td>\n",
       "      <td>2018</td>\n",
       "      <td>Questionable</td>\n",
       "      <td>AUSTRALIA</td>\n",
       "      <td>New South Wales</td>\n",
       "      <td>Lennox Head</td>\n",
       "      <td>Surfing</td>\n",
       "      <td>Matthew Lee</td>\n",
       "      <td>M</td>\n",
       "      <td>N/A</td>\n",
       "      <td>No injury</td>\n",
       "      <td>N</td>\n",
       "      <td>07h00</td>\n",
       "      <td>Questionable</td>\n",
       "      <td>http://sharkattackfile.net/spreadsheets/pdf_di...</td>\n",
       "      <td>2018.04.25.b</td>\n",
       "    </tr>\n",
       "    <tr>\n",
       "      <th>3</th>\n",
       "      <td>2018-04-10</td>\n",
       "      <td>2018</td>\n",
       "      <td>Invalid</td>\n",
       "      <td>BRAZIL</td>\n",
       "      <td>Alagoas</td>\n",
       "      <td>Praia de Sauaçuhy, Maceió</td>\n",
       "      <td>Fishing</td>\n",
       "      <td>Josias Paz</td>\n",
       "      <td>M</td>\n",
       "      <td>56</td>\n",
       "      <td>Injury to ankle from marine animal trapped in ...</td>\n",
       "      <td>N</td>\n",
       "      <td>N/A</td>\n",
       "      <td>Shark involvement not confirmed</td>\n",
       "      <td>http://sharkattackfile.net/spreadsheets/pdf_di...</td>\n",
       "      <td>2018.04.10.R</td>\n",
       "    </tr>\n",
       "    <tr>\n",
       "      <th>4</th>\n",
       "      <td>2018-04-09</td>\n",
       "      <td>2018</td>\n",
       "      <td>Unprovoked</td>\n",
       "      <td>NEW CALEDONIA</td>\n",
       "      <td>N/A</td>\n",
       "      <td>Magenta Beach, Noumea</td>\n",
       "      <td>Windsurfing</td>\n",
       "      <td>N/A</td>\n",
       "      <td>N/A</td>\n",
       "      <td>N/A</td>\n",
       "      <td>No injury, shark bit board</td>\n",
       "      <td>N</td>\n",
       "      <td>17h00</td>\n",
       "      <td>2 m shark</td>\n",
       "      <td>http://sharkattackfile.net/spreadsheets/pdf_di...</td>\n",
       "      <td>2018.04.09</td>\n",
       "    </tr>\n",
       "  </tbody>\n",
       "</table>\n",
       "</div>"
      ],
      "text/plain": [
       "        Month  Year          Type        Country             Area  \\\n",
       "0  2018-05-27  2018    Unprovoked            USA          Florida   \n",
       "1  2018-05-13  2018    Unprovoked            USA   South Carolina   \n",
       "2  2018-04-25  2018  Questionable      AUSTRALIA  New South Wales   \n",
       "3  2018-04-10  2018       Invalid         BRAZIL          Alagoas   \n",
       "4  2018-04-09  2018    Unprovoked  NEW CALEDONIA              N/A   \n",
       "\n",
       "                                            Location     Activity  \\\n",
       "0  Lighhouse Point Park, Ponce Inlet, Volusia County      Fishing   \n",
       "1                Hilton Head Island, Beaufort County     Swimming   \n",
       "2                                        Lennox Head      Surfing   \n",
       "3                          Praia de Sauaçuhy, Maceió      Fishing   \n",
       "4                              Magenta Beach, Noumea  Windsurfing   \n",
       "\n",
       "          Name Gender  Age                                             Injury  \\\n",
       "0         male      M   52            Minor injury to foot. PROVOKED INCIDENT   \n",
       "1  Jei Turrell      M   10                       Severe bite to right forearm   \n",
       "2  Matthew Lee      M  N/A                                          No injury   \n",
       "3   Josias Paz      M   56  Injury to ankle from marine animal trapped in ...   \n",
       "4          N/A    N/A  N/A                         No injury, shark bit board   \n",
       "\n",
       "  Severity   Hour                     Shark specie  \\\n",
       "0        N    N/A                  Lemon shark, 3'   \n",
       "1        N  15h00                              N/A   \n",
       "2        N  07h00                     Questionable   \n",
       "3        N    N/A  Shark involvement not confirmed   \n",
       "4        N  17h00                        2 m shark   \n",
       "\n",
       "                                         link source   Case number  \n",
       "0  http://sharkattackfile.net/spreadsheets/pdf_di...    2018.05.27  \n",
       "1  http://sharkattackfile.net/spreadsheets/pdf_di...  2018.05.13.b  \n",
       "2  http://sharkattackfile.net/spreadsheets/pdf_di...  2018.04.25.b  \n",
       "3  http://sharkattackfile.net/spreadsheets/pdf_di...  2018.04.10.R  \n",
       "4  http://sharkattackfile.net/spreadsheets/pdf_di...    2018.04.09  "
      ]
     },
     "execution_count": 4,
     "metadata": {},
     "output_type": "execute_result"
    }
   ],
   "source": [
    "sharks.columns=[\"Month\",\"Year\",\"Type\",\"Country\",\"Area\",\"Location\",\"Activity\",\"Name\",\"Gender\",\"Age\",\"Injury\",\"Severity\",\"Hour\",\"Shark specie\",\"link source\",\"Case number\"]\n",
    "sharks.head()"
   ]
  },
  {
   "cell_type": "markdown",
   "metadata": {},
   "source": [
    "The next step is going **column by column** doing the actual cleaning, identifying all the values per column and then **erase, change or unite** some of them if necessary"
   ]
  },
  {
   "cell_type": "markdown",
   "metadata": {},
   "source": [
    "**MONTH**: replacing 0000-00-00 format per Jan-Feb etc. format\n"
   ]
  },
  {
   "cell_type": "code",
   "execution_count": 5,
   "metadata": {},
   "outputs": [],
   "source": [
    "sharks[\"Month\"].replace(to_replace=\"^\\d{4}-\",value=\"\",regex=True,inplace=True)\n",
    "sharks[\"Month\"].replace(to_replace=\"-\\d{2}$\",value=\"\",regex=True,inplace=True)\n",
    "sharks[\"Month\"].replace(to_replace=\"^0\",value=\"\",regex=True,inplace=True)\n",
    "sharks[\"Month\"].replace({'1':'Jan','2':'Feb','3':'Mar','4':'Apr','5':'May','6':'Jun','7':'Jul','8':'Aug','9':'Sep','10':'Oct','11':'Nov','12':'Dec'},inplace=True)\n"
   ]
  },
  {
   "cell_type": "markdown",
   "metadata": {},
   "source": [
    "**YEARS:** seems clean enough\n"
   ]
  },
  {
   "cell_type": "code",
   "execution_count": 6,
   "metadata": {},
   "outputs": [],
   "source": [
    "years=pd.DataFrame(sharks[\"Year\"].value_counts())"
   ]
  },
  {
   "cell_type": "markdown",
   "metadata": {},
   "source": [
    "**TYPE:** mainly unifying values. We set \"questionable\" as \"provoked\" as there were only two entries\n"
   ]
  },
  {
   "cell_type": "code",
   "execution_count": 7,
   "metadata": {},
   "outputs": [],
   "source": [
    "sharks[\"Type\"].replace(\"Boat\",\"Boating\",inplace=True)\n",
    "sharks[\"Type\"].replace(\"Boatomg\",\"Boating\",inplace=True)\n",
    "sharks[\"Type\"].replace(\"Questionable\",\"Provoked\",inplace=True)\n",
    "sharks[\"Type\"].replace(\"N/A\",\"Unknown\",inplace=True)\n"
   ]
  },
  {
   "cell_type": "markdown",
   "metadata": {},
   "source": [
    "**COUNTRY:** change some country names that have typos\n"
   ]
  },
  {
   "cell_type": "code",
   "execution_count": 8,
   "metadata": {},
   "outputs": [],
   "source": [
    "sharks[\"Country\"].replace(\"INDIAN OCEAN?\",\"INDONESIA\",inplace=True)\n",
    "sharks[\"Country\"].replace(\"THE BALKANS\",\"SLOVENIA\",inplace=True)\n",
    "sharks[\"Country\"].replace(\"GRAND CAYMAN\",\"CAYMAN ISLANDS\",inplace=True)\n",
    "sharks[\"Country\"].replace(\"CEYLON\",\"SRI LANKA\",inplace=True)\n",
    "sharks[\"Country\"].replace(\"PERSIAN GULF\",\"IRAN\",inplace=True)\n",
    "sharks[\"Country\"].replace(\"BURMA\",\"MYANMAR\",inplace=True)\n",
    "sharks[\"Country\"].replace(\"Fiji\",\"FIJI\",inplace=True)\n",
    "sharks[\"Country\"].replace(\"OKINAWA\",\"JAPAN\",inplace=True)\n",
    "sharks[\"Country\"].replace(\"DIEGO GARCIA\",\"DIEGO GARCIA ISLAND\",inplace=True)\n",
    "sharks[\"Country\"].replace(\"Sierra Leone\",\"SIERRA LEONE\",inplace=True)\n",
    "sharks[\"Country\"].replace(\"GULF OF ADEN\",\"YEMEN\",inplace=True)\n",
    "sharks[\"Country\"].replace(\"SAN DOMINGO\",\"DOMINICAN REPUBLIC\",inplace=True)\n",
    "sharks[\"Country\"].replace(\"SUDAN?\",\"SUDAN\",inplace=True)\n",
    "sharks[\"Country\"].replace(\"RED SEA?\",\"EGYPT\",inplace=True)\n",
    "sharks[\"Country\"].replace(\"CEYLON (SRI LANKA)\",\"SRI LANKA\",inplace=True)\n",
    "sharks[\"Country\"].replace(\"Between PORTUGAL & INDIA\",\"PORTUGAL\",inplace=True)\n",
    "sharks[\"Country\"].replace(\"ASIA?\",\"ASIA\",inplace=True)\n",
    "sharks[\"Country\"].replace(\"Seychelles\",\"SEYCHELLES\",inplace=True)\n",
    "sharks[\"Country\"].replace(\"IRAN/IRAQ\",\"IRAN\",inplace=True)\n",
    "sharks[\"Area\"].replace(\"KwaZulu-Natal between Port Edward and Port St Johns\",\"KwaZulu-Natal\",inplace=True)"
   ]
  },
  {
   "cell_type": "markdown",
   "metadata": {},
   "source": [
    "**ACTIVITY:** there is a lot of cleaning to do. First we use **regex** and pandas replace function to group into different categories (mainly water sports, swimming, diving and bathing)\n"
   ]
  },
  {
   "cell_type": "code",
   "execution_count": 9,
   "metadata": {},
   "outputs": [],
   "source": [
    "\n",
    "sharks[\"Activity\"].replace(to_replace=[\"Jumped overboard\",\"Thrown overboard\",\"Jumped overboard to rescue companion\",\"Fell overboard, hanging onto lifebuoy\",\"Jumping\",\"Jumped into the water\"],value=\"Thrown or jumped from the boat\",inplace=True)\n",
    "sharks[\"Activity\"].replace(to_replace=[\"Wading\",\"Standing\",\"Playing\",\"Walking\",\"Treading water\"],value=\"Bathing/Floating/Walking near the shore\",inplace=True)\n",
    "sharks[\"Activity\"].replace(to_replace=[\"Sailing\",\"Canoeing\",\"Boating\",\"Boat\",\"SUP\"],value=\"Water sports\",inplace=True)\n",
    "sharks[\"Activity\"].replace(to_replace=[\"Floating\", \"Bathing\",\"Splashing\"],value=\"Bathing/Floating/Walking near the shore\",inplace=True)\n",
    "sharks[\"Activity\"].replace(to_replace=\".*[Ff]ell.*\",value=\"Thrown or jumped from the boat\",regex=True,inplace=True)\n",
    "sharks[\"Activity\"].replace(to_replace=\".*[Ss]urf.*\",value=\"Water sports\",regex=True,inplace=True)\n",
    "sharks[\"Activity\"].replace(to_replace=\".*[Bb]oard.*\",value=\"Water sports\",regex=True,inplace=True)\n",
    "sharks[\"Activity\"].replace(to_replace=\".*[Rr]ow.*\",value=\"Water sports\",regex=True,inplace=True)\n",
    "sharks[\"Activity\"].replace(to_replace=\".*[Ss]ki.*\",value=\"Water sports\",regex=True,inplace=True)\n",
    "sharks[\"Activity\"].replace(to_replace=\".*[Pp]ad.*\",value=\"Water sports\",regex=True,inplace=True)\n",
    "sharks[\"Activity\"].replace(to_replace=\".*[Kk]ay.*\",value=\"Water sports\",regex=True,inplace=True)\n",
    "sharks[\"Activity\"].replace(to_replace=\".*[Ff]ish.*\",value=\"Fishing\",regex=True,inplace=True)\n",
    "sharks[\"Activity\"].replace(to_replace=\".*[Nn]et.*\",value=\"Fishing\",regex=True,inplace=True)\n",
    "sharks[\"Activity\"].replace(to_replace=\".*[Ff]loat.*\",value=\"Bathing/Floating/Walking near the shore\",regex=True,inplace=True)\n",
    "sharks[\"Activity\"].replace(to_replace=\".*[Bb]ath.*\",value=\"Bathing/Floating/Walking near the shore\",regex=True,inplace=True)\n",
    "sharks[\"Activity\"].replace(to_replace=\".*[Ww]alk.*\",value=\"Bathing/Floating/Walking near the shore\",regex=True,inplace=True)\n",
    "sharks[\"Activity\"].replace(to_replace=\".*[Pp]lay.*\",value=\"Bathing/Floating/Walking near the shore\",regex=True,inplace=True)\n",
    "sharks[\"Activity\"].replace(to_replace=\".*[Ww]ash.*\",value=\"Bathing/Floating/Walking near the shore\",regex=True,inplace=True)\n",
    "sharks[\"Activity\"].replace(to_replace=\".*[Ff]loat.*\",value=\"Bathing/Floating/Walking near the shore\",regex=True,inplace=True)\n",
    "sharks[\"Activity\"].replace(to_replace=\".*[Ss]tand.*\",value=\"Bathing/Floating/Walking near the shore\",regex=True,inplace=True)\n",
    "sharks[\"Activity\"].replace(to_replace=\".*[Ss]it.*\",value=\"Bathing/Floating/Walking near the shore\",regex=True,inplace=True)\n",
    "sharks[\"Activity\"].replace(to_replace=\".*[Ss]wim.*\",value=\"Swimming\",regex=True,inplace=True)\n",
    "sharks[\"Activity\"].replace(to_replace=[\"Snorkeling\"],value=\"Diving\",inplace=True)\n",
    "sharks[\"Activity\"].replace(to_replace=\".*[Dd]iv.*\",value=\"Diving\",regex=True,inplace=True)\n",
    "sharks[\"Activity\"].replace(to_replace=\".*[Dd]isaster.*\",value=\"Sea or air disaster\",regex=True,inplace=True)\n",
    "sharks[\"Activity\"].replace(to_replace=\".*[Aa]ir.*\",value=\"Sea or air disaster\",regex=True,inplace=True)\n",
    "sharks[\"Activity\"].replace(to_replace=\".*[Ww]reck.*\",value=\"Sea or air disaster\",regex=True,inplace=True)\n",
    "sharks[\"Activity\"].replace(to_replace=\".*[Cc]apsized.*\",value=\"Sea or air disaster\",regex=True,inplace=True)\n",
    "sharks[\"Activity\"].replace(to_replace=\".*[Ss][a-i]nk.*\",value=\"Sea or air disaster\",regex=True,inplace=True)\n",
    "sharks[\"Activity\"].replace(to_replace=\".*[Ss]wamp.*\",value=\"Sea or air disaster\",regex=True,inplace=True)\n",
    "sharks[\"Activity\"].replace(to_replace=\".*[Ss]hark.*\",value=\"Direct interaction with a shark\",regex=True,inplace=True)\n",
    "\n",
    "activities=pd.DataFrame(sharks[\"Activity\"].value_counts())\n"
   ]
  },
  {
   "cell_type": "markdown",
   "metadata": {},
   "source": [
    "As there were still a lot of different ativities hard to group in any of the main groups (most of them with ot more than 3 attacks) we have created a **dictionary and map** it in the activity column ina new gropu called *others*\n"
   ]
  },
  {
   "cell_type": "code",
   "execution_count": 10,
   "metadata": {},
   "outputs": [],
   "source": [
    "to_keep_map = dict(zip(list(activities[activities >= 4].dropna().index), list(activities[activities >= 4].dropna().index)))"
   ]
  },
  {
   "cell_type": "code",
   "execution_count": 11,
   "metadata": {},
   "outputs": [],
   "source": [
    "to_map = dict(zip(list(activities[activities < 4].dropna().index), [\"other\" for i in range(238)]))"
   ]
  },
  {
   "cell_type": "code",
   "execution_count": 12,
   "metadata": {},
   "outputs": [],
   "source": [
    "final_map = {**to_keep_map, **to_map}"
   ]
  },
  {
   "cell_type": "code",
   "execution_count": 13,
   "metadata": {},
   "outputs": [],
   "source": [
    "sharks[\"Activity\"] = sharks[\"Activity\"].map(final_map)"
   ]
  },
  {
   "cell_type": "markdown",
   "metadata": {},
   "source": [
    "**AGE:** using a lot of **regex** to convert the strings and categorical values and make sure that we end up with **all**  **numerical** values"
   ]
  },
  {
   "cell_type": "code",
   "execution_count": 14,
   "metadata": {},
   "outputs": [],
   "source": [
    "sharks[\"Age\"].replace(to_replace=\".*[Tt]een.*\",value=\"15\",regex=True,inplace=True)\n",
    "sharks[\"Age\"].replace(to_replace=\".*[Yy]oung.*\",value=\"16\",regex=True,inplace=True)\n",
    "sharks[\"Age\"].replace(to_replace=\"[s].*\",value=\"\",regex=True,inplace=True)\n",
    "sharks[\"Age\"].replace(to_replace=\"[\\?].*\",value=\"\",regex=True,inplace=True)\n",
    "sharks[\"Age\"].replace(to_replace='\".*',value=\"\",regex=True,inplace=True)\n",
    "sharks[\"Age\"].replace(to_replace=\".*[>]\",value=\"\",regex=True,inplace=True)\n",
    "sharks[\"Age\"].replace(to_replace=\".*ul\",value=\"\",regex=True,inplace=True)\n",
    "sharks[\"Age\"].replace(to_replace=\"F.*\",value=\"\",regex=True,inplace=True)\n",
    "sharks[\"Age\"].replace(to_replace=\".*[\\,]\",value=\"\",regex=True,inplace=True)\n",
    "sharks[\"Age\"].replace(to_replace=\".*leage\",value=\"\",regex=True,inplace=True)\n",
    "sharks[\"Age\"].replace(to_replace=\"[X].*\",value=\"\",regex=True,inplace=True)\n",
    "sharks[\"Age\"].replace(to_replace=\"[Bt)'].*\",value=\"\",regex=True,inplace=True)\n",
    "sharks[\"Age\"].replace(to_replace=\"Ele.*\",value=\"\",regex=True,inplace=True)\n",
    "sharks[\"Age\"].replace(to_replace=\"Eld?e.*\",value=\"\",regex=True,inplace=True)\n",
    "sharks[\"Age\"].replace(to_replace=\".*Ca.\",value=\"\",regex=True,inplace=True)\n",
    "sharks[\"Age\"].replace(to_replace=\".*MAK\",value=\"\",regex=True,inplace=True)\n",
    "sharks[\"Age\"].replace(to_replace=\".*mid-\",value=\"\",regex=True,inplace=True)\n",
    "sharks[\"Age\"].replace(to_replace=\".*mon\",value=\"\",regex=True,inplace=True)\n",
    "sharks[\"Age\"].replace(to_replace=\".*A\\.M\\.\",value=\"\",regex=True,inplace=True)\n",
    "sharks[\"Age\"].replace(to_replace=\"E LINE GREEN\",value=\"\",inplace=True)\n",
    "sharks[\"Age\"].replace(to_replace=\"[&].*\",value=\"\",regex=True,inplace=True)\n",
    "sharks[\"Age\"].replace(to_replace=\"to.*\",value=\"\",regex=True,inplace=True)\n",
    "sharks[\"Age\"].replace(to_replace=\"or.*\",value=\"\",regex=True,inplace=True)\n",
    "sharks[\"Age\"].replace(to_replace=\".both\",value=\"\",regex=True,inplace=True)\n",
    "sharks[\"Age\"].replace(to_replace=\"½.*\",value=\"\",regex=True,inplace=True)\n",
    "sharks[\"Age\"].replace(to_replace='  ',value=\"N/A\",inplace=True)\n",
    "\n",
    "ages=pd.DataFrame(sharks[\"Age\"].value_counts())\n",
    "\n",
    "\n"
   ]
  },
  {
   "cell_type": "markdown",
   "metadata": {},
   "source": [
    "**GENDER:** just renaming the names of the values into more specific ones"
   ]
  },
  {
   "cell_type": "code",
   "execution_count": 15,
   "metadata": {},
   "outputs": [],
   "source": [
    "sharks[\"Gender\"].replace(to_replace=[\"lli\",\"N\",\".\"],value=\"F\",inplace=True)\n",
    "sharks[\"Gender\"].replace(to_replace=\"M\",value=\"Male\",inplace=True)\n",
    "sharks[\"Gender\"].replace(to_replace=\"F\",value=\"Female\",inplace=True)\n",
    "sharks[\"Gender\"].replace(to_replace=\"N/A\",value=\"Unknown\",inplace=True)\n",
    "\n",
    "gender=pd.DataFrame(sharks[\"Gender\"].value_counts())\n"
   ]
  },
  {
   "cell_type": "markdown",
   "metadata": {},
   "source": [
    "**SEVERITY:** replacing Y and N for *death* or *no death* and keeping an *unknown* group of values"
   ]
  },
  {
   "cell_type": "code",
   "execution_count": 16,
   "metadata": {},
   "outputs": [],
   "source": [
    "sharks[\"Severity\"].replace(to_replace=\"y\",value=\"Y\",inplace=True)\n",
    "sharks[\"Severity\"].replace(to_replace=\"Y\",value=\"Death\",inplace=True)\n",
    "sharks[\"Severity\"].replace(to_replace=\"N\",value=\"No death\",inplace=True)\n",
    "sharks[\"Severity\"].replace(to_replace=\"UNKNOWN\",value=\"Unknown\",inplace=True)\n",
    "fatality=pd.DataFrame(sharks[\"Severity\"].value_counts())\n",
    "\n"
   ]
  },
  {
   "cell_type": "markdown",
   "metadata": {},
   "source": [
    "**SHARK SPECIE:** using **regex** to unify shark species values and clean numbers in categorical data"
   ]
  },
  {
   "cell_type": "code",
   "execution_count": 17,
   "metadata": {},
   "outputs": [],
   "source": [
    "sharks[\"Shark specie\"].replace(to_replace=[\"Shark involvement not confirmed\",\"Shark involvement prior to death not confirmed\",\"Shark involvement prior to death suspected but not confirmed\",\"Questionable Incident\",\"Shark involvement suspected but not confirmed\",\"Invalid\",\"Shark involvement questionable\",\"Shark involvement prior to death unconfirmed\",\"Questionable incident\",\"Questionable\",\"Shark involvement prior to death was not confirmed\",\"No shark involvement\"],value=\"Questionable shark involvement\",inplace=True)\n",
    "sharks[\"Shark specie\"].replace(to_replace=\".*[Ww]hite.*\",value=\"White shark\",regex=True,inplace=True)\n",
    "sharks[\"Shark specie\"].replace(to_replace=\".*[Tt]iger.*\",value=\"Tiger shark\",regex=True,inplace=True)\n",
    "sharks[\"Shark specie\"].replace(to_replace=\".*[Bb]ull.*\",value=\"Bull shark\",regex=True,inplace=True)\n",
    "sharks[\"Shark specie\"].replace(to_replace=\".*[Bb]lack.*\",value=\"Blacktip shark\",regex=True,inplace=True)\n",
    "sharks[\"Shark specie\"].replace(to_replace=\".*[Ll]emon.*\",value=\"Lemon shark\",regex=True,inplace=True)\n",
    "sharks[\"Shark specie\"].replace(to_replace=\".*[Bb]lue.*\",value=\"Blue shark\",regex=True,inplace=True)\n",
    "sharks[\"Shark specie\"].replace(to_replace=\".*[Nn]urse.*\",value=\"Nurse shark\",regex=True,inplace=True)\n",
    "sharks[\"Shark specie\"].replace(to_replace=\".*[Rr]eef.*\",value=\"Reef shark\",regex=True,inplace=True)\n",
    "sharks[\"Shark specie\"].replace(to_replace=\".*[Bb]ronze.*\",value=\"Bronze whaler shark\",regex=True,inplace=True)\n",
    "sharks[\"Shark specie\"].replace(to_replace=\".*[Ww]ob.*\",value=\"Wobbegong shark\",regex=True,inplace=True)\n",
    "sharks[\"Shark specie\"].replace(to_replace=\".*[Ss]and.*\",value=\"Sand shark\",regex=True,inplace=True)\n",
    "sharks[\"Shark specie\"].replace(to_replace=\".*[Mm]ak.*\",value=\"Mako shark\",regex=True,inplace=True)\n",
    "sharks[\"Shark specie\"].replace(to_replace=\".*[Rr]agg.*\",value=\"Raggedtooth shark\",regex=True,inplace=True)\n",
    "sharks[\"Shark specie\"].replace(to_replace=\".*[Hh]ammer.*\",value=\"Hammerhead shark\",regex=True,inplace=True)\n",
    "sharks[\"Shark specie\"].replace(to_replace=\".*[Zz]amb.*\",value=\"Zambesi shark\",regex=True,inplace=True)\n",
    "sharks[\"Shark specie\"].replace(to_replace=\".*[Uu]nident.*\",value=\"N/A\",regex=True,inplace=True)\n",
    "sharks[\"Shark specie\"].replace(to_replace=\".*[Ss]mall.*\",value=\"N/A\",regex=True,inplace=True)\n",
    "sharks[\"Shark specie\"].replace(to_replace=\".*[1-9].*\",value=\"N/A\",regex=True,inplace=True)\n",
    "\n",
    "sharkies=pd.DataFrame(sharks[\"Shark specie\"].value_counts())\n",
    "\n"
   ]
  },
  {
   "cell_type": "markdown",
   "metadata": {},
   "source": [
    "**HOUR:** not enough time to work on it but would be interesting to clean it and analyze the peak hours of attacks"
   ]
  },
  {
   "cell_type": "code",
   "execution_count": 18,
   "metadata": {},
   "outputs": [],
   "source": [
    "times=pd.DataFrame(sharks[\"Hour\"].value_counts())\n"
   ]
  },
  {
   "cell_type": "markdown",
   "metadata": {},
   "source": [
    "#### After all the data is clean we **save** the final dataset **into a csv** that we can upload later for future analysis ####"
   ]
  },
  {
   "cell_type": "code",
   "execution_count": 19,
   "metadata": {},
   "outputs": [],
   "source": [
    "sharks.to_csv(\"sharks_final_dataset.csv\")\n"
   ]
  },
  {
   "cell_type": "markdown",
   "metadata": {},
   "source": []
  }
 ],
 "metadata": {
  "kernelspec": {
   "display_name": "Python 3",
   "language": "python",
   "name": "python3"
  },
  "language_info": {
   "codemirror_mode": {
    "name": "ipython",
    "version": 3
   },
   "file_extension": ".py",
   "mimetype": "text/x-python",
   "name": "python",
   "nbconvert_exporter": "python",
   "pygments_lexer": "ipython3",
   "version": "3.8.3"
  }
 },
 "nbformat": 4,
 "nbformat_minor": 4
}
