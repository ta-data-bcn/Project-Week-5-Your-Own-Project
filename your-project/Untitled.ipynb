{
 "cells": [
  {
   "cell_type": "markdown",
   "metadata": {},
   "source": [
    "# Spanish Electricity Market Analysis"
   ]
  },
  {
   "cell_type": "markdown",
   "metadata": {},
   "source": [
    "## 1. Dataset import and data cleaning"
   ]
  },
  {
   "cell_type": "code",
   "execution_count": 4,
   "metadata": {},
   "outputs": [],
   "source": [
    "import pandas as pd\n",
    "import seaborn as sns\n",
    "import os\n",
    "import matplotlib as mpl\n",
    "import matplotlib.pyplot as plt\n",
    "\n",
    "sns.set()"
   ]
  },
  {
   "cell_type": "code",
   "execution_count": 5,
   "metadata": {},
   "outputs": [
    {
     "data": {
      "text/plain": [
       "'/home/ingrid/Documents/DA_Ironhack/Week5/Project-Week-5-Your-Own-Project/your-project'"
      ]
     },
     "execution_count": 5,
     "metadata": {},
     "output_type": "execute_result"
    }
   ],
   "source": [
    "os.getcwd()"
   ]
  },
  {
   "cell_type": "code",
   "execution_count": 8,
   "metadata": {},
   "outputs": [],
   "source": [
    "raw_data = pd.read_csv('datasets/spain_energy_market.csv')"
   ]
  },
  {
   "cell_type": "code",
   "execution_count": 10,
   "metadata": {},
   "outputs": [
    {
     "data": {
      "text/html": [
       "<div>\n",
       "<style scoped>\n",
       "    .dataframe tbody tr th:only-of-type {\n",
       "        vertical-align: middle;\n",
       "    }\n",
       "\n",
       "    .dataframe tbody tr th {\n",
       "        vertical-align: top;\n",
       "    }\n",
       "\n",
       "    .dataframe thead th {\n",
       "        text-align: right;\n",
       "    }\n",
       "</style>\n",
       "<table border=\"1\" class=\"dataframe\">\n",
       "  <thead>\n",
       "    <tr style=\"text-align: right;\">\n",
       "      <th></th>\n",
       "      <th>datetime</th>\n",
       "      <th>id</th>\n",
       "      <th>name</th>\n",
       "      <th>geoid</th>\n",
       "      <th>geoname</th>\n",
       "      <th>value</th>\n",
       "    </tr>\n",
       "  </thead>\n",
       "  <tbody>\n",
       "    <tr>\n",
       "      <th>0</th>\n",
       "      <td>2014-01-01 23:00:00</td>\n",
       "      <td>600</td>\n",
       "      <td>Precio mercado SPOT Diario ESP</td>\n",
       "      <td>3.0</td>\n",
       "      <td>España</td>\n",
       "      <td>25.280833</td>\n",
       "    </tr>\n",
       "    <tr>\n",
       "      <th>1</th>\n",
       "      <td>2014-01-02 23:00:00</td>\n",
       "      <td>600</td>\n",
       "      <td>Precio mercado SPOT Diario ESP</td>\n",
       "      <td>3.0</td>\n",
       "      <td>España</td>\n",
       "      <td>39.924167</td>\n",
       "    </tr>\n",
       "    <tr>\n",
       "      <th>2</th>\n",
       "      <td>2014-01-03 23:00:00</td>\n",
       "      <td>600</td>\n",
       "      <td>Precio mercado SPOT Diario ESP</td>\n",
       "      <td>3.0</td>\n",
       "      <td>España</td>\n",
       "      <td>4.992083</td>\n",
       "    </tr>\n",
       "    <tr>\n",
       "      <th>3</th>\n",
       "      <td>2014-01-04 23:00:00</td>\n",
       "      <td>600</td>\n",
       "      <td>Precio mercado SPOT Diario ESP</td>\n",
       "      <td>3.0</td>\n",
       "      <td>España</td>\n",
       "      <td>4.091667</td>\n",
       "    </tr>\n",
       "    <tr>\n",
       "      <th>4</th>\n",
       "      <td>2014-01-05 23:00:00</td>\n",
       "      <td>600</td>\n",
       "      <td>Precio mercado SPOT Diario ESP</td>\n",
       "      <td>3.0</td>\n",
       "      <td>España</td>\n",
       "      <td>13.587500</td>\n",
       "    </tr>\n",
       "  </tbody>\n",
       "</table>\n",
       "</div>"
      ],
      "text/plain": [
       "              datetime   id                            name  geoid geoname  \\\n",
       "0  2014-01-01 23:00:00  600  Precio mercado SPOT Diario ESP    3.0  España   \n",
       "1  2014-01-02 23:00:00  600  Precio mercado SPOT Diario ESP    3.0  España   \n",
       "2  2014-01-03 23:00:00  600  Precio mercado SPOT Diario ESP    3.0  España   \n",
       "3  2014-01-04 23:00:00  600  Precio mercado SPOT Diario ESP    3.0  España   \n",
       "4  2014-01-05 23:00:00  600  Precio mercado SPOT Diario ESP    3.0  España   \n",
       "\n",
       "       value  \n",
       "0  25.280833  \n",
       "1  39.924167  \n",
       "2   4.992083  \n",
       "3   4.091667  \n",
       "4  13.587500  "
      ]
     },
     "execution_count": 10,
     "metadata": {},
     "output_type": "execute_result"
    }
   ],
   "source": [
    "raw_data.head()"
   ]
  },
  {
   "cell_type": "code",
   "execution_count": 12,
   "metadata": {},
   "outputs": [
    {
     "data": {
      "text/plain": [
       "datetime     object\n",
       "id            int64\n",
       "name         object\n",
       "geoid       float64\n",
       "geoname      object\n",
       "value       float64\n",
       "dtype: object"
      ]
     },
     "execution_count": 12,
     "metadata": {},
     "output_type": "execute_result"
    }
   ],
   "source": [
    "raw_data.dtypes"
   ]
  },
  {
   "cell_type": "code",
   "execution_count": 15,
   "metadata": {},
   "outputs": [],
   "source": [
    "raw_data.datetime = pd.to_datetime(raw_data['datetime'])"
   ]
  },
  {
   "cell_type": "code",
   "execution_count": 16,
   "metadata": {},
   "outputs": [
    {
     "data": {
      "text/plain": [
       "datetime    datetime64[ns]\n",
       "id                   int64\n",
       "name                object\n",
       "geoid              float64\n",
       "geoname             object\n",
       "value              float64\n",
       "dtype: object"
      ]
     },
     "execution_count": 16,
     "metadata": {},
     "output_type": "execute_result"
    }
   ],
   "source": [
    "raw_data.dtypes"
   ]
  },
  {
   "cell_type": "code",
   "execution_count": 17,
   "metadata": {},
   "outputs": [
    {
     "data": {
      "text/plain": [
       "array(['Precio mercado SPOT Diario ESP', 'Precio mercado SPOT Diario FRA',\n",
       "       'Precio mercado SPOT Diario POR',\n",
       "       'Energía asignada en Mercado SPOT Diario España',\n",
       "       'Energía asignada en Mercado SPOT Diario Francia', nan,\n",
       "       'Rentas de congestión mecanismos implícitos diario Francia exportación',\n",
       "       'Rentas de congestión mecanismos implícitos diario Portugal exportación',\n",
       "       'Rentas de congestión mecanismos implícitos diario Francia importación',\n",
       "       'Rentas de congestión mecanismos implícitos diario Portugal importación',\n",
       "       'Demanda real', 'Demanda programada PBF total',\n",
       "       'Generación programada PBF total',\n",
       "       'Generación programada PBF Eólica',\n",
       "       'Generación programada PBF Ciclo combinado',\n",
       "       'Generación programada PBF Carbón',\n",
       "       'Generación programada PBF Nuclear',\n",
       "       'Generación programada PBF Gas Natural Cogeneración',\n",
       "       'Generación programada PBF UGH + no UGH',\n",
       "       'Generación programada PBF Solar fotovoltaica',\n",
       "       'Generación programada PBF Turbinación bombeo'], dtype=object)"
      ]
     },
     "execution_count": 17,
     "metadata": {},
     "output_type": "execute_result"
    }
   ],
   "source": [
    "raw_data.name.unique()"
   ]
  },
  {
   "cell_type": "code",
   "execution_count": null,
   "metadata": {},
   "outputs": [],
   "source": []
  }
 ],
 "metadata": {
  "kernelspec": {
   "display_name": "Python 3",
   "language": "python",
   "name": "python3"
  },
  "language_info": {
   "codemirror_mode": {
    "name": "ipython",
    "version": 3
   },
   "file_extension": ".py",
   "mimetype": "text/x-python",
   "name": "python",
   "nbconvert_exporter": "python",
   "pygments_lexer": "ipython3",
   "version": "3.7.3"
  }
 },
 "nbformat": 4,
 "nbformat_minor": 2
}
