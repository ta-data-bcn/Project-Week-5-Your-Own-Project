{
 "cells": [
  {
   "cell_type": "code",
   "execution_count": 1,
   "metadata": {},
   "outputs": [],
   "source": [
    "import pandas as pd \n"
   ]
  },
  {
   "cell_type": "code",
   "execution_count": 2,
   "metadata": {},
   "outputs": [
    {
     "data": {
      "text/plain": "(48895, 16)"
     },
     "execution_count": 2,
     "metadata": {},
     "output_type": "execute_result"
    }
   ],
   "source": [
    "data = pd.read_csv('AB_NYC_2019.csv')\n",
    "data.shape"
   ]
  },
  {
   "cell_type": "code",
   "execution_count": 3,
   "metadata": {},
   "outputs": [
    {
     "data": {
      "text/html": "<div>\n<style scoped>\n    .dataframe tbody tr th:only-of-type {\n        vertical-align: middle;\n    }\n\n    .dataframe tbody tr th {\n        vertical-align: top;\n    }\n\n    .dataframe thead th {\n        text-align: right;\n    }\n</style>\n<table border=\"1\" class=\"dataframe\">\n  <thead>\n    <tr style=\"text-align: right;\">\n      <th></th>\n      <th>id</th>\n      <th>host_id</th>\n      <th>latitude</th>\n      <th>longitude</th>\n      <th>price</th>\n      <th>minimum_nights</th>\n      <th>number_of_reviews</th>\n      <th>reviews_per_month</th>\n      <th>calculated_host_listings_count</th>\n      <th>availability_365</th>\n    </tr>\n  </thead>\n  <tbody>\n    <tr>\n      <th>count</th>\n      <td>4.889500e+04</td>\n      <td>4.889500e+04</td>\n      <td>48895.000000</td>\n      <td>48895.000000</td>\n      <td>48895.000000</td>\n      <td>48895.000000</td>\n      <td>48895.000000</td>\n      <td>38843.000000</td>\n      <td>48895.000000</td>\n      <td>48895.000000</td>\n    </tr>\n    <tr>\n      <th>mean</th>\n      <td>1.901714e+07</td>\n      <td>6.762001e+07</td>\n      <td>40.728949</td>\n      <td>-73.952170</td>\n      <td>152.720687</td>\n      <td>7.029962</td>\n      <td>23.274466</td>\n      <td>1.373221</td>\n      <td>7.143982</td>\n      <td>112.781327</td>\n    </tr>\n    <tr>\n      <th>std</th>\n      <td>1.098311e+07</td>\n      <td>7.861097e+07</td>\n      <td>0.054530</td>\n      <td>0.046157</td>\n      <td>240.154170</td>\n      <td>20.510550</td>\n      <td>44.550582</td>\n      <td>1.680442</td>\n      <td>32.952519</td>\n      <td>131.622289</td>\n    </tr>\n    <tr>\n      <th>min</th>\n      <td>2.539000e+03</td>\n      <td>2.438000e+03</td>\n      <td>40.499790</td>\n      <td>-74.244420</td>\n      <td>0.000000</td>\n      <td>1.000000</td>\n      <td>0.000000</td>\n      <td>0.010000</td>\n      <td>1.000000</td>\n      <td>0.000000</td>\n    </tr>\n    <tr>\n      <th>25%</th>\n      <td>9.471945e+06</td>\n      <td>7.822033e+06</td>\n      <td>40.690100</td>\n      <td>-73.983070</td>\n      <td>69.000000</td>\n      <td>1.000000</td>\n      <td>1.000000</td>\n      <td>0.190000</td>\n      <td>1.000000</td>\n      <td>0.000000</td>\n    </tr>\n    <tr>\n      <th>50%</th>\n      <td>1.967728e+07</td>\n      <td>3.079382e+07</td>\n      <td>40.723070</td>\n      <td>-73.955680</td>\n      <td>106.000000</td>\n      <td>3.000000</td>\n      <td>5.000000</td>\n      <td>0.720000</td>\n      <td>1.000000</td>\n      <td>45.000000</td>\n    </tr>\n    <tr>\n      <th>75%</th>\n      <td>2.915218e+07</td>\n      <td>1.074344e+08</td>\n      <td>40.763115</td>\n      <td>-73.936275</td>\n      <td>175.000000</td>\n      <td>5.000000</td>\n      <td>24.000000</td>\n      <td>2.020000</td>\n      <td>2.000000</td>\n      <td>227.000000</td>\n    </tr>\n    <tr>\n      <th>max</th>\n      <td>3.648724e+07</td>\n      <td>2.743213e+08</td>\n      <td>40.913060</td>\n      <td>-73.712990</td>\n      <td>10000.000000</td>\n      <td>1250.000000</td>\n      <td>629.000000</td>\n      <td>58.500000</td>\n      <td>327.000000</td>\n      <td>365.000000</td>\n    </tr>\n  </tbody>\n</table>\n</div>",
      "text/plain": "                 id       host_id      latitude     longitude         price  \\\ncount  4.889500e+04  4.889500e+04  48895.000000  48895.000000  48895.000000   \nmean   1.901714e+07  6.762001e+07     40.728949    -73.952170    152.720687   \nstd    1.098311e+07  7.861097e+07      0.054530      0.046157    240.154170   \nmin    2.539000e+03  2.438000e+03     40.499790    -74.244420      0.000000   \n25%    9.471945e+06  7.822033e+06     40.690100    -73.983070     69.000000   \n50%    1.967728e+07  3.079382e+07     40.723070    -73.955680    106.000000   \n75%    2.915218e+07  1.074344e+08     40.763115    -73.936275    175.000000   \nmax    3.648724e+07  2.743213e+08     40.913060    -73.712990  10000.000000   \n\n       minimum_nights  number_of_reviews  reviews_per_month  \\\ncount    48895.000000       48895.000000       38843.000000   \nmean         7.029962          23.274466           1.373221   \nstd         20.510550          44.550582           1.680442   \nmin          1.000000           0.000000           0.010000   \n25%          1.000000           1.000000           0.190000   \n50%          3.000000           5.000000           0.720000   \n75%          5.000000          24.000000           2.020000   \nmax       1250.000000         629.000000          58.500000   \n\n       calculated_host_listings_count  availability_365  \ncount                    48895.000000      48895.000000  \nmean                         7.143982        112.781327  \nstd                         32.952519        131.622289  \nmin                          1.000000          0.000000  \n25%                          1.000000          0.000000  \n50%                          1.000000         45.000000  \n75%                          2.000000        227.000000  \nmax                        327.000000        365.000000  "
     },
     "execution_count": 3,
     "metadata": {},
     "output_type": "execute_result"
    }
   ],
   "source": [
    "data.describe()"
   ]
  },
  {
   "cell_type": "code",
   "execution_count": 4,
   "metadata": {},
   "outputs": [
    {
     "data": {
      "text/plain": "(48884, 16)"
     },
     "execution_count": 4,
     "metadata": {},
     "output_type": "execute_result"
    }
   ],
   "source": [
    "data1 = data.loc[data.price!=0]\n",
    "data1.shape\n",
    "#wiping out the listings with price 0\n",
    "#another method zero_p.drop(data[data.price == 0].index)"
   ]
  },
  {
   "cell_type": "code",
   "execution_count": 5,
   "metadata": {},
   "outputs": [
    {
     "data": {
      "text/plain": "(25613, 16)"
     },
     "execution_count": 5,
     "metadata": {},
     "output_type": "execute_result"
    }
   ],
   "source": [
    "data2 = data1.loc[data1.number_of_reviews>=5]\n",
    "data2.shape\n",
    "#wiping out the listings with less than 5 reviews"
   ]
  },
  {
   "cell_type": "code",
   "execution_count": 6,
   "metadata": {},
   "outputs": [
    {
     "data": {
      "text/html": "<div>\n<style scoped>\n    .dataframe tbody tr th:only-of-type {\n        vertical-align: middle;\n    }\n\n    .dataframe tbody tr th {\n        vertical-align: top;\n    }\n\n    .dataframe thead th {\n        text-align: right;\n    }\n</style>\n<table border=\"1\" class=\"dataframe\">\n  <thead>\n    <tr style=\"text-align: right;\">\n      <th></th>\n      <th>id</th>\n      <th>name</th>\n      <th>host_id</th>\n      <th>host_name</th>\n      <th>neighbourhood_group</th>\n      <th>neighbourhood</th>\n      <th>latitude</th>\n      <th>longitude</th>\n      <th>room_type</th>\n      <th>price</th>\n      <th>minimum_nights</th>\n      <th>number_of_reviews</th>\n      <th>last_review</th>\n      <th>reviews_per_month</th>\n      <th>calculated_host_listings_count</th>\n      <th>availability_365</th>\n    </tr>\n  </thead>\n  <tbody>\n    <tr>\n      <th>0</th>\n      <td>2539</td>\n      <td>Clean &amp; quiet apt home by the park</td>\n      <td>2787</td>\n      <td>John</td>\n      <td>Brooklyn</td>\n      <td>Kensington</td>\n      <td>40.64749</td>\n      <td>-73.97237</td>\n      <td>Private room</td>\n      <td>149</td>\n      <td>1</td>\n      <td>9</td>\n      <td>2018-10-19</td>\n      <td>0.21</td>\n      <td>6</td>\n      <td>365</td>\n    </tr>\n    <tr>\n      <th>1</th>\n      <td>2595</td>\n      <td>Skylit Midtown Castle</td>\n      <td>2845</td>\n      <td>Jennifer</td>\n      <td>Manhattan</td>\n      <td>Midtown</td>\n      <td>40.75362</td>\n      <td>-73.98377</td>\n      <td>Entire home/apt</td>\n      <td>225</td>\n      <td>1</td>\n      <td>45</td>\n      <td>2019-05-21</td>\n      <td>0.38</td>\n      <td>2</td>\n      <td>355</td>\n    </tr>\n    <tr>\n      <th>3</th>\n      <td>3831</td>\n      <td>Cozy Entire Floor of Brownstone</td>\n      <td>4869</td>\n      <td>LisaRoxanne</td>\n      <td>Brooklyn</td>\n      <td>Clinton Hill</td>\n      <td>40.68514</td>\n      <td>-73.95976</td>\n      <td>Entire home/apt</td>\n      <td>89</td>\n      <td>1</td>\n      <td>270</td>\n      <td>2019-07-05</td>\n      <td>4.64</td>\n      <td>1</td>\n      <td>194</td>\n    </tr>\n    <tr>\n      <th>4</th>\n      <td>5022</td>\n      <td>Entire Apt: Spacious Studio/Loft by central park</td>\n      <td>7192</td>\n      <td>Laura</td>\n      <td>Manhattan</td>\n      <td>East Harlem</td>\n      <td>40.79851</td>\n      <td>-73.94399</td>\n      <td>Entire home/apt</td>\n      <td>80</td>\n      <td>10</td>\n      <td>9</td>\n      <td>2018-11-19</td>\n      <td>0.10</td>\n      <td>1</td>\n      <td>0</td>\n    </tr>\n    <tr>\n      <th>5</th>\n      <td>5099</td>\n      <td>Large Cozy 1 BR Apartment In Midtown East</td>\n      <td>7322</td>\n      <td>Chris</td>\n      <td>Manhattan</td>\n      <td>Murray Hill</td>\n      <td>40.74767</td>\n      <td>-73.97500</td>\n      <td>Entire home/apt</td>\n      <td>200</td>\n      <td>3</td>\n      <td>74</td>\n      <td>2019-06-22</td>\n      <td>0.59</td>\n      <td>1</td>\n      <td>129</td>\n    </tr>\n  </tbody>\n</table>\n</div>",
      "text/plain": "     id                                              name  host_id  \\\n0  2539                Clean & quiet apt home by the park     2787   \n1  2595                             Skylit Midtown Castle     2845   \n3  3831                   Cozy Entire Floor of Brownstone     4869   \n4  5022  Entire Apt: Spacious Studio/Loft by central park     7192   \n5  5099         Large Cozy 1 BR Apartment In Midtown East     7322   \n\n     host_name neighbourhood_group neighbourhood  latitude  longitude  \\\n0         John            Brooklyn    Kensington  40.64749  -73.97237   \n1     Jennifer           Manhattan       Midtown  40.75362  -73.98377   \n3  LisaRoxanne            Brooklyn  Clinton Hill  40.68514  -73.95976   \n4        Laura           Manhattan   East Harlem  40.79851  -73.94399   \n5        Chris           Manhattan   Murray Hill  40.74767  -73.97500   \n\n         room_type  price  minimum_nights  number_of_reviews last_review  \\\n0     Private room    149               1                  9  2018-10-19   \n1  Entire home/apt    225               1                 45  2019-05-21   \n3  Entire home/apt     89               1                270  2019-07-05   \n4  Entire home/apt     80              10                  9  2018-11-19   \n5  Entire home/apt    200               3                 74  2019-06-22   \n\n   reviews_per_month  calculated_host_listings_count  availability_365  \n0               0.21                               6               365  \n1               0.38                               2               355  \n3               4.64                               1               194  \n4               0.10                               1                 0  \n5               0.59                               1               129  "
     },
     "execution_count": 6,
     "metadata": {},
     "output_type": "execute_result"
    }
   ],
   "source": [
    "data2.head()"
   ]
  },
  {
   "cell_type": "code",
   "execution_count": 7,
   "metadata": {},
   "outputs": [
    {
     "data": {
      "text/html": "<div>\n<style scoped>\n    .dataframe tbody tr th:only-of-type {\n        vertical-align: middle;\n    }\n\n    .dataframe tbody tr th {\n        vertical-align: top;\n    }\n\n    .dataframe thead th {\n        text-align: right;\n    }\n</style>\n<table border=\"1\" class=\"dataframe\">\n  <thead>\n    <tr style=\"text-align: right;\">\n      <th></th>\n      <th>id</th>\n      <th>host_id</th>\n      <th>latitude</th>\n      <th>longitude</th>\n      <th>price</th>\n      <th>minimum_nights</th>\n      <th>number_of_reviews</th>\n      <th>reviews_per_month</th>\n      <th>calculated_host_listings_count</th>\n      <th>availability_365</th>\n    </tr>\n  </thead>\n  <tbody>\n    <tr>\n      <th>count</th>\n      <td>2.561300e+04</td>\n      <td>2.561300e+04</td>\n      <td>25613.000000</td>\n      <td>25613.000000</td>\n      <td>25613.000000</td>\n      <td>25613.000000</td>\n      <td>25613.000000</td>\n      <td>25613.000000</td>\n      <td>25613.00000</td>\n      <td>25613.000000</td>\n    </tr>\n    <tr>\n      <th>mean</th>\n      <td>1.658553e+07</td>\n      <td>6.103874e+07</td>\n      <td>40.727586</td>\n      <td>-73.949221</td>\n      <td>139.707609</td>\n      <td>5.052786</td>\n      <td>43.334400</td>\n      <td>1.849299</td>\n      <td>4.22551</td>\n      <td>129.826260</td>\n    </tr>\n    <tr>\n      <th>std</th>\n      <td>1.043420e+07</td>\n      <td>7.271798e+07</td>\n      <td>0.055824</td>\n      <td>0.049076</td>\n      <td>174.449830</td>\n      <td>15.341957</td>\n      <td>54.231858</td>\n      <td>1.832490</td>\n      <td>23.89229</td>\n      <td>128.184546</td>\n    </tr>\n    <tr>\n      <th>min</th>\n      <td>2.539000e+03</td>\n      <td>2.571000e+03</td>\n      <td>40.508680</td>\n      <td>-74.239860</td>\n      <td>10.000000</td>\n      <td>1.000000</td>\n      <td>5.000000</td>\n      <td>0.050000</td>\n      <td>1.00000</td>\n      <td>0.000000</td>\n    </tr>\n    <tr>\n      <th>25%</th>\n      <td>7.037918e+06</td>\n      <td>6.111018e+06</td>\n      <td>40.687310</td>\n      <td>-73.982310</td>\n      <td>69.000000</td>\n      <td>1.000000</td>\n      <td>10.000000</td>\n      <td>0.470000</td>\n      <td>1.00000</td>\n      <td>3.000000</td>\n    </tr>\n    <tr>\n      <th>50%</th>\n      <td>1.697627e+07</td>\n      <td>2.577398e+07</td>\n      <td>40.720920</td>\n      <td>-73.953860</td>\n      <td>103.000000</td>\n      <td>2.000000</td>\n      <td>22.000000</td>\n      <td>1.270000</td>\n      <td>1.00000</td>\n      <td>85.000000</td>\n    </tr>\n    <tr>\n      <th>75%</th>\n      <td>2.535088e+07</td>\n      <td>9.741789e+07</td>\n      <td>40.763250</td>\n      <td>-73.932340</td>\n      <td>165.000000</td>\n      <td>4.000000</td>\n      <td>55.000000</td>\n      <td>2.740000</td>\n      <td>2.00000</td>\n      <td>250.000000</td>\n    </tr>\n    <tr>\n      <th>max</th>\n      <td>3.614532e+07</td>\n      <td>2.694991e+08</td>\n      <td>40.908040</td>\n      <td>-73.712990</td>\n      <td>10000.000000</td>\n      <td>999.000000</td>\n      <td>629.000000</td>\n      <td>58.500000</td>\n      <td>327.00000</td>\n      <td>365.000000</td>\n    </tr>\n  </tbody>\n</table>\n</div>",
      "text/plain": "                 id       host_id      latitude     longitude         price  \\\ncount  2.561300e+04  2.561300e+04  25613.000000  25613.000000  25613.000000   \nmean   1.658553e+07  6.103874e+07     40.727586    -73.949221    139.707609   \nstd    1.043420e+07  7.271798e+07      0.055824      0.049076    174.449830   \nmin    2.539000e+03  2.571000e+03     40.508680    -74.239860     10.000000   \n25%    7.037918e+06  6.111018e+06     40.687310    -73.982310     69.000000   \n50%    1.697627e+07  2.577398e+07     40.720920    -73.953860    103.000000   \n75%    2.535088e+07  9.741789e+07     40.763250    -73.932340    165.000000   \nmax    3.614532e+07  2.694991e+08     40.908040    -73.712990  10000.000000   \n\n       minimum_nights  number_of_reviews  reviews_per_month  \\\ncount    25613.000000       25613.000000       25613.000000   \nmean         5.052786          43.334400           1.849299   \nstd         15.341957          54.231858           1.832490   \nmin          1.000000           5.000000           0.050000   \n25%          1.000000          10.000000           0.470000   \n50%          2.000000          22.000000           1.270000   \n75%          4.000000          55.000000           2.740000   \nmax        999.000000         629.000000          58.500000   \n\n       calculated_host_listings_count  availability_365  \ncount                     25613.00000      25613.000000  \nmean                          4.22551        129.826260  \nstd                          23.89229        128.184546  \nmin                           1.00000          0.000000  \n25%                           1.00000          3.000000  \n50%                           1.00000         85.000000  \n75%                           2.00000        250.000000  \nmax                         327.00000        365.000000  "
     },
     "execution_count": 7,
     "metadata": {},
     "output_type": "execute_result"
    }
   ],
   "source": [
    "data2.describe()\n",
    "#I see some listings with 0 availability out of 365... these are going out (I will set the min in 1 day)"
   ]
  },
  {
   "cell_type": "code",
   "execution_count": 8,
   "metadata": {},
   "outputs": [
    {
     "data": {
      "text/plain": "(19728, 16)"
     },
     "execution_count": 8,
     "metadata": {},
     "output_type": "execute_result"
    }
   ],
   "source": [
    "data3 = data2.loc[data2.availability_365>=1]\n",
    "data3.shape"
   ]
  },
  {
   "cell_type": "code",
   "execution_count": 9,
   "metadata": {},
   "outputs": [
    {
     "data": {
      "text/html": "<div>\n<style scoped>\n    .dataframe tbody tr th:only-of-type {\n        vertical-align: middle;\n    }\n\n    .dataframe tbody tr th {\n        vertical-align: top;\n    }\n\n    .dataframe thead th {\n        text-align: right;\n    }\n</style>\n<table border=\"1\" class=\"dataframe\">\n  <thead>\n    <tr style=\"text-align: right;\">\n      <th></th>\n      <th>id</th>\n      <th>host_id</th>\n      <th>latitude</th>\n      <th>longitude</th>\n      <th>price</th>\n      <th>minimum_nights</th>\n      <th>number_of_reviews</th>\n      <th>reviews_per_month</th>\n      <th>calculated_host_listings_count</th>\n      <th>availability_365</th>\n    </tr>\n  </thead>\n  <tbody>\n    <tr>\n      <th>count</th>\n      <td>1.972800e+04</td>\n      <td>1.972800e+04</td>\n      <td>19728.000000</td>\n      <td>19728.000000</td>\n      <td>19728.000000</td>\n      <td>19728.000000</td>\n      <td>19728.000000</td>\n      <td>19728.000000</td>\n      <td>19728.000000</td>\n      <td>19728.000000</td>\n    </tr>\n    <tr>\n      <th>mean</th>\n      <td>1.714551e+07</td>\n      <td>6.695079e+07</td>\n      <td>40.726974</td>\n      <td>-73.946637</td>\n      <td>143.177717</td>\n      <td>5.320255</td>\n      <td>49.916464</td>\n      <td>2.148959</td>\n      <td>5.073702</td>\n      <td>168.554339</td>\n    </tr>\n    <tr>\n      <th>std</th>\n      <td>1.074753e+07</td>\n      <td>7.655293e+07</td>\n      <td>0.057194</td>\n      <td>0.052149</td>\n      <td>174.119720</td>\n      <td>16.252099</td>\n      <td>57.936266</td>\n      <td>1.900047</td>\n      <td>27.158951</td>\n      <td>121.675693</td>\n    </tr>\n    <tr>\n      <th>min</th>\n      <td>2.539000e+03</td>\n      <td>2.571000e+03</td>\n      <td>40.508680</td>\n      <td>-74.239860</td>\n      <td>10.000000</td>\n      <td>1.000000</td>\n      <td>5.000000</td>\n      <td>0.050000</td>\n      <td>1.000000</td>\n      <td>1.000000</td>\n    </tr>\n    <tr>\n      <th>25%</th>\n      <td>7.116848e+06</td>\n      <td>6.392332e+06</td>\n      <td>40.686310</td>\n      <td>-73.981950</td>\n      <td>69.000000</td>\n      <td>1.000000</td>\n      <td>12.000000</td>\n      <td>0.700000</td>\n      <td>1.000000</td>\n      <td>54.000000</td>\n    </tr>\n    <tr>\n      <th>50%</th>\n      <td>1.795759e+07</td>\n      <td>3.046367e+07</td>\n      <td>40.720425</td>\n      <td>-73.952275</td>\n      <td>105.000000</td>\n      <td>2.000000</td>\n      <td>28.000000</td>\n      <td>1.690000</td>\n      <td>1.000000</td>\n      <td>158.000000</td>\n    </tr>\n    <tr>\n      <th>75%</th>\n      <td>2.666908e+07</td>\n      <td>1.148224e+08</td>\n      <td>40.763140</td>\n      <td>-73.928600</td>\n      <td>170.000000</td>\n      <td>4.000000</td>\n      <td>66.000000</td>\n      <td>3.100000</td>\n      <td>3.000000</td>\n      <td>284.000000</td>\n    </tr>\n    <tr>\n      <th>max</th>\n      <td>3.614532e+07</td>\n      <td>2.694991e+08</td>\n      <td>40.908040</td>\n      <td>-73.712990</td>\n      <td>9999.000000</td>\n      <td>999.000000</td>\n      <td>629.000000</td>\n      <td>58.500000</td>\n      <td>327.000000</td>\n      <td>365.000000</td>\n    </tr>\n  </tbody>\n</table>\n</div>",
      "text/plain": "                 id       host_id      latitude     longitude         price  \\\ncount  1.972800e+04  1.972800e+04  19728.000000  19728.000000  19728.000000   \nmean   1.714551e+07  6.695079e+07     40.726974    -73.946637    143.177717   \nstd    1.074753e+07  7.655293e+07      0.057194      0.052149    174.119720   \nmin    2.539000e+03  2.571000e+03     40.508680    -74.239860     10.000000   \n25%    7.116848e+06  6.392332e+06     40.686310    -73.981950     69.000000   \n50%    1.795759e+07  3.046367e+07     40.720425    -73.952275    105.000000   \n75%    2.666908e+07  1.148224e+08     40.763140    -73.928600    170.000000   \nmax    3.614532e+07  2.694991e+08     40.908040    -73.712990   9999.000000   \n\n       minimum_nights  number_of_reviews  reviews_per_month  \\\ncount    19728.000000       19728.000000       19728.000000   \nmean         5.320255          49.916464           2.148959   \nstd         16.252099          57.936266           1.900047   \nmin          1.000000           5.000000           0.050000   \n25%          1.000000          12.000000           0.700000   \n50%          2.000000          28.000000           1.690000   \n75%          4.000000          66.000000           3.100000   \nmax        999.000000         629.000000          58.500000   \n\n       calculated_host_listings_count  availability_365  \ncount                    19728.000000      19728.000000  \nmean                         5.073702        168.554339  \nstd                         27.158951        121.675693  \nmin                          1.000000          1.000000  \n25%                          1.000000         54.000000  \n50%                          1.000000        158.000000  \n75%                          3.000000        284.000000  \nmax                        327.000000        365.000000  "
     },
     "execution_count": 9,
     "metadata": {},
     "output_type": "execute_result"
    }
   ],
   "source": [
    "data3.describe()\n",
    "#I see some listings with minimum nights of 999 (thats the max, while 75%has 4 night)... Im gonna wipe out these outliers..."
   ]
  },
  {
   "cell_type": "code",
   "execution_count": 10,
   "metadata": {},
   "outputs": [
    {
     "data": {
      "text/plain": "(17053, 16)"
     },
     "execution_count": 10,
     "metadata": {},
     "output_type": "execute_result"
    }
   ],
   "source": [
    "data4 = data3.loc[data3.minimum_nights<=5]\n",
    "data4.shape"
   ]
  },
  {
   "cell_type": "code",
   "execution_count": 11,
   "metadata": {},
   "outputs": [
    {
     "data": {
      "text/html": "<div>\n<style scoped>\n    .dataframe tbody tr th:only-of-type {\n        vertical-align: middle;\n    }\n\n    .dataframe tbody tr th {\n        vertical-align: top;\n    }\n\n    .dataframe thead th {\n        text-align: right;\n    }\n</style>\n<table border=\"1\" class=\"dataframe\">\n  <thead>\n    <tr style=\"text-align: right;\">\n      <th></th>\n      <th>id</th>\n      <th>host_id</th>\n      <th>latitude</th>\n      <th>longitude</th>\n      <th>price</th>\n      <th>minimum_nights</th>\n      <th>number_of_reviews</th>\n      <th>reviews_per_month</th>\n      <th>calculated_host_listings_count</th>\n      <th>availability_365</th>\n    </tr>\n  </thead>\n  <tbody>\n    <tr>\n      <th>count</th>\n      <td>1.705300e+04</td>\n      <td>1.705300e+04</td>\n      <td>17053.000000</td>\n      <td>17053.000000</td>\n      <td>17053.000000</td>\n      <td>17053.000000</td>\n      <td>17053.000000</td>\n      <td>17053.000000</td>\n      <td>17053.000000</td>\n      <td>17053.000000</td>\n    </tr>\n    <tr>\n      <th>mean</th>\n      <td>1.799615e+07</td>\n      <td>7.127990e+07</td>\n      <td>40.726015</td>\n      <td>-73.944722</td>\n      <td>141.562540</td>\n      <td>2.239899</td>\n      <td>53.558142</td>\n      <td>2.359315</td>\n      <td>4.742157</td>\n      <td>164.553216</td>\n    </tr>\n    <tr>\n      <th>std</th>\n      <td>1.069758e+07</td>\n      <td>7.836666e+07</td>\n      <td>0.058036</td>\n      <td>0.053842</td>\n      <td>146.645934</td>\n      <td>1.154639</td>\n      <td>60.107302</td>\n      <td>1.929799</td>\n      <td>28.526024</td>\n      <td>121.326041</td>\n    </tr>\n    <tr>\n      <th>min</th>\n      <td>2.539000e+03</td>\n      <td>2.787000e+03</td>\n      <td>40.508680</td>\n      <td>-74.239860</td>\n      <td>10.000000</td>\n      <td>1.000000</td>\n      <td>5.000000</td>\n      <td>0.050000</td>\n      <td>1.000000</td>\n      <td>1.000000</td>\n    </tr>\n    <tr>\n      <th>25%</th>\n      <td>8.420870e+06</td>\n      <td>7.356757e+06</td>\n      <td>40.685560</td>\n      <td>-73.981190</td>\n      <td>69.000000</td>\n      <td>1.000000</td>\n      <td>13.000000</td>\n      <td>0.910000</td>\n      <td>1.000000</td>\n      <td>51.000000</td>\n    </tr>\n    <tr>\n      <th>50%</th>\n      <td>1.922277e+07</td>\n      <td>3.508968e+07</td>\n      <td>40.719010</td>\n      <td>-73.950860</td>\n      <td>100.000000</td>\n      <td>2.000000</td>\n      <td>31.000000</td>\n      <td>1.960000</td>\n      <td>1.000000</td>\n      <td>152.000000</td>\n    </tr>\n    <tr>\n      <th>75%</th>\n      <td>2.752115e+07</td>\n      <td>1.247430e+08</td>\n      <td>40.762760</td>\n      <td>-73.926190</td>\n      <td>170.000000</td>\n      <td>3.000000</td>\n      <td>72.000000</td>\n      <td>3.310000</td>\n      <td>2.000000</td>\n      <td>280.000000</td>\n    </tr>\n    <tr>\n      <th>max</th>\n      <td>3.614532e+07</td>\n      <td>2.694991e+08</td>\n      <td>40.908040</td>\n      <td>-73.712990</td>\n      <td>7500.000000</td>\n      <td>5.000000</td>\n      <td>629.000000</td>\n      <td>58.500000</td>\n      <td>327.000000</td>\n      <td>365.000000</td>\n    </tr>\n  </tbody>\n</table>\n</div>",
      "text/plain": "                 id       host_id      latitude     longitude         price  \\\ncount  1.705300e+04  1.705300e+04  17053.000000  17053.000000  17053.000000   \nmean   1.799615e+07  7.127990e+07     40.726015    -73.944722    141.562540   \nstd    1.069758e+07  7.836666e+07      0.058036      0.053842    146.645934   \nmin    2.539000e+03  2.787000e+03     40.508680    -74.239860     10.000000   \n25%    8.420870e+06  7.356757e+06     40.685560    -73.981190     69.000000   \n50%    1.922277e+07  3.508968e+07     40.719010    -73.950860    100.000000   \n75%    2.752115e+07  1.247430e+08     40.762760    -73.926190    170.000000   \nmax    3.614532e+07  2.694991e+08     40.908040    -73.712990   7500.000000   \n\n       minimum_nights  number_of_reviews  reviews_per_month  \\\ncount    17053.000000       17053.000000       17053.000000   \nmean         2.239899          53.558142           2.359315   \nstd          1.154639          60.107302           1.929799   \nmin          1.000000           5.000000           0.050000   \n25%          1.000000          13.000000           0.910000   \n50%          2.000000          31.000000           1.960000   \n75%          3.000000          72.000000           3.310000   \nmax          5.000000         629.000000          58.500000   \n\n       calculated_host_listings_count  availability_365  \ncount                    17053.000000      17053.000000  \nmean                         4.742157        164.553216  \nstd                         28.526024        121.326041  \nmin                          1.000000          1.000000  \n25%                          1.000000         51.000000  \n50%                          1.000000        152.000000  \n75%                          2.000000        280.000000  \nmax                        327.000000        365.000000  "
     },
     "execution_count": 11,
     "metadata": {},
     "output_type": "execute_result"
    }
   ],
   "source": [
    "data4.describe()\n",
    "#I see a useless column (calculated host listings count), gonna drop it"
   ]
  },
  {
   "cell_type": "code",
   "execution_count": 12,
   "metadata": {},
   "outputs": [
    {
     "data": {
      "text/plain": "(17053, 15)"
     },
     "execution_count": 12,
     "metadata": {},
     "output_type": "execute_result"
    }
   ],
   "source": [
    "data5 = data4.drop('calculated_host_listings_count', 1)\n",
    "data5.shape"
   ]
  },
  {
   "cell_type": "code",
   "execution_count": 13,
   "metadata": {},
   "outputs": [
    {
     "data": {
      "text/html": "<div>\n<style scoped>\n    .dataframe tbody tr th:only-of-type {\n        vertical-align: middle;\n    }\n\n    .dataframe tbody tr th {\n        vertical-align: top;\n    }\n\n    .dataframe thead th {\n        text-align: right;\n    }\n</style>\n<table border=\"1\" class=\"dataframe\">\n  <thead>\n    <tr style=\"text-align: right;\">\n      <th></th>\n      <th>id</th>\n      <th>host_id</th>\n      <th>latitude</th>\n      <th>longitude</th>\n      <th>price</th>\n      <th>minimum_nights</th>\n      <th>number_of_reviews</th>\n      <th>reviews_per_month</th>\n      <th>availability_365</th>\n    </tr>\n  </thead>\n  <tbody>\n    <tr>\n      <th>count</th>\n      <td>1.705300e+04</td>\n      <td>1.705300e+04</td>\n      <td>17053.000000</td>\n      <td>17053.000000</td>\n      <td>17053.000000</td>\n      <td>17053.000000</td>\n      <td>17053.000000</td>\n      <td>17053.000000</td>\n      <td>17053.000000</td>\n    </tr>\n    <tr>\n      <th>mean</th>\n      <td>1.799615e+07</td>\n      <td>7.127990e+07</td>\n      <td>40.726015</td>\n      <td>-73.944722</td>\n      <td>141.562540</td>\n      <td>2.239899</td>\n      <td>53.558142</td>\n      <td>2.359315</td>\n      <td>164.553216</td>\n    </tr>\n    <tr>\n      <th>std</th>\n      <td>1.069758e+07</td>\n      <td>7.836666e+07</td>\n      <td>0.058036</td>\n      <td>0.053842</td>\n      <td>146.645934</td>\n      <td>1.154639</td>\n      <td>60.107302</td>\n      <td>1.929799</td>\n      <td>121.326041</td>\n    </tr>\n    <tr>\n      <th>min</th>\n      <td>2.539000e+03</td>\n      <td>2.787000e+03</td>\n      <td>40.508680</td>\n      <td>-74.239860</td>\n      <td>10.000000</td>\n      <td>1.000000</td>\n      <td>5.000000</td>\n      <td>0.050000</td>\n      <td>1.000000</td>\n    </tr>\n    <tr>\n      <th>25%</th>\n      <td>8.420870e+06</td>\n      <td>7.356757e+06</td>\n      <td>40.685560</td>\n      <td>-73.981190</td>\n      <td>69.000000</td>\n      <td>1.000000</td>\n      <td>13.000000</td>\n      <td>0.910000</td>\n      <td>51.000000</td>\n    </tr>\n    <tr>\n      <th>50%</th>\n      <td>1.922277e+07</td>\n      <td>3.508968e+07</td>\n      <td>40.719010</td>\n      <td>-73.950860</td>\n      <td>100.000000</td>\n      <td>2.000000</td>\n      <td>31.000000</td>\n      <td>1.960000</td>\n      <td>152.000000</td>\n    </tr>\n    <tr>\n      <th>75%</th>\n      <td>2.752115e+07</td>\n      <td>1.247430e+08</td>\n      <td>40.762760</td>\n      <td>-73.926190</td>\n      <td>170.000000</td>\n      <td>3.000000</td>\n      <td>72.000000</td>\n      <td>3.310000</td>\n      <td>280.000000</td>\n    </tr>\n    <tr>\n      <th>max</th>\n      <td>3.614532e+07</td>\n      <td>2.694991e+08</td>\n      <td>40.908040</td>\n      <td>-73.712990</td>\n      <td>7500.000000</td>\n      <td>5.000000</td>\n      <td>629.000000</td>\n      <td>58.500000</td>\n      <td>365.000000</td>\n    </tr>\n  </tbody>\n</table>\n</div>",
      "text/plain": "                 id       host_id      latitude     longitude         price  \\\ncount  1.705300e+04  1.705300e+04  17053.000000  17053.000000  17053.000000   \nmean   1.799615e+07  7.127990e+07     40.726015    -73.944722    141.562540   \nstd    1.069758e+07  7.836666e+07      0.058036      0.053842    146.645934   \nmin    2.539000e+03  2.787000e+03     40.508680    -74.239860     10.000000   \n25%    8.420870e+06  7.356757e+06     40.685560    -73.981190     69.000000   \n50%    1.922277e+07  3.508968e+07     40.719010    -73.950860    100.000000   \n75%    2.752115e+07  1.247430e+08     40.762760    -73.926190    170.000000   \nmax    3.614532e+07  2.694991e+08     40.908040    -73.712990   7500.000000   \n\n       minimum_nights  number_of_reviews  reviews_per_month  availability_365  \ncount    17053.000000       17053.000000       17053.000000      17053.000000  \nmean         2.239899          53.558142           2.359315        164.553216  \nstd          1.154639          60.107302           1.929799        121.326041  \nmin          1.000000           5.000000           0.050000          1.000000  \n25%          1.000000          13.000000           0.910000         51.000000  \n50%          2.000000          31.000000           1.960000        152.000000  \n75%          3.000000          72.000000           3.310000        280.000000  \nmax          5.000000         629.000000          58.500000        365.000000  "
     },
     "execution_count": 13,
     "metadata": {},
     "output_type": "execute_result"
    }
   ],
   "source": [
    "data5.describe()"
   ]
  },
  {
   "cell_type": "code",
   "execution_count": 14,
   "metadata": {},
   "outputs": [
    {
     "data": {
      "text/plain": "150     599\n100     573\n60      505\n75      488\n65      487\n       ... \n344       1\n323       1\n312       1\n403       1\n7500      1\nName: price, Length: 490, dtype: int64"
     },
     "execution_count": 14,
     "metadata": {},
     "output_type": "execute_result"
    }
   ],
   "source": [
    "#the max price of 7500 a night is not affordable, while the 3 quartile is only 170, so let's see what's there\n",
    "data5.price.value_counts()"
   ]
  },
  {
   "cell_type": "code",
   "execution_count": 15,
   "metadata": {},
   "outputs": [
    {
     "data": {
      "text/plain": "(16709, 15)"
     },
     "execution_count": 15,
     "metadata": {},
     "output_type": "execute_result"
    }
   ],
   "source": [
    "#alright, only one outlier, the second biggest price is actually 403, so I will remove prices above 500\n",
    "data6 = data5.loc[data5.price<500]\n",
    "data6.shape"
   ]
  },
  {
   "cell_type": "code",
   "execution_count": 16,
   "metadata": {},
   "outputs": [
    {
     "data": {
      "text/html": "<div>\n<style scoped>\n    .dataframe tbody tr th:only-of-type {\n        vertical-align: middle;\n    }\n\n    .dataframe tbody tr th {\n        vertical-align: top;\n    }\n\n    .dataframe thead th {\n        text-align: right;\n    }\n</style>\n<table border=\"1\" class=\"dataframe\">\n  <thead>\n    <tr style=\"text-align: right;\">\n      <th></th>\n      <th>id</th>\n      <th>host_id</th>\n      <th>latitude</th>\n      <th>longitude</th>\n      <th>price</th>\n      <th>minimum_nights</th>\n      <th>number_of_reviews</th>\n      <th>reviews_per_month</th>\n      <th>availability_365</th>\n    </tr>\n  </thead>\n  <tbody>\n    <tr>\n      <th>count</th>\n      <td>1.670900e+04</td>\n      <td>1.670900e+04</td>\n      <td>16709.000000</td>\n      <td>16709.000000</td>\n      <td>16709.000000</td>\n      <td>16709.000000</td>\n      <td>16709.000000</td>\n      <td>16709.000000</td>\n      <td>16709.000000</td>\n    </tr>\n    <tr>\n      <th>mean</th>\n      <td>1.800145e+07</td>\n      <td>7.104617e+07</td>\n      <td>40.725938</td>\n      <td>-73.944054</td>\n      <td>128.126399</td>\n      <td>2.231672</td>\n      <td>53.999402</td>\n      <td>2.372974</td>\n      <td>163.344545</td>\n    </tr>\n    <tr>\n      <th>std</th>\n      <td>1.068724e+07</td>\n      <td>7.816750e+07</td>\n      <td>0.058401</td>\n      <td>0.054005</td>\n      <td>83.736027</td>\n      <td>1.151505</td>\n      <td>60.350653</td>\n      <td>1.932600</td>\n      <td>121.231533</td>\n    </tr>\n    <tr>\n      <th>min</th>\n      <td>2.539000e+03</td>\n      <td>2.787000e+03</td>\n      <td>40.508680</td>\n      <td>-74.239860</td>\n      <td>10.000000</td>\n      <td>1.000000</td>\n      <td>5.000000</td>\n      <td>0.050000</td>\n      <td>1.000000</td>\n    </tr>\n    <tr>\n      <th>25%</th>\n      <td>8.444115e+06</td>\n      <td>7.365719e+06</td>\n      <td>40.685330</td>\n      <td>-73.980320</td>\n      <td>68.000000</td>\n      <td>1.000000</td>\n      <td>13.000000</td>\n      <td>0.920000</td>\n      <td>50.000000</td>\n    </tr>\n    <tr>\n      <th>50%</th>\n      <td>1.922742e+07</td>\n      <td>3.491534e+07</td>\n      <td>40.718540</td>\n      <td>-73.950180</td>\n      <td>100.000000</td>\n      <td>2.000000</td>\n      <td>32.000000</td>\n      <td>1.980000</td>\n      <td>149.000000</td>\n    </tr>\n    <tr>\n      <th>75%</th>\n      <td>2.751920e+07</td>\n      <td>1.239367e+08</td>\n      <td>40.762980</td>\n      <td>-73.925420</td>\n      <td>165.000000</td>\n      <td>3.000000</td>\n      <td>72.000000</td>\n      <td>3.320000</td>\n      <td>279.000000</td>\n    </tr>\n    <tr>\n      <th>max</th>\n      <td>3.614532e+07</td>\n      <td>2.694991e+08</td>\n      <td>40.908040</td>\n      <td>-73.712990</td>\n      <td>499.000000</td>\n      <td>5.000000</td>\n      <td>629.000000</td>\n      <td>58.500000</td>\n      <td>365.000000</td>\n    </tr>\n  </tbody>\n</table>\n</div>",
      "text/plain": "                 id       host_id      latitude     longitude         price  \\\ncount  1.670900e+04  1.670900e+04  16709.000000  16709.000000  16709.000000   \nmean   1.800145e+07  7.104617e+07     40.725938    -73.944054    128.126399   \nstd    1.068724e+07  7.816750e+07      0.058401      0.054005     83.736027   \nmin    2.539000e+03  2.787000e+03     40.508680    -74.239860     10.000000   \n25%    8.444115e+06  7.365719e+06     40.685330    -73.980320     68.000000   \n50%    1.922742e+07  3.491534e+07     40.718540    -73.950180    100.000000   \n75%    2.751920e+07  1.239367e+08     40.762980    -73.925420    165.000000   \nmax    3.614532e+07  2.694991e+08     40.908040    -73.712990    499.000000   \n\n       minimum_nights  number_of_reviews  reviews_per_month  availability_365  \ncount    16709.000000       16709.000000       16709.000000      16709.000000  \nmean         2.231672          53.999402           2.372974        163.344545  \nstd          1.151505          60.350653           1.932600        121.231533  \nmin          1.000000           5.000000           0.050000          1.000000  \n25%          1.000000          13.000000           0.920000         50.000000  \n50%          2.000000          32.000000           1.980000        149.000000  \n75%          3.000000          72.000000           3.320000        279.000000  \nmax          5.000000         629.000000          58.500000        365.000000  "
     },
     "execution_count": 16,
     "metadata": {},
     "output_type": "execute_result"
    }
   ],
   "source": [
    "data6.describe()"
   ]
  },
  {
   "cell_type": "code",
   "execution_count": 17,
   "metadata": {},
   "outputs": [
    {
     "data": {
      "text/plain": "(13777, 15)"
     },
     "execution_count": 17,
     "metadata": {},
     "output_type": "execute_result"
    }
   ],
   "source": [
    "#availability of one night a year is another outlier\n",
    "data7 = data6.loc[data6.availability_365>=30]\n",
    "data7.shape"
   ]
  },
  {
   "cell_type": "code",
   "execution_count": 18,
   "metadata": {},
   "outputs": [
    {
     "data": {
      "text/html": "<div>\n<style scoped>\n    .dataframe tbody tr th:only-of-type {\n        vertical-align: middle;\n    }\n\n    .dataframe tbody tr th {\n        vertical-align: top;\n    }\n\n    .dataframe thead th {\n        text-align: right;\n    }\n</style>\n<table border=\"1\" class=\"dataframe\">\n  <thead>\n    <tr style=\"text-align: right;\">\n      <th></th>\n      <th>id</th>\n      <th>host_id</th>\n      <th>latitude</th>\n      <th>longitude</th>\n      <th>price</th>\n      <th>minimum_nights</th>\n      <th>number_of_reviews</th>\n      <th>reviews_per_month</th>\n      <th>availability_365</th>\n    </tr>\n  </thead>\n  <tbody>\n    <tr>\n      <th>count</th>\n      <td>1.377700e+04</td>\n      <td>1.377700e+04</td>\n      <td>13777.000000</td>\n      <td>13777.000000</td>\n      <td>13777.000000</td>\n      <td>13777.000000</td>\n      <td>13777.000000</td>\n      <td>13777.000000</td>\n      <td>13777.000000</td>\n    </tr>\n    <tr>\n      <th>mean</th>\n      <td>1.772562e+07</td>\n      <td>7.386618e+07</td>\n      <td>40.725021</td>\n      <td>-73.941755</td>\n      <td>128.650940</td>\n      <td>2.186688</td>\n      <td>56.841693</td>\n      <td>2.435819</td>\n      <td>195.575307</td>\n    </tr>\n    <tr>\n      <th>std</th>\n      <td>1.082026e+07</td>\n      <td>7.940163e+07</td>\n      <td>0.059541</td>\n      <td>0.056316</td>\n      <td>85.268983</td>\n      <td>1.138552</td>\n      <td>62.155453</td>\n      <td>1.941719</td>\n      <td>109.040008</td>\n    </tr>\n    <tr>\n      <th>min</th>\n      <td>2.539000e+03</td>\n      <td>2.787000e+03</td>\n      <td>40.508680</td>\n      <td>-74.239860</td>\n      <td>10.000000</td>\n      <td>1.000000</td>\n      <td>5.000000</td>\n      <td>0.050000</td>\n      <td>30.000000</td>\n    </tr>\n    <tr>\n      <th>25%</th>\n      <td>7.914369e+06</td>\n      <td>7.858210e+06</td>\n      <td>40.684350</td>\n      <td>-73.979040</td>\n      <td>66.000000</td>\n      <td>1.000000</td>\n      <td>14.000000</td>\n      <td>0.980000</td>\n      <td>89.000000</td>\n    </tr>\n    <tr>\n      <th>50%</th>\n      <td>1.878795e+07</td>\n      <td>3.767894e+07</td>\n      <td>40.717600</td>\n      <td>-73.948640</td>\n      <td>100.000000</td>\n      <td>2.000000</td>\n      <td>34.000000</td>\n      <td>2.080000</td>\n      <td>188.000000</td>\n    </tr>\n    <tr>\n      <th>75%</th>\n      <td>2.745430e+07</td>\n      <td>1.309730e+08</td>\n      <td>40.762730</td>\n      <td>-73.922290</td>\n      <td>165.000000</td>\n      <td>3.000000</td>\n      <td>77.000000</td>\n      <td>3.380000</td>\n      <td>299.000000</td>\n    </tr>\n    <tr>\n      <th>max</th>\n      <td>3.614532e+07</td>\n      <td>2.694991e+08</td>\n      <td>40.908040</td>\n      <td>-73.712990</td>\n      <td>499.000000</td>\n      <td>5.000000</td>\n      <td>629.000000</td>\n      <td>58.500000</td>\n      <td>365.000000</td>\n    </tr>\n  </tbody>\n</table>\n</div>",
      "text/plain": "                 id       host_id      latitude     longitude         price  \\\ncount  1.377700e+04  1.377700e+04  13777.000000  13777.000000  13777.000000   \nmean   1.772562e+07  7.386618e+07     40.725021    -73.941755    128.650940   \nstd    1.082026e+07  7.940163e+07      0.059541      0.056316     85.268983   \nmin    2.539000e+03  2.787000e+03     40.508680    -74.239860     10.000000   \n25%    7.914369e+06  7.858210e+06     40.684350    -73.979040     66.000000   \n50%    1.878795e+07  3.767894e+07     40.717600    -73.948640    100.000000   \n75%    2.745430e+07  1.309730e+08     40.762730    -73.922290    165.000000   \nmax    3.614532e+07  2.694991e+08     40.908040    -73.712990    499.000000   \n\n       minimum_nights  number_of_reviews  reviews_per_month  availability_365  \ncount    13777.000000       13777.000000       13777.000000      13777.000000  \nmean         2.186688          56.841693           2.435819        195.575307  \nstd          1.138552          62.155453           1.941719        109.040008  \nmin          1.000000           5.000000           0.050000         30.000000  \n25%          1.000000          14.000000           0.980000         89.000000  \n50%          2.000000          34.000000           2.080000        188.000000  \n75%          3.000000          77.000000           3.380000        299.000000  \nmax          5.000000         629.000000          58.500000        365.000000  "
     },
     "execution_count": 18,
     "metadata": {},
     "output_type": "execute_result"
    }
   ],
   "source": [
    "data7.describe()"
   ]
  },
  {
   "cell_type": "code",
   "execution_count": 19,
   "metadata": {},
   "outputs": [
    {
     "data": {
      "text/plain": "(10298, 15)"
     },
     "execution_count": 19,
     "metadata": {},
     "output_type": "execute_result"
    }
   ],
   "source": [
    "#let's make sure the listings are having at least one review a month to have more consistency\n",
    "data8 = data7.loc[data7.reviews_per_month>=1]\n",
    "data8.shape"
   ]
  },
  {
   "cell_type": "code",
   "execution_count": 20,
   "metadata": {},
   "outputs": [
    {
     "data": {
      "text/html": "<div>\n<style scoped>\n    .dataframe tbody tr th:only-of-type {\n        vertical-align: middle;\n    }\n\n    .dataframe tbody tr th {\n        vertical-align: top;\n    }\n\n    .dataframe thead th {\n        text-align: right;\n    }\n</style>\n<table border=\"1\" class=\"dataframe\">\n  <thead>\n    <tr style=\"text-align: right;\">\n      <th></th>\n      <th>id</th>\n      <th>host_id</th>\n      <th>latitude</th>\n      <th>longitude</th>\n      <th>price</th>\n      <th>minimum_nights</th>\n      <th>number_of_reviews</th>\n      <th>reviews_per_month</th>\n      <th>availability_365</th>\n    </tr>\n  </thead>\n  <tbody>\n    <tr>\n      <th>count</th>\n      <td>1.029800e+04</td>\n      <td>1.029800e+04</td>\n      <td>10298.000000</td>\n      <td>10298.000000</td>\n      <td>10298.000000</td>\n      <td>10298.000000</td>\n      <td>10298.000000</td>\n      <td>10298.000000</td>\n      <td>10298.000000</td>\n    </tr>\n    <tr>\n      <th>mean</th>\n      <td>1.973974e+07</td>\n      <td>8.519805e+07</td>\n      <td>40.725022</td>\n      <td>-73.940392</td>\n      <td>127.362498</td>\n      <td>2.073315</td>\n      <td>68.998252</td>\n      <td>3.074240</td>\n      <td>190.988153</td>\n    </tr>\n    <tr>\n      <th>std</th>\n      <td>1.053618e+07</td>\n      <td>8.308823e+07</td>\n      <td>0.059246</td>\n      <td>0.057107</td>\n      <td>84.234826</td>\n      <td>1.074285</td>\n      <td>67.000182</td>\n      <td>1.845935</td>\n      <td>106.689604</td>\n    </tr>\n    <tr>\n      <th>min</th>\n      <td>3.831000e+03</td>\n      <td>2.881000e+03</td>\n      <td>40.508730</td>\n      <td>-74.239140</td>\n      <td>10.000000</td>\n      <td>1.000000</td>\n      <td>5.000000</td>\n      <td>1.000000</td>\n      <td>30.000000</td>\n    </tr>\n    <tr>\n      <th>25%</th>\n      <td>1.135373e+07</td>\n      <td>1.085298e+07</td>\n      <td>40.684275</td>\n      <td>-73.979320</td>\n      <td>65.000000</td>\n      <td>1.000000</td>\n      <td>20.000000</td>\n      <td>1.790000</td>\n      <td>87.000000</td>\n    </tr>\n    <tr>\n      <th>50%</th>\n      <td>2.130985e+07</td>\n      <td>5.068872e+07</td>\n      <td>40.717200</td>\n      <td>-73.947755</td>\n      <td>100.000000</td>\n      <td>2.000000</td>\n      <td>48.000000</td>\n      <td>2.680000</td>\n      <td>180.000000</td>\n    </tr>\n    <tr>\n      <th>75%</th>\n      <td>2.913264e+07</td>\n      <td>1.534053e+08</td>\n      <td>40.762510</td>\n      <td>-73.920320</td>\n      <td>163.750000</td>\n      <td>3.000000</td>\n      <td>95.750000</td>\n      <td>3.850000</td>\n      <td>289.000000</td>\n    </tr>\n    <tr>\n      <th>max</th>\n      <td>3.614532e+07</td>\n      <td>2.694991e+08</td>\n      <td>40.908040</td>\n      <td>-73.721790</td>\n      <td>499.000000</td>\n      <td>5.000000</td>\n      <td>629.000000</td>\n      <td>58.500000</td>\n      <td>365.000000</td>\n    </tr>\n  </tbody>\n</table>\n</div>",
      "text/plain": "                 id       host_id      latitude     longitude         price  \\\ncount  1.029800e+04  1.029800e+04  10298.000000  10298.000000  10298.000000   \nmean   1.973974e+07  8.519805e+07     40.725022    -73.940392    127.362498   \nstd    1.053618e+07  8.308823e+07      0.059246      0.057107     84.234826   \nmin    3.831000e+03  2.881000e+03     40.508730    -74.239140     10.000000   \n25%    1.135373e+07  1.085298e+07     40.684275    -73.979320     65.000000   \n50%    2.130985e+07  5.068872e+07     40.717200    -73.947755    100.000000   \n75%    2.913264e+07  1.534053e+08     40.762510    -73.920320    163.750000   \nmax    3.614532e+07  2.694991e+08     40.908040    -73.721790    499.000000   \n\n       minimum_nights  number_of_reviews  reviews_per_month  availability_365  \ncount    10298.000000       10298.000000       10298.000000      10298.000000  \nmean         2.073315          68.998252           3.074240        190.988153  \nstd          1.074285          67.000182           1.845935        106.689604  \nmin          1.000000           5.000000           1.000000         30.000000  \n25%          1.000000          20.000000           1.790000         87.000000  \n50%          2.000000          48.000000           2.680000        180.000000  \n75%          3.000000          95.750000           3.850000        289.000000  \nmax          5.000000         629.000000          58.500000        365.000000  "
     },
     "execution_count": 20,
     "metadata": {},
     "output_type": "execute_result"
    }
   ],
   "source": [
    "data8.describe()"
   ]
  },
  {
   "cell_type": "code",
   "execution_count": 21,
   "metadata": {},
   "outputs": [],
   "source": [
    "data8.to_csv('AB_NYC_2019_clean.csv', encoding='utf-8', index=False)"
   ]
  },
  {
   "cell_type": "code",
   "execution_count": null,
   "metadata": {},
   "outputs": [],
   "source": [
    "#exporting the clean data to csv, so I can work with it in tableau!"
   ]
  }
 ],
 "metadata": {
  "kernelspec": {
   "display_name": "Python 3",
   "language": "python",
   "name": "python3"
  },
  "language_info": {
   "codemirror_mode": {
    "name": "ipython",
    "version": 3
   },
   "file_extension": ".py",
   "mimetype": "text/x-python",
   "name": "python",
   "nbconvert_exporter": "python",
   "pygments_lexer": "ipython3",
   "version": "3.7.5-final"
  }
 },
 "nbformat": 4,
 "nbformat_minor": 4
}