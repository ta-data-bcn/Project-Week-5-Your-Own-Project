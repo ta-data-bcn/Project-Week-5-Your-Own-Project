{
 "cells": [
  {
   "cell_type": "markdown",
   "metadata": {},
   "source": [
    "# Spanish Electricity Market Analysis: Part 1/2"
   ]
  },
  {
   "cell_type": "markdown",
   "metadata": {},
   "source": [
    "The first part of the project is to currently get the data from the specified source and analyse the quality of it. \n",
    "In this case, we are retrieving data from Red Eléctrica de España (REE), the Spanish Transmission System Operator, responsible to maintain the grid frequency at 50Hz and to balance consumption and demand sides at every time. "
   ]
  },
  {
   "cell_type": "markdown",
   "metadata": {},
   "source": [
    "## Part 1. Dataset import and data cleaning → export to SQL"
   ]
  },
  {
   "cell_type": "markdown",
   "metadata": {},
   "source": [
    "### 1.1. Libraries import"
   ]
  },
  {
   "cell_type": "code",
   "execution_count": 25,
   "metadata": {},
   "outputs": [],
   "source": [
    "import pandas as pd\n",
    "import os\n",
    "from sqlalchemy import create_engine\n",
    "import datetime\n",
    "\n",
    "sns.set()"
   ]
  },
  {
   "cell_type": "markdown",
   "metadata": {},
   "source": [
    "### 1.2. Reading .csv file for REE Spanish Electricity Market Data"
   ]
  },
  {
   "cell_type": "code",
   "execution_count": 26,
   "metadata": {},
   "outputs": [
    {
     "data": {
      "text/plain": [
       "'/home/ingrid/Documents/DA_Ironhack/Week5/Project-Week-5-Your-Own-Project/your-project'"
      ]
     },
     "execution_count": 26,
     "metadata": {},
     "output_type": "execute_result"
    }
   ],
   "source": [
    "os.getcwd() #we get the current working directory "
   ]
  },
  {
   "cell_type": "code",
   "execution_count": 27,
   "metadata": {},
   "outputs": [],
   "source": [
    "raw_data = pd.read_csv('datasets/spain_energy_market.csv') #reading the csv file with the aggregated data from 2014-2018. "
   ]
  },
  {
   "cell_type": "code",
   "execution_count": 28,
   "metadata": {
    "scrolled": true
   },
   "outputs": [
    {
     "data": {
      "text/html": [
       "<div>\n",
       "<style scoped>\n",
       "    .dataframe tbody tr th:only-of-type {\n",
       "        vertical-align: middle;\n",
       "    }\n",
       "\n",
       "    .dataframe tbody tr th {\n",
       "        vertical-align: top;\n",
       "    }\n",
       "\n",
       "    .dataframe thead th {\n",
       "        text-align: right;\n",
       "    }\n",
       "</style>\n",
       "<table border=\"1\" class=\"dataframe\">\n",
       "  <thead>\n",
       "    <tr style=\"text-align: right;\">\n",
       "      <th></th>\n",
       "      <th>datetime</th>\n",
       "      <th>id</th>\n",
       "      <th>name</th>\n",
       "      <th>geoid</th>\n",
       "      <th>geoname</th>\n",
       "      <th>value</th>\n",
       "    </tr>\n",
       "  </thead>\n",
       "  <tbody>\n",
       "    <tr>\n",
       "      <th>0</th>\n",
       "      <td>2014-01-01 23:00:00</td>\n",
       "      <td>600</td>\n",
       "      <td>Precio mercado SPOT Diario ESP</td>\n",
       "      <td>3.0</td>\n",
       "      <td>España</td>\n",
       "      <td>25.280833</td>\n",
       "    </tr>\n",
       "    <tr>\n",
       "      <th>1</th>\n",
       "      <td>2014-01-02 23:00:00</td>\n",
       "      <td>600</td>\n",
       "      <td>Precio mercado SPOT Diario ESP</td>\n",
       "      <td>3.0</td>\n",
       "      <td>España</td>\n",
       "      <td>39.924167</td>\n",
       "    </tr>\n",
       "    <tr>\n",
       "      <th>2</th>\n",
       "      <td>2014-01-03 23:00:00</td>\n",
       "      <td>600</td>\n",
       "      <td>Precio mercado SPOT Diario ESP</td>\n",
       "      <td>3.0</td>\n",
       "      <td>España</td>\n",
       "      <td>4.992083</td>\n",
       "    </tr>\n",
       "    <tr>\n",
       "      <th>3</th>\n",
       "      <td>2014-01-04 23:00:00</td>\n",
       "      <td>600</td>\n",
       "      <td>Precio mercado SPOT Diario ESP</td>\n",
       "      <td>3.0</td>\n",
       "      <td>España</td>\n",
       "      <td>4.091667</td>\n",
       "    </tr>\n",
       "    <tr>\n",
       "      <th>4</th>\n",
       "      <td>2014-01-05 23:00:00</td>\n",
       "      <td>600</td>\n",
       "      <td>Precio mercado SPOT Diario ESP</td>\n",
       "      <td>3.0</td>\n",
       "      <td>España</td>\n",
       "      <td>13.587500</td>\n",
       "    </tr>\n",
       "  </tbody>\n",
       "</table>\n",
       "</div>"
      ],
      "text/plain": [
       "              datetime   id                            name  geoid geoname  \\\n",
       "0  2014-01-01 23:00:00  600  Precio mercado SPOT Diario ESP    3.0  España   \n",
       "1  2014-01-02 23:00:00  600  Precio mercado SPOT Diario ESP    3.0  España   \n",
       "2  2014-01-03 23:00:00  600  Precio mercado SPOT Diario ESP    3.0  España   \n",
       "3  2014-01-04 23:00:00  600  Precio mercado SPOT Diario ESP    3.0  España   \n",
       "4  2014-01-05 23:00:00  600  Precio mercado SPOT Diario ESP    3.0  España   \n",
       "\n",
       "       value  \n",
       "0  25.280833  \n",
       "1  39.924167  \n",
       "2   4.992083  \n",
       "3   4.091667  \n",
       "4  13.587500  "
      ]
     },
     "execution_count": 28,
     "metadata": {},
     "output_type": "execute_result"
    }
   ],
   "source": [
    "raw_data.head()"
   ]
  },
  {
   "cell_type": "code",
   "execution_count": 29,
   "metadata": {},
   "outputs": [
    {
     "data": {
      "text/plain": [
       "(40212, 6)"
      ]
     },
     "execution_count": 29,
     "metadata": {},
     "output_type": "execute_result"
    }
   ],
   "source": [
    "raw_data.shape #how many rows and columns this df has "
   ]
  },
  {
   "cell_type": "code",
   "execution_count": 30,
   "metadata": {},
   "outputs": [
    {
     "data": {
      "text/plain": [
       "datetime     object\n",
       "id            int64\n",
       "name         object\n",
       "geoid       float64\n",
       "geoname      object\n",
       "value       float64\n",
       "dtype: object"
      ]
     },
     "execution_count": 30,
     "metadata": {},
     "output_type": "execute_result"
    }
   ],
   "source": [
    "raw_data.dtypes #checking the types of the dataframe. "
   ]
  },
  {
   "cell_type": "code",
   "execution_count": 31,
   "metadata": {},
   "outputs": [],
   "source": [
    "raw_data.datetime = pd.to_datetime(raw_data['datetime']) #since the column datetime is imported as an string"
   ]
  },
  {
   "cell_type": "code",
   "execution_count": 32,
   "metadata": {},
   "outputs": [
    {
     "data": {
      "text/plain": [
       "datetime    datetime64[ns]\n",
       "id                   int64\n",
       "name                object\n",
       "geoid              float64\n",
       "geoname             object\n",
       "value              float64\n",
       "dtype: object"
      ]
     },
     "execution_count": 32,
     "metadata": {},
     "output_type": "execute_result"
    }
   ],
   "source": [
    "raw_data.dtypes"
   ]
  },
  {
   "cell_type": "code",
   "execution_count": 33,
   "metadata": {
    "scrolled": true
   },
   "outputs": [
    {
     "data": {
      "text/plain": [
       "array(['Precio mercado SPOT Diario ESP', 'Precio mercado SPOT Diario FRA',\n",
       "       'Precio mercado SPOT Diario POR',\n",
       "       'Energía asignada en Mercado SPOT Diario España',\n",
       "       'Energía asignada en Mercado SPOT Diario Francia', nan,\n",
       "       'Rentas de congestión mecanismos implícitos diario Francia exportación',\n",
       "       'Rentas de congestión mecanismos implícitos diario Portugal exportación',\n",
       "       'Rentas de congestión mecanismos implícitos diario Francia importación',\n",
       "       'Rentas de congestión mecanismos implícitos diario Portugal importación',\n",
       "       'Demanda real', 'Demanda programada PBF total',\n",
       "       'Generación programada PBF total',\n",
       "       'Generación programada PBF Eólica',\n",
       "       'Generación programada PBF Ciclo combinado',\n",
       "       'Generación programada PBF Carbón',\n",
       "       'Generación programada PBF Nuclear',\n",
       "       'Generación programada PBF Gas Natural Cogeneración',\n",
       "       'Generación programada PBF UGH + no UGH',\n",
       "       'Generación programada PBF Solar fotovoltaica',\n",
       "       'Generación programada PBF Turbinación bombeo'], dtype=object)"
      ]
     },
     "execution_count": 33,
     "metadata": {},
     "output_type": "execute_result"
    }
   ],
   "source": [
    "raw_data.name.unique()"
   ]
  },
  {
   "cell_type": "markdown",
   "metadata": {},
   "source": [
    "From the names above we can see that the dataset has mixed information. In this table we can found information from different sources: \n",
    "\n",
    "- Spot or DAM Market price, for Spain, France and Portugal (Iberian Electricity market system)\n",
    "- Congestion mechanisms for imbalances based on interconnections with France and Portugal \n",
    "- Real electricity demand. \n",
    "- Scheduled program generation. (Baseline → Programa Base Funcionamiento)\n",
    "- Scheduled generation per technology. \n",
    "\n",
    "Hence, we should split the entire tables into subtables to be able to perform the data analysis based on our objectives. "
   ]
  },
  {
   "cell_type": "markdown",
   "metadata": {},
   "source": [
    "### 1.3. Total scheduled electricity demand (Per day)"
   ]
  },
  {
   "cell_type": "code",
   "execution_count": 34,
   "metadata": {},
   "outputs": [],
   "source": [
    "PBF_total_df = raw_data[raw_data.name == 'Generación programada PBF total']"
   ]
  },
  {
   "cell_type": "code",
   "execution_count": 35,
   "metadata": {},
   "outputs": [
    {
     "data": {
      "text/html": [
       "<div>\n",
       "<style scoped>\n",
       "    .dataframe tbody tr th:only-of-type {\n",
       "        vertical-align: middle;\n",
       "    }\n",
       "\n",
       "    .dataframe tbody tr th {\n",
       "        vertical-align: top;\n",
       "    }\n",
       "\n",
       "    .dataframe thead th {\n",
       "        text-align: right;\n",
       "    }\n",
       "</style>\n",
       "<table border=\"1\" class=\"dataframe\">\n",
       "  <thead>\n",
       "    <tr style=\"text-align: right;\">\n",
       "      <th></th>\n",
       "      <th>datetime</th>\n",
       "      <th>id</th>\n",
       "      <th>name</th>\n",
       "      <th>geoid</th>\n",
       "      <th>geoname</th>\n",
       "      <th>value</th>\n",
       "    </tr>\n",
       "  </thead>\n",
       "  <tbody>\n",
       "    <tr>\n",
       "      <th>23819</th>\n",
       "      <td>2014-01-01 23:00:00</td>\n",
       "      <td>10258</td>\n",
       "      <td>Generación programada PBF total</td>\n",
       "      <td>NaN</td>\n",
       "      <td>NaN</td>\n",
       "      <td>642771.8</td>\n",
       "    </tr>\n",
       "    <tr>\n",
       "      <th>23820</th>\n",
       "      <td>2014-01-02 23:00:00</td>\n",
       "      <td>10258</td>\n",
       "      <td>Generación programada PBF total</td>\n",
       "      <td>NaN</td>\n",
       "      <td>NaN</td>\n",
       "      <td>658078.5</td>\n",
       "    </tr>\n",
       "    <tr>\n",
       "      <th>23821</th>\n",
       "      <td>2014-01-03 23:00:00</td>\n",
       "      <td>10258</td>\n",
       "      <td>Generación programada PBF total</td>\n",
       "      <td>NaN</td>\n",
       "      <td>NaN</td>\n",
       "      <td>680564.6</td>\n",
       "    </tr>\n",
       "    <tr>\n",
       "      <th>23822</th>\n",
       "      <td>2014-01-04 23:00:00</td>\n",
       "      <td>10258</td>\n",
       "      <td>Generación programada PBF total</td>\n",
       "      <td>NaN</td>\n",
       "      <td>NaN</td>\n",
       "      <td>644494.7</td>\n",
       "    </tr>\n",
       "    <tr>\n",
       "      <th>23823</th>\n",
       "      <td>2014-01-05 23:00:00</td>\n",
       "      <td>10258</td>\n",
       "      <td>Generación programada PBF total</td>\n",
       "      <td>NaN</td>\n",
       "      <td>NaN</td>\n",
       "      <td>598661.4</td>\n",
       "    </tr>\n",
       "  </tbody>\n",
       "</table>\n",
       "</div>"
      ],
      "text/plain": [
       "                 datetime     id                             name  geoid  \\\n",
       "23819 2014-01-01 23:00:00  10258  Generación programada PBF total    NaN   \n",
       "23820 2014-01-02 23:00:00  10258  Generación programada PBF total    NaN   \n",
       "23821 2014-01-03 23:00:00  10258  Generación programada PBF total    NaN   \n",
       "23822 2014-01-04 23:00:00  10258  Generación programada PBF total    NaN   \n",
       "23823 2014-01-05 23:00:00  10258  Generación programada PBF total    NaN   \n",
       "\n",
       "      geoname     value  \n",
       "23819     NaN  642771.8  \n",
       "23820     NaN  658078.5  \n",
       "23821     NaN  680564.6  \n",
       "23822     NaN  644494.7  \n",
       "23823     NaN  598661.4  "
      ]
     },
     "execution_count": 35,
     "metadata": {},
     "output_type": "execute_result"
    }
   ],
   "source": [
    "PBF_total_df.head()"
   ]
  },
  {
   "cell_type": "markdown",
   "metadata": {},
   "source": [
    "From this dataframe we can see that, since we are working with the *total* scheduled electricity for Spain  on that day, there is no need for the geoid, geoname, name and id columns. Also, we will reset the index. "
   ]
  },
  {
   "cell_type": "code",
   "execution_count": 40,
   "metadata": {},
   "outputs": [],
   "source": [
    "PBF_total_df = PBF_total_df[['datetime','value']].reset_index(drop=True)\n",
    "PBF_total_df[\"date\"] = PBF_total_df[\"datetime\"].dt.date\n",
    "\n",
    "PBF_total_df.drop('datetime', axis=1, inplace=True)\n",
    "PBF_total_df.set_index('date', inplace=True)\n"
   ]
  },
  {
   "cell_type": "code",
   "execution_count": 41,
   "metadata": {},
   "outputs": [
    {
     "data": {
      "text/html": [
       "<div>\n",
       "<style scoped>\n",
       "    .dataframe tbody tr th:only-of-type {\n",
       "        vertical-align: middle;\n",
       "    }\n",
       "\n",
       "    .dataframe tbody tr th {\n",
       "        vertical-align: top;\n",
       "    }\n",
       "\n",
       "    .dataframe thead th {\n",
       "        text-align: right;\n",
       "    }\n",
       "</style>\n",
       "<table border=\"1\" class=\"dataframe\">\n",
       "  <thead>\n",
       "    <tr style=\"text-align: right;\">\n",
       "      <th></th>\n",
       "      <th>value</th>\n",
       "    </tr>\n",
       "    <tr>\n",
       "      <th>date</th>\n",
       "      <th></th>\n",
       "    </tr>\n",
       "  </thead>\n",
       "  <tbody>\n",
       "    <tr>\n",
       "      <th>2014-01-01</th>\n",
       "      <td>642771.8</td>\n",
       "    </tr>\n",
       "    <tr>\n",
       "      <th>2014-01-02</th>\n",
       "      <td>658078.5</td>\n",
       "    </tr>\n",
       "    <tr>\n",
       "      <th>2014-01-03</th>\n",
       "      <td>680564.6</td>\n",
       "    </tr>\n",
       "    <tr>\n",
       "      <th>2014-01-04</th>\n",
       "      <td>644494.7</td>\n",
       "    </tr>\n",
       "    <tr>\n",
       "      <th>2014-01-05</th>\n",
       "      <td>598661.4</td>\n",
       "    </tr>\n",
       "  </tbody>\n",
       "</table>\n",
       "</div>"
      ],
      "text/plain": [
       "               value\n",
       "date                \n",
       "2014-01-01  642771.8\n",
       "2014-01-02  658078.5\n",
       "2014-01-03  680564.6\n",
       "2014-01-04  644494.7\n",
       "2014-01-05  598661.4"
      ]
     },
     "execution_count": 41,
     "metadata": {},
     "output_type": "execute_result"
    }
   ],
   "source": [
    "PBF_total_df.head()"
   ]
  },
  {
   "cell_type": "markdown",
   "metadata": {},
   "source": [
    "With this table we have the total energy demand scheduled for the day after it is calculated. We can export this table to SQL. "
   ]
  },
  {
   "cell_type": "code",
   "execution_count": 18,
   "metadata": {},
   "outputs": [],
   "source": [
    "# Workbench Databench \n",
    "driver = 'mysql+pymysql'\n",
    "user = 'root'\n",
    "password = 'iMc91linux'\n",
    "ip = 'localhost'\n",
    "database = 'REE_analysis'\n",
    "\n",
    "\n",
    "# connection_string to connect to Workbench Database \n",
    "connection_string = f'{driver}://{user}:{password}@{ip}/{database}'\n",
    "\n",
    "    \n",
    "# Engine creation \n",
    "engine = create_engine(connection_string)"
   ]
  },
  {
   "cell_type": "code",
   "execution_count": null,
   "metadata": {},
   "outputs": [],
   "source": [
    "\n",
    "#uploading PBF REE data into mySQL Database \n",
    "PBF_total_df.to_sql('PBF_total', engine)"
   ]
  },
  {
   "cell_type": "code",
   "execution_count": 126,
   "metadata": {},
   "outputs": [],
   "source": [
    "PBF_total_df.to_csv('cleaned_data/PBF_total_df.csv')"
   ]
  },
  {
   "cell_type": "markdown",
   "metadata": {},
   "source": [
    "### 1.3. importing geolocation tables"
   ]
  },
  {
   "cell_type": "code",
   "execution_count": 9,
   "metadata": {},
   "outputs": [],
   "source": [
    "geo_id = pd.read_excel('datasets/geolocalizaciones.xlsx')"
   ]
  },
  {
   "cell_type": "code",
   "execution_count": 10,
   "metadata": {
    "scrolled": true
   },
   "outputs": [
    {
     "data": {
      "text/html": [
       "<div>\n",
       "<style scoped>\n",
       "    .dataframe tbody tr th:only-of-type {\n",
       "        vertical-align: middle;\n",
       "    }\n",
       "\n",
       "    .dataframe tbody tr th {\n",
       "        vertical-align: top;\n",
       "    }\n",
       "\n",
       "    .dataframe thead th {\n",
       "        text-align: right;\n",
       "    }\n",
       "</style>\n",
       "<table border=\"1\" class=\"dataframe\">\n",
       "  <thead>\n",
       "    <tr style=\"text-align: right;\">\n",
       "      <th></th>\n",
       "      <th>GEO_ID</th>\n",
       "      <th>NIVEL</th>\n",
       "      <th>NAME</th>\n",
       "    </tr>\n",
       "  </thead>\n",
       "  <tbody>\n",
       "    <tr>\n",
       "      <th>0</th>\n",
       "      <td>1</td>\n",
       "      <td>0</td>\n",
       "      <td>Portugal</td>\n",
       "    </tr>\n",
       "    <tr>\n",
       "      <th>1</th>\n",
       "      <td>2</td>\n",
       "      <td>0</td>\n",
       "      <td>Francia</td>\n",
       "    </tr>\n",
       "    <tr>\n",
       "      <th>2</th>\n",
       "      <td>3</td>\n",
       "      <td>0</td>\n",
       "      <td>España</td>\n",
       "    </tr>\n",
       "    <tr>\n",
       "      <th>3</th>\n",
       "      <td>8739</td>\n",
       "      <td>0</td>\n",
       "      <td>Andorra</td>\n",
       "    </tr>\n",
       "    <tr>\n",
       "      <th>4</th>\n",
       "      <td>8740</td>\n",
       "      <td>0</td>\n",
       "      <td>Marruecos</td>\n",
       "    </tr>\n",
       "  </tbody>\n",
       "</table>\n",
       "</div>"
      ],
      "text/plain": [
       "   GEO_ID  NIVEL       NAME\n",
       "0       1      0   Portugal\n",
       "1       2      0    Francia\n",
       "2       3      0     España\n",
       "3    8739      0    Andorra\n",
       "4    8740      0  Marruecos"
      ]
     },
     "execution_count": 10,
     "metadata": {},
     "output_type": "execute_result"
    }
   ],
   "source": [
    "geo_id.head()"
   ]
  },
  {
   "cell_type": "code",
   "execution_count": 42,
   "metadata": {},
   "outputs": [],
   "source": [
    "geo_id.set_index('GEO_ID', inplace=True)"
   ]
  },
  {
   "cell_type": "code",
   "execution_count": 47,
   "metadata": {},
   "outputs": [
    {
     "data": {
      "text/html": [
       "<div>\n",
       "<style scoped>\n",
       "    .dataframe tbody tr th:only-of-type {\n",
       "        vertical-align: middle;\n",
       "    }\n",
       "\n",
       "    .dataframe tbody tr th {\n",
       "        vertical-align: top;\n",
       "    }\n",
       "\n",
       "    .dataframe thead th {\n",
       "        text-align: right;\n",
       "    }\n",
       "</style>\n",
       "<table border=\"1\" class=\"dataframe\">\n",
       "  <thead>\n",
       "    <tr style=\"text-align: right;\">\n",
       "      <th></th>\n",
       "      <th>NIVEL</th>\n",
       "      <th>NAME</th>\n",
       "    </tr>\n",
       "    <tr>\n",
       "      <th>GEO_ID</th>\n",
       "      <th></th>\n",
       "      <th></th>\n",
       "    </tr>\n",
       "  </thead>\n",
       "  <tbody>\n",
       "    <tr>\n",
       "      <th>1</th>\n",
       "      <td>0</td>\n",
       "      <td>Portugal</td>\n",
       "    </tr>\n",
       "    <tr>\n",
       "      <th>2</th>\n",
       "      <td>0</td>\n",
       "      <td>Francia</td>\n",
       "    </tr>\n",
       "    <tr>\n",
       "      <th>3</th>\n",
       "      <td>0</td>\n",
       "      <td>España</td>\n",
       "    </tr>\n",
       "    <tr>\n",
       "      <th>8739</th>\n",
       "      <td>0</td>\n",
       "      <td>Andorra</td>\n",
       "    </tr>\n",
       "    <tr>\n",
       "      <th>8740</th>\n",
       "      <td>0</td>\n",
       "      <td>Marruecos</td>\n",
       "    </tr>\n",
       "  </tbody>\n",
       "</table>\n",
       "</div>"
      ],
      "text/plain": [
       "        NIVEL       NAME\n",
       "GEO_ID                  \n",
       "1           0   Portugal\n",
       "2           0    Francia\n",
       "3           0     España\n",
       "8739        0    Andorra\n",
       "8740        0  Marruecos"
      ]
     },
     "execution_count": 47,
     "metadata": {},
     "output_type": "execute_result"
    }
   ],
   "source": [
    "geo_id.head()"
   ]
  },
  {
   "cell_type": "markdown",
   "metadata": {},
   "source": [
    "As we can see above, the dataset contains a geographic id that explains us which generation unit has been turned on to produce the expected electricity for the time period $t_i$. This table contains three columns that contain the following information: \n",
    "\n",
    "- *GEO_ID*: the unique indicator id for each location \n",
    "- *NIVEL*: Nivel stands for the level of each location. It is an integer that can go from 0 to 5 and it is referred to: \n",
    "    - 0: Country \n",
    "    - 1: Areas in Spain (Peninsula, Canary Islands, Melilla, Ceuta, Balearic Area, Melilla)\n",
    "    - 2: Autonomous communities \n",
    "    - 3: Provinces\n",
    "    - 4: Province capital \n",
    "    - 5: Municipalty\n",
    "    - 6: Hydrological basin\n",
    "- *NAME*: name of the specific geo_id indicator. Location\n"
   ]
  },
  {
   "cell_type": "code",
   "execution_count": 19,
   "metadata": {},
   "outputs": [],
   "source": [
    "geo_id.to_sql('GEO_id', engine)"
   ]
  },
  {
   "cell_type": "code",
   "execution_count": 127,
   "metadata": {},
   "outputs": [],
   "source": [
    "geo_id.to_csv('cleaned_data/geo_id.csv')"
   ]
  },
  {
   "cell_type": "markdown",
   "metadata": {},
   "source": [
    "### 1.5. Electricity generation per source-"
   ]
  },
  {
   "cell_type": "code",
   "execution_count": 96,
   "metadata": {},
   "outputs": [],
   "source": [
    "## variables we want in our dataset\n",
    "columns= ['Generación programada PBF Eólica', 'Generación programada PBF Ciclo combinado',\n",
    "       'Generación programada PBF Carbón', 'Generación programada PBF Nuclear', 'Generación programada PBF Gas Natural Cogeneración',\n",
    "       'Generación programada PBF UGH + no UGH', 'Generación programada PBF Solar fotovoltaica', 'Generación programada PBF Turbinación bombeo']"
   ]
  },
  {
   "cell_type": "code",
   "execution_count": 97,
   "metadata": {},
   "outputs": [],
   "source": [
    "gen_source_df = raw_data.loc[raw_data['name'].isin(columns)]"
   ]
  },
  {
   "cell_type": "code",
   "execution_count": 98,
   "metadata": {},
   "outputs": [
    {
     "name": "stderr",
     "output_type": "stream",
     "text": [
      "/home/linuxbrew/.linuxbrew/opt/python/lib/python3.7/site-packages/pandas/core/frame.py:3940: SettingWithCopyWarning: \n",
      "A value is trying to be set on a copy of a slice from a DataFrame\n",
      "\n",
      "See the caveats in the documentation: http://pandas.pydata.org/pandas-docs/stable/indexing.html#indexing-view-versus-copy\n",
      "  errors=errors)\n"
     ]
    }
   ],
   "source": [
    "gen_source_df.drop(['id', 'geoid','geoname'], axis=1, inplace=True)"
   ]
  },
  {
   "cell_type": "code",
   "execution_count": 99,
   "metadata": {},
   "outputs": [
    {
     "data": {
      "text/html": [
       "<div>\n",
       "<style scoped>\n",
       "    .dataframe tbody tr th:only-of-type {\n",
       "        vertical-align: middle;\n",
       "    }\n",
       "\n",
       "    .dataframe tbody tr th {\n",
       "        vertical-align: top;\n",
       "    }\n",
       "\n",
       "    .dataframe thead th {\n",
       "        text-align: right;\n",
       "    }\n",
       "</style>\n",
       "<table border=\"1\" class=\"dataframe\">\n",
       "  <thead>\n",
       "    <tr style=\"text-align: right;\">\n",
       "      <th></th>\n",
       "      <th>datetime</th>\n",
       "      <th>name</th>\n",
       "      <th>value</th>\n",
       "    </tr>\n",
       "  </thead>\n",
       "  <tbody>\n",
       "    <tr>\n",
       "      <th>25644</th>\n",
       "      <td>2014-01-01 23:00:00</td>\n",
       "      <td>Generación programada PBF Eólica</td>\n",
       "      <td>277443.9</td>\n",
       "    </tr>\n",
       "    <tr>\n",
       "      <th>25645</th>\n",
       "      <td>2014-01-02 23:00:00</td>\n",
       "      <td>Generación programada PBF Eólica</td>\n",
       "      <td>237323.1</td>\n",
       "    </tr>\n",
       "    <tr>\n",
       "      <th>25646</th>\n",
       "      <td>2014-01-03 23:00:00</td>\n",
       "      <td>Generación programada PBF Eólica</td>\n",
       "      <td>329506.6</td>\n",
       "    </tr>\n",
       "    <tr>\n",
       "      <th>25647</th>\n",
       "      <td>2014-01-04 23:00:00</td>\n",
       "      <td>Generación programada PBF Eólica</td>\n",
       "      <td>292138.3</td>\n",
       "    </tr>\n",
       "    <tr>\n",
       "      <th>25648</th>\n",
       "      <td>2014-01-05 23:00:00</td>\n",
       "      <td>Generación programada PBF Eólica</td>\n",
       "      <td>223942.0</td>\n",
       "    </tr>\n",
       "  </tbody>\n",
       "</table>\n",
       "</div>"
      ],
      "text/plain": [
       "                 datetime                              name     value\n",
       "25644 2014-01-01 23:00:00  Generación programada PBF Eólica  277443.9\n",
       "25645 2014-01-02 23:00:00  Generación programada PBF Eólica  237323.1\n",
       "25646 2014-01-03 23:00:00  Generación programada PBF Eólica  329506.6\n",
       "25647 2014-01-04 23:00:00  Generación programada PBF Eólica  292138.3\n",
       "25648 2014-01-05 23:00:00  Generación programada PBF Eólica  223942.0"
      ]
     },
     "execution_count": 99,
     "metadata": {},
     "output_type": "execute_result"
    }
   ],
   "source": [
    "gen_source_df.head()"
   ]
  },
  {
   "cell_type": "code",
   "execution_count": 100,
   "metadata": {},
   "outputs": [
    {
     "name": "stderr",
     "output_type": "stream",
     "text": [
      "/home/linuxbrew/.linuxbrew/opt/python/lib/python3.7/site-packages/ipykernel_launcher.py:1: SettingWithCopyWarning: \n",
      "A value is trying to be set on a copy of a slice from a DataFrame.\n",
      "Try using .loc[row_indexer,col_indexer] = value instead\n",
      "\n",
      "See the caveats in the documentation: http://pandas.pydata.org/pandas-docs/stable/indexing.html#indexing-view-versus-copy\n",
      "  \"\"\"Entry point for launching an IPython kernel.\n"
     ]
    }
   ],
   "source": [
    "gen_source_df[\"date\"] = gen_source_df[\"datetime\"].dt.date"
   ]
  },
  {
   "cell_type": "code",
   "execution_count": 101,
   "metadata": {},
   "outputs": [],
   "source": [
    "gen_source_df = gen_source_df.drop('datetime', axis=1)\n"
   ]
  },
  {
   "cell_type": "code",
   "execution_count": 102,
   "metadata": {},
   "outputs": [],
   "source": [
    "gen_source_df = gen_source_df[['date', 'name', 'value']]"
   ]
  },
  {
   "cell_type": "code",
   "execution_count": 103,
   "metadata": {},
   "outputs": [
    {
     "data": {
      "text/html": [
       "<div>\n",
       "<style scoped>\n",
       "    .dataframe tbody tr th:only-of-type {\n",
       "        vertical-align: middle;\n",
       "    }\n",
       "\n",
       "    .dataframe tbody tr th {\n",
       "        vertical-align: top;\n",
       "    }\n",
       "\n",
       "    .dataframe thead th {\n",
       "        text-align: right;\n",
       "    }\n",
       "</style>\n",
       "<table border=\"1\" class=\"dataframe\">\n",
       "  <thead>\n",
       "    <tr style=\"text-align: right;\">\n",
       "      <th></th>\n",
       "      <th>date</th>\n",
       "      <th>name</th>\n",
       "      <th>value</th>\n",
       "    </tr>\n",
       "  </thead>\n",
       "  <tbody>\n",
       "    <tr>\n",
       "      <th>25644</th>\n",
       "      <td>2014-01-01</td>\n",
       "      <td>Generación programada PBF Eólica</td>\n",
       "      <td>277443.9</td>\n",
       "    </tr>\n",
       "    <tr>\n",
       "      <th>25645</th>\n",
       "      <td>2014-01-02</td>\n",
       "      <td>Generación programada PBF Eólica</td>\n",
       "      <td>237323.1</td>\n",
       "    </tr>\n",
       "    <tr>\n",
       "      <th>25646</th>\n",
       "      <td>2014-01-03</td>\n",
       "      <td>Generación programada PBF Eólica</td>\n",
       "      <td>329506.6</td>\n",
       "    </tr>\n",
       "    <tr>\n",
       "      <th>25647</th>\n",
       "      <td>2014-01-04</td>\n",
       "      <td>Generación programada PBF Eólica</td>\n",
       "      <td>292138.3</td>\n",
       "    </tr>\n",
       "    <tr>\n",
       "      <th>25648</th>\n",
       "      <td>2014-01-05</td>\n",
       "      <td>Generación programada PBF Eólica</td>\n",
       "      <td>223942.0</td>\n",
       "    </tr>\n",
       "  </tbody>\n",
       "</table>\n",
       "</div>"
      ],
      "text/plain": [
       "             date                              name     value\n",
       "25644  2014-01-01  Generación programada PBF Eólica  277443.9\n",
       "25645  2014-01-02  Generación programada PBF Eólica  237323.1\n",
       "25646  2014-01-03  Generación programada PBF Eólica  329506.6\n",
       "25647  2014-01-04  Generación programada PBF Eólica  292138.3\n",
       "25648  2014-01-05  Generación programada PBF Eólica  223942.0"
      ]
     },
     "execution_count": 103,
     "metadata": {},
     "output_type": "execute_result"
    }
   ],
   "source": [
    "gen_source_df.head()"
   ]
  },
  {
   "cell_type": "code",
   "execution_count": 110,
   "metadata": {},
   "outputs": [],
   "source": [
    "#we rename the name column according to the source, in order to facilitate the visualization and understanding. \n",
    "\n",
    "sources = {'Generación programada PBF Eólica':'wind_power', 'Generación programada PBF Ciclo combinado':'CHP',\n",
    "           'Generación programada PBF Carbón':'coal', 'Generación programada PBF Nuclear':'nuclear', \n",
    "           'Generación programada PBF Gas Natural Cogeneración':'natural_gas',\n",
    "           'Generación programada PBF UGH + no UGH':'hydro_1', \n",
    "           'Generación programada PBF Solar fotovoltaica':'solar_PV', \n",
    "           'Generación programada PBF Turbinación bombeo':'hydro_2'}\n",
    "\n",
    "gen_source_df = gen_source_df.replace(sources) "
   ]
  },
  {
   "cell_type": "code",
   "execution_count": 113,
   "metadata": {},
   "outputs": [],
   "source": [
    "#change the name of the column 'name' for source\n",
    "\n",
    "gen_source_df = gen_source_df.rename(columns={'name':'source', 'value':'value_MWh'})"
   ]
  },
  {
   "cell_type": "code",
   "execution_count": 114,
   "metadata": {
    "scrolled": true
   },
   "outputs": [
    {
     "data": {
      "text/html": [
       "<div>\n",
       "<style scoped>\n",
       "    .dataframe tbody tr th:only-of-type {\n",
       "        vertical-align: middle;\n",
       "    }\n",
       "\n",
       "    .dataframe tbody tr th {\n",
       "        vertical-align: top;\n",
       "    }\n",
       "\n",
       "    .dataframe thead th {\n",
       "        text-align: right;\n",
       "    }\n",
       "</style>\n",
       "<table border=\"1\" class=\"dataframe\">\n",
       "  <thead>\n",
       "    <tr style=\"text-align: right;\">\n",
       "      <th></th>\n",
       "      <th>date</th>\n",
       "      <th>source</th>\n",
       "      <th>value_MWh</th>\n",
       "    </tr>\n",
       "  </thead>\n",
       "  <tbody>\n",
       "    <tr>\n",
       "      <th>25644</th>\n",
       "      <td>2014-01-01</td>\n",
       "      <td>wind_power</td>\n",
       "      <td>277443.9</td>\n",
       "    </tr>\n",
       "    <tr>\n",
       "      <th>25645</th>\n",
       "      <td>2014-01-02</td>\n",
       "      <td>wind_power</td>\n",
       "      <td>237323.1</td>\n",
       "    </tr>\n",
       "    <tr>\n",
       "      <th>25646</th>\n",
       "      <td>2014-01-03</td>\n",
       "      <td>wind_power</td>\n",
       "      <td>329506.6</td>\n",
       "    </tr>\n",
       "    <tr>\n",
       "      <th>25647</th>\n",
       "      <td>2014-01-04</td>\n",
       "      <td>wind_power</td>\n",
       "      <td>292138.3</td>\n",
       "    </tr>\n",
       "    <tr>\n",
       "      <th>25648</th>\n",
       "      <td>2014-01-05</td>\n",
       "      <td>wind_power</td>\n",
       "      <td>223942.0</td>\n",
       "    </tr>\n",
       "  </tbody>\n",
       "</table>\n",
       "</div>"
      ],
      "text/plain": [
       "             date      source  value_MWh\n",
       "25644  2014-01-01  wind_power   277443.9\n",
       "25645  2014-01-02  wind_power   237323.1\n",
       "25646  2014-01-03  wind_power   329506.6\n",
       "25647  2014-01-04  wind_power   292138.3\n",
       "25648  2014-01-05  wind_power   223942.0"
      ]
     },
     "execution_count": 114,
     "metadata": {},
     "output_type": "execute_result"
    }
   ],
   "source": [
    "gen_source_df.head()"
   ]
  },
  {
   "cell_type": "code",
   "execution_count": 128,
   "metadata": {},
   "outputs": [],
   "source": [
    "gen_source_df.to_csv('cleaned_data/generation_per_source.csv')"
   ]
  }
 ],
 "metadata": {
  "kernelspec": {
   "display_name": "Python 3",
   "language": "python",
   "name": "python3"
  },
  "language_info": {
   "codemirror_mode": {
    "name": "ipython",
    "version": 3
   },
   "file_extension": ".py",
   "mimetype": "text/x-python",
   "name": "python",
   "nbconvert_exporter": "python",
   "pygments_lexer": "ipython3",
   "version": "3.7.3"
  }
 },
 "nbformat": 4,
 "nbformat_minor": 2
}
