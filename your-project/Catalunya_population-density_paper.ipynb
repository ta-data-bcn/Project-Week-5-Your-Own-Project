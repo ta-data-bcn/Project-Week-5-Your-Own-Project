{
 "cells": [
  {
   "cell_type": "markdown",
   "metadata": {},
   "source": [
    "# Health, money and love"
   ]
  },
  {
   "cell_type": "markdown",
   "metadata": {},
   "source": [
    "## Introduction"
   ]
  },
  {
   "cell_type": "markdown",
   "metadata": {},
   "source": [
    "Rural exodus, an old process accelerated with the Industrial Revolution and, above all, from the second half of the twentieth century, refers to the emigration from the countryside to the city. It is usually considered as a special type of migration because it involves not only changing place of residence, but also profession, for more than obvious reasons, given the great geographical differences that exist between the opportunities, number and characteristics of different types of occupation that exist in the countryside in relation to the city.\n",
    "During 2020 Covid19, a potentially lethal virus with a huge rate of spreading, has changed the lives of all the people around the world and also the paradigm of the previously mentioned exodus.\n",
    "\n",
    "Due to Covid19, Spanish government has created a list of mesures to slow down the virus spreading rate. And one of them is the social distance between people.\n",
    "The objective of this project is finding related data, completing an end-to-end analysis and presenting the findings,\n",
    "to try to explain why, in Catalonia (region of Spain), the government should invest efforts in reducing the population density in big cities.\n",
    "\n",
    "The title of this project is inspired in the 3 departure points used to prove or reject the questions and hypotheses:\n",
    "- Health: Pollution in Catalunya by Counties\n",
    "- Money: Real state price in Catalunya by Counties\n",
    "- Love: Density of population in Catalunya by Counties"
   ]
  },
  {
   "cell_type": "markdown",
   "metadata": {},
   "source": [
    "## Questions and hypotheses"
   ]
  },
  {
   "cell_type": "markdown",
   "metadata": {},
   "source": [
    "MAIN QUESTION: should catalan government invest in normalizing population density?\n",
    "\n",
    "1. Hypotheses\n",
    "\t- Population density is making the housing price rise\n",
    "\t- Population density is making the pollution rise\n",
    "\t- Population density is growing for main cities in Catalunya\n",
    "\t\t- Government recommendations for Covid19 are not compatible with population expectations of growing\n",
    "\n",
    "\n",
    "2. Questions\n",
    "\t- Is there a correlation between average price of houses and population density?\n",
    "\t- Is there a correlation between population density of houses and pollution in cities?\n",
    "\t- How long would it take for big cities in Catalunya to reach similar population density as China average?"
   ]
  },
  {
   "cell_type": "markdown",
   "metadata": {},
   "source": [
    "## Methods"
   ]
  },
  {
   "cell_type": "markdown",
   "metadata": {},
   "source": [
    "After researching on official datasets of Generalitat de Catalunya (Catalonia government) and their APIs, the chosen ones were:\n",
    "\n",
    "a) Central Spanish Government website\n",
    "\n",
    "https://www.lamoncloa.gob.es/serviciosdeprensa/notasprensa/presidencia/Paginas/2020/10042020_buenaspracticas.aspx\n",
    "\n",
    "b) 'Institut d'Estadística de Catalunya', the Catalan government official statistics website\n",
    "\n",
    "https://www.idescat.cat/\n",
    "\n",
    "c) A pollution focused website provided by Catalan government referred to Catalan area values\n",
    "\n",
    "http://www.qualitatdelaire.cat/"
   ]
  },
  {
   "cell_type": "markdown",
   "metadata": {},
   "source": [
    "## Workflow"
   ]
  },
  {
   "cell_type": "markdown",
   "metadata": {},
   "source": [
    "1. List of interesting topics\n",
    "2. Research of valuable and reliable data to use for each topic\n",
    "3. Selecting a definitive topic, create Questions and Hypotheses\n",
    "4. Download and clean datasets and necessary related information\n",
    "5. Understand relations between different data values along the years and find correlations between different data\n",
    "6. Creating plots to visualize and make understanding easier\n",
    "7. Testing hypotheses and answering questions\n",
    "8. Producing a presentation for the results"
   ]
  },
  {
   "cell_type": "markdown",
   "metadata": {},
   "source": [
    "## Data retrieval and dataset relationship"
   ]
  },
  {
   "cell_type": "markdown",
   "metadata": {},
   "source": [
    "Data was retrieved from two different sources from Catalan official platforms (IDESCAT and QualitatDelAire) but the main idea of the project was inspired in another study done by UAB (University of Barcelona) student and researchers called GISASH (http://atlantis.uab.cat/hamlet/public.action?request_locale=ca#)\n",
    "Mention the fact that the data was submitted to verification through other data sources (local and regional official websites) and the values may vary lightly from ones to others. Also some villages were not considered in the study due to the lack of data.\n",
    "\n",
    "In order to generate the last dataset for this study, make it easier to understand and to manage, the retrieved data was structured as show in the picture below.\n",
    "The final data was linked on 'County Name' and 'Year' and organized by \n",
    "- year\n",
    "- county_name\n",
    "- area_Km2\n",
    "- population\n",
    "- pop_density (person/Km2)\n",
    "- avg_price (euros)\n",
    "- pollutant (µg/m3)\n",
    "- units (PM10)\n",
    "- pollution_year"
   ]
  },
  {
   "cell_type": "markdown",
   "metadata": {},
   "source": [
    "<img src=\"ERDiagram.png\" width=\"800\">"
   ]
  },
  {
   "cell_type": "markdown",
   "metadata": {},
   "source": [
    "## Results"
   ]
  },
  {
   "cell_type": "markdown",
   "metadata": {},
   "source": [
    "### Question 1: Is there a correlation between average price of houses and population density?\n",
    "### Question 2: Is there a correlation between population density of houses and pollution in cities?"
   ]
  },
  {
   "cell_type": "markdown",
   "metadata": {},
   "source": [
    "<img src=\"../presentation_picts/Correlation.png\" width=\"400\">"
   ]
  },
  {
   "cell_type": "markdown",
   "metadata": {},
   "source": [
    "In the picture above we study the correlation between the population density with\n",
    "- average price of houses\n",
    "- registered pollutants in the air\n",
    "\n",
    "Since the value between population density and average price is bigger than 0.5, we can say that THERE IS CORRELATION\n",
    "\n",
    "Since the value between population density and pollution is smaller than 0.5, we can say that THERE IS NO CORRELATION"
   ]
  },
  {
   "cell_type": "markdown",
   "metadata": {},
   "source": [
    "### Hypotheses 1: Population density is making the housing price rise\n",
    "### Hypotheses 2: Population density is making the pollution rise"
   ]
  },
  {
   "cell_type": "markdown",
   "metadata": {},
   "source": [
    "For hypothesy 2 we can already state the answer is NO, because there is no correlation"
   ]
  },
  {
   "cell_type": "markdown",
   "metadata": {},
   "source": [
    "<img src=\"../presentation_picts/densityhigh_vs_avgprice.png\" width=\"400\"> \n",
    "<img src=\"../presentation_picts/densitylow_vs_avgprice.png\" width=\"400\">"
   ]
  },
  {
   "cell_type": "markdown",
   "metadata": {},
   "source": [
    "If we take a look at the top and tail of population density (Fig1 and Fig2), we gather that:\n",
    "- The top3 counties with higher density  are Barcelonès, Baix Llobregat and Vallès Occidental\n",
    "- The top3 counties with lower density  are Pallars Sobirà, Pallars Jussà and Garrigues"
   ]
  },
  {
   "cell_type": "markdown",
   "metadata": {},
   "source": [
    "<img src=\"../presentation_picts/low_vs_top density.png\" width=\"800\">"
   ]
  },
  {
   "cell_type": "markdown",
   "metadata": {},
   "source": [
    "Let's observe the top and tail counties mentioned above for years 2017 to 2019:\n",
    "- We observe in Fig1 (top left) that population density and average price rise with the time\n",
    "- We observe in Fig2 (bottom left) that population density and average price behave without any apparent pattern\n",
    "- If we take a look at the main counties of each province, we still observe that only Barcelonès rises both population density and average price\n",
    "\n",
    "\n",
    "So For hypothesis 1, we would say YES for Barcelonès county and NO for the rest of Catalunya."
   ]
  },
  {
   "cell_type": "markdown",
   "metadata": {},
   "source": [
    "### Hypothesis 3: Population density is growing for main cities in Catalunya"
   ]
  },
  {
   "cell_type": "markdown",
   "metadata": {},
   "source": [
    "The cities with more population in Catalunya are:\n",
    "- Barcelona with 1.636.762\n",
    "- Hospitalet de Llobregat with 264.923\n",
    "- Terrassa with 220.556\n",
    "- Badalona with 220.440\n",
    "- Sabadell with 213644"
   ]
  },
  {
   "cell_type": "markdown",
   "metadata": {},
   "source": [
    "<img src=\"../presentation_picts/toppop_cities_year.png\" width=\"500\">"
   ]
  },
  {
   "cell_type": "markdown",
   "metadata": {},
   "source": [
    "First of all, is important to emphasize that those five cities belong to Barcelonès and two other surrounding counties (the sames we have seen as top of population density.\n",
    "\n",
    "For each of this cities there is a clear year growing trend for the last three years."
   ]
  },
  {
   "cell_type": "markdown",
   "metadata": {},
   "source": [
    "<img src=\"../presentation_picts/microtowns_catalunya_map.png\" width=\"800\">"
   ]
  },
  {
   "cell_type": "markdown",
   "metadata": {},
   "source": [
    "The map, provided by project Gisash from students and researchers of Universitat Autonoma de Barcelona,  show us in blue the towns with micropopulation (less than 500 people) in Catalunya.\n",
    "\n",
    "We can see that Barcelona and all the area surrounding the capital city has not blue areas, but all the other provinces do. So the trend we have seen in the previous graphic makes even more sense now.\n",
    "\n",
    "We can answer YES to hypothesies number 3, considering main cities in Catalunya are around Barcelona in terms of population."
   ]
  },
  {
   "cell_type": "markdown",
   "metadata": {},
   "source": [
    "### Question 3: How long would it take for big cities in Catalunya to reach similar population density as China?"
   ]
  },
  {
   "cell_type": "markdown",
   "metadata": {},
   "source": [
    "Taking as reference the values of 2018 for Barcelona and the average of the Top10 most densified cities in China,\n",
    "- Barcelona: 15.987 person/Km2\n",
    "- China: 5.590 person/Km2\n",
    "\n",
    "We can already say that main cities in China are already less densified than the cities in counties around Barcelonès (almost three times less population density) so the question could have been formulated the other way around."
   ]
  },
  {
   "cell_type": "markdown",
   "metadata": {},
   "source": [
    "### 3.1. Hypothesis: Government recommendations for Covid19 are not compatible with population expectations of growing"
   ]
  },
  {
   "cell_type": "markdown",
   "metadata": {},
   "source": [
    "The Spanish government guideline contains the most essential measures of prevention through:\n",
    "- Hygiene \n",
    "- Interpersonal distance\n",
    "\n",
    "Just taking a look at the second one (Interpersonal Distance) and the results we got from the study, we can say that the density of population in Barcelonès conflicts with government measures.\n",
    "\n",
    "Let's consider also Spanish press related articles during the pandemy of Covid19 referred to jobs:\n",
    "1. El País - Teleworking impacts the Barcelona office market\n",
    "\n",
    "https://elpais.com/espana/catalunya/2020-07-17/el-teletrabajo-impacta-en-el-mercado-de-oficinas-de-barcelona.html\n",
    "\n",
    "2. La Razón - Remote work until January? The possibility gains strength among companies due to the increase in sprouts\n",
    "\n",
    "https://www.larazon.es/cataluna/20200711/vonsilz6fza2va5xjvon2xubaa.html\n",
    "\n",
    "Remote jobs are growing as a trend due to the crisis of Covid19 and also because technology in our lives is increasing in presence."
   ]
  },
  {
   "cell_type": "markdown",
   "metadata": {},
   "source": [
    "### MAIN QUESTION: should catalan government invest in normalizing population density?"
   ]
  },
  {
   "cell_type": "markdown",
   "metadata": {},
   "source": [
    "Before answering the question, we should state that the results we got are not enough to make a resolution, but are a trend and so they give us some of the insights we may need to answer properly. In order to get more accurate results we could add to this study facts like:\n",
    "- Facilities in towns with micropopulation\n",
    "- Job offers types and paying rates in and out of Barcelona area\n",
    "- Business possibilities in different counties\n",
    "- Priorities for families and individuals when looking for a place to live\n",
    "- Political trends\n",
    "\n",
    "And many other facts that could affect the decision of staying around Barcelona"
   ]
  },
  {
   "cell_type": "markdown",
   "metadata": {},
   "source": [
    "Now we let's answer the question with some arguments, valid for Barcelona and surrounding region:\n",
    "\n",
    "- House Prices is growing because of population density\n",
    "- Population Density is huge and keeps growing faster than in other counties\n",
    "- People opinion and Covid19 government measures show a change of a paradigm in our way of living\n",
    "\n",
    "Considering those parameters, we answer YES to the question \"should catalan government invest in normalizing population density?\" specially for the catalan capital."
   ]
  }
 ],
 "metadata": {
  "kernelspec": {
   "display_name": "Python 3",
   "language": "python",
   "name": "python3"
  },
  "language_info": {
   "codemirror_mode": {
    "name": "ipython",
    "version": 3
   },
   "file_extension": ".py",
   "mimetype": "text/x-python",
   "name": "python",
   "nbconvert_exporter": "python",
   "pygments_lexer": "ipython3",
   "version": "3.8.3"
  }
 },
 "nbformat": 4,
 "nbformat_minor": 4
}
