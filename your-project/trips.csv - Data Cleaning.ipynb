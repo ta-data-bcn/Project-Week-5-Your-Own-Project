{
 "cells": [
  {
   "cell_type": "markdown",
   "metadata": {},
   "source": [
    "# trips.csv - Data Cleaning"
   ]
  },
  {
   "cell_type": "code",
   "execution_count": null,
   "metadata": {},
   "outputs": [],
   "source": [
    "import pandas as pd\n",
    "import numpy as np\n",
    "import datetime\n",
    "import matplotlib.pyplot as plt\n",
    "import scipy as sp\n",
    "from scipy import stats"
   ]
  },
  {
   "cell_type": "code",
   "execution_count": null,
   "metadata": {},
   "outputs": [],
   "source": [
    "df_trips = pd.read_csv(\"/home/pau/Ironhack/week5/project5/Project-Week-5-Your-Own-Project/your-project/trip.csv\")"
   ]
  },
  {
   "cell_type": "code",
   "execution_count": null,
   "metadata": {},
   "outputs": [],
   "source": [
    "df_trips.head()"
   ]
  },
  {
   "cell_type": "code",
   "execution_count": null,
   "metadata": {},
   "outputs": [],
   "source": [
    "df_trips[\"starttime\"] = df_trips[\"starttime\"].astype(\"datetime64[ns]\")\n",
    "df_trips[\"stoptime\"] = df_trips[\"stoptime\"].astype(\"datetime64[ns]\")\n",
    "df_trips[\"Year\"] = df_trips[\"starttime\"].dt.year\n",
    "df_trips = df_trips.drop([\"from_station_name\",\"to_station_name\",\"gender\",\"birthyear\"], axis=1)\n",
    "df_trips[\"tripduration\"] = ((df_trips[\"tripduration\"])/3600)\n",
    "df_trips[\"Month\"] = df_trips[\"starttime\"].dt.month\n",
    "df_trips[\"YearMonthDay\"] = df_trips[\"starttime\"].dt.date"
   ]
  },
  {
   "cell_type": "code",
   "execution_count": null,
   "metadata": {},
   "outputs": [],
   "source": [
    "df_trips.head()"
   ]
  },
  {
   "cell_type": "markdown",
   "metadata": {},
   "source": [
    "## Trip Analysis"
   ]
  },
  {
   "cell_type": "code",
   "execution_count": null,
   "metadata": {},
   "outputs": [],
   "source": [
    "df_tripduration_per_day = df_trips.groupby([\"YearMonthDay\"]).sum()[[\"tripduration\"]]\n",
    "df_tripduration_per_day.head()"
   ]
  },
  {
   "cell_type": "code",
   "execution_count": null,
   "metadata": {},
   "outputs": [],
   "source": [
    "df_tripduration_per_day[\"sma(120)\"] = df_tripduration_per_day[\"tripduration\"].rolling(120).mean()\n",
    "df_tripduration_per_day[\"sma(30)\"] = df_tripduration_per_day[\"tripduration\"].rolling(30).mean()\n",
    "df_tripduration_per_day.head()"
   ]
  },
  {
   "cell_type": "code",
   "execution_count": null,
   "metadata": {},
   "outputs": [],
   "source": [
    "plt.figure(figsize=(20,10))\n",
    "plt.bar(df_tripduration_per_day.index,df_tripduration_per_day[\"tripduration\"])\n",
    "plt.plot(df_tripduration_per_day.index,df_tripduration_per_day[\"sma(120)\"], color=\"red\")\n",
    "plt.plot(df_tripduration_per_day.index,df_tripduration_per_day[\"sma(30)\"], color=\"purple\")\n",
    "plt.title(f\"duration of the trips during the days\")\n",
    "#plt.xticks(np.arange(0,50,step=25))\n",
    "plt.xlabel(\"days\")\n",
    "plt.ylabel(\"trip duration\")\n",
    "plt.show"
   ]
  },
  {
   "cell_type": "markdown",
   "metadata": {},
   "source": [
    "## Members analysis"
   ]
  },
  {
   "cell_type": "code",
   "execution_count": null,
   "metadata": {},
   "outputs": [],
   "source": [
    "df_members = df_trips\n",
    "df_members"
   ]
  },
  {
   "cell_type": "code",
   "execution_count": null,
   "metadata": {},
   "outputs": [],
   "source": [
    "df_members.count()"
   ]
  },
  {
   "cell_type": "code",
   "execution_count": null,
   "metadata": {},
   "outputs": [],
   "source": [
    "df_members[df_members[\"usertype\"] == \"starttime\"]"
   ]
  },
  {
   "cell_type": "code",
   "execution_count": null,
   "metadata": {},
   "outputs": [],
   "source": [
    "df_trips = df_trips.drop([50792])"
   ]
  },
  {
   "cell_type": "code",
   "execution_count": null,
   "metadata": {},
   "outputs": [],
   "source": [
    "df_trips.count()"
   ]
  },
  {
   "cell_type": "code",
   "execution_count": null,
   "metadata": {},
   "outputs": [],
   "source": []
  },
  {
   "cell_type": "code",
   "execution_count": null,
   "metadata": {},
   "outputs": [],
   "source": [
    "df_trips[\"YearMonth\"] = df_trips[[\"Year\",\"Month\"]].apply(lambda row: str(row[\"Year\"])+\"-\"+str(row[\"Month\"]), axis=1)"
   ]
  },
  {
   "cell_type": "code",
   "execution_count": null,
   "metadata": {},
   "outputs": [],
   "source": [
    "df_trips"
   ]
  },
  {
   "cell_type": "code",
   "execution_count": null,
   "metadata": {},
   "outputs": [],
   "source": [
    "df_members = df_trips.groupby([\"YearMonth\",\"usertype\"]).count()[[\"trip_id\"]]\n",
    "\n",
    "df_members"
   ]
  },
  {
   "cell_type": "code",
   "execution_count": null,
   "metadata": {},
   "outputs": [],
   "source": [
    "df_trips.groupby([\"Year\",\"Month\"]).count()[[\"trip_id\"]]"
   ]
  },
  {
   "cell_type": "code",
   "execution_count": null,
   "metadata": {},
   "outputs": [],
   "source": []
  }
 ],
 "metadata": {
  "kernelspec": {
   "display_name": "Python 3",
   "language": "python",
   "name": "python3"
  },
  "language_info": {
   "codemirror_mode": {
    "name": "ipython",
    "version": 3
   },
   "file_extension": ".py",
   "mimetype": "text/x-python",
   "name": "python",
   "nbconvert_exporter": "python",
   "pygments_lexer": "ipython3",
   "version": "3.7.3"
  }
 },
 "nbformat": 4,
 "nbformat_minor": 2
}
