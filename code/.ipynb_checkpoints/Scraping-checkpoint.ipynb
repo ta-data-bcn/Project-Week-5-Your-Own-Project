{
 "cells": [
  {
   "cell_type": "code",
   "execution_count": 1,
   "metadata": {},
   "outputs": [],
   "source": [
    "from bs4 import BeautifulSoup\n",
    "import requests\n",
    "import pandas as pd"
   ]
  },
  {
   "cell_type": "code",
   "execution_count": 2,
   "metadata": {},
   "outputs": [
    {
     "data": {
      "text/plain": [
       "200"
      ]
     },
     "execution_count": 2,
     "metadata": {},
     "output_type": "execute_result"
    }
   ],
   "source": [
    "url = \"https://es.wikipedia.org/wiki/Anexo:Ciudades_por_PIB\"\n",
    "response = requests.get(url)\n",
    "response.status_code # 200 status code means OK!"
   ]
  },
  {
   "cell_type": "code",
   "execution_count": 3,
   "metadata": {},
   "outputs": [],
   "source": [
    "# Scraping the whole table (300 rows) in one single list\n",
    "PIB_list = []\n",
    "soup = BeautifulSoup(response.content, \"html.parser\")\n",
    "\n",
    "for i in range(2, 7):\n",
    "    for elem in soup.select(\"#mw-content-text > div.mw-parser-output > table > tbody>tr>td:nth-child(\"+str(i)+\")\"):\n",
    "        PIB_list.append(elem.get_text().strip())"
   ]
  },
  {
   "cell_type": "code",
   "execution_count": 4,
   "metadata": {},
   "outputs": [],
   "source": [
    "# Creating a dataframe with the scrapped table\n",
    "city_PIB = pd.DataFrame({\"City\" : PIB_list[:300],\n",
    "                         \"Country\" : PIB_list[300:600],\n",
    "                         \"Continent\" : PIB_list[1200:1500],\n",
    "                         \"Total GDP\" : PIB_list[600:900],\n",
    "                         \"GDP per capita\" : PIB_list[900:1200]\n",
    "                        })"
   ]
  },
  {
   "cell_type": "code",
   "execution_count": 5,
   "metadata": {},
   "outputs": [],
   "source": [
    "# Cleaning numeric data\n",
    "city_PIB[\"Total GDP\"] = pd.to_numeric(city_PIB[\"Total GDP\"].str.replace('\\\\xa0',  ''))\n",
    "city_PIB[\"GDP per capita\"] = pd.to_numeric(city_PIB[\"GDP per capita\"].str.replace('\\\\xa0',  ''))"
   ]
  },
  {
   "cell_type": "code",
   "execution_count": 11,
   "metadata": {},
   "outputs": [
    {
     "data": {
      "text/html": [
       "<div>\n",
       "<style scoped>\n",
       "    .dataframe tbody tr th:only-of-type {\n",
       "        vertical-align: middle;\n",
       "    }\n",
       "\n",
       "    .dataframe tbody tr th {\n",
       "        vertical-align: top;\n",
       "    }\n",
       "\n",
       "    .dataframe thead th {\n",
       "        text-align: right;\n",
       "    }\n",
       "</style>\n",
       "<table border=\"1\" class=\"dataframe\">\n",
       "  <thead>\n",
       "    <tr style=\"text-align: right;\">\n",
       "      <th></th>\n",
       "      <th>City</th>\n",
       "      <th>Country</th>\n",
       "      <th>Continent</th>\n",
       "      <th>Total GDP</th>\n",
       "      <th>GDP per capita</th>\n",
       "    </tr>\n",
       "  </thead>\n",
       "  <tbody>\n",
       "    <tr>\n",
       "      <th>0</th>\n",
       "      <td>Tokio</td>\n",
       "      <td>Japón</td>\n",
       "      <td>Asia</td>\n",
       "      <td>1617000</td>\n",
       "      <td>68776</td>\n",
       "    </tr>\n",
       "    <tr>\n",
       "      <th>1</th>\n",
       "      <td>Nueva York</td>\n",
       "      <td>Estados Unidos</td>\n",
       "      <td>América</td>\n",
       "      <td>1403463</td>\n",
       "      <td>69915</td>\n",
       "    </tr>\n",
       "    <tr>\n",
       "      <th>2</th>\n",
       "      <td>Los Ángeles</td>\n",
       "      <td>Estados Unidos</td>\n",
       "      <td>América</td>\n",
       "      <td>860452</td>\n",
       "      <td>65082</td>\n",
       "    </tr>\n",
       "    <tr>\n",
       "      <th>3</th>\n",
       "      <td>Seúl</td>\n",
       "      <td>Corea del Sur</td>\n",
       "      <td>Asia</td>\n",
       "      <td>845906</td>\n",
       "      <td>34355</td>\n",
       "    </tr>\n",
       "    <tr>\n",
       "      <th>4</th>\n",
       "      <td>Londres</td>\n",
       "      <td>Reino Unido</td>\n",
       "      <td>Europa</td>\n",
       "      <td>835658</td>\n",
       "      <td>57157</td>\n",
       "    </tr>\n",
       "    <tr>\n",
       "      <th>...</th>\n",
       "      <td>...</td>\n",
       "      <td>...</td>\n",
       "      <td>...</td>\n",
       "      <td>...</td>\n",
       "      <td>...</td>\n",
       "    </tr>\n",
       "    <tr>\n",
       "      <th>295</th>\n",
       "      <td>El Paso</td>\n",
       "      <td>Estados Unidos</td>\n",
       "      <td>América</td>\n",
       "      <td>32659</td>\n",
       "      <td>38737</td>\n",
       "    </tr>\n",
       "    <tr>\n",
       "      <th>296</th>\n",
       "      <td>Edimburgo</td>\n",
       "      <td>Reino Unido</td>\n",
       "      <td>Europa</td>\n",
       "      <td>32497</td>\n",
       "      <td>58437</td>\n",
       "    </tr>\n",
       "    <tr>\n",
       "      <th>297</th>\n",
       "      <td>Winnipeg</td>\n",
       "      <td>Canadá</td>\n",
       "      <td>América</td>\n",
       "      <td>32478</td>\n",
       "      <td>41719</td>\n",
       "    </tr>\n",
       "    <tr>\n",
       "      <th>298</th>\n",
       "      <td>Alejandría</td>\n",
       "      <td>Egipto</td>\n",
       "      <td>África</td>\n",
       "      <td>32400</td>\n",
       "      <td>7100</td>\n",
       "    </tr>\n",
       "    <tr>\n",
       "      <th>299</th>\n",
       "      <td>Nantes</td>\n",
       "      <td>Francia</td>\n",
       "      <td>Europa</td>\n",
       "      <td>32014</td>\n",
       "      <td>36011</td>\n",
       "    </tr>\n",
       "  </tbody>\n",
       "</table>\n",
       "<p>300 rows × 5 columns</p>\n",
       "</div>"
      ],
      "text/plain": [
       "            City         Country Continent  Total GDP  GDP per capita\n",
       "0          Tokio           Japón      Asia    1617000           68776\n",
       "1     Nueva York  Estados Unidos   América    1403463           69915\n",
       "2    Los Ángeles  Estados Unidos   América     860452           65082\n",
       "3           Seúl   Corea del Sur      Asia     845906           34355\n",
       "4        Londres     Reino Unido    Europa     835658           57157\n",
       "..           ...             ...       ...        ...             ...\n",
       "295      El Paso  Estados Unidos   América      32659           38737\n",
       "296    Edimburgo     Reino Unido    Europa      32497           58437\n",
       "297     Winnipeg          Canadá   América      32478           41719\n",
       "298   Alejandría          Egipto    África      32400            7100\n",
       "299       Nantes         Francia    Europa      32014           36011\n",
       "\n",
       "[300 rows x 5 columns]"
      ]
     },
     "execution_count": 11,
     "metadata": {},
     "output_type": "execute_result"
    }
   ],
   "source": [
    "city_PIB"
   ]
  },
  {
   "cell_type": "code",
   "execution_count": 6,
   "metadata": {},
   "outputs": [
    {
     "data": {
      "text/plain": [
       "200"
      ]
     },
     "execution_count": 6,
     "metadata": {},
     "output_type": "execute_result"
    }
   ],
   "source": [
    "url = \"https://datosmacro.expansion.com/pib\"\n",
    "response = requests.get(url)\n",
    "response.status_code # 200 status code means OK!\n"
   ]
  },
  {
   "cell_type": "code",
   "execution_count": 7,
   "metadata": {},
   "outputs": [],
   "source": [
    "# Scraping country PIB website\n",
    "PIB_countries = []\n",
    "countries = []\n",
    "soup = BeautifulSoup(response.content, \"html.parser\")\n",
    "\n",
    "for elem in soup.select(\"#tbPC > tbody > tr\"):\n",
    "    countries.append(elem.select_one(\"a\").get_text().strip())\n",
    "    PIB_countries.append(elem.select_one(\"td:nth-child(5)\").get_text().strip())"
   ]
  },
  {
   "cell_type": "code",
   "execution_count": 8,
   "metadata": {},
   "outputs": [],
   "source": [
    "# Creating a dataframe with the scrapped table\n",
    "country_PIB = pd.DataFrame({\"Country\" : countries,\n",
    "                          \"Country GDP per capita\" : PIB_countries\n",
    "                        })"
   ]
  },
  {
   "cell_type": "code",
   "execution_count": null,
   "metadata": {},
   "outputs": [],
   "source": []
  },
  {
   "cell_type": "code",
   "execution_count": 9,
   "metadata": {},
   "outputs": [],
   "source": [
    "# Cleaning data\n",
    "country_PIB[\"Country\"] = country_PIB[\"Country\"].str.replace('\\W*\\Z',  '')\n",
    "country_PIB[\"Country GDP per capita\"] = country_PIB[\"Country GDP per capita\"].str.replace('.','')\n",
    "country_PIB[\"Country GDP per capita\"] = country_PIB[\"Country GDP per capita\"].str.replace('$','')"
   ]
  },
  {
   "cell_type": "code",
   "execution_count": 10,
   "metadata": {},
   "outputs": [],
   "source": [
    "country_PIB[\"Country GDP per capita\"] = pd.to_numeric(country_PIB[\"Country GDP per capita\"])"
   ]
  },
  {
   "cell_type": "code",
   "execution_count": null,
   "metadata": {},
   "outputs": [],
   "source": []
  },
  {
   "cell_type": "code",
   "execution_count": 225,
   "metadata": {},
   "outputs": [],
   "source": [
    "# Dropping duplicates and null values \n",
    "country_PIB = country_PIB.dropna()\n",
    "country_PIB = country_PIB.drop_duplicates()"
   ]
  },
  {
   "cell_type": "code",
   "execution_count": 226,
   "metadata": {},
   "outputs": [],
   "source": [
    "country_PIB [\"Country GDP per capita\"] = country_PIB[\"Country GDP per capita\"].astype(int)"
   ]
  },
  {
   "cell_type": "code",
   "execution_count": 227,
   "metadata": {},
   "outputs": [],
   "source": [
    "# Exporting the dataframes\n",
    "city_PIB.to_csv(\"../data/cities_PIB.csv\")\n",
    "country_PIB.to_csv(\"../data/countries_PIB.csv\")"
   ]
  },
  {
   "cell_type": "code",
   "execution_count": null,
   "metadata": {},
   "outputs": [],
   "source": []
  }
 ],
 "metadata": {
  "kernelspec": {
   "display_name": "Python 3",
   "language": "python",
   "name": "python3"
  },
  "language_info": {
   "codemirror_mode": {
    "name": "ipython",
    "version": 3
   },
   "file_extension": ".py",
   "mimetype": "text/x-python",
   "name": "python",
   "nbconvert_exporter": "python",
   "pygments_lexer": "ipython3",
   "version": "3.8.3"
  }
 },
 "nbformat": 4,
 "nbformat_minor": 4
}
