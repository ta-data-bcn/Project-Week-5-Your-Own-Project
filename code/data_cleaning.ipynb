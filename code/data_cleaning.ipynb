{
 "cells": [
  {
   "cell_type": "markdown",
   "metadata": {},
   "source": [
    "# Statcast Data Cleaning"
   ]
  },
  {
   "cell_type": "code",
   "execution_count": 3,
   "metadata": {},
   "outputs": [],
   "source": [
    "import pandas as pd\n",
    "import numpy as np\n",
    "import matplotlib.pyplot as plt\n",
    "import seaborn as sns"
   ]
  },
  {
   "cell_type": "markdown",
   "metadata": {},
   "source": [
    "### Statcast 2017"
   ]
  },
  {
   "cell_type": "code",
   "execution_count": 2,
   "metadata": {},
   "outputs": [],
   "source": [
    "statcast17 = pd.read_csv(\"baseball_data/Statcast_2017.csv\")"
   ]
  },
  {
   "cell_type": "code",
   "execution_count": 3,
   "metadata": {},
   "outputs": [],
   "source": [
    "# variable with the columns from the dataset that I don´t need\n",
    "\n",
    "columns_to_drop = ['Unnamed: 0', 'level_0', 'index', 'at_bat_number', 'away_score',\n",
    "       'away_team', 'ax', 'ay', 'az', 'babip_value', 'balls', 'bat_score',\n",
    "       'batter', 'bb_type', 'break_angle_deprecated',\n",
    "       'break_length_deprecated', 'des', 'effective_speed',\n",
    "       'error', 'estimated_ba_using_speedangle',\n",
    "       'estimated_woba_using_speedangle', 'events', 'fielder_2', 'fielder_2.1',\n",
    "       'fielder_3', 'fielder_4', 'fielder_5', 'fielder_6', 'fielder_7',\n",
    "       'fielder_8', 'fielder_9', 'fld_score', 'game_pk',\n",
    "       'game_type', 'game_year', 'hc_x', 'hc_y', 'hit_distance_sc',\n",
    "       'hit_location', 'home_score', 'home_team', 'if_fielding_alignment',\n",
    "       'inning', 'inning_topbot', 'iso_value', 'launch_angle', 'launch_speed',\n",
    "       'launch_speed_angle', 'of_fielding_alignment', 'on_1b', 'on_2b',\n",
    "       'on_3b', 'outs_when_up', 'pfx_x', 'pfx_z',\n",
    "       'pitch_number', 'pitch_type', 'pitcher', 'pitcher.1', 'plate_x',\n",
    "       'plate_z', 'post_away_score', 'post_bat_score',\n",
    "       'post_fld_score', 'post_home_score', 'release_extension',\n",
    "       'release_pos_x', 'release_pos_y', 'release_pos_z',\n",
    "        'spin_dir', 'spin_rate_deprecated', 'stand',\n",
    "       'strikes', 'sv_id', 'sz_bot', 'sz_top', 'tfs_deprecated',\n",
    "       'tfs_zulu_deprecated', 'type', 'umpire', 'vx0', 'vy0', 'vz0',\n",
    "       'woba_denom', 'woba_value']"
   ]
  },
  {
   "cell_type": "code",
   "execution_count": 3,
   "metadata": {},
   "outputs": [],
   "source": [
    "# function to drop unecessary columns \n",
    "def dropColumns(df, columns_list):\n",
    "    df.drop(columns_list, axis=1, inplace=True)\n",
    "    \n",
    "\n",
    "# function to clean the df\n",
    "def cleanData(df, columns_list):\n",
    "    #dropping the first row of the df as it has all 0\n",
    "    #statcast17.drop([0], axis=0, inplace=True)\n",
    "    dropColumns(df, columns_list)"
   ]
  },
  {
   "cell_type": "code",
   "execution_count": 6,
   "metadata": {},
   "outputs": [],
   "source": [
    "cleanData(statcast17, columns_to_drop)"
   ]
  },
  {
   "cell_type": "code",
   "execution_count": 7,
   "metadata": {},
   "outputs": [],
   "source": [
    "# Rearrenging clean df the columns\n",
    "statcast17 = statcast17[[\"game_date\", \"player_name\", \"pitch_name\", \"release_speed\", \"release_spin_rate\", \"description\", \"zone\", \"p_throws\"]]"
   ]
  },
  {
   "cell_type": "markdown",
   "metadata": {},
   "source": [
    "---"
   ]
  },
  {
   "cell_type": "markdown",
   "metadata": {},
   "source": [
    "### Statcas 2018"
   ]
  },
  {
   "cell_type": "code",
   "execution_count": 9,
   "metadata": {},
   "outputs": [],
   "source": [
    "statcast18 = pd.read_csv(\"baseball_data/Statcast_2018.csv\")"
   ]
  },
  {
   "cell_type": "code",
   "execution_count": 10,
   "metadata": {
    "jupyter": {
     "source_hidden": true
    }
   },
   "outputs": [],
   "source": [
    "# variable with the columns from the dataset that I don´t need\n",
    "columns_to_drop18 = ['Unnamed: 0', 'level_0', 'index', 'pitch_type',\n",
    "        'release_pos_x', 'release_pos_z',\n",
    "       'batter', 'pitcher', 'events', 'spin_dir',\n",
    "       'spin_rate_deprecated', 'break_angle_deprecated',\n",
    "       'break_length_deprecated', 'des', 'game_type', 'stand',\n",
    "        'home_team', 'away_team', 'type', 'hit_location', 'bb_type',\n",
    "       'balls', 'strikes', 'game_year', 'pfx_x', 'pfx_z', 'plate_x', 'plate_z',\n",
    "       'on_3b', 'on_2b', 'on_1b', 'outs_when_up', 'inning', 'inning_topbot',\n",
    "       'hc_x', 'hc_y', 'tfs_deprecated', 'tfs_zulu_deprecated', 'fielder_2',\n",
    "       'umpire', 'sv_id', 'vx0', 'vy0', 'vz0', 'ax', 'ay', 'az', 'sz_top',\n",
    "       'sz_bot', 'hit_distance_sc', 'launch_speed', 'launch_angle',\n",
    "       'effective_speed', 'release_extension', 'game_pk',\n",
    "       'pitcher.1', 'fielder_2.1', 'fielder_3', 'fielder_4', 'fielder_5',\n",
    "       'fielder_6', 'fielder_7', 'fielder_8', 'fielder_9', 'release_pos_y',\n",
    "       'estimated_ba_using_speedangle', 'estimated_woba_using_speedangle',\n",
    "       'woba_value', 'woba_denom', 'babip_value', 'iso_value',\n",
    "       'launch_speed_angle', 'at_bat_number', 'pitch_number',\n",
    "       'home_score', 'away_score', 'bat_score', 'fld_score', 'post_away_score',\n",
    "       'post_home_score', 'post_bat_score', 'post_fld_score',\n",
    "       'if_fielding_alignment', 'of_fielding_alignment']"
   ]
  },
  {
   "cell_type": "code",
   "execution_count": 11,
   "metadata": {},
   "outputs": [],
   "source": [
    "# calling function to clean the dataset\n",
    "cleanData(statcast18, columns_to_drop18)"
   ]
  },
  {
   "cell_type": "code",
   "execution_count": 12,
   "metadata": {},
   "outputs": [],
   "source": [
    "# Rearrenging clean df the columns\n",
    "statcast18 = statcast18[[\"game_date\", \"player_name\", \"pitch_name\", \"release_speed\", \"release_spin_rate\", \"description\", \"zone\", \"p_throws\"]]"
   ]
  },
  {
   "cell_type": "code",
   "execution_count": 13,
   "metadata": {},
   "outputs": [],
   "source": [
    "pitch_description = statcast18[[\"description\", \"release_spin_rate\"]]"
   ]
  },
  {
   "cell_type": "code",
   "execution_count": 14,
   "metadata": {},
   "outputs": [
    {
     "data": {
      "text/plain": [
       "array(['swinging_strike', 'foul', 'called_strike', 'ball',\n",
       "       'hit_into_play', 'hit_into_play_score', 'blocked_ball',\n",
       "       'hit_into_play_no_out', 'swinging_strike_blocked', 'foul_bunt',\n",
       "       'hit_by_pitch', 'foul_tip', 'missed_bunt', 'pitchout',\n",
       "       'foul_pitchout', 'swinging_pitchout'], dtype=object)"
      ]
     },
     "execution_count": 14,
     "metadata": {},
     "output_type": "execute_result"
    }
   ],
   "source": [
    "statcast18[\"description\"].unique()"
   ]
  },
  {
   "cell_type": "markdown",
   "metadata": {},
   "source": [
    "---"
   ]
  },
  {
   "cell_type": "markdown",
   "metadata": {},
   "source": [
    "### Statcas 2019"
   ]
  },
  {
   "cell_type": "code",
   "execution_count": 5,
   "metadata": {},
   "outputs": [],
   "source": [
    "statcast19 = pd.read_csv(\"baseball_data/Statcast_2019.csv\")"
   ]
  },
  {
   "cell_type": "code",
   "execution_count": 6,
   "metadata": {},
   "outputs": [],
   "source": [
    "# variable with the columns from the dataset that I don´t need\n",
    "\n",
    "columns_to_drop19 = ['Unnamed: 0', 'level_0', 'index', 'pitch_type',\n",
    "        'release_pos_x', 'release_pos_z',\n",
    "       'batter', 'pitcher', 'events', 'spin_dir',\n",
    "       'spin_rate_deprecated', 'break_angle_deprecated',\n",
    "       'break_length_deprecated', 'des', 'game_type', 'stand',\n",
    "        'home_team', 'away_team', 'type', 'hit_location', 'bb_type',\n",
    "       'balls', 'strikes', 'game_year', 'pfx_x', 'pfx_z', 'plate_x', 'plate_z',\n",
    "       'on_3b', 'on_2b', 'on_1b', 'outs_when_up', 'inning', 'inning_topbot',\n",
    "       'hc_x', 'hc_y', 'tfs_deprecated', 'tfs_zulu_deprecated', 'fielder_2',\n",
    "       'umpire', 'sv_id', 'vx0', 'vy0', 'vz0', 'ax', 'ay', 'az', 'sz_top',\n",
    "       'sz_bot', 'hit_distance_sc', 'launch_speed', 'launch_angle',\n",
    "       'effective_speed', 'release_extension', 'game_pk',\n",
    "       'pitcher.1', 'fielder_2.1', 'fielder_3', 'fielder_4', 'fielder_5',\n",
    "       'fielder_6', 'fielder_7', 'fielder_8', 'fielder_9', 'release_pos_y',\n",
    "       'estimated_ba_using_speedangle', 'estimated_woba_using_speedangle',\n",
    "       'woba_value', 'woba_denom', 'babip_value', 'iso_value',\n",
    "       'launch_speed_angle', 'at_bat_number', 'pitch_number',\n",
    "       'home_score', 'away_score', 'bat_score', 'fld_score', 'post_away_score',\n",
    "       'post_home_score', 'post_bat_score', 'post_fld_score',\n",
    "       'if_fielding_alignment', 'of_fielding_alignment'] "
   ]
  },
  {
   "cell_type": "code",
   "execution_count": 7,
   "metadata": {},
   "outputs": [],
   "source": [
    "# calling function to clean the dataset\n",
    "cleanData(statcast19, columns_to_drop19)"
   ]
  },
  {
   "cell_type": "code",
   "execution_count": 8,
   "metadata": {},
   "outputs": [],
   "source": [
    "# Rearrenging clean df the columns\n",
    "statcast19 = statcast19[[\"game_date\", \"player_name\", \"pitch_name\", \"release_speed\", \"release_spin_rate\", \"description\", \"zone\", \"p_throws\"]]"
   ]
  },
  {
   "cell_type": "code",
   "execution_count": 11,
   "metadata": {},
   "outputs": [],
   "source": [
    "# saving the clean data to a new csv file\n",
    "statcast19.to_csv(\"baseball_data/clean_statcast_19.csv\")"
   ]
  },
  {
   "cell_type": "markdown",
   "metadata": {},
   "source": [
    "---"
   ]
  },
  {
   "cell_type": "markdown",
   "metadata": {},
   "source": [
    "### Statcas 2020"
   ]
  },
  {
   "cell_type": "code",
   "execution_count": 21,
   "metadata": {},
   "outputs": [],
   "source": [
    "statcast20 = pd.read_csv(\"baseball_data/Statcast_2020.csv\")"
   ]
  },
  {
   "cell_type": "code",
   "execution_count": 22,
   "metadata": {},
   "outputs": [],
   "source": [
    "# variable with the columns from the dataset that I don´t need\n",
    "columns_to_drop20 = ['Unnamed: 0', 'level_0', 'index', 'pitch_type',\n",
    "        'release_pos_x', 'release_pos_z',\n",
    "       'batter', 'pitcher', 'events', 'spin_dir',\n",
    "       'spin_rate_deprecated', 'break_angle_deprecated',\n",
    "       'break_length_deprecated', 'des', 'game_type', 'stand',\n",
    "        'home_team', 'away_team', 'type', 'hit_location', 'bb_type',\n",
    "       'balls', 'strikes', 'game_year', 'pfx_x', 'pfx_z', 'plate_x', 'plate_z',\n",
    "       'on_3b', 'on_2b', 'on_1b', 'outs_when_up', 'inning', 'inning_topbot',\n",
    "       'hc_x', 'hc_y', 'tfs_deprecated', 'tfs_zulu_deprecated', 'fielder_2',\n",
    "       'umpire', 'sv_id', 'vx0', 'vy0', 'vz0', 'ax', 'ay', 'az', 'sz_top',\n",
    "       'sz_bot', 'hit_distance_sc', 'launch_speed', 'launch_angle',\n",
    "       'effective_speed', 'release_extension', 'game_pk',\n",
    "       'pitcher.1', 'fielder_2.1', 'fielder_3', 'fielder_4', 'fielder_5',\n",
    "       'fielder_6', 'fielder_7', 'fielder_8', 'fielder_9', 'release_pos_y',\n",
    "       'estimated_ba_using_speedangle', 'estimated_woba_using_speedangle',\n",
    "       'woba_value', 'woba_denom', 'babip_value', 'iso_value',\n",
    "       'launch_speed_angle', 'at_bat_number', 'pitch_number',\n",
    "       'home_score', 'away_score', 'bat_score', 'fld_score', 'post_away_score',\n",
    "       'post_home_score', 'post_bat_score', 'post_fld_score',\n",
    "       'if_fielding_alignment', 'of_fielding_alignment'] "
   ]
  },
  {
   "cell_type": "code",
   "execution_count": 23,
   "metadata": {},
   "outputs": [],
   "source": [
    "# calling function to clean the dataset\n",
    "cleanData(statcast20, columns_to_drop20)"
   ]
  },
  {
   "cell_type": "code",
   "execution_count": 24,
   "metadata": {},
   "outputs": [],
   "source": [
    "# Rearrenging clean df the columns\n",
    "statcast20 = statcast20[[\"game_date\", \"player_name\", \"pitch_name\", \"release_speed\", \"release_spin_rate\", \"description\", \"zone\", \"p_throws\"]]"
   ]
  },
  {
   "cell_type": "markdown",
   "metadata": {},
   "source": [
    "---"
   ]
  },
  {
   "cell_type": "markdown",
   "metadata": {},
   "source": [
    "# All Statcasts - '17, '18, '19, '20 "
   ]
  },
  {
   "cell_type": "code",
   "execution_count": 26,
   "metadata": {},
   "outputs": [],
   "source": [
    "# concatenating all 4 df into one\n",
    "statcast_dataframes = [statcast17, statcast18, statcast19, statcast20]\n",
    "all_statcast = pd.concat(statcast_dataframes)"
   ]
  },
  {
   "cell_type": "code",
   "execution_count": 27,
   "metadata": {},
   "outputs": [
    {
     "data": {
      "text/html": [
       "<div>\n",
       "<style scoped>\n",
       "    .dataframe tbody tr th:only-of-type {\n",
       "        vertical-align: middle;\n",
       "    }\n",
       "\n",
       "    .dataframe tbody tr th {\n",
       "        vertical-align: top;\n",
       "    }\n",
       "\n",
       "    .dataframe thead th {\n",
       "        text-align: right;\n",
       "    }\n",
       "</style>\n",
       "<table border=\"1\" class=\"dataframe\">\n",
       "  <thead>\n",
       "    <tr style=\"text-align: right;\">\n",
       "      <th></th>\n",
       "      <th>game_date</th>\n",
       "      <th>player_name</th>\n",
       "      <th>pitch_name</th>\n",
       "      <th>release_speed</th>\n",
       "      <th>release_spin_rate</th>\n",
       "      <th>description</th>\n",
       "      <th>zone</th>\n",
       "      <th>p_throws</th>\n",
       "    </tr>\n",
       "  </thead>\n",
       "  <tbody>\n",
       "    <tr>\n",
       "      <th>704418</th>\n",
       "      <td>2017-04-03</td>\n",
       "      <td>Blake Wood</td>\n",
       "      <td>Sinker</td>\n",
       "      <td>94.4</td>\n",
       "      <td>2085.0</td>\n",
       "      <td>called_strike</td>\n",
       "      <td>5.0</td>\n",
       "      <td>R</td>\n",
       "    </tr>\n",
       "    <tr>\n",
       "      <th>704353</th>\n",
       "      <td>2017-04-03</td>\n",
       "      <td>Michael Lorenzen</td>\n",
       "      <td>Curveball</td>\n",
       "      <td>79.3</td>\n",
       "      <td>1952.0</td>\n",
       "      <td>ball</td>\n",
       "      <td>11.0</td>\n",
       "      <td>R</td>\n",
       "    </tr>\n",
       "    <tr>\n",
       "      <th>704352</th>\n",
       "      <td>2017-04-03</td>\n",
       "      <td>Michael Lorenzen</td>\n",
       "      <td>Cutter</td>\n",
       "      <td>92.6</td>\n",
       "      <td>2327.0</td>\n",
       "      <td>swinging_strike</td>\n",
       "      <td>9.0</td>\n",
       "      <td>R</td>\n",
       "    </tr>\n",
       "    <tr>\n",
       "      <th>704351</th>\n",
       "      <td>2017-04-03</td>\n",
       "      <td>Michael Lorenzen</td>\n",
       "      <td>Cutter</td>\n",
       "      <td>92.1</td>\n",
       "      <td>783.0</td>\n",
       "      <td>hit_into_play</td>\n",
       "      <td>8.0</td>\n",
       "      <td>R</td>\n",
       "    </tr>\n",
       "    <tr>\n",
       "      <th>704350</th>\n",
       "      <td>2017-04-03</td>\n",
       "      <td>Hector Neris</td>\n",
       "      <td>4-Seam Fastball</td>\n",
       "      <td>93.9</td>\n",
       "      <td>2596.0</td>\n",
       "      <td>foul</td>\n",
       "      <td>3.0</td>\n",
       "      <td>R</td>\n",
       "    </tr>\n",
       "    <tr>\n",
       "      <th>...</th>\n",
       "      <td>...</td>\n",
       "      <td>...</td>\n",
       "      <td>...</td>\n",
       "      <td>...</td>\n",
       "      <td>...</td>\n",
       "      <td>...</td>\n",
       "      <td>...</td>\n",
       "      <td>...</td>\n",
       "    </tr>\n",
       "    <tr>\n",
       "      <th>3085</th>\n",
       "      <td>2020-09-27</td>\n",
       "      <td>Brett Martin</td>\n",
       "      <td>Slider</td>\n",
       "      <td>89.2</td>\n",
       "      <td>2306.0</td>\n",
       "      <td>foul</td>\n",
       "      <td>4.0</td>\n",
       "      <td>L</td>\n",
       "    </tr>\n",
       "    <tr>\n",
       "      <th>3086</th>\n",
       "      <td>2020-09-27</td>\n",
       "      <td>Brett Martin</td>\n",
       "      <td>Sinker</td>\n",
       "      <td>94.8</td>\n",
       "      <td>2136.0</td>\n",
       "      <td>foul</td>\n",
       "      <td>5.0</td>\n",
       "      <td>L</td>\n",
       "    </tr>\n",
       "    <tr>\n",
       "      <th>3178</th>\n",
       "      <td>2020-09-27</td>\n",
       "      <td>Nivaldo Rodriguez</td>\n",
       "      <td>4-Seam Fastball</td>\n",
       "      <td>93.2</td>\n",
       "      <td>1855.0</td>\n",
       "      <td>hit_into_play</td>\n",
       "      <td>9.0</td>\n",
       "      <td>R</td>\n",
       "    </tr>\n",
       "    <tr>\n",
       "      <th>430</th>\n",
       "      <td>2020-09-27</td>\n",
       "      <td>Adbert Alzolay</td>\n",
       "      <td>4-Seam Fastball</td>\n",
       "      <td>94.8</td>\n",
       "      <td>2443.0</td>\n",
       "      <td>hit_into_play_score</td>\n",
       "      <td>6.0</td>\n",
       "      <td>R</td>\n",
       "    </tr>\n",
       "    <tr>\n",
       "      <th>0</th>\n",
       "      <td>NaN</td>\n",
       "      <td>NaN</td>\n",
       "      <td>NaN</td>\n",
       "      <td>NaN</td>\n",
       "      <td>NaN</td>\n",
       "      <td>NaN</td>\n",
       "      <td>NaN</td>\n",
       "      <td>NaN</td>\n",
       "    </tr>\n",
       "  </tbody>\n",
       "</table>\n",
       "<p>2419385 rows × 8 columns</p>\n",
       "</div>"
      ],
      "text/plain": [
       "         game_date        player_name       pitch_name  release_speed  \\\n",
       "704418  2017-04-03         Blake Wood           Sinker           94.4   \n",
       "704353  2017-04-03   Michael Lorenzen        Curveball           79.3   \n",
       "704352  2017-04-03   Michael Lorenzen           Cutter           92.6   \n",
       "704351  2017-04-03   Michael Lorenzen           Cutter           92.1   \n",
       "704350  2017-04-03       Hector Neris  4-Seam Fastball           93.9   \n",
       "...            ...                ...              ...            ...   \n",
       "3085    2020-09-27       Brett Martin           Slider           89.2   \n",
       "3086    2020-09-27       Brett Martin           Sinker           94.8   \n",
       "3178    2020-09-27  Nivaldo Rodriguez  4-Seam Fastball           93.2   \n",
       "430     2020-09-27     Adbert Alzolay  4-Seam Fastball           94.8   \n",
       "0              NaN                NaN              NaN            NaN   \n",
       "\n",
       "        release_spin_rate          description  zone p_throws  \n",
       "704418             2085.0        called_strike   5.0        R  \n",
       "704353             1952.0                 ball  11.0        R  \n",
       "704352             2327.0      swinging_strike   9.0        R  \n",
       "704351              783.0        hit_into_play   8.0        R  \n",
       "704350             2596.0                 foul   3.0        R  \n",
       "...                   ...                  ...   ...      ...  \n",
       "3085               2306.0                 foul   4.0        L  \n",
       "3086               2136.0                 foul   5.0        L  \n",
       "3178               1855.0        hit_into_play   9.0        R  \n",
       "430                2443.0  hit_into_play_score   6.0        R  \n",
       "0                     NaN                  NaN   NaN      NaN  \n",
       "\n",
       "[2419385 rows x 8 columns]"
      ]
     },
     "execution_count": 27,
     "metadata": {},
     "output_type": "execute_result"
    }
   ],
   "source": [
    "# sorting values by date\n",
    "all_statcast.sort_values(by=\"game_date\")"
   ]
  },
  {
   "cell_type": "code",
   "execution_count": 33,
   "metadata": {},
   "outputs": [],
   "source": [
    "# dropping pitch types that occurred less than 1000 times\n",
    "all_statcast.drop(all_statcast[all_statcast.pitch_name.isin([\"Eephus\"])].index, inplace=True)\n",
    "all_statcast.drop(all_statcast[all_statcast.pitch_name.isin([\"Forkball\"])].index, inplace=True)\n",
    "all_statcast.drop(all_statcast[all_statcast.pitch_name.isin([\"Pitch Out\"])].index, inplace=True)\n",
    "all_statcast.drop(all_statcast[all_statcast.pitch_name.isin([\"Screwball\"])].index, inplace=True)\n",
    "all_statcast.drop(all_statcast[all_statcast.pitch_name.isin([\"Unknown\"])].index, inplace=True)\n",
    "\n",
    "# dropping rows with Nan values\n",
    "all_statcast.dropna(inplace=True)\n",
    "\n",
    "# changing pitch names\n",
    "#all_statcast.replace(\"Knuckleball\", \"Knuckle Ball\", inplace=True)\n",
    "#all_statcast.replace(\"Split-Finger\", \"Split Finger\", inplace=True)\n",
    "\n",
    "all_statcast.groupby(\"pitch_name\").count()"
   ]
  },
  {
   "cell_type": "code",
   "execution_count": 34,
   "metadata": {},
   "outputs": [],
   "source": [
    "# saving new df into a csv\n",
    "all_statcast.to_csv(\"baseball_data/All_statcast.csv\")"
   ]
  }
 ],
 "metadata": {
  "kernelspec": {
   "display_name": "Python 3",
   "language": "python",
   "name": "python3"
  },
  "language_info": {
   "codemirror_mode": {
    "name": "ipython",
    "version": 3
   },
   "file_extension": ".py",
   "mimetype": "text/x-python",
   "name": "python",
   "nbconvert_exporter": "python",
   "pygments_lexer": "ipython3",
   "version": "3.8.5"
  }
 },
 "nbformat": 4,
 "nbformat_minor": 4
}
